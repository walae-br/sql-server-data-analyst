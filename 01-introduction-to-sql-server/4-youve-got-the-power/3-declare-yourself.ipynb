{
    "metadata": {
        "kernelspec": {
            "name": "SQL",
            "display_name": "SQL",
            "language": "sql"
        },
        "language_info": {
            "name": "sql",
            "version": ""
        }
    },
    "nbformat_minor": 2,
    "nbformat": 4,
    "cells": [
        {
            "cell_type": "markdown",
            "source": [
                "# DECLARE and SET a variable\n",
                "\n",
                "Using variables makes it easy to run a query multiple times, with different values, without having to scroll down and amend the `WHERE` clause each time. You can quickly update the variable at the top of the query instead. This also helps provide greater security, but that is out of scope of this course.\n",
                "\n",
                "Let's go back to the now very familiar `grid` table for this exercise, and use it to practice extracting data according to your newly defined variable.\n",
                "\n",
                "##### Instructions 1/3\n",
                "\n",
                "<span class=\"css-4zhg5y-baseStyle-strongStyle-baseStyle-Badge\" style=\"box-sizing: inherit; font-weight: 800; -webkit-font-smoothing: antialiased; font-family: Studio-Feixen-Sans, Arial; border-radius: 4px; display: inline-block; text-transform: uppercase; background-color: rgb(252, 206, 13); color: rgb(5, 25, 45); font-size: 14px; line-height: 18px; padding-left: 4px; padding-right: 4px;\">35 XP</span>\n",
                "\n",
                "- `DECLARE` the variable `@region`, which has a data type of `VARCHAR` and length of `10`."
            ],
            "metadata": {
                "azdata_cell_guid": "a59da82f-5bb8-4ae1-b92a-46dbca958053"
            }
        },
        {
            "cell_type": "code",
            "source": [
                "-- Declare the variable @region, and specify the data type of the variable\n",
                "DECLARE @region VARCHAR(10)"
            ],
            "metadata": {
                "azdata_cell_guid": "cfbf558c-12e9-42c4-94f7-9a13fae730ce",
                "tags": []
            },
            "outputs": [
                {
                    "output_type": "display_data",
                    "data": {
                        "text/html": "Commands completed successfully."
                    },
                    "metadata": {}
                },
                {
                    "output_type": "display_data",
                    "data": {
                        "text/html": "Total execution time: 00:00:00"
                    },
                    "metadata": {}
                }
            ],
            "execution_count": 1
        },
        {
            "cell_type": "code",
            "source": [
                "-- SET your newly defined variable to 'RFC'.\n",
                "-- Declare the variable @region\n",
                "DECLARE @region VARCHAR(10)\n",
                "\n",
                "-- Update the variable value\n",
                "SET @region = 'RFC'\n",
                ""
            ],
            "metadata": {
                "azdata_cell_guid": "e64478db-ba16-465d-8ea6-07c414108342",
                "tags": []
            },
            "outputs": [
                {
                    "output_type": "display_data",
                    "data": {
                        "text/html": "Commands completed successfully."
                    },
                    "metadata": {}
                },
                {
                    "output_type": "display_data",
                    "data": {
                        "text/html": "Total execution time: 00:00:00.001"
                    },
                    "metadata": {}
                }
            ],
            "execution_count": 2
        },
        {
            "cell_type": "code",
            "source": [
                "-- Declare the variable @region\n",
                "DECLARE @region VARCHAR(10)\n",
                "\n",
                "-- Update the variable value\n",
                "SET @region = 'RFC'\n",
                "\n",
                "SELECT description,\n",
                "       nerc_region,\n",
                "       demand_loss_mw,\n",
                "       affected_customers\n",
                "FROM grid\n",
                "WHERE nerc_region = @region;"
            ],
            "metadata": {
                "azdata_cell_guid": "f42816a6-2eaf-4455-9b05-9e9d8b267532",
                "tags": []
            },
            "outputs": [
                {
                    "output_type": "error",
                    "evalue": "Msg 208, Level 16, State 1, Line 7\nInvalid object name 'grid'.",
                    "ename": "",
                    "traceback": []
                },
                {
                    "output_type": "display_data",
                    "data": {
                        "text/html": "Total execution time: 00:00:00.002"
                    },
                    "metadata": {}
                }
            ],
            "execution_count": 3
        },
        {
            "cell_type": "code",
            "source": [
                "-- Declare @start\n",
                "DECLARE @start DATE\n",
                "\n",
                "-- SET @start to '2014-01-24'\n",
                "SET @start = '2014-01-24'"
            ],
            "metadata": {
                "azdata_cell_guid": "f2ef1e1d-5db4-4cae-be4e-7a0e0c63ad3b",
                "tags": []
            },
            "outputs": [
                {
                    "output_type": "display_data",
                    "data": {
                        "text/html": "Commands completed successfully."
                    },
                    "metadata": {}
                },
                {
                    "output_type": "display_data",
                    "data": {
                        "text/html": "Total execution time: 00:00:00.001"
                    },
                    "metadata": {}
                }
            ],
            "execution_count": 4
        },
        {
            "cell_type": "code",
            "source": [
                "-- Declare @start\n",
                "DECLARE @start DATE\n",
                "\n",
                "-- Declare @stop\n",
                "DECLARE @stop DATE\n",
                "\n",
                "-- SET @start to '2014-01-24'\n",
                "SET @start = '2014-01-24'\n",
                "\n",
                "-- SET @stop to '2014-07-02'\n",
                "SET @stop = '2014-07-02'\n",
                ""
            ],
            "metadata": {
                "azdata_cell_guid": "ecc8479c-cfce-49d9-b50b-f952c2bfb95b",
                "tags": []
            },
            "outputs": [
                {
                    "output_type": "display_data",
                    "data": {
                        "text/html": "Commands completed successfully."
                    },
                    "metadata": {}
                },
                {
                    "output_type": "display_data",
                    "data": {
                        "text/html": "Total execution time: 00:00:00.001"
                    },
                    "metadata": {}
                }
            ],
            "execution_count": 5
        },
        {
            "cell_type": "code",
            "source": [
                "-- Declare @start\n",
                "DECLARE @start DATE\n",
                "\n",
                "-- Declare @stop\n",
                "DECLARE @stop DATE\n",
                "\n",
                "-- Declare @affected\n",
                "DECLARE @affected INT\n",
                "\n",
                "-- SET @start to '2014-01-24'\n",
                "SET @start = '2014-01-24'\n",
                "\n",
                "-- SET @stop to '2014-07-02'\n",
                "SET @stop  = '2014-07-02'\n",
                "\n",
                "-- Set @affected to 5000\n",
                "SET @affected = 5000"
            ],
            "metadata": {
                "azdata_cell_guid": "8f7bd3dd-0ae2-41b4-9186-ff7049197e3f",
                "tags": []
            },
            "outputs": [
                {
                    "output_type": "display_data",
                    "data": {
                        "text/html": "Commands completed successfully."
                    },
                    "metadata": {}
                },
                {
                    "output_type": "display_data",
                    "data": {
                        "text/html": "Total execution time: 00:00:00.002"
                    },
                    "metadata": {}
                }
            ],
            "execution_count": 6
        },
        {
            "cell_type": "code",
            "source": [
                "-- Declare your variables\n",
                "DECLARE @start DATE\n",
                "DECLARE @stop DATE\n",
                "DECLARE @affected INT;\n",
                "-- SET the relevant values for each variable\n",
                "SET @start = '2014-01-24'\n",
                "SET @stop  = '2014-07-02'\n",
                "SET @affected =  5000 ;\n",
                "\n",
                "SELECT \n",
                "  description,\n",
                "  nerc_region,\n",
                "  demand_loss_mw,\n",
                "  affected_customers\n",
                "FROM \n",
                "  grid\n",
                "-- Specify the date range of the event_date and the value for @affected\n",
                "WHERE event_date BETWEEN @start AND @stop\n",
                "AND affected_customers >= @affected;"
            ],
            "metadata": {
                "azdata_cell_guid": "b7ab86b6-671e-4080-9421-b9d501cbeb8d",
                "tags": []
            },
            "outputs": [
                {
                    "output_type": "error",
                    "evalue": "Msg 208, Level 16, State 1, Line 10\nInvalid object name 'grid'.",
                    "ename": "",
                    "traceback": []
                },
                {
                    "output_type": "display_data",
                    "data": {
                        "text/html": "Total execution time: 00:00:00.002"
                    },
                    "metadata": {}
                }
            ],
            "execution_count": 7
        },
        {
            "cell_type": "code",
            "source": [
                "SELECT  album.title AS album_title,\n",
                "  artist.name as artist,\n",
                "  MAX(track.milliseconds / (1000 * 60) % 60 ) AS max_track_length_mins\n",
                "-- Name the temp table #maxtracks\n",
                "INTO #maxtracks\n",
                "FROM album\n",
                "-- Join album to artist using artist_id\n",
                "INNER JOIN artist ON album.artist_id = artist.artist_id\n",
                "-- Join track to album using album_id\n",
                "INNER JOIN track ON album.album_id = track.album_id\n",
                "GROUP BY artist.artist_id, album.title, artist.name,album.album_id\n",
                "-- Run the final SELECT query to retrieve the results from the temporary table\n",
                "SELECT album_title, artist, max_track_length_mins\n",
                "FROM  #maxtracks\n",
                "ORDER BY max_track_length_mins DESC, artist;"
            ],
            "metadata": {
                "azdata_cell_guid": "de1c075e-436d-4874-8c9b-da2b45342a36",
                "tags": []
            },
            "outputs": [
                {
                    "output_type": "error",
                    "evalue": "Msg 208, Level 16, State 1, Line 1\nInvalid object name 'album'.",
                    "ename": "",
                    "traceback": []
                },
                {
                    "output_type": "display_data",
                    "data": {
                        "text/html": "Total execution time: 00:00:00.003"
                    },
                    "metadata": {}
                }
            ],
            "execution_count": 8
        }
    ]
}