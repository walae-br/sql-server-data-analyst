{
    "metadata": {
        "kernelspec": {
            "name": "SQL",
            "display_name": "SQL",
            "language": "sql"
        },
        "language_info": {
            "name": "sql",
            "version": ""
        }
    },
    "nbformat_minor": 2,
    "nbformat": 4,
    "cells": [
        {
            "cell_type": "code",
            "source": [
                "USE Chinook\n",
                "GO"
            ],
            "metadata": {
                "azdata_cell_guid": "4342512f-820f-4f2a-a03e-5ee133857fa7"
            },
            "outputs": [
                {
                    "output_type": "display_data",
                    "data": {
                        "text/html": "Commands completed successfully."
                    },
                    "metadata": {}
                },
                {
                    "output_type": "display_data",
                    "data": {
                        "text/html": "Total execution time: 00:00:00"
                    },
                    "metadata": {}
                }
            ],
            "execution_count": 7
        },
        {
            "cell_type": "markdown",
            "source": [
                "# LEFT join\n",
                "\n",
                "An `INNER JOIN` shows you exact matches. What about when you want to compare all the values in one table with another, to see which rows match? That's when you can use a `LEFT JOIN`.\n",
                "\n",
                "A `LEFT JOIN` will return ALL rows in the first table, and any matching rows in the right table. If there aren't any matches in the right table for a particular row, then a NULL is returned. This quickly lets you assess the gaps in your data, and how many you have.\n",
                "\n",
                "##### Instructions\n",
                "\n",
                "<span class=\"css-4zhg5y-baseStyle-strongStyle-baseStyle-Badge\" style=\"box-sizing: inherit; font-weight: 800; -webkit-font-smoothing: antialiased; border-radius: 4px; display: inline-block; text-transform: uppercase; background-color: rgb(252, 206, 13); font-size: 14px; line-height: 18px; padding-left: 4px; padding-right: 4px;\">100 XP</span>\n",
                "\n",
                "Complete the LEFT JOIN, returning all rows from the specified columns from `invoiceline` and any matches from `invoice`."
            ],
            "metadata": {
                "azdata_cell_guid": "54b4cc64-3e30-45ba-9a06-c274d78b2c69"
            }
        },
        {
            "cell_type": "code",
            "source": [
                "SELECT \n",
                "  invoiceline_id,\n",
                "  unit_price, \n",
                "  quantity,\n",
                "  billing_state\n",
                "  -- Specify the source table\n",
                "FROM invoiceline\n",
                "  -- Complete the join to the invoice table\n",
                "LEFT JOIN invoice\n",
                "ON invoiceline.invoice_id = invoice.invoice_id;"
            ],
            "metadata": {
                "azdata_cell_guid": "94512d5e-5094-4d8f-aa42-b95f0e5e9093"
            },
            "outputs": [
                {
                    "output_type": "display_data",
                    "data": {
                        "text/html": "(212 rows affected)"
                    },
                    "metadata": {}
                },
                {
                    "output_type": "display_data",
                    "data": {
                        "text/html": "Total execution time: 00:00:00.029"
                    },
                    "metadata": {}
                },
                {
                    "output_type": "execute_result",
                    "metadata": {
                        "resultSet": {
                            "id": 0,
                            "batchId": 0,
                            "rowCount": 212,
                            "complete": true,
                            "columnInfo": [
                                {
                                    "isBytes": false,
                                    "isChars": false,
                                    "isSqlVariant": false,
                                    "isUdt": false,
                                    "isXml": false,
                                    "isJson": false,
                                    "sqlDbType": 8,
                                    "isHierarchyId": false,
                                    "isSqlXmlType": false,
                                    "isUnknownType": false,
                                    "isUpdatable": false,
                                    "allowDBNull": false,
                                    "baseCatalogName": null,
                                    "baseColumnName": null,
                                    "baseSchemaName": null,
                                    "baseServerName": null,
                                    "baseTableName": null,
                                    "columnName": "invoiceline_id",
                                    "columnOrdinal": 0,
                                    "columnSize": 4,
                                    "isAliased": null,
                                    "isAutoIncrement": true,
                                    "isExpression": null,
                                    "isHidden": null,
                                    "isIdentity": true,
                                    "isKey": null,
                                    "isLong": false,
                                    "isReadOnly": true,
                                    "isUnique": false,
                                    "numericPrecision": 10,
                                    "numericScale": 255,
                                    "udtAssemblyQualifiedName": null,
                                    "dataType": "System.Int32, System.Private.CoreLib, Version=4.0.0.0, Culture=neutral, PublicKeyToken=7cec85d7bea7798e",
                                    "dataTypeName": "int"
                                },
                                {
                                    "isBytes": false,
                                    "isChars": false,
                                    "isSqlVariant": false,
                                    "isUdt": false,
                                    "isXml": false,
                                    "isJson": false,
                                    "sqlDbType": 5,
                                    "isHierarchyId": false,
                                    "isSqlXmlType": false,
                                    "isUnknownType": false,
                                    "isUpdatable": true,
                                    "allowDBNull": false,
                                    "baseCatalogName": null,
                                    "baseColumnName": null,
                                    "baseSchemaName": null,
                                    "baseServerName": null,
                                    "baseTableName": null,
                                    "columnName": "unit_price",
                                    "columnOrdinal": 1,
                                    "columnSize": 17,
                                    "isAliased": null,
                                    "isAutoIncrement": false,
                                    "isExpression": null,
                                    "isHidden": null,
                                    "isIdentity": false,
                                    "isKey": null,
                                    "isLong": false,
                                    "isReadOnly": false,
                                    "isUnique": false,
                                    "numericPrecision": 10,
                                    "numericScale": 2,
                                    "udtAssemblyQualifiedName": null,
                                    "dataType": "System.Decimal, System.Private.CoreLib, Version=4.0.0.0, Culture=neutral, PublicKeyToken=7cec85d7bea7798e",
                                    "dataTypeName": "decimal"
                                },
                                {
                                    "isBytes": false,
                                    "isChars": false,
                                    "isSqlVariant": false,
                                    "isUdt": false,
                                    "isXml": false,
                                    "isJson": false,
                                    "sqlDbType": 8,
                                    "isHierarchyId": false,
                                    "isSqlXmlType": false,
                                    "isUnknownType": false,
                                    "isUpdatable": true,
                                    "allowDBNull": false,
                                    "baseCatalogName": null,
                                    "baseColumnName": null,
                                    "baseSchemaName": null,
                                    "baseServerName": null,
                                    "baseTableName": null,
                                    "columnName": "quantity",
                                    "columnOrdinal": 2,
                                    "columnSize": 4,
                                    "isAliased": null,
                                    "isAutoIncrement": false,
                                    "isExpression": null,
                                    "isHidden": null,
                                    "isIdentity": false,
                                    "isKey": null,
                                    "isLong": false,
                                    "isReadOnly": false,
                                    "isUnique": false,
                                    "numericPrecision": 10,
                                    "numericScale": 255,
                                    "udtAssemblyQualifiedName": null,
                                    "dataType": "System.Int32, System.Private.CoreLib, Version=4.0.0.0, Culture=neutral, PublicKeyToken=7cec85d7bea7798e",
                                    "dataTypeName": "int"
                                },
                                {
                                    "isBytes": false,
                                    "isChars": true,
                                    "isSqlVariant": false,
                                    "isUdt": false,
                                    "isXml": false,
                                    "isJson": false,
                                    "sqlDbType": 12,
                                    "isHierarchyId": false,
                                    "isSqlXmlType": false,
                                    "isUnknownType": false,
                                    "isUpdatable": true,
                                    "allowDBNull": true,
                                    "baseCatalogName": null,
                                    "baseColumnName": null,
                                    "baseSchemaName": null,
                                    "baseServerName": null,
                                    "baseTableName": null,
                                    "columnName": "billing_state",
                                    "columnOrdinal": 3,
                                    "columnSize": 40,
                                    "isAliased": null,
                                    "isAutoIncrement": false,
                                    "isExpression": null,
                                    "isHidden": null,
                                    "isIdentity": false,
                                    "isKey": null,
                                    "isLong": false,
                                    "isReadOnly": false,
                                    "isUnique": false,
                                    "numericPrecision": 255,
                                    "numericScale": 255,
                                    "udtAssemblyQualifiedName": null,
                                    "dataType": "System.String, System.Private.CoreLib, Version=4.0.0.0, Culture=neutral, PublicKeyToken=7cec85d7bea7798e",
                                    "dataTypeName": "nvarchar"
                                }
                            ],
                            "specialAction": {
                                "none": true,
                                "expectYukonXMLShowPlan": false
                            }
                        }
                    },
                    "execution_count": 8,
                    "data": {
                        "application/vnd.dataresource+json": {
                            "schema": {
                                "fields": [
                                    {
                                        "name": "invoiceline_id"
                                    },
                                    {
                                        "name": "unit_price"
                                    },
                                    {
                                        "name": "quantity"
                                    },
                                    {
                                        "name": "billing_state"
                                    }
                                ]
                            },
                            "data": [
                                {
                                    "0": "1",
                                    "1": "0.99",
                                    "2": "1",
                                    "3": "NULL"
                                },
                                {
                                    "0": "2",
                                    "1": "0.99",
                                    "2": "1",
                                    "3": "NULL"
                                },
                                {
                                    "0": "3",
                                    "1": "0.99",
                                    "2": "1",
                                    "3": "NULL"
                                },
                                {
                                    "0": "4",
                                    "1": "0.99",
                                    "2": "1",
                                    "3": "NULL"
                                },
                                {
                                    "0": "5",
                                    "1": "0.99",
                                    "2": "1",
                                    "3": "NULL"
                                },
                                {
                                    "0": "6",
                                    "1": "0.99",
                                    "2": "1",
                                    "3": "NULL"
                                },
                                {
                                    "0": "7",
                                    "1": "0.99",
                                    "2": "1",
                                    "3": "NULL"
                                },
                                {
                                    "0": "8",
                                    "1": "0.99",
                                    "2": "1",
                                    "3": "NULL"
                                },
                                {
                                    "0": "9",
                                    "1": "0.99",
                                    "2": "1",
                                    "3": "NULL"
                                },
                                {
                                    "0": "10",
                                    "1": "0.99",
                                    "2": "1",
                                    "3": "NULL"
                                },
                                {
                                    "0": "11",
                                    "1": "0.99",
                                    "2": "1",
                                    "3": "NULL"
                                },
                                {
                                    "0": "12",
                                    "1": "0.99",
                                    "2": "1",
                                    "3": "NULL"
                                },
                                {
                                    "0": "13",
                                    "1": "0.99",
                                    "2": "1",
                                    "3": "AB"
                                },
                                {
                                    "0": "14",
                                    "1": "0.99",
                                    "2": "1",
                                    "3": "AB"
                                },
                                {
                                    "0": "15",
                                    "1": "0.99",
                                    "2": "1",
                                    "3": "AB"
                                },
                                {
                                    "0": "16",
                                    "1": "0.99",
                                    "2": "1",
                                    "3": "AB"
                                },
                                {
                                    "0": "17",
                                    "1": "0.99",
                                    "2": "1",
                                    "3": "AB"
                                },
                                {
                                    "0": "18",
                                    "1": "0.99",
                                    "2": "1",
                                    "3": "AB"
                                },
                                {
                                    "0": "19",
                                    "1": "0.99",
                                    "2": "1",
                                    "3": "AB"
                                },
                                {
                                    "0": "20",
                                    "1": "0.99",
                                    "2": "1",
                                    "3": "AB"
                                },
                                {
                                    "0": "21",
                                    "1": "0.99",
                                    "2": "1",
                                    "3": "AB"
                                },
                                {
                                    "0": "22",
                                    "1": "0.99",
                                    "2": "1",
                                    "3": "MA"
                                },
                                {
                                    "0": "23",
                                    "1": "0.99",
                                    "2": "1",
                                    "3": "MA"
                                },
                                {
                                    "0": "24",
                                    "1": "0.99",
                                    "2": "1",
                                    "3": "MA"
                                },
                                {
                                    "0": "25",
                                    "1": "0.99",
                                    "2": "1",
                                    "3": "MA"
                                },
                                {
                                    "0": "26",
                                    "1": "0.99",
                                    "2": "1",
                                    "3": "MA"
                                },
                                {
                                    "0": "27",
                                    "1": "0.99",
                                    "2": "1",
                                    "3": "MA"
                                },
                                {
                                    "0": "28",
                                    "1": "0.99",
                                    "2": "1",
                                    "3": "MA"
                                },
                                {
                                    "0": "29",
                                    "1": "0.99",
                                    "2": "1",
                                    "3": "MA"
                                },
                                {
                                    "0": "30",
                                    "1": "0.99",
                                    "2": "1",
                                    "3": "MA"
                                },
                                {
                                    "0": "31",
                                    "1": "0.99",
                                    "2": "1",
                                    "3": "MA"
                                },
                                {
                                    "0": "32",
                                    "1": "0.99",
                                    "2": "1",
                                    "3": "MA"
                                },
                                {
                                    "0": "33",
                                    "1": "0.99",
                                    "2": "1",
                                    "3": "MA"
                                },
                                {
                                    "0": "34",
                                    "1": "0.99",
                                    "2": "1",
                                    "3": "MA"
                                },
                                {
                                    "0": "35",
                                    "1": "0.99",
                                    "2": "1",
                                    "3": "MA"
                                },
                                {
                                    "0": "36",
                                    "1": "0.99",
                                    "2": "1",
                                    "3": "NULL"
                                },
                                {
                                    "0": "37",
                                    "1": "0.99",
                                    "2": "1",
                                    "3": "NULL"
                                },
                                {
                                    "0": "38",
                                    "1": "0.99",
                                    "2": "1",
                                    "3": "NULL"
                                },
                                {
                                    "0": "39",
                                    "1": "0.99",
                                    "2": "1",
                                    "3": "NULL"
                                },
                                {
                                    "0": "40",
                                    "1": "0.99",
                                    "2": "1",
                                    "3": "NULL"
                                },
                                {
                                    "0": "41",
                                    "1": "0.99",
                                    "2": "1",
                                    "3": "NULL"
                                },
                                {
                                    "0": "42",
                                    "1": "0.99",
                                    "2": "1",
                                    "3": "NULL"
                                },
                                {
                                    "0": "43",
                                    "1": "0.99",
                                    "2": "1",
                                    "3": "NULL"
                                },
                                {
                                    "0": "44",
                                    "1": "0.99",
                                    "2": "1",
                                    "3": "NULL"
                                },
                                {
                                    "0": "45",
                                    "1": "0.99",
                                    "2": "1",
                                    "3": "Dublin"
                                },
                                {
                                    "0": "46",
                                    "1": "0.99",
                                    "2": "1",
                                    "3": "Dublin"
                                },
                                {
                                    "0": "47",
                                    "1": "0.99",
                                    "2": "1",
                                    "3": "Dublin"
                                },
                                {
                                    "0": "48",
                                    "1": "0.99",
                                    "2": "1",
                                    "3": "Dublin"
                                },
                                {
                                    "0": "49",
                                    "1": "0.99",
                                    "2": "1",
                                    "3": "Dublin"
                                },
                                {
                                    "0": "50",
                                    "1": "0.99",
                                    "2": "1",
                                    "3": "Dublin"
                                },
                                {
                                    "0": "51",
                                    "1": "0.99",
                                    "2": "1",
                                    "3": "NULL"
                                },
                                {
                                    "0": "52",
                                    "1": "0.99",
                                    "2": "1",
                                    "3": "NULL"
                                },
                                {
                                    "0": "53",
                                    "1": "0.99",
                                    "2": "1",
                                    "3": "NULL"
                                },
                                {
                                    "0": "54",
                                    "1": "0.99",
                                    "2": "1",
                                    "3": "NULL"
                                },
                                {
                                    "0": "55",
                                    "1": "0.99",
                                    "2": "1",
                                    "3": "NULL"
                                },
                                {
                                    "0": "56",
                                    "1": "0.99",
                                    "2": "1",
                                    "3": "NULL"
                                },
                                {
                                    "0": "57",
                                    "1": "0.99",
                                    "2": "1",
                                    "3": "NULL"
                                },
                                {
                                    "0": "58",
                                    "1": "0.99",
                                    "2": "1",
                                    "3": "NULL"
                                },
                                {
                                    "0": "59",
                                    "1": "0.99",
                                    "2": "1",
                                    "3": "NULL"
                                },
                                {
                                    "0": "60",
                                    "1": "0.99",
                                    "2": "1",
                                    "3": "NULL"
                                },
                                {
                                    "0": "61",
                                    "1": "0.99",
                                    "2": "1",
                                    "3": "NULL"
                                },
                                {
                                    "0": "62",
                                    "1": "0.99",
                                    "2": "1",
                                    "3": "NULL"
                                },
                                {
                                    "0": "63",
                                    "1": "0.99",
                                    "2": "1",
                                    "3": "NULL"
                                },
                                {
                                    "0": "64",
                                    "1": "0.99",
                                    "2": "1",
                                    "3": "NULL"
                                },
                                {
                                    "0": "65",
                                    "1": "0.99",
                                    "2": "1",
                                    "3": "NULL"
                                },
                                {
                                    "0": "66",
                                    "1": "0.99",
                                    "2": "1",
                                    "3": "NULL"
                                },
                                {
                                    "0": "67",
                                    "1": "0.99",
                                    "2": "1",
                                    "3": "NULL"
                                },
                                {
                                    "0": "68",
                                    "1": "0.99",
                                    "2": "1",
                                    "3": "NULL"
                                },
                                {
                                    "0": "69",
                                    "1": "0.99",
                                    "2": "1",
                                    "3": "NULL"
                                },
                                {
                                    "0": "70",
                                    "1": "0.99",
                                    "2": "1",
                                    "3": "NULL"
                                },
                                {
                                    "0": "71",
                                    "1": "0.99",
                                    "2": "1",
                                    "3": "NULL"
                                },
                                {
                                    "0": "72",
                                    "1": "0.99",
                                    "2": "1",
                                    "3": "NULL"
                                },
                                {
                                    "0": "73",
                                    "1": "0.99",
                                    "2": "1",
                                    "3": "NULL"
                                },
                                {
                                    "0": "74",
                                    "1": "0.99",
                                    "2": "1",
                                    "3": "CA"
                                },
                                {
                                    "0": "75",
                                    "1": "0.99",
                                    "2": "1",
                                    "3": "WA"
                                },
                                {
                                    "0": "76",
                                    "1": "0.99",
                                    "2": "1",
                                    "3": "WA"
                                },
                                {
                                    "0": "77",
                                    "1": "0.99",
                                    "2": "1",
                                    "3": "CA"
                                },
                                {
                                    "0": "78",
                                    "1": "0.99",
                                    "2": "1",
                                    "3": "CA"
                                },
                                {
                                    "0": "79",
                                    "1": "0.99",
                                    "2": "1",
                                    "3": "NV"
                                },
                                {
                                    "0": "80",
                                    "1": "0.99",
                                    "2": "1",
                                    "3": "NV"
                                },
                                {
                                    "0": "81",
                                    "1": "0.99",
                                    "2": "1",
                                    "3": "NV"
                                },
                                {
                                    "0": "82",
                                    "1": "0.99",
                                    "2": "1",
                                    "3": "NV"
                                },
                                {
                                    "0": "83",
                                    "1": "0.99",
                                    "2": "1",
                                    "3": "WI"
                                },
                                {
                                    "0": "84",
                                    "1": "0.99",
                                    "2": "1",
                                    "3": "WI"
                                },
                                {
                                    "0": "85",
                                    "1": "0.99",
                                    "2": "1",
                                    "3": "WI"
                                },
                                {
                                    "0": "86",
                                    "1": "0.99",
                                    "2": "1",
                                    "3": "WI"
                                },
                                {
                                    "0": "87",
                                    "1": "0.99",
                                    "2": "1",
                                    "3": "WI"
                                },
                                {
                                    "0": "88",
                                    "1": "0.99",
                                    "2": "1",
                                    "3": "WI"
                                },
                                {
                                    "0": "89",
                                    "1": "0.99",
                                    "2": "1",
                                    "3": "NS"
                                },
                                {
                                    "0": "90",
                                    "1": "0.99",
                                    "2": "1",
                                    "3": "NS"
                                },
                                {
                                    "0": "91",
                                    "1": "0.99",
                                    "2": "1",
                                    "3": "NS"
                                },
                                {
                                    "0": "92",
                                    "1": "0.99",
                                    "2": "1",
                                    "3": "NS"
                                },
                                {
                                    "0": "93",
                                    "1": "0.99",
                                    "2": "1",
                                    "3": "NS"
                                },
                                {
                                    "0": "94",
                                    "1": "0.99",
                                    "2": "1",
                                    "3": "NS"
                                },
                                {
                                    "0": "95",
                                    "1": "0.99",
                                    "2": "1",
                                    "3": "NS"
                                },
                                {
                                    "0": "96",
                                    "1": "0.99",
                                    "2": "1",
                                    "3": "NS"
                                },
                                {
                                    "0": "97",
                                    "1": "0.99",
                                    "2": "1",
                                    "3": "NS"
                                },
                                {
                                    "0": "98",
                                    "1": "0.99",
                                    "2": "1",
                                    "3": "NULL"
                                },
                                {
                                    "0": "99",
                                    "1": "0.99",
                                    "2": "1",
                                    "3": "NULL"
                                },
                                {
                                    "0": "100",
                                    "1": "0.99",
                                    "2": "1",
                                    "3": "NULL"
                                },
                                {
                                    "0": "101",
                                    "1": "0.99",
                                    "2": "1",
                                    "3": "NULL"
                                },
                                {
                                    "0": "102",
                                    "1": "0.99",
                                    "2": "1",
                                    "3": "NULL"
                                },
                                {
                                    "0": "103",
                                    "1": "0.99",
                                    "2": "1",
                                    "3": "NULL"
                                },
                                {
                                    "0": "104",
                                    "1": "0.99",
                                    "2": "1",
                                    "3": "NULL"
                                },
                                {
                                    "0": "105",
                                    "1": "0.99",
                                    "2": "1",
                                    "3": "NULL"
                                },
                                {
                                    "0": "106",
                                    "1": "0.99",
                                    "2": "1",
                                    "3": "NULL"
                                },
                                {
                                    "0": "107",
                                    "1": "0.99",
                                    "2": "1",
                                    "3": "NULL"
                                },
                                {
                                    "0": "108",
                                    "1": "0.99",
                                    "2": "1",
                                    "3": "NULL"
                                },
                                {
                                    "0": "109",
                                    "1": "0.99",
                                    "2": "1",
                                    "3": "NULL"
                                },
                                {
                                    "0": "110",
                                    "1": "0.99",
                                    "2": "1",
                                    "3": "NULL"
                                },
                                {
                                    "0": "111",
                                    "1": "0.99",
                                    "2": "1",
                                    "3": "NULL"
                                },
                                {
                                    "0": "112",
                                    "1": "0.99",
                                    "2": "1",
                                    "3": "NULL"
                                },
                                {
                                    "0": "113",
                                    "1": "0.99",
                                    "2": "1",
                                    "3": "NSW"
                                },
                                {
                                    "0": "114",
                                    "1": "0.99",
                                    "2": "1",
                                    "3": "NSW"
                                },
                                {
                                    "0": "115",
                                    "1": "0.99",
                                    "2": "1",
                                    "3": "NULL"
                                },
                                {
                                    "0": "116",
                                    "1": "0.99",
                                    "2": "1",
                                    "3": "NULL"
                                },
                                {
                                    "0": "117",
                                    "1": "0.99",
                                    "2": "1",
                                    "3": "NULL"
                                },
                                {
                                    "0": "118",
                                    "1": "0.99",
                                    "2": "1",
                                    "3": "NULL"
                                },
                                {
                                    "0": "119",
                                    "1": "0.99",
                                    "2": "1",
                                    "3": "NULL"
                                },
                                {
                                    "0": "120",
                                    "1": "0.99",
                                    "2": "1",
                                    "3": "NULL"
                                },
                                {
                                    "0": "121",
                                    "1": "0.99",
                                    "2": "1",
                                    "3": "NULL"
                                },
                                {
                                    "0": "122",
                                    "1": "0.99",
                                    "2": "1",
                                    "3": "NULL"
                                },
                                {
                                    "0": "123",
                                    "1": "0.99",
                                    "2": "1",
                                    "3": "NULL"
                                },
                                {
                                    "0": "124",
                                    "1": "0.99",
                                    "2": "1",
                                    "3": "NULL"
                                },
                                {
                                    "0": "125",
                                    "1": "0.99",
                                    "2": "1",
                                    "3": "NULL"
                                },
                                {
                                    "0": "126",
                                    "1": "0.99",
                                    "2": "1",
                                    "3": "NULL"
                                },
                                {
                                    "0": "127",
                                    "1": "0.99",
                                    "2": "1",
                                    "3": "SP"
                                },
                                {
                                    "0": "128",
                                    "1": "0.99",
                                    "2": "1",
                                    "3": "SP"
                                },
                                {
                                    "0": "129",
                                    "1": "0.99",
                                    "2": "1",
                                    "3": "SP"
                                },
                                {
                                    "0": "130",
                                    "1": "0.99",
                                    "2": "1",
                                    "3": "SP"
                                },
                                {
                                    "0": "131",
                                    "1": "0.99",
                                    "2": "1",
                                    "3": "SP"
                                },
                                {
                                    "0": "132",
                                    "1": "0.99",
                                    "2": "1",
                                    "3": "SP"
                                },
                                {
                                    "0": "133",
                                    "1": "0.99",
                                    "2": "1",
                                    "3": "SP"
                                },
                                {
                                    "0": "134",
                                    "1": "0.99",
                                    "2": "1",
                                    "3": "SP"
                                },
                                {
                                    "0": "135",
                                    "1": "0.99",
                                    "2": "1",
                                    "3": "SP"
                                },
                                {
                                    "0": "136",
                                    "1": "0.99",
                                    "2": "1",
                                    "3": "CA"
                                },
                                {
                                    "0": "137",
                                    "1": "0.99",
                                    "2": "1",
                                    "3": "CA"
                                },
                                {
                                    "0": "138",
                                    "1": "0.99",
                                    "2": "1",
                                    "3": "CA"
                                },
                                {
                                    "0": "139",
                                    "1": "0.99",
                                    "2": "1",
                                    "3": "CA"
                                },
                                {
                                    "0": "140",
                                    "1": "0.99",
                                    "2": "1",
                                    "3": "CA"
                                },
                                {
                                    "0": "141",
                                    "1": "0.99",
                                    "2": "1",
                                    "3": "CA"
                                },
                                {
                                    "0": "142",
                                    "1": "0.99",
                                    "2": "1",
                                    "3": "CA"
                                },
                                {
                                    "0": "143",
                                    "1": "0.99",
                                    "2": "1",
                                    "3": "CA"
                                },
                                {
                                    "0": "144",
                                    "1": "0.99",
                                    "2": "1",
                                    "3": "CA"
                                },
                                {
                                    "0": "145",
                                    "1": "0.99",
                                    "2": "1",
                                    "3": "CA"
                                },
                                {
                                    "0": "146",
                                    "1": "0.99",
                                    "2": "1",
                                    "3": "CA"
                                },
                                {
                                    "0": "147",
                                    "1": "0.99",
                                    "2": "1",
                                    "3": "CA"
                                },
                                {
                                    "0": "148",
                                    "1": "0.99",
                                    "2": "1",
                                    "3": "CA"
                                },
                                {
                                    "0": "149",
                                    "1": "0.99",
                                    "2": "1",
                                    "3": "CA"
                                },
                                {
                                    "0": "150",
                                    "1": "0.99",
                                    "2": "1",
                                    "3": "NT"
                                },
                                {
                                    "0": "151",
                                    "1": "0.99",
                                    "2": "1",
                                    "3": "NULL"
                                },
                                {
                                    "0": "152",
                                    "1": "0.99",
                                    "2": "1",
                                    "3": "NULL"
                                },
                                {
                                    "0": "153",
                                    "1": "0.99",
                                    "2": "1",
                                    "3": "NULL"
                                },
                                {
                                    "0": "154",
                                    "1": "0.99",
                                    "2": "1",
                                    "3": "NULL"
                                },
                                {
                                    "0": "155",
                                    "1": "0.99",
                                    "2": "1",
                                    "3": "NULL"
                                },
                                {
                                    "0": "156",
                                    "1": "0.99",
                                    "2": "1",
                                    "3": "NULL"
                                },
                                {
                                    "0": "157",
                                    "1": "0.99",
                                    "2": "1",
                                    "3": "NULL"
                                },
                                {
                                    "0": "158",
                                    "1": "0.99",
                                    "2": "1",
                                    "3": "NULL"
                                },
                                {
                                    "0": "159",
                                    "1": "0.99",
                                    "2": "1",
                                    "3": "NULL"
                                },
                                {
                                    "0": "160",
                                    "1": "0.99",
                                    "2": "1",
                                    "3": "NULL"
                                },
                                {
                                    "0": "161",
                                    "1": "0.99",
                                    "2": "1",
                                    "3": "NULL"
                                },
                                {
                                    "0": "162",
                                    "1": "0.99",
                                    "2": "1",
                                    "3": "NULL"
                                },
                                {
                                    "0": "163",
                                    "1": "0.99",
                                    "2": "1",
                                    "3": "NULL"
                                },
                                {
                                    "0": "164",
                                    "1": "0.99",
                                    "2": "1",
                                    "3": "NULL"
                                },
                                {
                                    "0": "165",
                                    "1": "0.99",
                                    "2": "1",
                                    "3": "VV"
                                },
                                {
                                    "0": "166",
                                    "1": "0.99",
                                    "2": "1",
                                    "3": "VV"
                                },
                                {
                                    "0": "167",
                                    "1": "0.99",
                                    "2": "1",
                                    "3": "VV"
                                },
                                {
                                    "0": "168",
                                    "1": "0.99",
                                    "2": "1",
                                    "3": "VV"
                                },
                                {
                                    "0": "169",
                                    "1": "0.99",
                                    "2": "1",
                                    "3": "VV"
                                },
                                {
                                    "0": "170",
                                    "1": "0.99",
                                    "2": "1",
                                    "3": "VV"
                                },
                                {
                                    "0": "171",
                                    "1": "0.99",
                                    "2": "1",
                                    "3": "VV"
                                },
                                {
                                    "0": "172",
                                    "1": "0.99",
                                    "2": "1",
                                    "3": "VV"
                                },
                                {
                                    "0": "173",
                                    "1": "0.99",
                                    "2": "1",
                                    "3": "VV"
                                },
                                {
                                    "0": "174",
                                    "1": "0.99",
                                    "2": "1",
                                    "3": "NULL"
                                },
                                {
                                    "0": "175",
                                    "1": "0.99",
                                    "2": "1",
                                    "3": "NULL"
                                },
                                {
                                    "0": "176",
                                    "1": "0.99",
                                    "2": "1",
                                    "3": "NULL"
                                },
                                {
                                    "0": "177",
                                    "1": "0.99",
                                    "2": "1",
                                    "3": "NULL"
                                },
                                {
                                    "0": "178",
                                    "1": "0.99",
                                    "2": "1",
                                    "3": "NULL"
                                },
                                {
                                    "0": "179",
                                    "1": "0.99",
                                    "2": "1",
                                    "3": "NULL"
                                },
                                {
                                    "0": "180",
                                    "1": "0.99",
                                    "2": "1",
                                    "3": "NULL"
                                },
                                {
                                    "0": "181",
                                    "1": "0.99",
                                    "2": "1",
                                    "3": "NULL"
                                },
                                {
                                    "0": "182",
                                    "1": "0.99",
                                    "2": "1",
                                    "3": "NULL"
                                },
                                {
                                    "0": "183",
                                    "1": "0.99",
                                    "2": "1",
                                    "3": "NULL"
                                },
                                {
                                    "0": "184",
                                    "1": "0.99",
                                    "2": "1",
                                    "3": "NULL"
                                },
                                {
                                    "0": "185",
                                    "1": "0.99",
                                    "2": "1",
                                    "3": "NULL"
                                },
                                {
                                    "0": "186",
                                    "1": "0.99",
                                    "2": "1",
                                    "3": "NULL"
                                },
                                {
                                    "0": "187",
                                    "1": "0.99",
                                    "2": "1",
                                    "3": "NULL"
                                },
                                {
                                    "0": "188",
                                    "1": "0.99",
                                    "2": "1",
                                    "3": "RJ"
                                },
                                {
                                    "0": "189",
                                    "1": "0.99",
                                    "2": "1",
                                    "3": "DF"
                                },
                                {
                                    "0": "190",
                                    "1": "0.99",
                                    "2": "1",
                                    "3": "DF"
                                },
                                {
                                    "0": "191",
                                    "1": "0.99",
                                    "2": "1",
                                    "3": "BC"
                                },
                                {
                                    "0": "192",
                                    "1": "0.99",
                                    "2": "1",
                                    "3": "BC"
                                },
                                {
                                    "0": "193",
                                    "1": "0.99",
                                    "2": "1",
                                    "3": "WA"
                                },
                                {
                                    "0": "194",
                                    "1": "0.99",
                                    "2": "1",
                                    "3": "WA"
                                },
                                {
                                    "0": "195",
                                    "1": "0.99",
                                    "2": "1",
                                    "3": "WA"
                                },
                                {
                                    "0": "196",
                                    "1": "0.99",
                                    "2": "1",
                                    "3": "WA"
                                },
                                {
                                    "0": "197",
                                    "1": "0.99",
                                    "2": "1",
                                    "3": "NV"
                                },
                                {
                                    "0": "198",
                                    "1": "0.99",
                                    "2": "1",
                                    "3": "NV"
                                },
                                {
                                    "0": "199",
                                    "1": "0.99",
                                    "2": "1",
                                    "3": "NV"
                                },
                                {
                                    "0": "200",
                                    "1": "0.99",
                                    "2": "1",
                                    "3": "NV"
                                },
                                {
                                    "0": "201",
                                    "1": "0.99",
                                    "2": "1",
                                    "3": "NV"
                                },
                                {
                                    "0": "202",
                                    "1": "0.99",
                                    "2": "1",
                                    "3": "NV"
                                },
                                {
                                    "0": "203",
                                    "1": "0.99",
                                    "2": "1",
                                    "3": "AZ"
                                },
                                {
                                    "0": "204",
                                    "1": "0.99",
                                    "2": "1",
                                    "3": "AZ"
                                },
                                {
                                    "0": "205",
                                    "1": "0.99",
                                    "2": "1",
                                    "3": "AZ"
                                },
                                {
                                    "0": "206",
                                    "1": "0.99",
                                    "2": "1",
                                    "3": "AZ"
                                },
                                {
                                    "0": "207",
                                    "1": "0.99",
                                    "2": "1",
                                    "3": "AZ"
                                },
                                {
                                    "0": "208",
                                    "1": "0.99",
                                    "2": "1",
                                    "3": "AZ"
                                },
                                {
                                    "0": "209",
                                    "1": "0.99",
                                    "2": "1",
                                    "3": "AZ"
                                },
                                {
                                    "0": "210",
                                    "1": "0.99",
                                    "2": "1",
                                    "3": "AZ"
                                },
                                {
                                    "0": "211",
                                    "1": "0.99",
                                    "2": "1",
                                    "3": "AZ"
                                },
                                {
                                    "0": "212",
                                    "1": "0.99",
                                    "2": "1",
                                    "3": "NULL"
                                }
                            ]
                        },
                        "text/html": [
                            "<table>",
                            "<tr><th>invoiceline_id</th><th>unit_price</th><th>quantity</th><th>billing_state</th></tr>",
                            "<tr><td>1</td><td>0.99</td><td>1</td><td>NULL</td></tr>",
                            "<tr><td>2</td><td>0.99</td><td>1</td><td>NULL</td></tr>",
                            "<tr><td>3</td><td>0.99</td><td>1</td><td>NULL</td></tr>",
                            "<tr><td>4</td><td>0.99</td><td>1</td><td>NULL</td></tr>",
                            "<tr><td>5</td><td>0.99</td><td>1</td><td>NULL</td></tr>",
                            "<tr><td>6</td><td>0.99</td><td>1</td><td>NULL</td></tr>",
                            "<tr><td>7</td><td>0.99</td><td>1</td><td>NULL</td></tr>",
                            "<tr><td>8</td><td>0.99</td><td>1</td><td>NULL</td></tr>",
                            "<tr><td>9</td><td>0.99</td><td>1</td><td>NULL</td></tr>",
                            "<tr><td>10</td><td>0.99</td><td>1</td><td>NULL</td></tr>",
                            "<tr><td>11</td><td>0.99</td><td>1</td><td>NULL</td></tr>",
                            "<tr><td>12</td><td>0.99</td><td>1</td><td>NULL</td></tr>",
                            "<tr><td>13</td><td>0.99</td><td>1</td><td>AB</td></tr>",
                            "<tr><td>14</td><td>0.99</td><td>1</td><td>AB</td></tr>",
                            "<tr><td>15</td><td>0.99</td><td>1</td><td>AB</td></tr>",
                            "<tr><td>16</td><td>0.99</td><td>1</td><td>AB</td></tr>",
                            "<tr><td>17</td><td>0.99</td><td>1</td><td>AB</td></tr>",
                            "<tr><td>18</td><td>0.99</td><td>1</td><td>AB</td></tr>",
                            "<tr><td>19</td><td>0.99</td><td>1</td><td>AB</td></tr>",
                            "<tr><td>20</td><td>0.99</td><td>1</td><td>AB</td></tr>",
                            "<tr><td>21</td><td>0.99</td><td>1</td><td>AB</td></tr>",
                            "<tr><td>22</td><td>0.99</td><td>1</td><td>MA</td></tr>",
                            "<tr><td>23</td><td>0.99</td><td>1</td><td>MA</td></tr>",
                            "<tr><td>24</td><td>0.99</td><td>1</td><td>MA</td></tr>",
                            "<tr><td>25</td><td>0.99</td><td>1</td><td>MA</td></tr>",
                            "<tr><td>26</td><td>0.99</td><td>1</td><td>MA</td></tr>",
                            "<tr><td>27</td><td>0.99</td><td>1</td><td>MA</td></tr>",
                            "<tr><td>28</td><td>0.99</td><td>1</td><td>MA</td></tr>",
                            "<tr><td>29</td><td>0.99</td><td>1</td><td>MA</td></tr>",
                            "<tr><td>30</td><td>0.99</td><td>1</td><td>MA</td></tr>",
                            "<tr><td>31</td><td>0.99</td><td>1</td><td>MA</td></tr>",
                            "<tr><td>32</td><td>0.99</td><td>1</td><td>MA</td></tr>",
                            "<tr><td>33</td><td>0.99</td><td>1</td><td>MA</td></tr>",
                            "<tr><td>34</td><td>0.99</td><td>1</td><td>MA</td></tr>",
                            "<tr><td>35</td><td>0.99</td><td>1</td><td>MA</td></tr>",
                            "<tr><td>36</td><td>0.99</td><td>1</td><td>NULL</td></tr>",
                            "<tr><td>37</td><td>0.99</td><td>1</td><td>NULL</td></tr>",
                            "<tr><td>38</td><td>0.99</td><td>1</td><td>NULL</td></tr>",
                            "<tr><td>39</td><td>0.99</td><td>1</td><td>NULL</td></tr>",
                            "<tr><td>40</td><td>0.99</td><td>1</td><td>NULL</td></tr>",
                            "<tr><td>41</td><td>0.99</td><td>1</td><td>NULL</td></tr>",
                            "<tr><td>42</td><td>0.99</td><td>1</td><td>NULL</td></tr>",
                            "<tr><td>43</td><td>0.99</td><td>1</td><td>NULL</td></tr>",
                            "<tr><td>44</td><td>0.99</td><td>1</td><td>NULL</td></tr>",
                            "<tr><td>45</td><td>0.99</td><td>1</td><td>Dublin</td></tr>",
                            "<tr><td>46</td><td>0.99</td><td>1</td><td>Dublin</td></tr>",
                            "<tr><td>47</td><td>0.99</td><td>1</td><td>Dublin</td></tr>",
                            "<tr><td>48</td><td>0.99</td><td>1</td><td>Dublin</td></tr>",
                            "<tr><td>49</td><td>0.99</td><td>1</td><td>Dublin</td></tr>",
                            "<tr><td>50</td><td>0.99</td><td>1</td><td>Dublin</td></tr>",
                            "<tr><td>51</td><td>0.99</td><td>1</td><td>NULL</td></tr>",
                            "<tr><td>52</td><td>0.99</td><td>1</td><td>NULL</td></tr>",
                            "<tr><td>53</td><td>0.99</td><td>1</td><td>NULL</td></tr>",
                            "<tr><td>54</td><td>0.99</td><td>1</td><td>NULL</td></tr>",
                            "<tr><td>55</td><td>0.99</td><td>1</td><td>NULL</td></tr>",
                            "<tr><td>56</td><td>0.99</td><td>1</td><td>NULL</td></tr>",
                            "<tr><td>57</td><td>0.99</td><td>1</td><td>NULL</td></tr>",
                            "<tr><td>58</td><td>0.99</td><td>1</td><td>NULL</td></tr>",
                            "<tr><td>59</td><td>0.99</td><td>1</td><td>NULL</td></tr>",
                            "<tr><td>60</td><td>0.99</td><td>1</td><td>NULL</td></tr>",
                            "<tr><td>61</td><td>0.99</td><td>1</td><td>NULL</td></tr>",
                            "<tr><td>62</td><td>0.99</td><td>1</td><td>NULL</td></tr>",
                            "<tr><td>63</td><td>0.99</td><td>1</td><td>NULL</td></tr>",
                            "<tr><td>64</td><td>0.99</td><td>1</td><td>NULL</td></tr>",
                            "<tr><td>65</td><td>0.99</td><td>1</td><td>NULL</td></tr>",
                            "<tr><td>66</td><td>0.99</td><td>1</td><td>NULL</td></tr>",
                            "<tr><td>67</td><td>0.99</td><td>1</td><td>NULL</td></tr>",
                            "<tr><td>68</td><td>0.99</td><td>1</td><td>NULL</td></tr>",
                            "<tr><td>69</td><td>0.99</td><td>1</td><td>NULL</td></tr>",
                            "<tr><td>70</td><td>0.99</td><td>1</td><td>NULL</td></tr>",
                            "<tr><td>71</td><td>0.99</td><td>1</td><td>NULL</td></tr>",
                            "<tr><td>72</td><td>0.99</td><td>1</td><td>NULL</td></tr>",
                            "<tr><td>73</td><td>0.99</td><td>1</td><td>NULL</td></tr>",
                            "<tr><td>74</td><td>0.99</td><td>1</td><td>CA</td></tr>",
                            "<tr><td>75</td><td>0.99</td><td>1</td><td>WA</td></tr>",
                            "<tr><td>76</td><td>0.99</td><td>1</td><td>WA</td></tr>",
                            "<tr><td>77</td><td>0.99</td><td>1</td><td>CA</td></tr>",
                            "<tr><td>78</td><td>0.99</td><td>1</td><td>CA</td></tr>",
                            "<tr><td>79</td><td>0.99</td><td>1</td><td>NV</td></tr>",
                            "<tr><td>80</td><td>0.99</td><td>1</td><td>NV</td></tr>",
                            "<tr><td>81</td><td>0.99</td><td>1</td><td>NV</td></tr>",
                            "<tr><td>82</td><td>0.99</td><td>1</td><td>NV</td></tr>",
                            "<tr><td>83</td><td>0.99</td><td>1</td><td>WI</td></tr>",
                            "<tr><td>84</td><td>0.99</td><td>1</td><td>WI</td></tr>",
                            "<tr><td>85</td><td>0.99</td><td>1</td><td>WI</td></tr>",
                            "<tr><td>86</td><td>0.99</td><td>1</td><td>WI</td></tr>",
                            "<tr><td>87</td><td>0.99</td><td>1</td><td>WI</td></tr>",
                            "<tr><td>88</td><td>0.99</td><td>1</td><td>WI</td></tr>",
                            "<tr><td>89</td><td>0.99</td><td>1</td><td>NS</td></tr>",
                            "<tr><td>90</td><td>0.99</td><td>1</td><td>NS</td></tr>",
                            "<tr><td>91</td><td>0.99</td><td>1</td><td>NS</td></tr>",
                            "<tr><td>92</td><td>0.99</td><td>1</td><td>NS</td></tr>",
                            "<tr><td>93</td><td>0.99</td><td>1</td><td>NS</td></tr>",
                            "<tr><td>94</td><td>0.99</td><td>1</td><td>NS</td></tr>",
                            "<tr><td>95</td><td>0.99</td><td>1</td><td>NS</td></tr>",
                            "<tr><td>96</td><td>0.99</td><td>1</td><td>NS</td></tr>",
                            "<tr><td>97</td><td>0.99</td><td>1</td><td>NS</td></tr>",
                            "<tr><td>98</td><td>0.99</td><td>1</td><td>NULL</td></tr>",
                            "<tr><td>99</td><td>0.99</td><td>1</td><td>NULL</td></tr>",
                            "<tr><td>100</td><td>0.99</td><td>1</td><td>NULL</td></tr>",
                            "<tr><td>101</td><td>0.99</td><td>1</td><td>NULL</td></tr>",
                            "<tr><td>102</td><td>0.99</td><td>1</td><td>NULL</td></tr>",
                            "<tr><td>103</td><td>0.99</td><td>1</td><td>NULL</td></tr>",
                            "<tr><td>104</td><td>0.99</td><td>1</td><td>NULL</td></tr>",
                            "<tr><td>105</td><td>0.99</td><td>1</td><td>NULL</td></tr>",
                            "<tr><td>106</td><td>0.99</td><td>1</td><td>NULL</td></tr>",
                            "<tr><td>107</td><td>0.99</td><td>1</td><td>NULL</td></tr>",
                            "<tr><td>108</td><td>0.99</td><td>1</td><td>NULL</td></tr>",
                            "<tr><td>109</td><td>0.99</td><td>1</td><td>NULL</td></tr>",
                            "<tr><td>110</td><td>0.99</td><td>1</td><td>NULL</td></tr>",
                            "<tr><td>111</td><td>0.99</td><td>1</td><td>NULL</td></tr>",
                            "<tr><td>112</td><td>0.99</td><td>1</td><td>NULL</td></tr>",
                            "<tr><td>113</td><td>0.99</td><td>1</td><td>NSW</td></tr>",
                            "<tr><td>114</td><td>0.99</td><td>1</td><td>NSW</td></tr>",
                            "<tr><td>115</td><td>0.99</td><td>1</td><td>NULL</td></tr>",
                            "<tr><td>116</td><td>0.99</td><td>1</td><td>NULL</td></tr>",
                            "<tr><td>117</td><td>0.99</td><td>1</td><td>NULL</td></tr>",
                            "<tr><td>118</td><td>0.99</td><td>1</td><td>NULL</td></tr>",
                            "<tr><td>119</td><td>0.99</td><td>1</td><td>NULL</td></tr>",
                            "<tr><td>120</td><td>0.99</td><td>1</td><td>NULL</td></tr>",
                            "<tr><td>121</td><td>0.99</td><td>1</td><td>NULL</td></tr>",
                            "<tr><td>122</td><td>0.99</td><td>1</td><td>NULL</td></tr>",
                            "<tr><td>123</td><td>0.99</td><td>1</td><td>NULL</td></tr>",
                            "<tr><td>124</td><td>0.99</td><td>1</td><td>NULL</td></tr>",
                            "<tr><td>125</td><td>0.99</td><td>1</td><td>NULL</td></tr>",
                            "<tr><td>126</td><td>0.99</td><td>1</td><td>NULL</td></tr>",
                            "<tr><td>127</td><td>0.99</td><td>1</td><td>SP</td></tr>",
                            "<tr><td>128</td><td>0.99</td><td>1</td><td>SP</td></tr>",
                            "<tr><td>129</td><td>0.99</td><td>1</td><td>SP</td></tr>",
                            "<tr><td>130</td><td>0.99</td><td>1</td><td>SP</td></tr>",
                            "<tr><td>131</td><td>0.99</td><td>1</td><td>SP</td></tr>",
                            "<tr><td>132</td><td>0.99</td><td>1</td><td>SP</td></tr>",
                            "<tr><td>133</td><td>0.99</td><td>1</td><td>SP</td></tr>",
                            "<tr><td>134</td><td>0.99</td><td>1</td><td>SP</td></tr>",
                            "<tr><td>135</td><td>0.99</td><td>1</td><td>SP</td></tr>",
                            "<tr><td>136</td><td>0.99</td><td>1</td><td>CA</td></tr>",
                            "<tr><td>137</td><td>0.99</td><td>1</td><td>CA</td></tr>",
                            "<tr><td>138</td><td>0.99</td><td>1</td><td>CA</td></tr>",
                            "<tr><td>139</td><td>0.99</td><td>1</td><td>CA</td></tr>",
                            "<tr><td>140</td><td>0.99</td><td>1</td><td>CA</td></tr>",
                            "<tr><td>141</td><td>0.99</td><td>1</td><td>CA</td></tr>",
                            "<tr><td>142</td><td>0.99</td><td>1</td><td>CA</td></tr>",
                            "<tr><td>143</td><td>0.99</td><td>1</td><td>CA</td></tr>",
                            "<tr><td>144</td><td>0.99</td><td>1</td><td>CA</td></tr>",
                            "<tr><td>145</td><td>0.99</td><td>1</td><td>CA</td></tr>",
                            "<tr><td>146</td><td>0.99</td><td>1</td><td>CA</td></tr>",
                            "<tr><td>147</td><td>0.99</td><td>1</td><td>CA</td></tr>",
                            "<tr><td>148</td><td>0.99</td><td>1</td><td>CA</td></tr>",
                            "<tr><td>149</td><td>0.99</td><td>1</td><td>CA</td></tr>",
                            "<tr><td>150</td><td>0.99</td><td>1</td><td>NT</td></tr>",
                            "<tr><td>151</td><td>0.99</td><td>1</td><td>NULL</td></tr>",
                            "<tr><td>152</td><td>0.99</td><td>1</td><td>NULL</td></tr>",
                            "<tr><td>153</td><td>0.99</td><td>1</td><td>NULL</td></tr>",
                            "<tr><td>154</td><td>0.99</td><td>1</td><td>NULL</td></tr>",
                            "<tr><td>155</td><td>0.99</td><td>1</td><td>NULL</td></tr>",
                            "<tr><td>156</td><td>0.99</td><td>1</td><td>NULL</td></tr>",
                            "<tr><td>157</td><td>0.99</td><td>1</td><td>NULL</td></tr>",
                            "<tr><td>158</td><td>0.99</td><td>1</td><td>NULL</td></tr>",
                            "<tr><td>159</td><td>0.99</td><td>1</td><td>NULL</td></tr>",
                            "<tr><td>160</td><td>0.99</td><td>1</td><td>NULL</td></tr>",
                            "<tr><td>161</td><td>0.99</td><td>1</td><td>NULL</td></tr>",
                            "<tr><td>162</td><td>0.99</td><td>1</td><td>NULL</td></tr>",
                            "<tr><td>163</td><td>0.99</td><td>1</td><td>NULL</td></tr>",
                            "<tr><td>164</td><td>0.99</td><td>1</td><td>NULL</td></tr>",
                            "<tr><td>165</td><td>0.99</td><td>1</td><td>VV</td></tr>",
                            "<tr><td>166</td><td>0.99</td><td>1</td><td>VV</td></tr>",
                            "<tr><td>167</td><td>0.99</td><td>1</td><td>VV</td></tr>",
                            "<tr><td>168</td><td>0.99</td><td>1</td><td>VV</td></tr>",
                            "<tr><td>169</td><td>0.99</td><td>1</td><td>VV</td></tr>",
                            "<tr><td>170</td><td>0.99</td><td>1</td><td>VV</td></tr>",
                            "<tr><td>171</td><td>0.99</td><td>1</td><td>VV</td></tr>",
                            "<tr><td>172</td><td>0.99</td><td>1</td><td>VV</td></tr>",
                            "<tr><td>173</td><td>0.99</td><td>1</td><td>VV</td></tr>",
                            "<tr><td>174</td><td>0.99</td><td>1</td><td>NULL</td></tr>",
                            "<tr><td>175</td><td>0.99</td><td>1</td><td>NULL</td></tr>",
                            "<tr><td>176</td><td>0.99</td><td>1</td><td>NULL</td></tr>",
                            "<tr><td>177</td><td>0.99</td><td>1</td><td>NULL</td></tr>",
                            "<tr><td>178</td><td>0.99</td><td>1</td><td>NULL</td></tr>",
                            "<tr><td>179</td><td>0.99</td><td>1</td><td>NULL</td></tr>",
                            "<tr><td>180</td><td>0.99</td><td>1</td><td>NULL</td></tr>",
                            "<tr><td>181</td><td>0.99</td><td>1</td><td>NULL</td></tr>",
                            "<tr><td>182</td><td>0.99</td><td>1</td><td>NULL</td></tr>",
                            "<tr><td>183</td><td>0.99</td><td>1</td><td>NULL</td></tr>",
                            "<tr><td>184</td><td>0.99</td><td>1</td><td>NULL</td></tr>",
                            "<tr><td>185</td><td>0.99</td><td>1</td><td>NULL</td></tr>",
                            "<tr><td>186</td><td>0.99</td><td>1</td><td>NULL</td></tr>",
                            "<tr><td>187</td><td>0.99</td><td>1</td><td>NULL</td></tr>",
                            "<tr><td>188</td><td>0.99</td><td>1</td><td>RJ</td></tr>",
                            "<tr><td>189</td><td>0.99</td><td>1</td><td>DF</td></tr>",
                            "<tr><td>190</td><td>0.99</td><td>1</td><td>DF</td></tr>",
                            "<tr><td>191</td><td>0.99</td><td>1</td><td>BC</td></tr>",
                            "<tr><td>192</td><td>0.99</td><td>1</td><td>BC</td></tr>",
                            "<tr><td>193</td><td>0.99</td><td>1</td><td>WA</td></tr>",
                            "<tr><td>194</td><td>0.99</td><td>1</td><td>WA</td></tr>",
                            "<tr><td>195</td><td>0.99</td><td>1</td><td>WA</td></tr>",
                            "<tr><td>196</td><td>0.99</td><td>1</td><td>WA</td></tr>",
                            "<tr><td>197</td><td>0.99</td><td>1</td><td>NV</td></tr>",
                            "<tr><td>198</td><td>0.99</td><td>1</td><td>NV</td></tr>",
                            "<tr><td>199</td><td>0.99</td><td>1</td><td>NV</td></tr>",
                            "<tr><td>200</td><td>0.99</td><td>1</td><td>NV</td></tr>",
                            "<tr><td>201</td><td>0.99</td><td>1</td><td>NV</td></tr>",
                            "<tr><td>202</td><td>0.99</td><td>1</td><td>NV</td></tr>",
                            "<tr><td>203</td><td>0.99</td><td>1</td><td>AZ</td></tr>",
                            "<tr><td>204</td><td>0.99</td><td>1</td><td>AZ</td></tr>",
                            "<tr><td>205</td><td>0.99</td><td>1</td><td>AZ</td></tr>",
                            "<tr><td>206</td><td>0.99</td><td>1</td><td>AZ</td></tr>",
                            "<tr><td>207</td><td>0.99</td><td>1</td><td>AZ</td></tr>",
                            "<tr><td>208</td><td>0.99</td><td>1</td><td>AZ</td></tr>",
                            "<tr><td>209</td><td>0.99</td><td>1</td><td>AZ</td></tr>",
                            "<tr><td>210</td><td>0.99</td><td>1</td><td>AZ</td></tr>",
                            "<tr><td>211</td><td>0.99</td><td>1</td><td>AZ</td></tr>",
                            "<tr><td>212</td><td>0.99</td><td>1</td><td>NULL</td></tr>",
                            "</table>"
                        ]
                    }
                }
            ],
            "execution_count": 8
        },
        {
            "cell_type": "markdown",
            "source": [
                "# RIGHT JOIN\n",
                "\n",
                "Let's now try some RIGHT joins. A RIGHT join will return all rows from the right hand table, plus any matches from the left hand side table.\n",
                "\n",
                "In addition to performing a RIGHT join, you'll also learn how to avoid problems when different tables have the same column names, by fully qualifying the column in your select statement. Remember, we do this by prefixing the column name with the table name.\n",
                "\n",
                "For this exercise, we'll return to the Chinook database from earlier in the chapter.\n",
                "\n",
                "##### Instructions 1/2\n",
                "\n",
                "<span class=\"css-4zhg5y-baseStyle-strongStyle-baseStyle-Badge\" style=\"box-sizing: inherit; font-weight: 800; -webkit-font-smoothing: antialiased; border-radius: 4px; display: inline-block; text-transform: uppercase; background-color: rgb(252, 206, 13); font-size: 14px; line-height: 18px; padding-left: 4px; padding-right: 4px;\">100 XP</span>\n",
                "\n",
                "- `SELECT` the fully qualified column names `album_id` from `album` and `name` from `artist`. Then, join the tables so that only matching rows are returned (non-matches should be discarded)."
            ],
            "metadata": {
                "azdata_cell_guid": "3907844d-fb4d-4972-9199-c5e2d7840610"
            }
        },
        {
            "cell_type": "code",
            "source": [
                "-- SELECT the fully qualified album_id column from the album table\n",
                "SELECT \n",
                "  album_id,\n",
                "  title,\n",
                "  album.artist_id,\n",
                "  -- SELECT the fully qualified name column from the artist table\n",
                "  name as artist\n",
                "FROM album\n",
                "-- Perform a join to return only rows that match from both tables\n",
                "INNER JOIN artist ON album.artist_id = artist.artist_id\n",
                "WHERE album.album_id IN (213,214)"
            ],
            "metadata": {
                "azdata_cell_guid": "5bab1c80-7d02-492b-869f-5839bb2319af"
            },
            "outputs": [
                {
                    "output_type": "display_data",
                    "data": {
                        "text/html": "(2 rows affected)"
                    },
                    "metadata": {}
                },
                {
                    "output_type": "display_data",
                    "data": {
                        "text/html": "Total execution time: 00:00:00.012"
                    },
                    "metadata": {}
                },
                {
                    "output_type": "execute_result",
                    "metadata": {
                        "resultSet": {
                            "id": 0,
                            "batchId": 0,
                            "rowCount": 2,
                            "complete": true,
                            "columnInfo": [
                                {
                                    "isBytes": false,
                                    "isChars": false,
                                    "isSqlVariant": false,
                                    "isUdt": false,
                                    "isXml": false,
                                    "isJson": false,
                                    "sqlDbType": 8,
                                    "isHierarchyId": false,
                                    "isSqlXmlType": false,
                                    "isUnknownType": false,
                                    "isUpdatable": false,
                                    "allowDBNull": false,
                                    "baseCatalogName": null,
                                    "baseColumnName": null,
                                    "baseSchemaName": null,
                                    "baseServerName": null,
                                    "baseTableName": null,
                                    "columnName": "album_id",
                                    "columnOrdinal": 0,
                                    "columnSize": 4,
                                    "isAliased": null,
                                    "isAutoIncrement": true,
                                    "isExpression": null,
                                    "isHidden": null,
                                    "isIdentity": true,
                                    "isKey": null,
                                    "isLong": false,
                                    "isReadOnly": true,
                                    "isUnique": false,
                                    "numericPrecision": 10,
                                    "numericScale": 255,
                                    "udtAssemblyQualifiedName": null,
                                    "dataType": "System.Int32, System.Private.CoreLib, Version=4.0.0.0, Culture=neutral, PublicKeyToken=7cec85d7bea7798e",
                                    "dataTypeName": "int"
                                },
                                {
                                    "isBytes": false,
                                    "isChars": true,
                                    "isSqlVariant": false,
                                    "isUdt": false,
                                    "isXml": false,
                                    "isJson": false,
                                    "sqlDbType": 12,
                                    "isHierarchyId": false,
                                    "isSqlXmlType": false,
                                    "isUnknownType": false,
                                    "isUpdatable": true,
                                    "allowDBNull": false,
                                    "baseCatalogName": null,
                                    "baseColumnName": null,
                                    "baseSchemaName": null,
                                    "baseServerName": null,
                                    "baseTableName": null,
                                    "columnName": "title",
                                    "columnOrdinal": 1,
                                    "columnSize": 160,
                                    "isAliased": null,
                                    "isAutoIncrement": false,
                                    "isExpression": null,
                                    "isHidden": null,
                                    "isIdentity": false,
                                    "isKey": null,
                                    "isLong": false,
                                    "isReadOnly": false,
                                    "isUnique": false,
                                    "numericPrecision": 255,
                                    "numericScale": 255,
                                    "udtAssemblyQualifiedName": null,
                                    "dataType": "System.String, System.Private.CoreLib, Version=4.0.0.0, Culture=neutral, PublicKeyToken=7cec85d7bea7798e",
                                    "dataTypeName": "nvarchar"
                                },
                                {
                                    "isBytes": false,
                                    "isChars": false,
                                    "isSqlVariant": false,
                                    "isUdt": false,
                                    "isXml": false,
                                    "isJson": false,
                                    "sqlDbType": 8,
                                    "isHierarchyId": false,
                                    "isSqlXmlType": false,
                                    "isUnknownType": false,
                                    "isUpdatable": true,
                                    "allowDBNull": false,
                                    "baseCatalogName": null,
                                    "baseColumnName": null,
                                    "baseSchemaName": null,
                                    "baseServerName": null,
                                    "baseTableName": null,
                                    "columnName": "artist_id",
                                    "columnOrdinal": 2,
                                    "columnSize": 4,
                                    "isAliased": null,
                                    "isAutoIncrement": false,
                                    "isExpression": null,
                                    "isHidden": null,
                                    "isIdentity": false,
                                    "isKey": null,
                                    "isLong": false,
                                    "isReadOnly": false,
                                    "isUnique": false,
                                    "numericPrecision": 10,
                                    "numericScale": 255,
                                    "udtAssemblyQualifiedName": null,
                                    "dataType": "System.Int32, System.Private.CoreLib, Version=4.0.0.0, Culture=neutral, PublicKeyToken=7cec85d7bea7798e",
                                    "dataTypeName": "int"
                                },
                                {
                                    "isBytes": false,
                                    "isChars": true,
                                    "isSqlVariant": false,
                                    "isUdt": false,
                                    "isXml": false,
                                    "isJson": false,
                                    "sqlDbType": 12,
                                    "isHierarchyId": false,
                                    "isSqlXmlType": false,
                                    "isUnknownType": false,
                                    "isUpdatable": true,
                                    "allowDBNull": true,
                                    "baseCatalogName": null,
                                    "baseColumnName": null,
                                    "baseSchemaName": null,
                                    "baseServerName": null,
                                    "baseTableName": null,
                                    "columnName": "artist",
                                    "columnOrdinal": 3,
                                    "columnSize": 120,
                                    "isAliased": null,
                                    "isAutoIncrement": false,
                                    "isExpression": null,
                                    "isHidden": null,
                                    "isIdentity": false,
                                    "isKey": null,
                                    "isLong": false,
                                    "isReadOnly": false,
                                    "isUnique": false,
                                    "numericPrecision": 255,
                                    "numericScale": 255,
                                    "udtAssemblyQualifiedName": null,
                                    "dataType": "System.String, System.Private.CoreLib, Version=4.0.0.0, Culture=neutral, PublicKeyToken=7cec85d7bea7798e",
                                    "dataTypeName": "nvarchar"
                                }
                            ],
                            "specialAction": {
                                "none": true,
                                "expectYukonXMLShowPlan": false
                            }
                        }
                    },
                    "execution_count": 9,
                    "data": {
                        "application/vnd.dataresource+json": {
                            "schema": {
                                "fields": [
                                    {
                                        "name": "album_id"
                                    },
                                    {
                                        "name": "title"
                                    },
                                    {
                                        "name": "artist_id"
                                    },
                                    {
                                        "name": "artist"
                                    }
                                ]
                            },
                            "data": [
                                {
                                    "0": "213",
                                    "1": "Pure Cult: The Best Of The Cult (For Rockers, Ravers, Lovers & Sinners) [UK]",
                                    "2": "139",
                                    "3": "The Cult"
                                },
                                {
                                    "0": "214",
                                    "1": "The Doors",
                                    "2": "140",
                                    "3": "The Doors"
                                }
                            ]
                        },
                        "text/html": [
                            "<table>",
                            "<tr><th>album_id</th><th>title</th><th>artist_id</th><th>artist</th></tr>",
                            "<tr><td>213</td><td>Pure Cult: The Best Of The Cult (For Rockers, Ravers, Lovers &amp; Sinners) [UK]</td><td>139</td><td>The Cult</td></tr>",
                            "<tr><td>214</td><td>The Doors</td><td>140</td><td>The Doors</td></tr>",
                            "</table>"
                        ]
                    }
                }
            ],
            "execution_count": 9
        },
        {
            "cell_type": "markdown",
            "source": [
                "- To complete the query, join the `album` table to the `track` table using the relevant fully qualified `album_id` column. The album table is on the left-hand side of the join, and the additional join should return all matches or NULLs."
            ],
            "metadata": {
                "azdata_cell_guid": "dd9cd035-5c44-4859-8822-0b8432d0a845"
            }
        },
        {
            "cell_type": "code",
            "source": [
                "SELECT \n",
                "  album.album_id,\n",
                "  title,\n",
                "  album.artist_id,\n",
                "  artist.name as artist\n",
                "FROM album\n",
                "INNER JOIN artist ON album.artist_id = artist.artist_id\n",
                "-- Perform the correct join type to return matches or NULLS from the track table\n",
                "LEFT JOIN track on track.album_id = album.album_id\n",
                "WHERE album.album_id IN (213,214)"
            ],
            "metadata": {
                "azdata_cell_guid": "e6bf7101-4775-412a-ad31-9ee69f34a338"
            },
            "outputs": [
                {
                    "output_type": "display_data",
                    "data": {
                        "text/html": "(29 rows affected)"
                    },
                    "metadata": {}
                },
                {
                    "output_type": "display_data",
                    "data": {
                        "text/html": "Total execution time: 00:00:00.017"
                    },
                    "metadata": {}
                },
                {
                    "output_type": "execute_result",
                    "metadata": {
                        "resultSet": {
                            "id": 0,
                            "batchId": 0,
                            "rowCount": 29,
                            "complete": true,
                            "columnInfo": [
                                {
                                    "isBytes": false,
                                    "isChars": false,
                                    "isSqlVariant": false,
                                    "isUdt": false,
                                    "isXml": false,
                                    "isJson": false,
                                    "sqlDbType": 8,
                                    "isHierarchyId": false,
                                    "isSqlXmlType": false,
                                    "isUnknownType": false,
                                    "isUpdatable": false,
                                    "allowDBNull": false,
                                    "baseCatalogName": null,
                                    "baseColumnName": null,
                                    "baseSchemaName": null,
                                    "baseServerName": null,
                                    "baseTableName": null,
                                    "columnName": "album_id",
                                    "columnOrdinal": 0,
                                    "columnSize": 4,
                                    "isAliased": null,
                                    "isAutoIncrement": true,
                                    "isExpression": null,
                                    "isHidden": null,
                                    "isIdentity": true,
                                    "isKey": null,
                                    "isLong": false,
                                    "isReadOnly": true,
                                    "isUnique": false,
                                    "numericPrecision": 10,
                                    "numericScale": 255,
                                    "udtAssemblyQualifiedName": null,
                                    "dataType": "System.Int32, System.Private.CoreLib, Version=4.0.0.0, Culture=neutral, PublicKeyToken=7cec85d7bea7798e",
                                    "dataTypeName": "int"
                                },
                                {
                                    "isBytes": false,
                                    "isChars": true,
                                    "isSqlVariant": false,
                                    "isUdt": false,
                                    "isXml": false,
                                    "isJson": false,
                                    "sqlDbType": 12,
                                    "isHierarchyId": false,
                                    "isSqlXmlType": false,
                                    "isUnknownType": false,
                                    "isUpdatable": true,
                                    "allowDBNull": false,
                                    "baseCatalogName": null,
                                    "baseColumnName": null,
                                    "baseSchemaName": null,
                                    "baseServerName": null,
                                    "baseTableName": null,
                                    "columnName": "title",
                                    "columnOrdinal": 1,
                                    "columnSize": 160,
                                    "isAliased": null,
                                    "isAutoIncrement": false,
                                    "isExpression": null,
                                    "isHidden": null,
                                    "isIdentity": false,
                                    "isKey": null,
                                    "isLong": false,
                                    "isReadOnly": false,
                                    "isUnique": false,
                                    "numericPrecision": 255,
                                    "numericScale": 255,
                                    "udtAssemblyQualifiedName": null,
                                    "dataType": "System.String, System.Private.CoreLib, Version=4.0.0.0, Culture=neutral, PublicKeyToken=7cec85d7bea7798e",
                                    "dataTypeName": "nvarchar"
                                },
                                {
                                    "isBytes": false,
                                    "isChars": false,
                                    "isSqlVariant": false,
                                    "isUdt": false,
                                    "isXml": false,
                                    "isJson": false,
                                    "sqlDbType": 8,
                                    "isHierarchyId": false,
                                    "isSqlXmlType": false,
                                    "isUnknownType": false,
                                    "isUpdatable": true,
                                    "allowDBNull": false,
                                    "baseCatalogName": null,
                                    "baseColumnName": null,
                                    "baseSchemaName": null,
                                    "baseServerName": null,
                                    "baseTableName": null,
                                    "columnName": "artist_id",
                                    "columnOrdinal": 2,
                                    "columnSize": 4,
                                    "isAliased": null,
                                    "isAutoIncrement": false,
                                    "isExpression": null,
                                    "isHidden": null,
                                    "isIdentity": false,
                                    "isKey": null,
                                    "isLong": false,
                                    "isReadOnly": false,
                                    "isUnique": false,
                                    "numericPrecision": 10,
                                    "numericScale": 255,
                                    "udtAssemblyQualifiedName": null,
                                    "dataType": "System.Int32, System.Private.CoreLib, Version=4.0.0.0, Culture=neutral, PublicKeyToken=7cec85d7bea7798e",
                                    "dataTypeName": "int"
                                },
                                {
                                    "isBytes": false,
                                    "isChars": true,
                                    "isSqlVariant": false,
                                    "isUdt": false,
                                    "isXml": false,
                                    "isJson": false,
                                    "sqlDbType": 12,
                                    "isHierarchyId": false,
                                    "isSqlXmlType": false,
                                    "isUnknownType": false,
                                    "isUpdatable": true,
                                    "allowDBNull": true,
                                    "baseCatalogName": null,
                                    "baseColumnName": null,
                                    "baseSchemaName": null,
                                    "baseServerName": null,
                                    "baseTableName": null,
                                    "columnName": "artist",
                                    "columnOrdinal": 3,
                                    "columnSize": 120,
                                    "isAliased": null,
                                    "isAutoIncrement": false,
                                    "isExpression": null,
                                    "isHidden": null,
                                    "isIdentity": false,
                                    "isKey": null,
                                    "isLong": false,
                                    "isReadOnly": false,
                                    "isUnique": false,
                                    "numericPrecision": 255,
                                    "numericScale": 255,
                                    "udtAssemblyQualifiedName": null,
                                    "dataType": "System.String, System.Private.CoreLib, Version=4.0.0.0, Culture=neutral, PublicKeyToken=7cec85d7bea7798e",
                                    "dataTypeName": "nvarchar"
                                }
                            ],
                            "specialAction": {
                                "none": true,
                                "expectYukonXMLShowPlan": false
                            }
                        }
                    },
                    "execution_count": 10,
                    "data": {
                        "application/vnd.dataresource+json": {
                            "schema": {
                                "fields": [
                                    {
                                        "name": "album_id"
                                    },
                                    {
                                        "name": "title"
                                    },
                                    {
                                        "name": "artist_id"
                                    },
                                    {
                                        "name": "artist"
                                    }
                                ]
                            },
                            "data": [
                                {
                                    "0": "213",
                                    "1": "Pure Cult: The Best Of The Cult (For Rockers, Ravers, Lovers & Sinners) [UK]",
                                    "2": "139",
                                    "3": "The Cult"
                                },
                                {
                                    "0": "213",
                                    "1": "Pure Cult: The Best Of The Cult (For Rockers, Ravers, Lovers & Sinners) [UK]",
                                    "2": "139",
                                    "3": "The Cult"
                                },
                                {
                                    "0": "213",
                                    "1": "Pure Cult: The Best Of The Cult (For Rockers, Ravers, Lovers & Sinners) [UK]",
                                    "2": "139",
                                    "3": "The Cult"
                                },
                                {
                                    "0": "213",
                                    "1": "Pure Cult: The Best Of The Cult (For Rockers, Ravers, Lovers & Sinners) [UK]",
                                    "2": "139",
                                    "3": "The Cult"
                                },
                                {
                                    "0": "213",
                                    "1": "Pure Cult: The Best Of The Cult (For Rockers, Ravers, Lovers & Sinners) [UK]",
                                    "2": "139",
                                    "3": "The Cult"
                                },
                                {
                                    "0": "213",
                                    "1": "Pure Cult: The Best Of The Cult (For Rockers, Ravers, Lovers & Sinners) [UK]",
                                    "2": "139",
                                    "3": "The Cult"
                                },
                                {
                                    "0": "213",
                                    "1": "Pure Cult: The Best Of The Cult (For Rockers, Ravers, Lovers & Sinners) [UK]",
                                    "2": "139",
                                    "3": "The Cult"
                                },
                                {
                                    "0": "213",
                                    "1": "Pure Cult: The Best Of The Cult (For Rockers, Ravers, Lovers & Sinners) [UK]",
                                    "2": "139",
                                    "3": "The Cult"
                                },
                                {
                                    "0": "213",
                                    "1": "Pure Cult: The Best Of The Cult (For Rockers, Ravers, Lovers & Sinners) [UK]",
                                    "2": "139",
                                    "3": "The Cult"
                                },
                                {
                                    "0": "213",
                                    "1": "Pure Cult: The Best Of The Cult (For Rockers, Ravers, Lovers & Sinners) [UK]",
                                    "2": "139",
                                    "3": "The Cult"
                                },
                                {
                                    "0": "213",
                                    "1": "Pure Cult: The Best Of The Cult (For Rockers, Ravers, Lovers & Sinners) [UK]",
                                    "2": "139",
                                    "3": "The Cult"
                                },
                                {
                                    "0": "213",
                                    "1": "Pure Cult: The Best Of The Cult (For Rockers, Ravers, Lovers & Sinners) [UK]",
                                    "2": "139",
                                    "3": "The Cult"
                                },
                                {
                                    "0": "213",
                                    "1": "Pure Cult: The Best Of The Cult (For Rockers, Ravers, Lovers & Sinners) [UK]",
                                    "2": "139",
                                    "3": "The Cult"
                                },
                                {
                                    "0": "213",
                                    "1": "Pure Cult: The Best Of The Cult (For Rockers, Ravers, Lovers & Sinners) [UK]",
                                    "2": "139",
                                    "3": "The Cult"
                                },
                                {
                                    "0": "213",
                                    "1": "Pure Cult: The Best Of The Cult (For Rockers, Ravers, Lovers & Sinners) [UK]",
                                    "2": "139",
                                    "3": "The Cult"
                                },
                                {
                                    "0": "213",
                                    "1": "Pure Cult: The Best Of The Cult (For Rockers, Ravers, Lovers & Sinners) [UK]",
                                    "2": "139",
                                    "3": "The Cult"
                                },
                                {
                                    "0": "213",
                                    "1": "Pure Cult: The Best Of The Cult (For Rockers, Ravers, Lovers & Sinners) [UK]",
                                    "2": "139",
                                    "3": "The Cult"
                                },
                                {
                                    "0": "213",
                                    "1": "Pure Cult: The Best Of The Cult (For Rockers, Ravers, Lovers & Sinners) [UK]",
                                    "2": "139",
                                    "3": "The Cult"
                                },
                                {
                                    "0": "214",
                                    "1": "The Doors",
                                    "2": "140",
                                    "3": "The Doors"
                                },
                                {
                                    "0": "214",
                                    "1": "The Doors",
                                    "2": "140",
                                    "3": "The Doors"
                                },
                                {
                                    "0": "214",
                                    "1": "The Doors",
                                    "2": "140",
                                    "3": "The Doors"
                                },
                                {
                                    "0": "214",
                                    "1": "The Doors",
                                    "2": "140",
                                    "3": "The Doors"
                                },
                                {
                                    "0": "214",
                                    "1": "The Doors",
                                    "2": "140",
                                    "3": "The Doors"
                                },
                                {
                                    "0": "214",
                                    "1": "The Doors",
                                    "2": "140",
                                    "3": "The Doors"
                                },
                                {
                                    "0": "214",
                                    "1": "The Doors",
                                    "2": "140",
                                    "3": "The Doors"
                                },
                                {
                                    "0": "214",
                                    "1": "The Doors",
                                    "2": "140",
                                    "3": "The Doors"
                                },
                                {
                                    "0": "214",
                                    "1": "The Doors",
                                    "2": "140",
                                    "3": "The Doors"
                                },
                                {
                                    "0": "214",
                                    "1": "The Doors",
                                    "2": "140",
                                    "3": "The Doors"
                                },
                                {
                                    "0": "214",
                                    "1": "The Doors",
                                    "2": "140",
                                    "3": "The Doors"
                                }
                            ]
                        },
                        "text/html": [
                            "<table>",
                            "<tr><th>album_id</th><th>title</th><th>artist_id</th><th>artist</th></tr>",
                            "<tr><td>213</td><td>Pure Cult: The Best Of The Cult (For Rockers, Ravers, Lovers &amp; Sinners) [UK]</td><td>139</td><td>The Cult</td></tr>",
                            "<tr><td>213</td><td>Pure Cult: The Best Of The Cult (For Rockers, Ravers, Lovers &amp; Sinners) [UK]</td><td>139</td><td>The Cult</td></tr>",
                            "<tr><td>213</td><td>Pure Cult: The Best Of The Cult (For Rockers, Ravers, Lovers &amp; Sinners) [UK]</td><td>139</td><td>The Cult</td></tr>",
                            "<tr><td>213</td><td>Pure Cult: The Best Of The Cult (For Rockers, Ravers, Lovers &amp; Sinners) [UK]</td><td>139</td><td>The Cult</td></tr>",
                            "<tr><td>213</td><td>Pure Cult: The Best Of The Cult (For Rockers, Ravers, Lovers &amp; Sinners) [UK]</td><td>139</td><td>The Cult</td></tr>",
                            "<tr><td>213</td><td>Pure Cult: The Best Of The Cult (For Rockers, Ravers, Lovers &amp; Sinners) [UK]</td><td>139</td><td>The Cult</td></tr>",
                            "<tr><td>213</td><td>Pure Cult: The Best Of The Cult (For Rockers, Ravers, Lovers &amp; Sinners) [UK]</td><td>139</td><td>The Cult</td></tr>",
                            "<tr><td>213</td><td>Pure Cult: The Best Of The Cult (For Rockers, Ravers, Lovers &amp; Sinners) [UK]</td><td>139</td><td>The Cult</td></tr>",
                            "<tr><td>213</td><td>Pure Cult: The Best Of The Cult (For Rockers, Ravers, Lovers &amp; Sinners) [UK]</td><td>139</td><td>The Cult</td></tr>",
                            "<tr><td>213</td><td>Pure Cult: The Best Of The Cult (For Rockers, Ravers, Lovers &amp; Sinners) [UK]</td><td>139</td><td>The Cult</td></tr>",
                            "<tr><td>213</td><td>Pure Cult: The Best Of The Cult (For Rockers, Ravers, Lovers &amp; Sinners) [UK]</td><td>139</td><td>The Cult</td></tr>",
                            "<tr><td>213</td><td>Pure Cult: The Best Of The Cult (For Rockers, Ravers, Lovers &amp; Sinners) [UK]</td><td>139</td><td>The Cult</td></tr>",
                            "<tr><td>213</td><td>Pure Cult: The Best Of The Cult (For Rockers, Ravers, Lovers &amp; Sinners) [UK]</td><td>139</td><td>The Cult</td></tr>",
                            "<tr><td>213</td><td>Pure Cult: The Best Of The Cult (For Rockers, Ravers, Lovers &amp; Sinners) [UK]</td><td>139</td><td>The Cult</td></tr>",
                            "<tr><td>213</td><td>Pure Cult: The Best Of The Cult (For Rockers, Ravers, Lovers &amp; Sinners) [UK]</td><td>139</td><td>The Cult</td></tr>",
                            "<tr><td>213</td><td>Pure Cult: The Best Of The Cult (For Rockers, Ravers, Lovers &amp; Sinners) [UK]</td><td>139</td><td>The Cult</td></tr>",
                            "<tr><td>213</td><td>Pure Cult: The Best Of The Cult (For Rockers, Ravers, Lovers &amp; Sinners) [UK]</td><td>139</td><td>The Cult</td></tr>",
                            "<tr><td>213</td><td>Pure Cult: The Best Of The Cult (For Rockers, Ravers, Lovers &amp; Sinners) [UK]</td><td>139</td><td>The Cult</td></tr>",
                            "<tr><td>214</td><td>The Doors</td><td>140</td><td>The Doors</td></tr>",
                            "<tr><td>214</td><td>The Doors</td><td>140</td><td>The Doors</td></tr>",
                            "<tr><td>214</td><td>The Doors</td><td>140</td><td>The Doors</td></tr>",
                            "<tr><td>214</td><td>The Doors</td><td>140</td><td>The Doors</td></tr>",
                            "<tr><td>214</td><td>The Doors</td><td>140</td><td>The Doors</td></tr>",
                            "<tr><td>214</td><td>The Doors</td><td>140</td><td>The Doors</td></tr>",
                            "<tr><td>214</td><td>The Doors</td><td>140</td><td>The Doors</td></tr>",
                            "<tr><td>214</td><td>The Doors</td><td>140</td><td>The Doors</td></tr>",
                            "<tr><td>214</td><td>The Doors</td><td>140</td><td>The Doors</td></tr>",
                            "<tr><td>214</td><td>The Doors</td><td>140</td><td>The Doors</td></tr>",
                            "<tr><td>214</td><td>The Doors</td><td>140</td><td>The Doors</td></tr>",
                            "</table>"
                        ]
                    }
                }
            ],
            "execution_count": 10
        }
    ]
}