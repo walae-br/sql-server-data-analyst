{
    "metadata": {
        "kernelspec": {
            "name": "SQL",
            "display_name": "SQL",
            "language": "sql"
        },
        "language_info": {
            "name": "sql",
            "version": ""
        }
    },
    "nbformat_minor": 2,
    "nbformat": 4,
    "cells": [
        {
            "cell_type": "code",
            "source": [
                "USE Chinook\n",
                "GO"
            ],
            "metadata": {
                "azdata_cell_guid": "842fab30-3089-4622-bb32-c059d70755f8"
            },
            "outputs": [
                {
                    "output_type": "display_data",
                    "data": {
                        "text/html": "Commands completed successfully."
                    },
                    "metadata": {}
                },
                {
                    "output_type": "display_data",
                    "data": {
                        "text/html": "Total execution time: 00:00:00.001"
                    },
                    "metadata": {}
                }
            ],
            "execution_count": 2
        },
        {
            "cell_type": "markdown",
            "source": [
                "# UNION ALL Check\n",
                "\n",
                "Which of the following options correctly describes what happens when 2 queries are combined with `UNION ALL`?\n",
                "\n",
                "  \n",
                "\n",
                "  \n",
                "<span class=\"dc-input-radio__text\" style=\"box-sizing: inherit; flex-grow: 1; line-height: 1.5; margin-left: 8px; position: relative; top: -4px; transition: color 0.3s cubic-bezier(0.77, 0, 0.175, 1) 0s;\"><div class=\"\" style=\"box-sizing: inherit;\">All rows from both queries are returned, including duplicates.</div></span>"
            ],
            "metadata": {
                "azdata_cell_guid": "f4b886b0-46c9-409d-89c0-feaa8dc280da"
            }
        },
        {
            "cell_type": "markdown",
            "source": [
                "# Join the UNION\n",
                "\n",
                "You can write 2 or more `SELECT` statements and combine the results using `UNION`. For example, you may have two different tables with similar column types. If you wanted to combine these into one set of results, you'd use `UNION`. You'll see how to do this using the `artist` and `album` tables. In this exercise, you'll `SELECT` two common columns, add a `description`, then a `Source` column so you can tell which table the columns originated from.\n",
                "\n",
                "##### Instructions\n",
                "\n",
                "<span class=\"css-4zhg5y-baseStyle-strongStyle-baseStyle-Badge\" style=\"box-sizing: inherit; font-weight: 800; -webkit-font-smoothing: antialiased; border-radius: 4px; display: inline-block; text-transform: uppercase; background-color: rgb(252, 206, 13); font-size: 14px; line-height: 18px; padding-left: 4px; padding-right: 4px;\">100 XP</span>\n",
                "\n",
                "Make the first selection from the `album` table. Then join the results by providing the relevant keyword and selecting from the `artist` table."
            ],
            "metadata": {
                "azdata_cell_guid": "9284c4e7-5afc-4001-8734-de4a0bfdbba4"
            }
        },
        {
            "cell_type": "code",
            "source": [
                "SELECT \n",
                "  album_id AS ID,\n",
                "  title AS description,\n",
                "  'Album' AS Source\n",
                "  -- Complete the FROM statement\n",
                "FROM \n",
                " -- Combine the result set using the relevant keyword\n",
                "album UNION\n",
                "SELECT \n",
                "  artist_id AS ID,\n",
                "  name AS description,\n",
                "  'Artist'  AS Source\n",
                "  -- Complete the FROM statement\n",
                "FROM artist;"
            ],
            "metadata": {
                "azdata_cell_guid": "72b3b07e-5d05-4b8d-8ede-5c5603c853d3"
            },
            "outputs": [
                {
                    "output_type": "display_data",
                    "data": {
                        "text/html": "(622 rows affected)"
                    },
                    "metadata": {}
                },
                {
                    "output_type": "display_data",
                    "data": {
                        "text/html": "Total execution time: 00:00:00.005"
                    },
                    "metadata": {}
                },
                {
                    "output_type": "execute_result",
                    "metadata": {
                        "resultSet": {
                            "id": 0,
                            "batchId": 0,
                            "rowCount": 622,
                            "complete": true,
                            "columnInfo": [
                                {
                                    "isBytes": false,
                                    "isChars": false,
                                    "isSqlVariant": false,
                                    "isUdt": false,
                                    "isXml": false,
                                    "isJson": false,
                                    "sqlDbType": 8,
                                    "isHierarchyId": false,
                                    "isSqlXmlType": false,
                                    "isUnknownType": false,
                                    "isUpdatable": false,
                                    "allowDBNull": false,
                                    "baseCatalogName": null,
                                    "baseColumnName": null,
                                    "baseSchemaName": null,
                                    "baseServerName": null,
                                    "baseTableName": null,
                                    "columnName": "ID",
                                    "columnOrdinal": 0,
                                    "columnSize": 4,
                                    "isAliased": null,
                                    "isAutoIncrement": false,
                                    "isExpression": null,
                                    "isHidden": null,
                                    "isIdentity": false,
                                    "isKey": null,
                                    "isLong": false,
                                    "isReadOnly": true,
                                    "isUnique": false,
                                    "numericPrecision": 10,
                                    "numericScale": 255,
                                    "udtAssemblyQualifiedName": null,
                                    "dataType": "System.Int32, System.Private.CoreLib, Version=4.0.0.0, Culture=neutral, PublicKeyToken=7cec85d7bea7798e",
                                    "dataTypeName": "int"
                                },
                                {
                                    "isBytes": false,
                                    "isChars": true,
                                    "isSqlVariant": false,
                                    "isUdt": false,
                                    "isXml": false,
                                    "isJson": false,
                                    "sqlDbType": 12,
                                    "isHierarchyId": false,
                                    "isSqlXmlType": false,
                                    "isUnknownType": false,
                                    "isUpdatable": false,
                                    "allowDBNull": true,
                                    "baseCatalogName": null,
                                    "baseColumnName": null,
                                    "baseSchemaName": null,
                                    "baseServerName": null,
                                    "baseTableName": null,
                                    "columnName": "description",
                                    "columnOrdinal": 1,
                                    "columnSize": 160,
                                    "isAliased": null,
                                    "isAutoIncrement": false,
                                    "isExpression": null,
                                    "isHidden": null,
                                    "isIdentity": false,
                                    "isKey": null,
                                    "isLong": false,
                                    "isReadOnly": true,
                                    "isUnique": false,
                                    "numericPrecision": 255,
                                    "numericScale": 255,
                                    "udtAssemblyQualifiedName": null,
                                    "dataType": "System.String, System.Private.CoreLib, Version=4.0.0.0, Culture=neutral, PublicKeyToken=7cec85d7bea7798e",
                                    "dataTypeName": "nvarchar"
                                },
                                {
                                    "isBytes": false,
                                    "isChars": true,
                                    "isSqlVariant": false,
                                    "isUdt": false,
                                    "isXml": false,
                                    "isJson": false,
                                    "sqlDbType": 22,
                                    "isHierarchyId": false,
                                    "isSqlXmlType": false,
                                    "isUnknownType": false,
                                    "isUpdatable": false,
                                    "allowDBNull": false,
                                    "baseCatalogName": null,
                                    "baseColumnName": null,
                                    "baseSchemaName": null,
                                    "baseServerName": null,
                                    "baseTableName": null,
                                    "columnName": "Source",
                                    "columnOrdinal": 2,
                                    "columnSize": 6,
                                    "isAliased": null,
                                    "isAutoIncrement": false,
                                    "isExpression": null,
                                    "isHidden": null,
                                    "isIdentity": false,
                                    "isKey": null,
                                    "isLong": false,
                                    "isReadOnly": true,
                                    "isUnique": false,
                                    "numericPrecision": 255,
                                    "numericScale": 255,
                                    "udtAssemblyQualifiedName": null,
                                    "dataType": "System.String, System.Private.CoreLib, Version=4.0.0.0, Culture=neutral, PublicKeyToken=7cec85d7bea7798e",
                                    "dataTypeName": "varchar"
                                }
                            ],
                            "specialAction": {
                                "none": true,
                                "expectYukonXMLShowPlan": false
                            }
                        }
                    },
                    "execution_count": 3,
                    "data": {
                        "application/vnd.dataresource+json": {
                            "schema": {
                                "fields": [
                                    {
                                        "name": "ID"
                                    },
                                    {
                                        "name": "description"
                                    },
                                    {
                                        "name": "Source"
                                    }
                                ]
                            },
                            "data": [
                                {
                                    "0": "1",
                                    "1": "For Those About To Rock We Salute You",
                                    "2": "Album"
                                },
                                {
                                    "0": "2",
                                    "1": "Balls to the Wall",
                                    "2": "Album"
                                },
                                {
                                    "0": "3",
                                    "1": "Restless and Wild",
                                    "2": "Album"
                                },
                                {
                                    "0": "4",
                                    "1": "Let There Be Rock",
                                    "2": "Album"
                                },
                                {
                                    "0": "5",
                                    "1": "Big Ones",
                                    "2": "Album"
                                },
                                {
                                    "0": "6",
                                    "1": "Jagged Little Pill",
                                    "2": "Album"
                                },
                                {
                                    "0": "7",
                                    "1": "Facelift",
                                    "2": "Album"
                                },
                                {
                                    "0": "8",
                                    "1": "Warner 25 Anos",
                                    "2": "Album"
                                },
                                {
                                    "0": "9",
                                    "1": "Plays Metallica By Four Cellos",
                                    "2": "Album"
                                },
                                {
                                    "0": "10",
                                    "1": "Audioslave",
                                    "2": "Album"
                                },
                                {
                                    "0": "11",
                                    "1": "Out Of Exile",
                                    "2": "Album"
                                },
                                {
                                    "0": "12",
                                    "1": "BackBeat Soundtrack",
                                    "2": "Album"
                                },
                                {
                                    "0": "13",
                                    "1": "The Best Of Billy Cobham",
                                    "2": "Album"
                                },
                                {
                                    "0": "14",
                                    "1": "Alcohol Fueled Brewtality Live! [Disc 1]",
                                    "2": "Album"
                                },
                                {
                                    "0": "15",
                                    "1": "Alcohol Fueled Brewtality Live! [Disc 2]",
                                    "2": "Album"
                                },
                                {
                                    "0": "16",
                                    "1": "Black Sabbath",
                                    "2": "Album"
                                },
                                {
                                    "0": "17",
                                    "1": "Black Sabbath Vol. 4 (Remaster)",
                                    "2": "Album"
                                },
                                {
                                    "0": "18",
                                    "1": "Body Count",
                                    "2": "Album"
                                },
                                {
                                    "0": "19",
                                    "1": "Chemical Wedding",
                                    "2": "Album"
                                },
                                {
                                    "0": "20",
                                    "1": "The Best Of Buddy Guy - The Millenium Collection",
                                    "2": "Album"
                                },
                                {
                                    "0": "21",
                                    "1": "Prenda Minha",
                                    "2": "Album"
                                },
                                {
                                    "0": "22",
                                    "1": "Sozinho Remix Ao Vivo",
                                    "2": "Album"
                                },
                                {
                                    "0": "23",
                                    "1": "Minha Historia",
                                    "2": "Album"
                                },
                                {
                                    "0": "24",
                                    "1": "Afrociberdelia",
                                    "2": "Album"
                                },
                                {
                                    "0": "25",
                                    "1": "Da Lama Ao Caos",
                                    "2": "Album"
                                },
                                {
                                    "0": "26",
                                    "1": "Acústico MTV [Live]",
                                    "2": "Album"
                                },
                                {
                                    "0": "27",
                                    "1": "Cidade Negra - Hits",
                                    "2": "Album"
                                },
                                {
                                    "0": "28",
                                    "1": "Na Pista",
                                    "2": "Album"
                                },
                                {
                                    "0": "29",
                                    "1": "Axé Bahia 2001",
                                    "2": "Album"
                                },
                                {
                                    "0": "30",
                                    "1": "BBC Sessions [Disc 1] [Live]",
                                    "2": "Album"
                                },
                                {
                                    "0": "31",
                                    "1": "Bongo Fury",
                                    "2": "Album"
                                },
                                {
                                    "0": "32",
                                    "1": "Carnaval 2001",
                                    "2": "Album"
                                },
                                {
                                    "0": "33",
                                    "1": "Chill: Brazil (Disc 1)",
                                    "2": "Album"
                                },
                                {
                                    "0": "34",
                                    "1": "Chill: Brazil (Disc 2)",
                                    "2": "Album"
                                },
                                {
                                    "0": "35",
                                    "1": "Garage Inc. (Disc 1)",
                                    "2": "Album"
                                },
                                {
                                    "0": "36",
                                    "1": "Greatest Hits II",
                                    "2": "Album"
                                },
                                {
                                    "0": "37",
                                    "1": "Greatest Kiss",
                                    "2": "Album"
                                },
                                {
                                    "0": "38",
                                    "1": "Heart of the Night",
                                    "2": "Album"
                                },
                                {
                                    "0": "39",
                                    "1": "International Superhits",
                                    "2": "Album"
                                },
                                {
                                    "0": "40",
                                    "1": "Into The Light",
                                    "2": "Album"
                                },
                                {
                                    "0": "41",
                                    "1": "Meus Momentos",
                                    "2": "Album"
                                },
                                {
                                    "0": "42",
                                    "1": "Minha História",
                                    "2": "Album"
                                },
                                {
                                    "0": "43",
                                    "1": "MK III The Final Concerts [Disc 1]",
                                    "2": "Album"
                                },
                                {
                                    "0": "44",
                                    "1": "Physical Graffiti [Disc 1]",
                                    "2": "Album"
                                },
                                {
                                    "0": "45",
                                    "1": "Sambas De Enredo 2001",
                                    "2": "Album"
                                },
                                {
                                    "0": "46",
                                    "1": "Supernatural",
                                    "2": "Album"
                                },
                                {
                                    "0": "47",
                                    "1": "The Best of Ed Motta",
                                    "2": "Album"
                                },
                                {
                                    "0": "48",
                                    "1": "The Essential Miles Davis [Disc 1]",
                                    "2": "Album"
                                },
                                {
                                    "0": "49",
                                    "1": "The Essential Miles Davis [Disc 2]",
                                    "2": "Album"
                                },
                                {
                                    "0": "50",
                                    "1": "The Final Concerts (Disc 2)",
                                    "2": "Album"
                                },
                                {
                                    "0": "51",
                                    "1": "Up An' Atom",
                                    "2": "Album"
                                },
                                {
                                    "0": "52",
                                    "1": "Vinícius De Moraes - Sem Limite",
                                    "2": "Album"
                                },
                                {
                                    "0": "53",
                                    "1": "Vozes do MPB",
                                    "2": "Album"
                                },
                                {
                                    "0": "54",
                                    "1": "Chronicle, Vol. 1",
                                    "2": "Album"
                                },
                                {
                                    "0": "55",
                                    "1": "Chronicle, Vol. 2",
                                    "2": "Album"
                                },
                                {
                                    "0": "56",
                                    "1": "Cássia Eller - Coleção Sem Limite [Disc 2]",
                                    "2": "Album"
                                },
                                {
                                    "0": "57",
                                    "1": "Cássia Eller - Sem Limite [Disc 1]",
                                    "2": "Album"
                                },
                                {
                                    "0": "58",
                                    "1": "Come Taste The Band",
                                    "2": "Album"
                                },
                                {
                                    "0": "59",
                                    "1": "Deep Purple In Rock",
                                    "2": "Album"
                                },
                                {
                                    "0": "60",
                                    "1": "Fireball",
                                    "2": "Album"
                                },
                                {
                                    "0": "61",
                                    "1": "Knocking at Your Back Door: The Best Of Deep Purple in the 80's",
                                    "2": "Album"
                                },
                                {
                                    "0": "62",
                                    "1": "Machine Head",
                                    "2": "Album"
                                },
                                {
                                    "0": "63",
                                    "1": "Purpendicular",
                                    "2": "Album"
                                },
                                {
                                    "0": "64",
                                    "1": "Slaves And Masters",
                                    "2": "Album"
                                },
                                {
                                    "0": "65",
                                    "1": "Stormbringer",
                                    "2": "Album"
                                },
                                {
                                    "0": "66",
                                    "1": "The Battle Rages On",
                                    "2": "Album"
                                },
                                {
                                    "0": "67",
                                    "1": "Vault: Def Leppard's Greatest Hits",
                                    "2": "Album"
                                },
                                {
                                    "0": "68",
                                    "1": "Outbreak",
                                    "2": "Album"
                                },
                                {
                                    "0": "69",
                                    "1": "Djavan Ao Vivo - Vol. 02",
                                    "2": "Album"
                                },
                                {
                                    "0": "70",
                                    "1": "Djavan Ao Vivo - Vol. 1",
                                    "2": "Album"
                                },
                                {
                                    "0": "71",
                                    "1": "Elis Regina-Minha História",
                                    "2": "Album"
                                },
                                {
                                    "0": "72",
                                    "1": "The Cream Of Clapton",
                                    "2": "Album"
                                },
                                {
                                    "0": "73",
                                    "1": "Unplugged",
                                    "2": "Album"
                                },
                                {
                                    "0": "74",
                                    "1": "Album Of The Year",
                                    "2": "Album"
                                },
                                {
                                    "0": "75",
                                    "1": "Angel Dust",
                                    "2": "Album"
                                },
                                {
                                    "0": "76",
                                    "1": "King For A Day Fool For A Lifetime",
                                    "2": "Album"
                                },
                                {
                                    "0": "77",
                                    "1": "The Real Thing",
                                    "2": "Album"
                                },
                                {
                                    "0": "78",
                                    "1": "Deixa Entrar",
                                    "2": "Album"
                                },
                                {
                                    "0": "79",
                                    "1": "In Your Honor [Disc 1]",
                                    "2": "Album"
                                },
                                {
                                    "0": "80",
                                    "1": "In Your Honor [Disc 2]",
                                    "2": "Album"
                                },
                                {
                                    "0": "81",
                                    "1": "One By One",
                                    "2": "Album"
                                },
                                {
                                    "0": "82",
                                    "1": "The Colour And The Shape",
                                    "2": "Album"
                                },
                                {
                                    "0": "83",
                                    "1": "My Way: The Best Of Frank Sinatra [Disc 1]",
                                    "2": "Album"
                                },
                                {
                                    "0": "84",
                                    "1": "Roda De Funk",
                                    "2": "Album"
                                },
                                {
                                    "0": "85",
                                    "1": "As Canções de Eu Tu Eles",
                                    "2": "Album"
                                },
                                {
                                    "0": "86",
                                    "1": "Quanta Gente Veio Ver (Live)",
                                    "2": "Album"
                                },
                                {
                                    "0": "87",
                                    "1": "Quanta Gente Veio ver--Bônus De Carnaval",
                                    "2": "Album"
                                },
                                {
                                    "0": "88",
                                    "1": "Faceless",
                                    "2": "Album"
                                },
                                {
                                    "0": "89",
                                    "1": "American Idiot",
                                    "2": "Album"
                                },
                                {
                                    "0": "90",
                                    "1": "Appetite for Destruction",
                                    "2": "Album"
                                },
                                {
                                    "0": "91",
                                    "1": "Use Your Illusion I",
                                    "2": "Album"
                                },
                                {
                                    "0": "92",
                                    "1": "Use Your Illusion II",
                                    "2": "Album"
                                },
                                {
                                    "0": "93",
                                    "1": "Blue Moods",
                                    "2": "Album"
                                },
                                {
                                    "0": "94",
                                    "1": "A Matter of Life and Death",
                                    "2": "Album"
                                },
                                {
                                    "0": "95",
                                    "1": "A Real Dead One",
                                    "2": "Album"
                                },
                                {
                                    "0": "96",
                                    "1": "A Real Live One",
                                    "2": "Album"
                                },
                                {
                                    "0": "97",
                                    "1": "Brave New World",
                                    "2": "Album"
                                },
                                {
                                    "0": "98",
                                    "1": "Dance Of Death",
                                    "2": "Album"
                                },
                                {
                                    "0": "99",
                                    "1": "Fear Of The Dark",
                                    "2": "Album"
                                },
                                {
                                    "0": "100",
                                    "1": "Iron Maiden",
                                    "2": "Album"
                                },
                                {
                                    "0": "101",
                                    "1": "Killers",
                                    "2": "Album"
                                },
                                {
                                    "0": "102",
                                    "1": "Live After Death",
                                    "2": "Album"
                                },
                                {
                                    "0": "103",
                                    "1": "Live At Donington 1992 (Disc 1)",
                                    "2": "Album"
                                },
                                {
                                    "0": "104",
                                    "1": "Live At Donington 1992 (Disc 2)",
                                    "2": "Album"
                                },
                                {
                                    "0": "105",
                                    "1": "No Prayer For The Dying",
                                    "2": "Album"
                                },
                                {
                                    "0": "106",
                                    "1": "Piece Of Mind",
                                    "2": "Album"
                                },
                                {
                                    "0": "107",
                                    "1": "Powerslave",
                                    "2": "Album"
                                },
                                {
                                    "0": "108",
                                    "1": "Rock In Rio [CD1]",
                                    "2": "Album"
                                },
                                {
                                    "0": "109",
                                    "1": "Rock In Rio [CD2]",
                                    "2": "Album"
                                },
                                {
                                    "0": "110",
                                    "1": "Seventh Son of a Seventh Son",
                                    "2": "Album"
                                },
                                {
                                    "0": "111",
                                    "1": "Somewhere in Time",
                                    "2": "Album"
                                },
                                {
                                    "0": "112",
                                    "1": "The Number of The Beast",
                                    "2": "Album"
                                },
                                {
                                    "0": "113",
                                    "1": "The X Factor",
                                    "2": "Album"
                                },
                                {
                                    "0": "114",
                                    "1": "Virtual XI",
                                    "2": "Album"
                                },
                                {
                                    "0": "115",
                                    "1": "Sex Machine",
                                    "2": "Album"
                                },
                                {
                                    "0": "116",
                                    "1": "Emergency On Planet Earth",
                                    "2": "Album"
                                },
                                {
                                    "0": "117",
                                    "1": "Synkronized",
                                    "2": "Album"
                                },
                                {
                                    "0": "118",
                                    "1": "The Return Of The Space Cowboy",
                                    "2": "Album"
                                },
                                {
                                    "0": "119",
                                    "1": "Get Born",
                                    "2": "Album"
                                },
                                {
                                    "0": "120",
                                    "1": "Are You Experienced?",
                                    "2": "Album"
                                },
                                {
                                    "0": "121",
                                    "1": "Surfing with the Alien (Remastered)",
                                    "2": "Album"
                                },
                                {
                                    "0": "122",
                                    "1": "Jorge Ben Jor 25 Anos",
                                    "2": "Album"
                                },
                                {
                                    "0": "123",
                                    "1": "Jota Quest-1995",
                                    "2": "Album"
                                },
                                {
                                    "0": "124",
                                    "1": "Cafezinho",
                                    "2": "Album"
                                },
                                {
                                    "0": "125",
                                    "1": "Living After Midnight",
                                    "2": "Album"
                                },
                                {
                                    "0": "126",
                                    "1": "Unplugged [Live]",
                                    "2": "Album"
                                },
                                {
                                    "0": "127",
                                    "1": "BBC Sessions [Disc 2] [Live]",
                                    "2": "Album"
                                },
                                {
                                    "0": "128",
                                    "1": "Coda",
                                    "2": "Album"
                                },
                                {
                                    "0": "129",
                                    "1": "Houses Of The Holy",
                                    "2": "Album"
                                },
                                {
                                    "0": "130",
                                    "1": "In Through The Out Door",
                                    "2": "Album"
                                },
                                {
                                    "0": "131",
                                    "1": "IV",
                                    "2": "Album"
                                },
                                {
                                    "0": "132",
                                    "1": "Led Zeppelin I",
                                    "2": "Album"
                                },
                                {
                                    "0": "133",
                                    "1": "Led Zeppelin II",
                                    "2": "Album"
                                },
                                {
                                    "0": "134",
                                    "1": "Led Zeppelin III",
                                    "2": "Album"
                                },
                                {
                                    "0": "135",
                                    "1": "Physical Graffiti [Disc 2]",
                                    "2": "Album"
                                },
                                {
                                    "0": "136",
                                    "1": "Presence",
                                    "2": "Album"
                                },
                                {
                                    "0": "137",
                                    "1": "The Song Remains The Same (Disc 1)",
                                    "2": "Album"
                                },
                                {
                                    "0": "138",
                                    "1": "The Song Remains The Same (Disc 2)",
                                    "2": "Album"
                                },
                                {
                                    "0": "139",
                                    "1": "A TempestadeTempestade Ou O Livro Dos Dias",
                                    "2": "Album"
                                },
                                {
                                    "0": "140",
                                    "1": "Mais Do Mesmo",
                                    "2": "Album"
                                },
                                {
                                    "0": "141",
                                    "1": "Greatest Hits",
                                    "2": "Album"
                                },
                                {
                                    "0": "142",
                                    "1": "Lulu Santos - RCA 100 Anos De Música - Álbum 01",
                                    "2": "Album"
                                },
                                {
                                    "0": "143",
                                    "1": "Lulu Santos - RCA 100 Anos De Música - Álbum 02",
                                    "2": "Album"
                                },
                                {
                                    "0": "144",
                                    "1": "Misplaced Childhood",
                                    "2": "Album"
                                },
                                {
                                    "0": "145",
                                    "1": "Barulhinho Bom",
                                    "2": "Album"
                                },
                                {
                                    "0": "146",
                                    "1": "Seek And Shall Find: More Of The Best (1963-1981)",
                                    "2": "Album"
                                },
                                {
                                    "0": "147",
                                    "1": "The Best Of Men At Work",
                                    "2": "Album"
                                },
                                {
                                    "0": "148",
                                    "1": "Black Album",
                                    "2": "Album"
                                },
                                {
                                    "0": "149",
                                    "1": "Garage Inc. (Disc 2)",
                                    "2": "Album"
                                },
                                {
                                    "0": "150",
                                    "1": "Kill 'Em All",
                                    "2": "Album"
                                },
                                {
                                    "0": "151",
                                    "1": "Load",
                                    "2": "Album"
                                },
                                {
                                    "0": "152",
                                    "1": "Master Of Puppets",
                                    "2": "Album"
                                },
                                {
                                    "0": "153",
                                    "1": "ReLoad",
                                    "2": "Album"
                                },
                                {
                                    "0": "154",
                                    "1": "Ride The Lightning",
                                    "2": "Album"
                                },
                                {
                                    "0": "155",
                                    "1": "St. Anger",
                                    "2": "Album"
                                },
                                {
                                    "0": "156",
                                    "1": "...And Justice For All",
                                    "2": "Album"
                                },
                                {
                                    "0": "157",
                                    "1": "Miles Ahead",
                                    "2": "Album"
                                },
                                {
                                    "0": "158",
                                    "1": "Milton Nascimento Ao Vivo",
                                    "2": "Album"
                                },
                                {
                                    "0": "159",
                                    "1": "Minas",
                                    "2": "Album"
                                },
                                {
                                    "0": "160",
                                    "1": "Ace Of Spades",
                                    "2": "Album"
                                },
                                {
                                    "0": "161",
                                    "1": "Demorou...",
                                    "2": "Album"
                                },
                                {
                                    "0": "162",
                                    "1": "Motley Crue Greatest Hits",
                                    "2": "Album"
                                },
                                {
                                    "0": "163",
                                    "1": "From The Muddy Banks Of The Wishkah [Live]",
                                    "2": "Album"
                                },
                                {
                                    "0": "164",
                                    "1": "Nevermind",
                                    "2": "Album"
                                },
                                {
                                    "0": "165",
                                    "1": "Compositores",
                                    "2": "Album"
                                },
                                {
                                    "0": "166",
                                    "1": "Olodum",
                                    "2": "Album"
                                },
                                {
                                    "0": "167",
                                    "1": "Acústico MTV",
                                    "2": "Album"
                                },
                                {
                                    "0": "168",
                                    "1": "Arquivo II",
                                    "2": "Album"
                                },
                                {
                                    "0": "169",
                                    "1": "Arquivo Os Paralamas Do Sucesso",
                                    "2": "Album"
                                },
                                {
                                    "0": "170",
                                    "1": "Bark at the Moon (Remastered)",
                                    "2": "Album"
                                },
                                {
                                    "0": "171",
                                    "1": "Blizzard of Ozz",
                                    "2": "Album"
                                },
                                {
                                    "0": "172",
                                    "1": "Diary of a Madman (Remastered)",
                                    "2": "Album"
                                },
                                {
                                    "0": "173",
                                    "1": "No More Tears (Remastered)",
                                    "2": "Album"
                                },
                                {
                                    "0": "174",
                                    "1": "Tribute",
                                    "2": "Album"
                                },
                                {
                                    "0": "175",
                                    "1": "Walking Into Clarksdale",
                                    "2": "Album"
                                },
                                {
                                    "0": "176",
                                    "1": "Original Soundtracks 1",
                                    "2": "Album"
                                },
                                {
                                    "0": "177",
                                    "1": "The Beast Live",
                                    "2": "Album"
                                },
                                {
                                    "0": "178",
                                    "1": "Live On Two Legs [Live]",
                                    "2": "Album"
                                },
                                {
                                    "0": "179",
                                    "1": "Pearl Jam",
                                    "2": "Album"
                                },
                                {
                                    "0": "180",
                                    "1": "Riot Act",
                                    "2": "Album"
                                },
                                {
                                    "0": "181",
                                    "1": "Ten",
                                    "2": "Album"
                                },
                                {
                                    "0": "182",
                                    "1": "Vs.",
                                    "2": "Album"
                                },
                                {
                                    "0": "183",
                                    "1": "Dark Side Of The Moon",
                                    "2": "Album"
                                },
                                {
                                    "0": "184",
                                    "1": "Os Cães Ladram Mas A Caravana Não Pára",
                                    "2": "Album"
                                },
                                {
                                    "0": "185",
                                    "1": "Greatest Hits I",
                                    "2": "Album"
                                },
                                {
                                    "0": "186",
                                    "1": "News Of The World",
                                    "2": "Album"
                                },
                                {
                                    "0": "187",
                                    "1": "Out Of Time",
                                    "2": "Album"
                                },
                                {
                                    "0": "188",
                                    "1": "Green",
                                    "2": "Album"
                                },
                                {
                                    "0": "189",
                                    "1": "New Adventures In Hi-Fi",
                                    "2": "Album"
                                },
                                {
                                    "0": "190",
                                    "1": "The Best Of R.E.M.: The IRS Years",
                                    "2": "Album"
                                },
                                {
                                    "0": "191",
                                    "1": "Cesta Básica",
                                    "2": "Album"
                                },
                                {
                                    "0": "192",
                                    "1": "Raul Seixas",
                                    "2": "Album"
                                },
                                {
                                    "0": "193",
                                    "1": "Blood Sugar Sex Magik",
                                    "2": "Album"
                                },
                                {
                                    "0": "194",
                                    "1": "By The Way",
                                    "2": "Album"
                                },
                                {
                                    "0": "195",
                                    "1": "Californication",
                                    "2": "Album"
                                },
                                {
                                    "0": "196",
                                    "1": "Retrospective I (1974-1980)",
                                    "2": "Album"
                                },
                                {
                                    "0": "197",
                                    "1": "Santana - As Years Go By",
                                    "2": "Album"
                                },
                                {
                                    "0": "198",
                                    "1": "Santana Live",
                                    "2": "Album"
                                },
                                {
                                    "0": "199",
                                    "1": "Maquinarama",
                                    "2": "Album"
                                },
                                {
                                    "0": "200",
                                    "1": "O Samba Poconé",
                                    "2": "Album"
                                },
                                {
                                    "0": "201",
                                    "1": "Judas 0: B-Sides and Rarities",
                                    "2": "Album"
                                },
                                {
                                    "0": "202",
                                    "1": "Rotten Apples: Greatest Hits",
                                    "2": "Album"
                                },
                                {
                                    "0": "203",
                                    "1": "A-Sides",
                                    "2": "Album"
                                },
                                {
                                    "0": "204",
                                    "1": "Morning Dance",
                                    "2": "Album"
                                },
                                {
                                    "0": "205",
                                    "1": "In Step",
                                    "2": "Album"
                                },
                                {
                                    "0": "206",
                                    "1": "Core",
                                    "2": "Album"
                                },
                                {
                                    "0": "207",
                                    "1": "Mezmerize",
                                    "2": "Album"
                                },
                                {
                                    "0": "208",
                                    "1": "[1997] Black Light Syndrome",
                                    "2": "Album"
                                },
                                {
                                    "0": "209",
                                    "1": "Live [Disc 1]",
                                    "2": "Album"
                                },
                                {
                                    "0": "210",
                                    "1": "Live [Disc 2]",
                                    "2": "Album"
                                },
                                {
                                    "0": "211",
                                    "1": "The Singles",
                                    "2": "Album"
                                },
                                {
                                    "0": "212",
                                    "1": "Beyond Good And Evil",
                                    "2": "Album"
                                },
                                {
                                    "0": "213",
                                    "1": "Pure Cult: The Best Of The Cult (For Rockers, Ravers, Lovers & Sinners) [UK]",
                                    "2": "Album"
                                },
                                {
                                    "0": "214",
                                    "1": "The Doors",
                                    "2": "Album"
                                },
                                {
                                    "0": "215",
                                    "1": "The Police Greatest Hits",
                                    "2": "Album"
                                },
                                {
                                    "0": "216",
                                    "1": "Hot Rocks, 1964-1971 (Disc 1)",
                                    "2": "Album"
                                },
                                {
                                    "0": "217",
                                    "1": "No Security",
                                    "2": "Album"
                                },
                                {
                                    "0": "218",
                                    "1": "Voodoo Lounge",
                                    "2": "Album"
                                },
                                {
                                    "0": "219",
                                    "1": "Tangents",
                                    "2": "Album"
                                },
                                {
                                    "0": "220",
                                    "1": "Transmission",
                                    "2": "Album"
                                },
                                {
                                    "0": "221",
                                    "1": "My Generation - The Very Best Of The Who",
                                    "2": "Album"
                                },
                                {
                                    "0": "222",
                                    "1": "Serie Sem Limite (Disc 1)",
                                    "2": "Album"
                                },
                                {
                                    "0": "223",
                                    "1": "Serie Sem Limite (Disc 2)",
                                    "2": "Album"
                                },
                                {
                                    "0": "224",
                                    "1": "Acústico",
                                    "2": "Album"
                                },
                                {
                                    "0": "225",
                                    "1": "Volume Dois",
                                    "2": "Album"
                                },
                                {
                                    "0": "226",
                                    "1": "Battlestar Galactica: The Story So Far",
                                    "2": "Album"
                                },
                                {
                                    "0": "227",
                                    "1": "Battlestar Galactica, Season 3",
                                    "2": "Album"
                                },
                                {
                                    "0": "228",
                                    "1": "Heroes, Season 1",
                                    "2": "Album"
                                },
                                {
                                    "0": "229",
                                    "1": "Lost, Season 3",
                                    "2": "Album"
                                },
                                {
                                    "0": "230",
                                    "1": "Lost, Season 1",
                                    "2": "Album"
                                },
                                {
                                    "0": "231",
                                    "1": "Lost, Season 2",
                                    "2": "Album"
                                },
                                {
                                    "0": "232",
                                    "1": "Achtung Baby",
                                    "2": "Album"
                                },
                                {
                                    "0": "233",
                                    "1": "All That You Can't Leave Behind",
                                    "2": "Album"
                                },
                                {
                                    "0": "234",
                                    "1": "B-Sides 1980-1990",
                                    "2": "Album"
                                },
                                {
                                    "0": "235",
                                    "1": "How To Dismantle An Atomic Bomb",
                                    "2": "Album"
                                },
                                {
                                    "0": "236",
                                    "1": "Pop",
                                    "2": "Album"
                                },
                                {
                                    "0": "237",
                                    "1": "Rattle And Hum",
                                    "2": "Album"
                                },
                                {
                                    "0": "238",
                                    "1": "The Best Of 1980-1990",
                                    "2": "Album"
                                },
                                {
                                    "0": "239",
                                    "1": "War",
                                    "2": "Album"
                                },
                                {
                                    "0": "240",
                                    "1": "Zooropa",
                                    "2": "Album"
                                },
                                {
                                    "0": "241",
                                    "1": "UB40 The Best Of - Volume Two [UK]",
                                    "2": "Album"
                                },
                                {
                                    "0": "242",
                                    "1": "Diver Down",
                                    "2": "Album"
                                },
                                {
                                    "0": "243",
                                    "1": "The Best Of Van Halen, Vol. I",
                                    "2": "Album"
                                },
                                {
                                    "0": "244",
                                    "1": "Van Halen",
                                    "2": "Album"
                                },
                                {
                                    "0": "245",
                                    "1": "Van Halen III",
                                    "2": "Album"
                                },
                                {
                                    "0": "246",
                                    "1": "Contraband",
                                    "2": "Album"
                                },
                                {
                                    "0": "247",
                                    "1": "Vinicius De Moraes",
                                    "2": "Album"
                                },
                                {
                                    "0": "248",
                                    "1": "Ao Vivo [IMPORT]",
                                    "2": "Album"
                                },
                                {
                                    "0": "249",
                                    "1": "The Office, Season 1",
                                    "2": "Album"
                                },
                                {
                                    "0": "250",
                                    "1": "The Office, Season 2",
                                    "2": "Album"
                                },
                                {
                                    "0": "251",
                                    "1": "The Office, Season 3",
                                    "2": "Album"
                                },
                                {
                                    "0": "252",
                                    "1": "Un-Led-Ed",
                                    "2": "Album"
                                },
                                {
                                    "0": "253",
                                    "1": "Battlestar Galactica (Classic), Season 1",
                                    "2": "Album"
                                },
                                {
                                    "0": "254",
                                    "1": "Aquaman",
                                    "2": "Album"
                                },
                                {
                                    "0": "255",
                                    "1": "Instant Karma: The Amnesty International Campaign to Save Darfur",
                                    "2": "Album"
                                },
                                {
                                    "0": "256",
                                    "1": "Speak of the Devil",
                                    "2": "Album"
                                },
                                {
                                    "0": "257",
                                    "1": "20th Century Masters - The Millennium Collection: The Best of Scorpions",
                                    "2": "Album"
                                },
                                {
                                    "0": "258",
                                    "1": "House of Pain",
                                    "2": "Album"
                                },
                                {
                                    "0": "259",
                                    "1": "Radio Brasil (O Som da Jovem Vanguarda) - Seleccao de Henrique Amaro",
                                    "2": "Album"
                                },
                                {
                                    "0": "260",
                                    "1": "Cake: B-Sides and Rarities",
                                    "2": "Album"
                                },
                                {
                                    "0": "261",
                                    "1": "LOST, Season 4",
                                    "2": "Album"
                                },
                                {
                                    "0": "262",
                                    "1": "Quiet Songs",
                                    "2": "Album"
                                },
                                {
                                    "0": "263",
                                    "1": "Muso Ko",
                                    "2": "Album"
                                },
                                {
                                    "0": "264",
                                    "1": "Realize",
                                    "2": "Album"
                                },
                                {
                                    "0": "265",
                                    "1": "Every Kind of Light",
                                    "2": "Album"
                                },
                                {
                                    "0": "266",
                                    "1": "Duos II",
                                    "2": "Album"
                                },
                                {
                                    "0": "267",
                                    "1": "Worlds",
                                    "2": "Album"
                                },
                                {
                                    "0": "268",
                                    "1": "The Best of Beethoven",
                                    "2": "Album"
                                },
                                {
                                    "0": "269",
                                    "1": "Temple of the Dog",
                                    "2": "Album"
                                },
                                {
                                    "0": "270",
                                    "1": "Carry On",
                                    "2": "Album"
                                },
                                {
                                    "0": "271",
                                    "1": "Revelations",
                                    "2": "Album"
                                },
                                {
                                    "0": "272",
                                    "1": "Adorate Deum: Gregorian Chant from the Proper of the Mass",
                                    "2": "Album"
                                },
                                {
                                    "0": "273",
                                    "1": "Allegri: Miserere",
                                    "2": "Album"
                                },
                                {
                                    "0": "274",
                                    "1": "Pachelbel: Canon & Gigue",
                                    "2": "Album"
                                },
                                {
                                    "0": "275",
                                    "1": "Vivaldi: The Four Seasons",
                                    "2": "Album"
                                },
                                {
                                    "0": "276",
                                    "1": "Bach: Violin Concertos",
                                    "2": "Album"
                                },
                                {
                                    "0": "277",
                                    "1": "Bach: Goldberg Variations",
                                    "2": "Album"
                                },
                                {
                                    "0": "278",
                                    "1": "Bach: The Cello Suites",
                                    "2": "Album"
                                },
                                {
                                    "0": "279",
                                    "1": "Handel: The Messiah (Highlights)",
                                    "2": "Album"
                                },
                                {
                                    "0": "280",
                                    "1": "The World of Classical Favourites",
                                    "2": "Album"
                                },
                                {
                                    "0": "281",
                                    "1": "Sir Neville Marriner: A Celebration",
                                    "2": "Album"
                                },
                                {
                                    "0": "282",
                                    "1": "Mozart: Wind Concertos",
                                    "2": "Album"
                                },
                                {
                                    "0": "283",
                                    "1": "Haydn: Symphonies 99 - 104",
                                    "2": "Album"
                                },
                                {
                                    "0": "284",
                                    "1": "Beethoven: Symhonies Nos. 5 & 6",
                                    "2": "Album"
                                },
                                {
                                    "0": "285",
                                    "1": "A Soprano Inspired",
                                    "2": "Album"
                                },
                                {
                                    "0": "286",
                                    "1": "Great Opera Choruses",
                                    "2": "Album"
                                },
                                {
                                    "0": "287",
                                    "1": "Wagner: Favourite Overtures",
                                    "2": "Album"
                                },
                                {
                                    "0": "288",
                                    "1": "Fauré: Requiem, Ravel: Pavane & Others",
                                    "2": "Album"
                                },
                                {
                                    "0": "289",
                                    "1": "Tchaikovsky: The Nutcracker",
                                    "2": "Album"
                                },
                                {
                                    "0": "290",
                                    "1": "The Last Night of the Proms",
                                    "2": "Album"
                                },
                                {
                                    "0": "291",
                                    "1": "Puccini: Madama Butterfly - Highlights",
                                    "2": "Album"
                                },
                                {
                                    "0": "292",
                                    "1": "Holst: The Planets, Op. 32 & Vaughan Williams: Fantasies",
                                    "2": "Album"
                                },
                                {
                                    "0": "293",
                                    "1": "Pavarotti's Opera Made Easy",
                                    "2": "Album"
                                },
                                {
                                    "0": "294",
                                    "1": "Great Performances - Barber's Adagio and Other Romantic Favorites for Strings",
                                    "2": "Album"
                                },
                                {
                                    "0": "295",
                                    "1": "Carmina Burana",
                                    "2": "Album"
                                },
                                {
                                    "0": "296",
                                    "1": "A Copland Celebration, Vol. I",
                                    "2": "Album"
                                },
                                {
                                    "0": "297",
                                    "1": "Bach: Toccata & Fugue in D Minor",
                                    "2": "Album"
                                },
                                {
                                    "0": "298",
                                    "1": "Prokofiev: Symphony No.1",
                                    "2": "Album"
                                },
                                {
                                    "0": "299",
                                    "1": "Scheherazade",
                                    "2": "Album"
                                },
                                {
                                    "0": "300",
                                    "1": "Bach: The Brandenburg Concertos",
                                    "2": "Album"
                                },
                                {
                                    "0": "301",
                                    "1": "Chopin: Piano Concertos Nos. 1 & 2",
                                    "2": "Album"
                                },
                                {
                                    "0": "302",
                                    "1": "Mascagni: Cavalleria Rusticana",
                                    "2": "Album"
                                },
                                {
                                    "0": "303",
                                    "1": "Sibelius: Finlandia",
                                    "2": "Album"
                                },
                                {
                                    "0": "304",
                                    "1": "Beethoven Piano Sonatas: Moonlight & Pastorale",
                                    "2": "Album"
                                },
                                {
                                    "0": "305",
                                    "1": "Great Recordings of the Century - Mahler: Das Lied von der Erde",
                                    "2": "Album"
                                },
                                {
                                    "0": "306",
                                    "1": "Elgar: Cello Concerto & Vaughan Williams: Fantasias",
                                    "2": "Album"
                                },
                                {
                                    "0": "307",
                                    "1": "Adams, John: The Chairman Dances",
                                    "2": "Album"
                                },
                                {
                                    "0": "308",
                                    "1": "Tchaikovsky: 1812 Festival Overture, Op.49, Capriccio Italien & Beethoven: Wellington's Victory",
                                    "2": "Album"
                                },
                                {
                                    "0": "309",
                                    "1": "Palestrina: Missa Papae Marcelli & Allegri: Miserere",
                                    "2": "Album"
                                },
                                {
                                    "0": "310",
                                    "1": "Prokofiev: Romeo & Juliet",
                                    "2": "Album"
                                },
                                {
                                    "0": "311",
                                    "1": "Strauss: Waltzes",
                                    "2": "Album"
                                },
                                {
                                    "0": "312",
                                    "1": "Berlioz: Symphonie Fantastique",
                                    "2": "Album"
                                },
                                {
                                    "0": "313",
                                    "1": "Bizet: Carmen Highlights",
                                    "2": "Album"
                                },
                                {
                                    "0": "314",
                                    "1": "English Renaissance",
                                    "2": "Album"
                                },
                                {
                                    "0": "315",
                                    "1": "Handel: Music for the Royal Fireworks (Original Version 1749)",
                                    "2": "Album"
                                },
                                {
                                    "0": "316",
                                    "1": "Grieg: Peer Gynt Suites & Sibelius: Pelléas et Mélisande",
                                    "2": "Album"
                                },
                                {
                                    "0": "317",
                                    "1": "Mozart Gala: Famous Arias",
                                    "2": "Album"
                                },
                                {
                                    "0": "318",
                                    "1": "SCRIABIN: Vers la flamme",
                                    "2": "Album"
                                },
                                {
                                    "0": "319",
                                    "1": "Armada: Music from the Courts of England and Spain",
                                    "2": "Album"
                                },
                                {
                                    "0": "320",
                                    "1": "Mozart: Symphonies Nos. 40 & 41",
                                    "2": "Album"
                                },
                                {
                                    "0": "321",
                                    "1": "Back to Black",
                                    "2": "Album"
                                },
                                {
                                    "0": "322",
                                    "1": "Frank",
                                    "2": "Album"
                                },
                                {
                                    "0": "323",
                                    "1": "Carried to Dust (Bonus Track Version)",
                                    "2": "Album"
                                },
                                {
                                    "0": "324",
                                    "1": "Beethoven: Symphony No. 6 'Pastoral' Etc.",
                                    "2": "Album"
                                },
                                {
                                    "0": "325",
                                    "1": "Bartok: Violin & Viola Concertos",
                                    "2": "Album"
                                },
                                {
                                    "0": "326",
                                    "1": "Mendelssohn: A Midsummer Night's Dream",
                                    "2": "Album"
                                },
                                {
                                    "0": "327",
                                    "1": "Bach: Orchestral Suites Nos. 1 - 4",
                                    "2": "Album"
                                },
                                {
                                    "0": "328",
                                    "1": "Charpentier: Divertissements, Airs & Concerts",
                                    "2": "Album"
                                },
                                {
                                    "0": "329",
                                    "1": "South American Getaway",
                                    "2": "Album"
                                },
                                {
                                    "0": "330",
                                    "1": "Górecki: Symphony No. 3",
                                    "2": "Album"
                                },
                                {
                                    "0": "331",
                                    "1": "Purcell: The Fairy Queen",
                                    "2": "Album"
                                },
                                {
                                    "0": "332",
                                    "1": "The Ultimate Relexation Album",
                                    "2": "Album"
                                },
                                {
                                    "0": "333",
                                    "1": "Purcell: Music for the Queen Mary",
                                    "2": "Album"
                                },
                                {
                                    "0": "334",
                                    "1": "Weill: The Seven Deadly Sins",
                                    "2": "Album"
                                },
                                {
                                    "0": "335",
                                    "1": "J.S. Bach: Chaconne, Suite in E Minor, Partita in E Major & Prelude, Fugue and Allegro",
                                    "2": "Album"
                                },
                                {
                                    "0": "336",
                                    "1": "Prokofiev: Symphony No.5 & Stravinksy: Le Sacre Du Printemps",
                                    "2": "Album"
                                },
                                {
                                    "0": "337",
                                    "1": "Szymanowski: Piano Works, Vol. 1",
                                    "2": "Album"
                                },
                                {
                                    "0": "338",
                                    "1": "Nielsen: The Six Symphonies",
                                    "2": "Album"
                                },
                                {
                                    "0": "339",
                                    "1": "Great Recordings of the Century: Paganini's 24 Caprices",
                                    "2": "Album"
                                },
                                {
                                    "0": "340",
                                    "1": "Liszt - 12 Études D'Execution Transcendante",
                                    "2": "Album"
                                },
                                {
                                    "0": "341",
                                    "1": "Great Recordings of the Century - Shubert: Schwanengesang, 4 Lieder",
                                    "2": "Album"
                                },
                                {
                                    "0": "342",
                                    "1": "Locatelli: Concertos for Violin, Strings and Continuo, Vol. 3",
                                    "2": "Album"
                                },
                                {
                                    "0": "343",
                                    "1": "Respighi:Pines of Rome",
                                    "2": "Album"
                                },
                                {
                                    "0": "344",
                                    "1": "Schubert: The Late String Quartets & String Quintet (3 CD's)",
                                    "2": "Album"
                                },
                                {
                                    "0": "345",
                                    "1": "Monteverdi: L'Orfeo",
                                    "2": "Album"
                                },
                                {
                                    "0": "346",
                                    "1": "Mozart: Chamber Music",
                                    "2": "Album"
                                },
                                {
                                    "0": "347",
                                    "1": "Koyaanisqatsi (Soundtrack from the Motion Picture)",
                                    "2": "Album"
                                },
                                {
                                    "0": "1",
                                    "1": "AC/DC",
                                    "2": "Artist"
                                },
                                {
                                    "0": "2",
                                    "1": "Accept",
                                    "2": "Artist"
                                },
                                {
                                    "0": "3",
                                    "1": "Aerosmith",
                                    "2": "Artist"
                                },
                                {
                                    "0": "4",
                                    "1": "Alanis Morissette",
                                    "2": "Artist"
                                },
                                {
                                    "0": "5",
                                    "1": "Alice In Chains",
                                    "2": "Artist"
                                },
                                {
                                    "0": "6",
                                    "1": "Antônio Carlos Jobim",
                                    "2": "Artist"
                                },
                                {
                                    "0": "7",
                                    "1": "Apocalyptica",
                                    "2": "Artist"
                                },
                                {
                                    "0": "8",
                                    "1": "Audioslave",
                                    "2": "Artist"
                                },
                                {
                                    "0": "9",
                                    "1": "BackBeat",
                                    "2": "Artist"
                                },
                                {
                                    "0": "10",
                                    "1": "Billy Cobham",
                                    "2": "Artist"
                                },
                                {
                                    "0": "11",
                                    "1": "Black Label Society",
                                    "2": "Artist"
                                },
                                {
                                    "0": "12",
                                    "1": "Black Sabbath",
                                    "2": "Artist"
                                },
                                {
                                    "0": "13",
                                    "1": "Body Count",
                                    "2": "Artist"
                                },
                                {
                                    "0": "14",
                                    "1": "Bruce Dickinson",
                                    "2": "Artist"
                                },
                                {
                                    "0": "15",
                                    "1": "Buddy Guy",
                                    "2": "Artist"
                                },
                                {
                                    "0": "16",
                                    "1": "Caetano Veloso",
                                    "2": "Artist"
                                },
                                {
                                    "0": "17",
                                    "1": "Chico Buarque",
                                    "2": "Artist"
                                },
                                {
                                    "0": "18",
                                    "1": "Chico Science & Nação Zumbi",
                                    "2": "Artist"
                                },
                                {
                                    "0": "19",
                                    "1": "Cidade Negra",
                                    "2": "Artist"
                                },
                                {
                                    "0": "20",
                                    "1": "Cláudio Zoli",
                                    "2": "Artist"
                                },
                                {
                                    "0": "21",
                                    "1": "Various Artists",
                                    "2": "Artist"
                                },
                                {
                                    "0": "22",
                                    "1": "Led Zeppelin",
                                    "2": "Artist"
                                },
                                {
                                    "0": "23",
                                    "1": "Frank Zappa & Captain Beefheart",
                                    "2": "Artist"
                                },
                                {
                                    "0": "24",
                                    "1": "Marcos Valle",
                                    "2": "Artist"
                                },
                                {
                                    "0": "25",
                                    "1": "Milton Nascimento & Bebeto",
                                    "2": "Artist"
                                },
                                {
                                    "0": "26",
                                    "1": "Azymuth",
                                    "2": "Artist"
                                },
                                {
                                    "0": "27",
                                    "1": "Gilberto Gil",
                                    "2": "Artist"
                                },
                                {
                                    "0": "28",
                                    "1": "João Gilberto",
                                    "2": "Artist"
                                },
                                {
                                    "0": "29",
                                    "1": "Bebel Gilberto",
                                    "2": "Artist"
                                },
                                {
                                    "0": "30",
                                    "1": "Jorge Vercilo",
                                    "2": "Artist"
                                },
                                {
                                    "0": "31",
                                    "1": "Baby Consuelo",
                                    "2": "Artist"
                                },
                                {
                                    "0": "32",
                                    "1": "Ney Matogrosso",
                                    "2": "Artist"
                                },
                                {
                                    "0": "33",
                                    "1": "Luiz Melodia",
                                    "2": "Artist"
                                },
                                {
                                    "0": "34",
                                    "1": "Nando Reis",
                                    "2": "Artist"
                                },
                                {
                                    "0": "35",
                                    "1": "Pedro Luís & A Parede",
                                    "2": "Artist"
                                },
                                {
                                    "0": "36",
                                    "1": "O Rappa",
                                    "2": "Artist"
                                },
                                {
                                    "0": "37",
                                    "1": "Ed Motta",
                                    "2": "Artist"
                                },
                                {
                                    "0": "38",
                                    "1": "Banda Black Rio",
                                    "2": "Artist"
                                },
                                {
                                    "0": "39",
                                    "1": "Fernanda Porto",
                                    "2": "Artist"
                                },
                                {
                                    "0": "40",
                                    "1": "Os Cariocas",
                                    "2": "Artist"
                                },
                                {
                                    "0": "41",
                                    "1": "Elis Regina",
                                    "2": "Artist"
                                },
                                {
                                    "0": "42",
                                    "1": "Milton Nascimento",
                                    "2": "Artist"
                                },
                                {
                                    "0": "43",
                                    "1": "A Cor Do Som",
                                    "2": "Artist"
                                },
                                {
                                    "0": "44",
                                    "1": "Kid Abelha",
                                    "2": "Artist"
                                },
                                {
                                    "0": "45",
                                    "1": "Sandra De Sá",
                                    "2": "Artist"
                                },
                                {
                                    "0": "46",
                                    "1": "Jorge Ben",
                                    "2": "Artist"
                                },
                                {
                                    "0": "47",
                                    "1": "Hermeto Pascoal",
                                    "2": "Artist"
                                },
                                {
                                    "0": "48",
                                    "1": "Barão Vermelho",
                                    "2": "Artist"
                                },
                                {
                                    "0": "49",
                                    "1": "Edson, DJ Marky & DJ Patife Featuring Fernanda Porto",
                                    "2": "Artist"
                                },
                                {
                                    "0": "50",
                                    "1": "Metallica",
                                    "2": "Artist"
                                },
                                {
                                    "0": "51",
                                    "1": "Queen",
                                    "2": "Artist"
                                },
                                {
                                    "0": "52",
                                    "1": "Kiss",
                                    "2": "Artist"
                                },
                                {
                                    "0": "53",
                                    "1": "Spyro Gyra",
                                    "2": "Artist"
                                },
                                {
                                    "0": "54",
                                    "1": "Green Day",
                                    "2": "Artist"
                                },
                                {
                                    "0": "55",
                                    "1": "David Coverdale",
                                    "2": "Artist"
                                },
                                {
                                    "0": "56",
                                    "1": "Gonzaguinha",
                                    "2": "Artist"
                                },
                                {
                                    "0": "57",
                                    "1": "Os Mutantes",
                                    "2": "Artist"
                                },
                                {
                                    "0": "58",
                                    "1": "Deep Purple",
                                    "2": "Artist"
                                },
                                {
                                    "0": "59",
                                    "1": "Santana",
                                    "2": "Artist"
                                },
                                {
                                    "0": "60",
                                    "1": "Santana Feat. Dave Matthews",
                                    "2": "Artist"
                                },
                                {
                                    "0": "61",
                                    "1": "Santana Feat. Everlast",
                                    "2": "Artist"
                                },
                                {
                                    "0": "62",
                                    "1": "Santana Feat. Rob Thomas",
                                    "2": "Artist"
                                },
                                {
                                    "0": "63",
                                    "1": "Santana Feat. Lauryn Hill & Cee-Lo",
                                    "2": "Artist"
                                },
                                {
                                    "0": "64",
                                    "1": "Santana Feat. The Project G&B",
                                    "2": "Artist"
                                },
                                {
                                    "0": "65",
                                    "1": "Santana Feat. Maná",
                                    "2": "Artist"
                                },
                                {
                                    "0": "66",
                                    "1": "Santana Feat. Eagle-Eye Cherry",
                                    "2": "Artist"
                                },
                                {
                                    "0": "67",
                                    "1": "Santana Feat. Eric Clapton",
                                    "2": "Artist"
                                },
                                {
                                    "0": "68",
                                    "1": "Miles Davis",
                                    "2": "Artist"
                                },
                                {
                                    "0": "69",
                                    "1": "Gene Krupa",
                                    "2": "Artist"
                                },
                                {
                                    "0": "70",
                                    "1": "Toquinho & Vinícius",
                                    "2": "Artist"
                                },
                                {
                                    "0": "71",
                                    "1": "Vinícius De Moraes & Baden Powell",
                                    "2": "Artist"
                                },
                                {
                                    "0": "72",
                                    "1": "Vinícius De Moraes",
                                    "2": "Artist"
                                },
                                {
                                    "0": "73",
                                    "1": "Vinícius E Qurteto Em Cy",
                                    "2": "Artist"
                                },
                                {
                                    "0": "74",
                                    "1": "Vinícius E Odette Lara",
                                    "2": "Artist"
                                },
                                {
                                    "0": "75",
                                    "1": "Vinicius, Toquinho & Quarteto Em Cy",
                                    "2": "Artist"
                                },
                                {
                                    "0": "76",
                                    "1": "Creedence Clearwater Revival",
                                    "2": "Artist"
                                },
                                {
                                    "0": "77",
                                    "1": "Cássia Eller",
                                    "2": "Artist"
                                },
                                {
                                    "0": "78",
                                    "1": "Def Leppard",
                                    "2": "Artist"
                                },
                                {
                                    "0": "79",
                                    "1": "Dennis Chambers",
                                    "2": "Artist"
                                },
                                {
                                    "0": "80",
                                    "1": "Djavan",
                                    "2": "Artist"
                                },
                                {
                                    "0": "81",
                                    "1": "Eric Clapton",
                                    "2": "Artist"
                                },
                                {
                                    "0": "82",
                                    "1": "Faith No More",
                                    "2": "Artist"
                                },
                                {
                                    "0": "83",
                                    "1": "Falamansa",
                                    "2": "Artist"
                                },
                                {
                                    "0": "84",
                                    "1": "Foo Fighters",
                                    "2": "Artist"
                                },
                                {
                                    "0": "85",
                                    "1": "Frank Sinatra",
                                    "2": "Artist"
                                },
                                {
                                    "0": "86",
                                    "1": "Funk Como Le Gusta",
                                    "2": "Artist"
                                },
                                {
                                    "0": "87",
                                    "1": "Godsmack",
                                    "2": "Artist"
                                },
                                {
                                    "0": "88",
                                    "1": "Guns N' Roses",
                                    "2": "Artist"
                                },
                                {
                                    "0": "89",
                                    "1": "Incognito",
                                    "2": "Artist"
                                },
                                {
                                    "0": "90",
                                    "1": "Iron Maiden",
                                    "2": "Artist"
                                },
                                {
                                    "0": "91",
                                    "1": "James Brown",
                                    "2": "Artist"
                                },
                                {
                                    "0": "92",
                                    "1": "Jamiroquai",
                                    "2": "Artist"
                                },
                                {
                                    "0": "93",
                                    "1": "JET",
                                    "2": "Artist"
                                },
                                {
                                    "0": "94",
                                    "1": "Jimi Hendrix",
                                    "2": "Artist"
                                },
                                {
                                    "0": "95",
                                    "1": "Joe Satriani",
                                    "2": "Artist"
                                },
                                {
                                    "0": "96",
                                    "1": "Jota Quest",
                                    "2": "Artist"
                                },
                                {
                                    "0": "97",
                                    "1": "João Suplicy",
                                    "2": "Artist"
                                },
                                {
                                    "0": "98",
                                    "1": "Judas Priest",
                                    "2": "Artist"
                                },
                                {
                                    "0": "99",
                                    "1": "Legião Urbana",
                                    "2": "Artist"
                                },
                                {
                                    "0": "100",
                                    "1": "Lenny Kravitz",
                                    "2": "Artist"
                                },
                                {
                                    "0": "101",
                                    "1": "Lulu Santos",
                                    "2": "Artist"
                                },
                                {
                                    "0": "102",
                                    "1": "Marillion",
                                    "2": "Artist"
                                },
                                {
                                    "0": "103",
                                    "1": "Marisa Monte",
                                    "2": "Artist"
                                },
                                {
                                    "0": "104",
                                    "1": "Marvin Gaye",
                                    "2": "Artist"
                                },
                                {
                                    "0": "105",
                                    "1": "Men At Work",
                                    "2": "Artist"
                                },
                                {
                                    "0": "106",
                                    "1": "Motörhead",
                                    "2": "Artist"
                                },
                                {
                                    "0": "107",
                                    "1": "Motörhead & Girlschool",
                                    "2": "Artist"
                                },
                                {
                                    "0": "108",
                                    "1": "Mônica Marianno",
                                    "2": "Artist"
                                },
                                {
                                    "0": "109",
                                    "1": "Mötley Crüe",
                                    "2": "Artist"
                                },
                                {
                                    "0": "110",
                                    "1": "Nirvana",
                                    "2": "Artist"
                                },
                                {
                                    "0": "111",
                                    "1": "O Terço",
                                    "2": "Artist"
                                },
                                {
                                    "0": "112",
                                    "1": "Olodum",
                                    "2": "Artist"
                                },
                                {
                                    "0": "113",
                                    "1": "Os Paralamas Do Sucesso",
                                    "2": "Artist"
                                },
                                {
                                    "0": "114",
                                    "1": "Ozzy Osbourne",
                                    "2": "Artist"
                                },
                                {
                                    "0": "115",
                                    "1": "Page & Plant",
                                    "2": "Artist"
                                },
                                {
                                    "0": "116",
                                    "1": "Passengers",
                                    "2": "Artist"
                                },
                                {
                                    "0": "117",
                                    "1": "Paul D'Ianno",
                                    "2": "Artist"
                                },
                                {
                                    "0": "118",
                                    "1": "Pearl Jam",
                                    "2": "Artist"
                                },
                                {
                                    "0": "119",
                                    "1": "Peter Tosh",
                                    "2": "Artist"
                                },
                                {
                                    "0": "120",
                                    "1": "Pink Floyd",
                                    "2": "Artist"
                                },
                                {
                                    "0": "121",
                                    "1": "Planet Hemp",
                                    "2": "Artist"
                                },
                                {
                                    "0": "122",
                                    "1": "R.E.M. Feat. Kate Pearson",
                                    "2": "Artist"
                                },
                                {
                                    "0": "123",
                                    "1": "R.E.M. Feat. KRS-One",
                                    "2": "Artist"
                                },
                                {
                                    "0": "124",
                                    "1": "R.E.M.",
                                    "2": "Artist"
                                },
                                {
                                    "0": "125",
                                    "1": "Raimundos",
                                    "2": "Artist"
                                },
                                {
                                    "0": "126",
                                    "1": "Raul Seixas",
                                    "2": "Artist"
                                },
                                {
                                    "0": "127",
                                    "1": "Red Hot Chili Peppers",
                                    "2": "Artist"
                                },
                                {
                                    "0": "128",
                                    "1": "Rush",
                                    "2": "Artist"
                                },
                                {
                                    "0": "129",
                                    "1": "Simply Red",
                                    "2": "Artist"
                                },
                                {
                                    "0": "130",
                                    "1": "Skank",
                                    "2": "Artist"
                                },
                                {
                                    "0": "131",
                                    "1": "Smashing Pumpkins",
                                    "2": "Artist"
                                },
                                {
                                    "0": "132",
                                    "1": "Soundgarden",
                                    "2": "Artist"
                                },
                                {
                                    "0": "133",
                                    "1": "Stevie Ray Vaughan & Double Trouble",
                                    "2": "Artist"
                                },
                                {
                                    "0": "134",
                                    "1": "Stone Temple Pilots",
                                    "2": "Artist"
                                },
                                {
                                    "0": "135",
                                    "1": "System Of A Down",
                                    "2": "Artist"
                                },
                                {
                                    "0": "136",
                                    "1": "Terry Bozzio, Tony Levin & Steve Stevens",
                                    "2": "Artist"
                                },
                                {
                                    "0": "137",
                                    "1": "The Black Crowes",
                                    "2": "Artist"
                                },
                                {
                                    "0": "138",
                                    "1": "The Clash",
                                    "2": "Artist"
                                },
                                {
                                    "0": "139",
                                    "1": "The Cult",
                                    "2": "Artist"
                                },
                                {
                                    "0": "140",
                                    "1": "The Doors",
                                    "2": "Artist"
                                },
                                {
                                    "0": "141",
                                    "1": "The Police",
                                    "2": "Artist"
                                },
                                {
                                    "0": "142",
                                    "1": "The Rolling Stones",
                                    "2": "Artist"
                                },
                                {
                                    "0": "143",
                                    "1": "The Tea Party",
                                    "2": "Artist"
                                },
                                {
                                    "0": "144",
                                    "1": "The Who",
                                    "2": "Artist"
                                },
                                {
                                    "0": "145",
                                    "1": "Tim Maia",
                                    "2": "Artist"
                                },
                                {
                                    "0": "146",
                                    "1": "Titãs",
                                    "2": "Artist"
                                },
                                {
                                    "0": "147",
                                    "1": "Battlestar Galactica",
                                    "2": "Artist"
                                },
                                {
                                    "0": "148",
                                    "1": "Heroes",
                                    "2": "Artist"
                                },
                                {
                                    "0": "149",
                                    "1": "Lost",
                                    "2": "Artist"
                                },
                                {
                                    "0": "150",
                                    "1": "U2",
                                    "2": "Artist"
                                },
                                {
                                    "0": "151",
                                    "1": "UB40",
                                    "2": "Artist"
                                },
                                {
                                    "0": "152",
                                    "1": "Van Halen",
                                    "2": "Artist"
                                },
                                {
                                    "0": "153",
                                    "1": "Velvet Revolver",
                                    "2": "Artist"
                                },
                                {
                                    "0": "154",
                                    "1": "Whitesnake",
                                    "2": "Artist"
                                },
                                {
                                    "0": "155",
                                    "1": "Zeca Pagodinho",
                                    "2": "Artist"
                                },
                                {
                                    "0": "156",
                                    "1": "The Office",
                                    "2": "Artist"
                                },
                                {
                                    "0": "157",
                                    "1": "Dread Zeppelin",
                                    "2": "Artist"
                                },
                                {
                                    "0": "158",
                                    "1": "Battlestar Galactica (Classic)",
                                    "2": "Artist"
                                },
                                {
                                    "0": "159",
                                    "1": "Aquaman",
                                    "2": "Artist"
                                },
                                {
                                    "0": "160",
                                    "1": "Christina Aguilera featuring BigElf",
                                    "2": "Artist"
                                },
                                {
                                    "0": "161",
                                    "1": "Aerosmith & Sierra Leone's Refugee Allstars",
                                    "2": "Artist"
                                },
                                {
                                    "0": "162",
                                    "1": "Los Lonely Boys",
                                    "2": "Artist"
                                },
                                {
                                    "0": "163",
                                    "1": "Corinne Bailey Rae",
                                    "2": "Artist"
                                },
                                {
                                    "0": "164",
                                    "1": "Dhani Harrison & Jakob Dylan",
                                    "2": "Artist"
                                },
                                {
                                    "0": "165",
                                    "1": "Jackson Browne",
                                    "2": "Artist"
                                },
                                {
                                    "0": "166",
                                    "1": "Avril Lavigne",
                                    "2": "Artist"
                                },
                                {
                                    "0": "167",
                                    "1": "Big & Rich",
                                    "2": "Artist"
                                },
                                {
                                    "0": "168",
                                    "1": "Youssou N'Dour",
                                    "2": "Artist"
                                },
                                {
                                    "0": "169",
                                    "1": "Black Eyed Peas",
                                    "2": "Artist"
                                },
                                {
                                    "0": "170",
                                    "1": "Jack Johnson",
                                    "2": "Artist"
                                },
                                {
                                    "0": "171",
                                    "1": "Ben Harper",
                                    "2": "Artist"
                                },
                                {
                                    "0": "172",
                                    "1": "Snow Patrol",
                                    "2": "Artist"
                                },
                                {
                                    "0": "173",
                                    "1": "Matisyahu",
                                    "2": "Artist"
                                },
                                {
                                    "0": "174",
                                    "1": "The Postal Service",
                                    "2": "Artist"
                                },
                                {
                                    "0": "175",
                                    "1": "Jaguares",
                                    "2": "Artist"
                                },
                                {
                                    "0": "176",
                                    "1": "The Flaming Lips",
                                    "2": "Artist"
                                },
                                {
                                    "0": "177",
                                    "1": "Jack's Mannequin & Mick Fleetwood",
                                    "2": "Artist"
                                },
                                {
                                    "0": "178",
                                    "1": "Regina Spektor",
                                    "2": "Artist"
                                },
                                {
                                    "0": "179",
                                    "1": "Scorpions",
                                    "2": "Artist"
                                },
                                {
                                    "0": "180",
                                    "1": "House Of Pain",
                                    "2": "Artist"
                                },
                                {
                                    "0": "181",
                                    "1": "Xis",
                                    "2": "Artist"
                                },
                                {
                                    "0": "182",
                                    "1": "Nega Gizza",
                                    "2": "Artist"
                                },
                                {
                                    "0": "183",
                                    "1": "Gustavo & Andres Veiga & Salazar",
                                    "2": "Artist"
                                },
                                {
                                    "0": "184",
                                    "1": "Rodox",
                                    "2": "Artist"
                                },
                                {
                                    "0": "185",
                                    "1": "Charlie Brown Jr.",
                                    "2": "Artist"
                                },
                                {
                                    "0": "186",
                                    "1": "Pedro Luís E A Parede",
                                    "2": "Artist"
                                },
                                {
                                    "0": "187",
                                    "1": "Los Hermanos",
                                    "2": "Artist"
                                },
                                {
                                    "0": "188",
                                    "1": "Mundo Livre S/A",
                                    "2": "Artist"
                                },
                                {
                                    "0": "189",
                                    "1": "Otto",
                                    "2": "Artist"
                                },
                                {
                                    "0": "190",
                                    "1": "Instituto",
                                    "2": "Artist"
                                },
                                {
                                    "0": "191",
                                    "1": "Nação Zumbi",
                                    "2": "Artist"
                                },
                                {
                                    "0": "192",
                                    "1": "DJ Dolores & Orchestra Santa Massa",
                                    "2": "Artist"
                                },
                                {
                                    "0": "193",
                                    "1": "Seu Jorge",
                                    "2": "Artist"
                                },
                                {
                                    "0": "194",
                                    "1": "Sabotage E Instituto",
                                    "2": "Artist"
                                },
                                {
                                    "0": "195",
                                    "1": "Stereo Maracana",
                                    "2": "Artist"
                                },
                                {
                                    "0": "196",
                                    "1": "Cake",
                                    "2": "Artist"
                                },
                                {
                                    "0": "197",
                                    "1": "Aisha Duo",
                                    "2": "Artist"
                                },
                                {
                                    "0": "198",
                                    "1": "Habib Koité and Bamada",
                                    "2": "Artist"
                                },
                                {
                                    "0": "199",
                                    "1": "Karsh Kale",
                                    "2": "Artist"
                                },
                                {
                                    "0": "200",
                                    "1": "The Posies",
                                    "2": "Artist"
                                },
                                {
                                    "0": "201",
                                    "1": "Luciana Souza/Romero Lubambo",
                                    "2": "Artist"
                                },
                                {
                                    "0": "202",
                                    "1": "Aaron Goldberg",
                                    "2": "Artist"
                                },
                                {
                                    "0": "203",
                                    "1": "Nicolaus Esterhazy Sinfonia",
                                    "2": "Artist"
                                },
                                {
                                    "0": "204",
                                    "1": "Temple of the Dog",
                                    "2": "Artist"
                                },
                                {
                                    "0": "205",
                                    "1": "Chris Cornell",
                                    "2": "Artist"
                                },
                                {
                                    "0": "206",
                                    "1": "Alberto Turco & Nova Schola Gregoriana",
                                    "2": "Artist"
                                },
                                {
                                    "0": "207",
                                    "1": "Richard Marlow & The Choir of Trinity College, Cambridge",
                                    "2": "Artist"
                                },
                                {
                                    "0": "208",
                                    "1": "English Concert & Trevor Pinnock",
                                    "2": "Artist"
                                },
                                {
                                    "0": "209",
                                    "1": "Anne-Sophie Mutter, Herbert Von Karajan & Wiener Philharmoniker",
                                    "2": "Artist"
                                },
                                {
                                    "0": "210",
                                    "1": "Hilary Hahn, Jeffrey Kahane, Los Angeles Chamber Orchestra & Margaret Batjer",
                                    "2": "Artist"
                                },
                                {
                                    "0": "211",
                                    "1": "Wilhelm Kempff",
                                    "2": "Artist"
                                },
                                {
                                    "0": "212",
                                    "1": "Yo-Yo Ma",
                                    "2": "Artist"
                                },
                                {
                                    "0": "213",
                                    "1": "Scholars Baroque Ensemble",
                                    "2": "Artist"
                                },
                                {
                                    "0": "214",
                                    "1": "Academy of St. Martin in the Fields & Sir Neville Marriner",
                                    "2": "Artist"
                                },
                                {
                                    "0": "215",
                                    "1": "Academy of St. Martin in the Fields Chamber Ensemble & Sir Neville Marriner",
                                    "2": "Artist"
                                },
                                {
                                    "0": "216",
                                    "1": "Berliner Philharmoniker, Claudio Abbado & Sabine Meyer",
                                    "2": "Artist"
                                },
                                {
                                    "0": "217",
                                    "1": "Royal Philharmonic Orchestra & Sir Thomas Beecham",
                                    "2": "Artist"
                                },
                                {
                                    "0": "218",
                                    "1": "Orchestre Révolutionnaire et Romantique & John Eliot Gardiner",
                                    "2": "Artist"
                                },
                                {
                                    "0": "219",
                                    "1": "Britten Sinfonia, Ivor Bolton & Lesley Garrett",
                                    "2": "Artist"
                                },
                                {
                                    "0": "220",
                                    "1": "Chicago Symphony Chorus, Chicago Symphony Orchestra & Sir Georg Solti",
                                    "2": "Artist"
                                },
                                {
                                    "0": "221",
                                    "1": "Sir Georg Solti & Wiener Philharmoniker",
                                    "2": "Artist"
                                },
                                {
                                    "0": "222",
                                    "1": "Academy of St. Martin in the Fields, John Birch, Sir Neville Marriner & Sylvia McNair",
                                    "2": "Artist"
                                },
                                {
                                    "0": "223",
                                    "1": "London Symphony Orchestra & Sir Charles Mackerras",
                                    "2": "Artist"
                                },
                                {
                                    "0": "224",
                                    "1": "Barry Wordsworth & BBC Concert Orchestra",
                                    "2": "Artist"
                                },
                                {
                                    "0": "225",
                                    "1": "Herbert Von Karajan, Mirella Freni & Wiener Philharmoniker",
                                    "2": "Artist"
                                },
                                {
                                    "0": "226",
                                    "1": "Eugene Ormandy",
                                    "2": "Artist"
                                },
                                {
                                    "0": "227",
                                    "1": "Luciano Pavarotti",
                                    "2": "Artist"
                                },
                                {
                                    "0": "228",
                                    "1": "Leonard Bernstein & New York Philharmonic",
                                    "2": "Artist"
                                },
                                {
                                    "0": "229",
                                    "1": "Boston Symphony Orchestra & Seiji Ozawa",
                                    "2": "Artist"
                                },
                                {
                                    "0": "230",
                                    "1": "Aaron Copland & London Symphony Orchestra",
                                    "2": "Artist"
                                },
                                {
                                    "0": "231",
                                    "1": "Ton Koopman",
                                    "2": "Artist"
                                },
                                {
                                    "0": "232",
                                    "1": "Sergei Prokofiev & Yuri Temirkanov",
                                    "2": "Artist"
                                },
                                {
                                    "0": "233",
                                    "1": "Chicago Symphony Orchestra & Fritz Reiner",
                                    "2": "Artist"
                                },
                                {
                                    "0": "234",
                                    "1": "Orchestra of The Age of Enlightenment",
                                    "2": "Artist"
                                },
                                {
                                    "0": "235",
                                    "1": "Emanuel Ax, Eugene Ormandy & Philadelphia Orchestra",
                                    "2": "Artist"
                                },
                                {
                                    "0": "236",
                                    "1": "James Levine",
                                    "2": "Artist"
                                },
                                {
                                    "0": "237",
                                    "1": "Berliner Philharmoniker & Hans Rosbaud",
                                    "2": "Artist"
                                },
                                {
                                    "0": "238",
                                    "1": "Maurizio Pollini",
                                    "2": "Artist"
                                },
                                {
                                    "0": "239",
                                    "1": "Academy of St. Martin in the Fields, Sir Neville Marriner & William Bennett",
                                    "2": "Artist"
                                },
                                {
                                    "0": "240",
                                    "1": "Gustav Mahler",
                                    "2": "Artist"
                                },
                                {
                                    "0": "241",
                                    "1": "Felix Schmidt, London Symphony Orchestra & Rafael Frühbeck de Burgos",
                                    "2": "Artist"
                                },
                                {
                                    "0": "242",
                                    "1": "Edo de Waart & San Francisco Symphony",
                                    "2": "Artist"
                                },
                                {
                                    "0": "243",
                                    "1": "Antal Doráti & London Symphony Orchestra",
                                    "2": "Artist"
                                },
                                {
                                    "0": "244",
                                    "1": "Choir Of Westminster Abbey & Simon Preston",
                                    "2": "Artist"
                                },
                                {
                                    "0": "245",
                                    "1": "Michael Tilson Thomas & San Francisco Symphony",
                                    "2": "Artist"
                                },
                                {
                                    "0": "246",
                                    "1": "Chor der Wiener Staatsoper, Herbert Von Karajan & Wiener Philharmoniker",
                                    "2": "Artist"
                                },
                                {
                                    "0": "247",
                                    "1": "The King's Singers",
                                    "2": "Artist"
                                },
                                {
                                    "0": "248",
                                    "1": "Berliner Philharmoniker & Herbert Von Karajan",
                                    "2": "Artist"
                                },
                                {
                                    "0": "249",
                                    "1": "Sir Georg Solti, Sumi Jo & Wiener Philharmoniker",
                                    "2": "Artist"
                                },
                                {
                                    "0": "250",
                                    "1": "Christopher O'Riley",
                                    "2": "Artist"
                                },
                                {
                                    "0": "251",
                                    "1": "Fretwork",
                                    "2": "Artist"
                                },
                                {
                                    "0": "252",
                                    "1": "Amy Winehouse",
                                    "2": "Artist"
                                },
                                {
                                    "0": "253",
                                    "1": "Calexico",
                                    "2": "Artist"
                                },
                                {
                                    "0": "254",
                                    "1": "Otto Klemperer & Philharmonia Orchestra",
                                    "2": "Artist"
                                },
                                {
                                    "0": "255",
                                    "1": "Yehudi Menuhin",
                                    "2": "Artist"
                                },
                                {
                                    "0": "256",
                                    "1": "Philharmonia Orchestra & Sir Neville Marriner",
                                    "2": "Artist"
                                },
                                {
                                    "0": "257",
                                    "1": "Academy of St. Martin in the Fields, Sir Neville Marriner & Thurston Dart",
                                    "2": "Artist"
                                },
                                {
                                    "0": "258",
                                    "1": "Les Arts Florissants & William Christie",
                                    "2": "Artist"
                                },
                                {
                                    "0": "259",
                                    "1": "The 12 Cellists of The Berlin Philharmonic",
                                    "2": "Artist"
                                },
                                {
                                    "0": "260",
                                    "1": "Adrian Leaper & Doreen de Feis",
                                    "2": "Artist"
                                },
                                {
                                    "0": "261",
                                    "1": "Roger Norrington, London Classical Players",
                                    "2": "Artist"
                                },
                                {
                                    "0": "262",
                                    "1": "Charles Dutoit & L'Orchestre Symphonique de Montréal",
                                    "2": "Artist"
                                },
                                {
                                    "0": "263",
                                    "1": "Equale Brass Ensemble, John Eliot Gardiner & Munich Monteverdi Orchestra and Choir",
                                    "2": "Artist"
                                },
                                {
                                    "0": "264",
                                    "1": "Kent Nagano and Orchestre de l'Opéra de Lyon",
                                    "2": "Artist"
                                },
                                {
                                    "0": "265",
                                    "1": "Julian Bream",
                                    "2": "Artist"
                                },
                                {
                                    "0": "266",
                                    "1": "Martin Roscoe",
                                    "2": "Artist"
                                },
                                {
                                    "0": "267",
                                    "1": "Göteborgs Symfoniker & Neeme Järvi",
                                    "2": "Artist"
                                },
                                {
                                    "0": "268",
                                    "1": "Itzhak Perlman",
                                    "2": "Artist"
                                },
                                {
                                    "0": "269",
                                    "1": "Michele Campanella",
                                    "2": "Artist"
                                },
                                {
                                    "0": "270",
                                    "1": "Gerald Moore",
                                    "2": "Artist"
                                },
                                {
                                    "0": "271",
                                    "1": "Mela Tenenbaum, Pro Musica Prague & Richard Kapp",
                                    "2": "Artist"
                                },
                                {
                                    "0": "272",
                                    "1": "Emerson String Quartet",
                                    "2": "Artist"
                                },
                                {
                                    "0": "273",
                                    "1": "C. Monteverdi, Nigel Rogers - Chiaroscuro; London Baroque; London Cornett & Sackbu",
                                    "2": "Artist"
                                },
                                {
                                    "0": "274",
                                    "1": "Nash Ensemble",
                                    "2": "Artist"
                                },
                                {
                                    "0": "275",
                                    "1": "Philip Glass Ensemble",
                                    "2": "Artist"
                                }
                            ]
                        },
                        "text/html": [
                            "<table>",
                            "<tr><th>ID</th><th>description</th><th>Source</th></tr>",
                            "<tr><td>1</td><td>For Those About To Rock We Salute You</td><td>Album</td></tr>",
                            "<tr><td>2</td><td>Balls to the Wall</td><td>Album</td></tr>",
                            "<tr><td>3</td><td>Restless and Wild</td><td>Album</td></tr>",
                            "<tr><td>4</td><td>Let There Be Rock</td><td>Album</td></tr>",
                            "<tr><td>5</td><td>Big Ones</td><td>Album</td></tr>",
                            "<tr><td>6</td><td>Jagged Little Pill</td><td>Album</td></tr>",
                            "<tr><td>7</td><td>Facelift</td><td>Album</td></tr>",
                            "<tr><td>8</td><td>Warner 25 Anos</td><td>Album</td></tr>",
                            "<tr><td>9</td><td>Plays Metallica By Four Cellos</td><td>Album</td></tr>",
                            "<tr><td>10</td><td>Audioslave</td><td>Album</td></tr>",
                            "<tr><td>11</td><td>Out Of Exile</td><td>Album</td></tr>",
                            "<tr><td>12</td><td>BackBeat Soundtrack</td><td>Album</td></tr>",
                            "<tr><td>13</td><td>The Best Of Billy Cobham</td><td>Album</td></tr>",
                            "<tr><td>14</td><td>Alcohol Fueled Brewtality Live! [Disc 1]</td><td>Album</td></tr>",
                            "<tr><td>15</td><td>Alcohol Fueled Brewtality Live! [Disc 2]</td><td>Album</td></tr>",
                            "<tr><td>16</td><td>Black Sabbath</td><td>Album</td></tr>",
                            "<tr><td>17</td><td>Black Sabbath Vol. 4 (Remaster)</td><td>Album</td></tr>",
                            "<tr><td>18</td><td>Body Count</td><td>Album</td></tr>",
                            "<tr><td>19</td><td>Chemical Wedding</td><td>Album</td></tr>",
                            "<tr><td>20</td><td>The Best Of Buddy Guy - The Millenium Collection</td><td>Album</td></tr>",
                            "<tr><td>21</td><td>Prenda Minha</td><td>Album</td></tr>",
                            "<tr><td>22</td><td>Sozinho Remix Ao Vivo</td><td>Album</td></tr>",
                            "<tr><td>23</td><td>Minha Historia</td><td>Album</td></tr>",
                            "<tr><td>24</td><td>Afrociberdelia</td><td>Album</td></tr>",
                            "<tr><td>25</td><td>Da Lama Ao Caos</td><td>Album</td></tr>",
                            "<tr><td>26</td><td>Acústico MTV [Live]</td><td>Album</td></tr>",
                            "<tr><td>27</td><td>Cidade Negra - Hits</td><td>Album</td></tr>",
                            "<tr><td>28</td><td>Na Pista</td><td>Album</td></tr>",
                            "<tr><td>29</td><td>Axé Bahia 2001</td><td>Album</td></tr>",
                            "<tr><td>30</td><td>BBC Sessions [Disc 1] [Live]</td><td>Album</td></tr>",
                            "<tr><td>31</td><td>Bongo Fury</td><td>Album</td></tr>",
                            "<tr><td>32</td><td>Carnaval 2001</td><td>Album</td></tr>",
                            "<tr><td>33</td><td>Chill: Brazil (Disc 1)</td><td>Album</td></tr>",
                            "<tr><td>34</td><td>Chill: Brazil (Disc 2)</td><td>Album</td></tr>",
                            "<tr><td>35</td><td>Garage Inc. (Disc 1)</td><td>Album</td></tr>",
                            "<tr><td>36</td><td>Greatest Hits II</td><td>Album</td></tr>",
                            "<tr><td>37</td><td>Greatest Kiss</td><td>Album</td></tr>",
                            "<tr><td>38</td><td>Heart of the Night</td><td>Album</td></tr>",
                            "<tr><td>39</td><td>International Superhits</td><td>Album</td></tr>",
                            "<tr><td>40</td><td>Into The Light</td><td>Album</td></tr>",
                            "<tr><td>41</td><td>Meus Momentos</td><td>Album</td></tr>",
                            "<tr><td>42</td><td>Minha História</td><td>Album</td></tr>",
                            "<tr><td>43</td><td>MK III The Final Concerts [Disc 1]</td><td>Album</td></tr>",
                            "<tr><td>44</td><td>Physical Graffiti [Disc 1]</td><td>Album</td></tr>",
                            "<tr><td>45</td><td>Sambas De Enredo 2001</td><td>Album</td></tr>",
                            "<tr><td>46</td><td>Supernatural</td><td>Album</td></tr>",
                            "<tr><td>47</td><td>The Best of Ed Motta</td><td>Album</td></tr>",
                            "<tr><td>48</td><td>The Essential Miles Davis [Disc 1]</td><td>Album</td></tr>",
                            "<tr><td>49</td><td>The Essential Miles Davis [Disc 2]</td><td>Album</td></tr>",
                            "<tr><td>50</td><td>The Final Concerts (Disc 2)</td><td>Album</td></tr>",
                            "<tr><td>51</td><td>Up An' Atom</td><td>Album</td></tr>",
                            "<tr><td>52</td><td>Vinícius De Moraes - Sem Limite</td><td>Album</td></tr>",
                            "<tr><td>53</td><td>Vozes do MPB</td><td>Album</td></tr>",
                            "<tr><td>54</td><td>Chronicle, Vol. 1</td><td>Album</td></tr>",
                            "<tr><td>55</td><td>Chronicle, Vol. 2</td><td>Album</td></tr>",
                            "<tr><td>56</td><td>Cássia Eller - Coleção Sem Limite [Disc 2]</td><td>Album</td></tr>",
                            "<tr><td>57</td><td>Cássia Eller - Sem Limite [Disc 1]</td><td>Album</td></tr>",
                            "<tr><td>58</td><td>Come Taste The Band</td><td>Album</td></tr>",
                            "<tr><td>59</td><td>Deep Purple In Rock</td><td>Album</td></tr>",
                            "<tr><td>60</td><td>Fireball</td><td>Album</td></tr>",
                            "<tr><td>61</td><td>Knocking at Your Back Door: The Best Of Deep Purple in the 80's</td><td>Album</td></tr>",
                            "<tr><td>62</td><td>Machine Head</td><td>Album</td></tr>",
                            "<tr><td>63</td><td>Purpendicular</td><td>Album</td></tr>",
                            "<tr><td>64</td><td>Slaves And Masters</td><td>Album</td></tr>",
                            "<tr><td>65</td><td>Stormbringer</td><td>Album</td></tr>",
                            "<tr><td>66</td><td>The Battle Rages On</td><td>Album</td></tr>",
                            "<tr><td>67</td><td>Vault: Def Leppard's Greatest Hits</td><td>Album</td></tr>",
                            "<tr><td>68</td><td>Outbreak</td><td>Album</td></tr>",
                            "<tr><td>69</td><td>Djavan Ao Vivo - Vol. 02</td><td>Album</td></tr>",
                            "<tr><td>70</td><td>Djavan Ao Vivo - Vol. 1</td><td>Album</td></tr>",
                            "<tr><td>71</td><td>Elis Regina-Minha História</td><td>Album</td></tr>",
                            "<tr><td>72</td><td>The Cream Of Clapton</td><td>Album</td></tr>",
                            "<tr><td>73</td><td>Unplugged</td><td>Album</td></tr>",
                            "<tr><td>74</td><td>Album Of The Year</td><td>Album</td></tr>",
                            "<tr><td>75</td><td>Angel Dust</td><td>Album</td></tr>",
                            "<tr><td>76</td><td>King For A Day Fool For A Lifetime</td><td>Album</td></tr>",
                            "<tr><td>77</td><td>The Real Thing</td><td>Album</td></tr>",
                            "<tr><td>78</td><td>Deixa Entrar</td><td>Album</td></tr>",
                            "<tr><td>79</td><td>In Your Honor [Disc 1]</td><td>Album</td></tr>",
                            "<tr><td>80</td><td>In Your Honor [Disc 2]</td><td>Album</td></tr>",
                            "<tr><td>81</td><td>One By One</td><td>Album</td></tr>",
                            "<tr><td>82</td><td>The Colour And The Shape</td><td>Album</td></tr>",
                            "<tr><td>83</td><td>My Way: The Best Of Frank Sinatra [Disc 1]</td><td>Album</td></tr>",
                            "<tr><td>84</td><td>Roda De Funk</td><td>Album</td></tr>",
                            "<tr><td>85</td><td>As Canções de Eu Tu Eles</td><td>Album</td></tr>",
                            "<tr><td>86</td><td>Quanta Gente Veio Ver (Live)</td><td>Album</td></tr>",
                            "<tr><td>87</td><td>Quanta Gente Veio ver--Bônus De Carnaval</td><td>Album</td></tr>",
                            "<tr><td>88</td><td>Faceless</td><td>Album</td></tr>",
                            "<tr><td>89</td><td>American Idiot</td><td>Album</td></tr>",
                            "<tr><td>90</td><td>Appetite for Destruction</td><td>Album</td></tr>",
                            "<tr><td>91</td><td>Use Your Illusion I</td><td>Album</td></tr>",
                            "<tr><td>92</td><td>Use Your Illusion II</td><td>Album</td></tr>",
                            "<tr><td>93</td><td>Blue Moods</td><td>Album</td></tr>",
                            "<tr><td>94</td><td>A Matter of Life and Death</td><td>Album</td></tr>",
                            "<tr><td>95</td><td>A Real Dead One</td><td>Album</td></tr>",
                            "<tr><td>96</td><td>A Real Live One</td><td>Album</td></tr>",
                            "<tr><td>97</td><td>Brave New World</td><td>Album</td></tr>",
                            "<tr><td>98</td><td>Dance Of Death</td><td>Album</td></tr>",
                            "<tr><td>99</td><td>Fear Of The Dark</td><td>Album</td></tr>",
                            "<tr><td>100</td><td>Iron Maiden</td><td>Album</td></tr>",
                            "<tr><td>101</td><td>Killers</td><td>Album</td></tr>",
                            "<tr><td>102</td><td>Live After Death</td><td>Album</td></tr>",
                            "<tr><td>103</td><td>Live At Donington 1992 (Disc 1)</td><td>Album</td></tr>",
                            "<tr><td>104</td><td>Live At Donington 1992 (Disc 2)</td><td>Album</td></tr>",
                            "<tr><td>105</td><td>No Prayer For The Dying</td><td>Album</td></tr>",
                            "<tr><td>106</td><td>Piece Of Mind</td><td>Album</td></tr>",
                            "<tr><td>107</td><td>Powerslave</td><td>Album</td></tr>",
                            "<tr><td>108</td><td>Rock In Rio [CD1]</td><td>Album</td></tr>",
                            "<tr><td>109</td><td>Rock In Rio [CD2]</td><td>Album</td></tr>",
                            "<tr><td>110</td><td>Seventh Son of a Seventh Son</td><td>Album</td></tr>",
                            "<tr><td>111</td><td>Somewhere in Time</td><td>Album</td></tr>",
                            "<tr><td>112</td><td>The Number of The Beast</td><td>Album</td></tr>",
                            "<tr><td>113</td><td>The X Factor</td><td>Album</td></tr>",
                            "<tr><td>114</td><td>Virtual XI</td><td>Album</td></tr>",
                            "<tr><td>115</td><td>Sex Machine</td><td>Album</td></tr>",
                            "<tr><td>116</td><td>Emergency On Planet Earth</td><td>Album</td></tr>",
                            "<tr><td>117</td><td>Synkronized</td><td>Album</td></tr>",
                            "<tr><td>118</td><td>The Return Of The Space Cowboy</td><td>Album</td></tr>",
                            "<tr><td>119</td><td>Get Born</td><td>Album</td></tr>",
                            "<tr><td>120</td><td>Are You Experienced?</td><td>Album</td></tr>",
                            "<tr><td>121</td><td>Surfing with the Alien (Remastered)</td><td>Album</td></tr>",
                            "<tr><td>122</td><td>Jorge Ben Jor 25 Anos</td><td>Album</td></tr>",
                            "<tr><td>123</td><td>Jota Quest-1995</td><td>Album</td></tr>",
                            "<tr><td>124</td><td>Cafezinho</td><td>Album</td></tr>",
                            "<tr><td>125</td><td>Living After Midnight</td><td>Album</td></tr>",
                            "<tr><td>126</td><td>Unplugged [Live]</td><td>Album</td></tr>",
                            "<tr><td>127</td><td>BBC Sessions [Disc 2] [Live]</td><td>Album</td></tr>",
                            "<tr><td>128</td><td>Coda</td><td>Album</td></tr>",
                            "<tr><td>129</td><td>Houses Of The Holy</td><td>Album</td></tr>",
                            "<tr><td>130</td><td>In Through The Out Door</td><td>Album</td></tr>",
                            "<tr><td>131</td><td>IV</td><td>Album</td></tr>",
                            "<tr><td>132</td><td>Led Zeppelin I</td><td>Album</td></tr>",
                            "<tr><td>133</td><td>Led Zeppelin II</td><td>Album</td></tr>",
                            "<tr><td>134</td><td>Led Zeppelin III</td><td>Album</td></tr>",
                            "<tr><td>135</td><td>Physical Graffiti [Disc 2]</td><td>Album</td></tr>",
                            "<tr><td>136</td><td>Presence</td><td>Album</td></tr>",
                            "<tr><td>137</td><td>The Song Remains The Same (Disc 1)</td><td>Album</td></tr>",
                            "<tr><td>138</td><td>The Song Remains The Same (Disc 2)</td><td>Album</td></tr>",
                            "<tr><td>139</td><td>A TempestadeTempestade Ou O Livro Dos Dias</td><td>Album</td></tr>",
                            "<tr><td>140</td><td>Mais Do Mesmo</td><td>Album</td></tr>",
                            "<tr><td>141</td><td>Greatest Hits</td><td>Album</td></tr>",
                            "<tr><td>142</td><td>Lulu Santos - RCA 100 Anos De Música - Álbum 01</td><td>Album</td></tr>",
                            "<tr><td>143</td><td>Lulu Santos - RCA 100 Anos De Música - Álbum 02</td><td>Album</td></tr>",
                            "<tr><td>144</td><td>Misplaced Childhood</td><td>Album</td></tr>",
                            "<tr><td>145</td><td>Barulhinho Bom</td><td>Album</td></tr>",
                            "<tr><td>146</td><td>Seek And Shall Find: More Of The Best (1963-1981)</td><td>Album</td></tr>",
                            "<tr><td>147</td><td>The Best Of Men At Work</td><td>Album</td></tr>",
                            "<tr><td>148</td><td>Black Album</td><td>Album</td></tr>",
                            "<tr><td>149</td><td>Garage Inc. (Disc 2)</td><td>Album</td></tr>",
                            "<tr><td>150</td><td>Kill 'Em All</td><td>Album</td></tr>",
                            "<tr><td>151</td><td>Load</td><td>Album</td></tr>",
                            "<tr><td>152</td><td>Master Of Puppets</td><td>Album</td></tr>",
                            "<tr><td>153</td><td>ReLoad</td><td>Album</td></tr>",
                            "<tr><td>154</td><td>Ride The Lightning</td><td>Album</td></tr>",
                            "<tr><td>155</td><td>St. Anger</td><td>Album</td></tr>",
                            "<tr><td>156</td><td>...And Justice For All</td><td>Album</td></tr>",
                            "<tr><td>157</td><td>Miles Ahead</td><td>Album</td></tr>",
                            "<tr><td>158</td><td>Milton Nascimento Ao Vivo</td><td>Album</td></tr>",
                            "<tr><td>159</td><td>Minas</td><td>Album</td></tr>",
                            "<tr><td>160</td><td>Ace Of Spades</td><td>Album</td></tr>",
                            "<tr><td>161</td><td>Demorou...</td><td>Album</td></tr>",
                            "<tr><td>162</td><td>Motley Crue Greatest Hits</td><td>Album</td></tr>",
                            "<tr><td>163</td><td>From The Muddy Banks Of The Wishkah [Live]</td><td>Album</td></tr>",
                            "<tr><td>164</td><td>Nevermind</td><td>Album</td></tr>",
                            "<tr><td>165</td><td>Compositores</td><td>Album</td></tr>",
                            "<tr><td>166</td><td>Olodum</td><td>Album</td></tr>",
                            "<tr><td>167</td><td>Acústico MTV</td><td>Album</td></tr>",
                            "<tr><td>168</td><td>Arquivo II</td><td>Album</td></tr>",
                            "<tr><td>169</td><td>Arquivo Os Paralamas Do Sucesso</td><td>Album</td></tr>",
                            "<tr><td>170</td><td>Bark at the Moon (Remastered)</td><td>Album</td></tr>",
                            "<tr><td>171</td><td>Blizzard of Ozz</td><td>Album</td></tr>",
                            "<tr><td>172</td><td>Diary of a Madman (Remastered)</td><td>Album</td></tr>",
                            "<tr><td>173</td><td>No More Tears (Remastered)</td><td>Album</td></tr>",
                            "<tr><td>174</td><td>Tribute</td><td>Album</td></tr>",
                            "<tr><td>175</td><td>Walking Into Clarksdale</td><td>Album</td></tr>",
                            "<tr><td>176</td><td>Original Soundtracks 1</td><td>Album</td></tr>",
                            "<tr><td>177</td><td>The Beast Live</td><td>Album</td></tr>",
                            "<tr><td>178</td><td>Live On Two Legs [Live]</td><td>Album</td></tr>",
                            "<tr><td>179</td><td>Pearl Jam</td><td>Album</td></tr>",
                            "<tr><td>180</td><td>Riot Act</td><td>Album</td></tr>",
                            "<tr><td>181</td><td>Ten</td><td>Album</td></tr>",
                            "<tr><td>182</td><td>Vs.</td><td>Album</td></tr>",
                            "<tr><td>183</td><td>Dark Side Of The Moon</td><td>Album</td></tr>",
                            "<tr><td>184</td><td>Os Cães Ladram Mas A Caravana Não Pára</td><td>Album</td></tr>",
                            "<tr><td>185</td><td>Greatest Hits I</td><td>Album</td></tr>",
                            "<tr><td>186</td><td>News Of The World</td><td>Album</td></tr>",
                            "<tr><td>187</td><td>Out Of Time</td><td>Album</td></tr>",
                            "<tr><td>188</td><td>Green</td><td>Album</td></tr>",
                            "<tr><td>189</td><td>New Adventures In Hi-Fi</td><td>Album</td></tr>",
                            "<tr><td>190</td><td>The Best Of R.E.M.: The IRS Years</td><td>Album</td></tr>",
                            "<tr><td>191</td><td>Cesta Básica</td><td>Album</td></tr>",
                            "<tr><td>192</td><td>Raul Seixas</td><td>Album</td></tr>",
                            "<tr><td>193</td><td>Blood Sugar Sex Magik</td><td>Album</td></tr>",
                            "<tr><td>194</td><td>By The Way</td><td>Album</td></tr>",
                            "<tr><td>195</td><td>Californication</td><td>Album</td></tr>",
                            "<tr><td>196</td><td>Retrospective I (1974-1980)</td><td>Album</td></tr>",
                            "<tr><td>197</td><td>Santana - As Years Go By</td><td>Album</td></tr>",
                            "<tr><td>198</td><td>Santana Live</td><td>Album</td></tr>",
                            "<tr><td>199</td><td>Maquinarama</td><td>Album</td></tr>",
                            "<tr><td>200</td><td>O Samba Poconé</td><td>Album</td></tr>",
                            "<tr><td>201</td><td>Judas 0: B-Sides and Rarities</td><td>Album</td></tr>",
                            "<tr><td>202</td><td>Rotten Apples: Greatest Hits</td><td>Album</td></tr>",
                            "<tr><td>203</td><td>A-Sides</td><td>Album</td></tr>",
                            "<tr><td>204</td><td>Morning Dance</td><td>Album</td></tr>",
                            "<tr><td>205</td><td>In Step</td><td>Album</td></tr>",
                            "<tr><td>206</td><td>Core</td><td>Album</td></tr>",
                            "<tr><td>207</td><td>Mezmerize</td><td>Album</td></tr>",
                            "<tr><td>208</td><td>[1997] Black Light Syndrome</td><td>Album</td></tr>",
                            "<tr><td>209</td><td>Live [Disc 1]</td><td>Album</td></tr>",
                            "<tr><td>210</td><td>Live [Disc 2]</td><td>Album</td></tr>",
                            "<tr><td>211</td><td>The Singles</td><td>Album</td></tr>",
                            "<tr><td>212</td><td>Beyond Good And Evil</td><td>Album</td></tr>",
                            "<tr><td>213</td><td>Pure Cult: The Best Of The Cult (For Rockers, Ravers, Lovers &amp; Sinners) [UK]</td><td>Album</td></tr>",
                            "<tr><td>214</td><td>The Doors</td><td>Album</td></tr>",
                            "<tr><td>215</td><td>The Police Greatest Hits</td><td>Album</td></tr>",
                            "<tr><td>216</td><td>Hot Rocks, 1964-1971 (Disc 1)</td><td>Album</td></tr>",
                            "<tr><td>217</td><td>No Security</td><td>Album</td></tr>",
                            "<tr><td>218</td><td>Voodoo Lounge</td><td>Album</td></tr>",
                            "<tr><td>219</td><td>Tangents</td><td>Album</td></tr>",
                            "<tr><td>220</td><td>Transmission</td><td>Album</td></tr>",
                            "<tr><td>221</td><td>My Generation - The Very Best Of The Who</td><td>Album</td></tr>",
                            "<tr><td>222</td><td>Serie Sem Limite (Disc 1)</td><td>Album</td></tr>",
                            "<tr><td>223</td><td>Serie Sem Limite (Disc 2)</td><td>Album</td></tr>",
                            "<tr><td>224</td><td>Acústico</td><td>Album</td></tr>",
                            "<tr><td>225</td><td>Volume Dois</td><td>Album</td></tr>",
                            "<tr><td>226</td><td>Battlestar Galactica: The Story So Far</td><td>Album</td></tr>",
                            "<tr><td>227</td><td>Battlestar Galactica, Season 3</td><td>Album</td></tr>",
                            "<tr><td>228</td><td>Heroes, Season 1</td><td>Album</td></tr>",
                            "<tr><td>229</td><td>Lost, Season 3</td><td>Album</td></tr>",
                            "<tr><td>230</td><td>Lost, Season 1</td><td>Album</td></tr>",
                            "<tr><td>231</td><td>Lost, Season 2</td><td>Album</td></tr>",
                            "<tr><td>232</td><td>Achtung Baby</td><td>Album</td></tr>",
                            "<tr><td>233</td><td>All That You Can't Leave Behind</td><td>Album</td></tr>",
                            "<tr><td>234</td><td>B-Sides 1980-1990</td><td>Album</td></tr>",
                            "<tr><td>235</td><td>How To Dismantle An Atomic Bomb</td><td>Album</td></tr>",
                            "<tr><td>236</td><td>Pop</td><td>Album</td></tr>",
                            "<tr><td>237</td><td>Rattle And Hum</td><td>Album</td></tr>",
                            "<tr><td>238</td><td>The Best Of 1980-1990</td><td>Album</td></tr>",
                            "<tr><td>239</td><td>War</td><td>Album</td></tr>",
                            "<tr><td>240</td><td>Zooropa</td><td>Album</td></tr>",
                            "<tr><td>241</td><td>UB40 The Best Of - Volume Two [UK]</td><td>Album</td></tr>",
                            "<tr><td>242</td><td>Diver Down</td><td>Album</td></tr>",
                            "<tr><td>243</td><td>The Best Of Van Halen, Vol. I</td><td>Album</td></tr>",
                            "<tr><td>244</td><td>Van Halen</td><td>Album</td></tr>",
                            "<tr><td>245</td><td>Van Halen III</td><td>Album</td></tr>",
                            "<tr><td>246</td><td>Contraband</td><td>Album</td></tr>",
                            "<tr><td>247</td><td>Vinicius De Moraes</td><td>Album</td></tr>",
                            "<tr><td>248</td><td>Ao Vivo [IMPORT]</td><td>Album</td></tr>",
                            "<tr><td>249</td><td>The Office, Season 1</td><td>Album</td></tr>",
                            "<tr><td>250</td><td>The Office, Season 2</td><td>Album</td></tr>",
                            "<tr><td>251</td><td>The Office, Season 3</td><td>Album</td></tr>",
                            "<tr><td>252</td><td>Un-Led-Ed</td><td>Album</td></tr>",
                            "<tr><td>253</td><td>Battlestar Galactica (Classic), Season 1</td><td>Album</td></tr>",
                            "<tr><td>254</td><td>Aquaman</td><td>Album</td></tr>",
                            "<tr><td>255</td><td>Instant Karma: The Amnesty International Campaign to Save Darfur</td><td>Album</td></tr>",
                            "<tr><td>256</td><td>Speak of the Devil</td><td>Album</td></tr>",
                            "<tr><td>257</td><td>20th Century Masters - The Millennium Collection: The Best of Scorpions</td><td>Album</td></tr>",
                            "<tr><td>258</td><td>House of Pain</td><td>Album</td></tr>",
                            "<tr><td>259</td><td>Radio Brasil (O Som da Jovem Vanguarda) - Seleccao de Henrique Amaro</td><td>Album</td></tr>",
                            "<tr><td>260</td><td>Cake: B-Sides and Rarities</td><td>Album</td></tr>",
                            "<tr><td>261</td><td>LOST, Season 4</td><td>Album</td></tr>",
                            "<tr><td>262</td><td>Quiet Songs</td><td>Album</td></tr>",
                            "<tr><td>263</td><td>Muso Ko</td><td>Album</td></tr>",
                            "<tr><td>264</td><td>Realize</td><td>Album</td></tr>",
                            "<tr><td>265</td><td>Every Kind of Light</td><td>Album</td></tr>",
                            "<tr><td>266</td><td>Duos II</td><td>Album</td></tr>",
                            "<tr><td>267</td><td>Worlds</td><td>Album</td></tr>",
                            "<tr><td>268</td><td>The Best of Beethoven</td><td>Album</td></tr>",
                            "<tr><td>269</td><td>Temple of the Dog</td><td>Album</td></tr>",
                            "<tr><td>270</td><td>Carry On</td><td>Album</td></tr>",
                            "<tr><td>271</td><td>Revelations</td><td>Album</td></tr>",
                            "<tr><td>272</td><td>Adorate Deum: Gregorian Chant from the Proper of the Mass</td><td>Album</td></tr>",
                            "<tr><td>273</td><td>Allegri: Miserere</td><td>Album</td></tr>",
                            "<tr><td>274</td><td>Pachelbel: Canon &amp; Gigue</td><td>Album</td></tr>",
                            "<tr><td>275</td><td>Vivaldi: The Four Seasons</td><td>Album</td></tr>",
                            "<tr><td>276</td><td>Bach: Violin Concertos</td><td>Album</td></tr>",
                            "<tr><td>277</td><td>Bach: Goldberg Variations</td><td>Album</td></tr>",
                            "<tr><td>278</td><td>Bach: The Cello Suites</td><td>Album</td></tr>",
                            "<tr><td>279</td><td>Handel: The Messiah (Highlights)</td><td>Album</td></tr>",
                            "<tr><td>280</td><td>The World of Classical Favourites</td><td>Album</td></tr>",
                            "<tr><td>281</td><td>Sir Neville Marriner: A Celebration</td><td>Album</td></tr>",
                            "<tr><td>282</td><td>Mozart: Wind Concertos</td><td>Album</td></tr>",
                            "<tr><td>283</td><td>Haydn: Symphonies 99 - 104</td><td>Album</td></tr>",
                            "<tr><td>284</td><td>Beethoven: Symhonies Nos. 5 &amp; 6</td><td>Album</td></tr>",
                            "<tr><td>285</td><td>A Soprano Inspired</td><td>Album</td></tr>",
                            "<tr><td>286</td><td>Great Opera Choruses</td><td>Album</td></tr>",
                            "<tr><td>287</td><td>Wagner: Favourite Overtures</td><td>Album</td></tr>",
                            "<tr><td>288</td><td>Fauré: Requiem, Ravel: Pavane &amp; Others</td><td>Album</td></tr>",
                            "<tr><td>289</td><td>Tchaikovsky: The Nutcracker</td><td>Album</td></tr>",
                            "<tr><td>290</td><td>The Last Night of the Proms</td><td>Album</td></tr>",
                            "<tr><td>291</td><td>Puccini: Madama Butterfly - Highlights</td><td>Album</td></tr>",
                            "<tr><td>292</td><td>Holst: The Planets, Op. 32 &amp; Vaughan Williams: Fantasies</td><td>Album</td></tr>",
                            "<tr><td>293</td><td>Pavarotti's Opera Made Easy</td><td>Album</td></tr>",
                            "<tr><td>294</td><td>Great Performances - Barber's Adagio and Other Romantic Favorites for Strings</td><td>Album</td></tr>",
                            "<tr><td>295</td><td>Carmina Burana</td><td>Album</td></tr>",
                            "<tr><td>296</td><td>A Copland Celebration, Vol. I</td><td>Album</td></tr>",
                            "<tr><td>297</td><td>Bach: Toccata &amp; Fugue in D Minor</td><td>Album</td></tr>",
                            "<tr><td>298</td><td>Prokofiev: Symphony No.1</td><td>Album</td></tr>",
                            "<tr><td>299</td><td>Scheherazade</td><td>Album</td></tr>",
                            "<tr><td>300</td><td>Bach: The Brandenburg Concertos</td><td>Album</td></tr>",
                            "<tr><td>301</td><td>Chopin: Piano Concertos Nos. 1 &amp; 2</td><td>Album</td></tr>",
                            "<tr><td>302</td><td>Mascagni: Cavalleria Rusticana</td><td>Album</td></tr>",
                            "<tr><td>303</td><td>Sibelius: Finlandia</td><td>Album</td></tr>",
                            "<tr><td>304</td><td>Beethoven Piano Sonatas: Moonlight &amp; Pastorale</td><td>Album</td></tr>",
                            "<tr><td>305</td><td>Great Recordings of the Century - Mahler: Das Lied von der Erde</td><td>Album</td></tr>",
                            "<tr><td>306</td><td>Elgar: Cello Concerto &amp; Vaughan Williams: Fantasias</td><td>Album</td></tr>",
                            "<tr><td>307</td><td>Adams, John: The Chairman Dances</td><td>Album</td></tr>",
                            "<tr><td>308</td><td>Tchaikovsky: 1812 Festival Overture, Op.49, Capriccio Italien &amp; Beethoven: Wellington's Victory</td><td>Album</td></tr>",
                            "<tr><td>309</td><td>Palestrina: Missa Papae Marcelli &amp; Allegri: Miserere</td><td>Album</td></tr>",
                            "<tr><td>310</td><td>Prokofiev: Romeo &amp; Juliet</td><td>Album</td></tr>",
                            "<tr><td>311</td><td>Strauss: Waltzes</td><td>Album</td></tr>",
                            "<tr><td>312</td><td>Berlioz: Symphonie Fantastique</td><td>Album</td></tr>",
                            "<tr><td>313</td><td>Bizet: Carmen Highlights</td><td>Album</td></tr>",
                            "<tr><td>314</td><td>English Renaissance</td><td>Album</td></tr>",
                            "<tr><td>315</td><td>Handel: Music for the Royal Fireworks (Original Version 1749)</td><td>Album</td></tr>",
                            "<tr><td>316</td><td>Grieg: Peer Gynt Suites &amp; Sibelius: Pelléas et Mélisande</td><td>Album</td></tr>",
                            "<tr><td>317</td><td>Mozart Gala: Famous Arias</td><td>Album</td></tr>",
                            "<tr><td>318</td><td>SCRIABIN: Vers la flamme</td><td>Album</td></tr>",
                            "<tr><td>319</td><td>Armada: Music from the Courts of England and Spain</td><td>Album</td></tr>",
                            "<tr><td>320</td><td>Mozart: Symphonies Nos. 40 &amp; 41</td><td>Album</td></tr>",
                            "<tr><td>321</td><td>Back to Black</td><td>Album</td></tr>",
                            "<tr><td>322</td><td>Frank</td><td>Album</td></tr>",
                            "<tr><td>323</td><td>Carried to Dust (Bonus Track Version)</td><td>Album</td></tr>",
                            "<tr><td>324</td><td>Beethoven: Symphony No. 6 'Pastoral' Etc.</td><td>Album</td></tr>",
                            "<tr><td>325</td><td>Bartok: Violin &amp; Viola Concertos</td><td>Album</td></tr>",
                            "<tr><td>326</td><td>Mendelssohn: A Midsummer Night's Dream</td><td>Album</td></tr>",
                            "<tr><td>327</td><td>Bach: Orchestral Suites Nos. 1 - 4</td><td>Album</td></tr>",
                            "<tr><td>328</td><td>Charpentier: Divertissements, Airs &amp; Concerts</td><td>Album</td></tr>",
                            "<tr><td>329</td><td>South American Getaway</td><td>Album</td></tr>",
                            "<tr><td>330</td><td>Górecki: Symphony No. 3</td><td>Album</td></tr>",
                            "<tr><td>331</td><td>Purcell: The Fairy Queen</td><td>Album</td></tr>",
                            "<tr><td>332</td><td>The Ultimate Relexation Album</td><td>Album</td></tr>",
                            "<tr><td>333</td><td>Purcell: Music for the Queen Mary</td><td>Album</td></tr>",
                            "<tr><td>334</td><td>Weill: The Seven Deadly Sins</td><td>Album</td></tr>",
                            "<tr><td>335</td><td>J.S. Bach: Chaconne, Suite in E Minor, Partita in E Major &amp; Prelude, Fugue and Allegro</td><td>Album</td></tr>",
                            "<tr><td>336</td><td>Prokofiev: Symphony No.5 &amp; Stravinksy: Le Sacre Du Printemps</td><td>Album</td></tr>",
                            "<tr><td>337</td><td>Szymanowski: Piano Works, Vol. 1</td><td>Album</td></tr>",
                            "<tr><td>338</td><td>Nielsen: The Six Symphonies</td><td>Album</td></tr>",
                            "<tr><td>339</td><td>Great Recordings of the Century: Paganini's 24 Caprices</td><td>Album</td></tr>",
                            "<tr><td>340</td><td>Liszt - 12 Études D'Execution Transcendante</td><td>Album</td></tr>",
                            "<tr><td>341</td><td>Great Recordings of the Century - Shubert: Schwanengesang, 4 Lieder</td><td>Album</td></tr>",
                            "<tr><td>342</td><td>Locatelli: Concertos for Violin, Strings and Continuo, Vol. 3</td><td>Album</td></tr>",
                            "<tr><td>343</td><td>Respighi:Pines of Rome</td><td>Album</td></tr>",
                            "<tr><td>344</td><td>Schubert: The Late String Quartets &amp; String Quintet (3 CD's)</td><td>Album</td></tr>",
                            "<tr><td>345</td><td>Monteverdi: L'Orfeo</td><td>Album</td></tr>",
                            "<tr><td>346</td><td>Mozart: Chamber Music</td><td>Album</td></tr>",
                            "<tr><td>347</td><td>Koyaanisqatsi (Soundtrack from the Motion Picture)</td><td>Album</td></tr>",
                            "<tr><td>1</td><td>AC/DC</td><td>Artist</td></tr>",
                            "<tr><td>2</td><td>Accept</td><td>Artist</td></tr>",
                            "<tr><td>3</td><td>Aerosmith</td><td>Artist</td></tr>",
                            "<tr><td>4</td><td>Alanis Morissette</td><td>Artist</td></tr>",
                            "<tr><td>5</td><td>Alice In Chains</td><td>Artist</td></tr>",
                            "<tr><td>6</td><td>Antônio Carlos Jobim</td><td>Artist</td></tr>",
                            "<tr><td>7</td><td>Apocalyptica</td><td>Artist</td></tr>",
                            "<tr><td>8</td><td>Audioslave</td><td>Artist</td></tr>",
                            "<tr><td>9</td><td>BackBeat</td><td>Artist</td></tr>",
                            "<tr><td>10</td><td>Billy Cobham</td><td>Artist</td></tr>",
                            "<tr><td>11</td><td>Black Label Society</td><td>Artist</td></tr>",
                            "<tr><td>12</td><td>Black Sabbath</td><td>Artist</td></tr>",
                            "<tr><td>13</td><td>Body Count</td><td>Artist</td></tr>",
                            "<tr><td>14</td><td>Bruce Dickinson</td><td>Artist</td></tr>",
                            "<tr><td>15</td><td>Buddy Guy</td><td>Artist</td></tr>",
                            "<tr><td>16</td><td>Caetano Veloso</td><td>Artist</td></tr>",
                            "<tr><td>17</td><td>Chico Buarque</td><td>Artist</td></tr>",
                            "<tr><td>18</td><td>Chico Science &amp; Nação Zumbi</td><td>Artist</td></tr>",
                            "<tr><td>19</td><td>Cidade Negra</td><td>Artist</td></tr>",
                            "<tr><td>20</td><td>Cláudio Zoli</td><td>Artist</td></tr>",
                            "<tr><td>21</td><td>Various Artists</td><td>Artist</td></tr>",
                            "<tr><td>22</td><td>Led Zeppelin</td><td>Artist</td></tr>",
                            "<tr><td>23</td><td>Frank Zappa &amp; Captain Beefheart</td><td>Artist</td></tr>",
                            "<tr><td>24</td><td>Marcos Valle</td><td>Artist</td></tr>",
                            "<tr><td>25</td><td>Milton Nascimento &amp; Bebeto</td><td>Artist</td></tr>",
                            "<tr><td>26</td><td>Azymuth</td><td>Artist</td></tr>",
                            "<tr><td>27</td><td>Gilberto Gil</td><td>Artist</td></tr>",
                            "<tr><td>28</td><td>João Gilberto</td><td>Artist</td></tr>",
                            "<tr><td>29</td><td>Bebel Gilberto</td><td>Artist</td></tr>",
                            "<tr><td>30</td><td>Jorge Vercilo</td><td>Artist</td></tr>",
                            "<tr><td>31</td><td>Baby Consuelo</td><td>Artist</td></tr>",
                            "<tr><td>32</td><td>Ney Matogrosso</td><td>Artist</td></tr>",
                            "<tr><td>33</td><td>Luiz Melodia</td><td>Artist</td></tr>",
                            "<tr><td>34</td><td>Nando Reis</td><td>Artist</td></tr>",
                            "<tr><td>35</td><td>Pedro Luís &amp; A Parede</td><td>Artist</td></tr>",
                            "<tr><td>36</td><td>O Rappa</td><td>Artist</td></tr>",
                            "<tr><td>37</td><td>Ed Motta</td><td>Artist</td></tr>",
                            "<tr><td>38</td><td>Banda Black Rio</td><td>Artist</td></tr>",
                            "<tr><td>39</td><td>Fernanda Porto</td><td>Artist</td></tr>",
                            "<tr><td>40</td><td>Os Cariocas</td><td>Artist</td></tr>",
                            "<tr><td>41</td><td>Elis Regina</td><td>Artist</td></tr>",
                            "<tr><td>42</td><td>Milton Nascimento</td><td>Artist</td></tr>",
                            "<tr><td>43</td><td>A Cor Do Som</td><td>Artist</td></tr>",
                            "<tr><td>44</td><td>Kid Abelha</td><td>Artist</td></tr>",
                            "<tr><td>45</td><td>Sandra De Sá</td><td>Artist</td></tr>",
                            "<tr><td>46</td><td>Jorge Ben</td><td>Artist</td></tr>",
                            "<tr><td>47</td><td>Hermeto Pascoal</td><td>Artist</td></tr>",
                            "<tr><td>48</td><td>Barão Vermelho</td><td>Artist</td></tr>",
                            "<tr><td>49</td><td>Edson, DJ Marky &amp; DJ Patife Featuring Fernanda Porto</td><td>Artist</td></tr>",
                            "<tr><td>50</td><td>Metallica</td><td>Artist</td></tr>",
                            "<tr><td>51</td><td>Queen</td><td>Artist</td></tr>",
                            "<tr><td>52</td><td>Kiss</td><td>Artist</td></tr>",
                            "<tr><td>53</td><td>Spyro Gyra</td><td>Artist</td></tr>",
                            "<tr><td>54</td><td>Green Day</td><td>Artist</td></tr>",
                            "<tr><td>55</td><td>David Coverdale</td><td>Artist</td></tr>",
                            "<tr><td>56</td><td>Gonzaguinha</td><td>Artist</td></tr>",
                            "<tr><td>57</td><td>Os Mutantes</td><td>Artist</td></tr>",
                            "<tr><td>58</td><td>Deep Purple</td><td>Artist</td></tr>",
                            "<tr><td>59</td><td>Santana</td><td>Artist</td></tr>",
                            "<tr><td>60</td><td>Santana Feat. Dave Matthews</td><td>Artist</td></tr>",
                            "<tr><td>61</td><td>Santana Feat. Everlast</td><td>Artist</td></tr>",
                            "<tr><td>62</td><td>Santana Feat. Rob Thomas</td><td>Artist</td></tr>",
                            "<tr><td>63</td><td>Santana Feat. Lauryn Hill &amp; Cee-Lo</td><td>Artist</td></tr>",
                            "<tr><td>64</td><td>Santana Feat. The Project G&amp;B</td><td>Artist</td></tr>",
                            "<tr><td>65</td><td>Santana Feat. Maná</td><td>Artist</td></tr>",
                            "<tr><td>66</td><td>Santana Feat. Eagle-Eye Cherry</td><td>Artist</td></tr>",
                            "<tr><td>67</td><td>Santana Feat. Eric Clapton</td><td>Artist</td></tr>",
                            "<tr><td>68</td><td>Miles Davis</td><td>Artist</td></tr>",
                            "<tr><td>69</td><td>Gene Krupa</td><td>Artist</td></tr>",
                            "<tr><td>70</td><td>Toquinho &amp; Vinícius</td><td>Artist</td></tr>",
                            "<tr><td>71</td><td>Vinícius De Moraes &amp; Baden Powell</td><td>Artist</td></tr>",
                            "<tr><td>72</td><td>Vinícius De Moraes</td><td>Artist</td></tr>",
                            "<tr><td>73</td><td>Vinícius E Qurteto Em Cy</td><td>Artist</td></tr>",
                            "<tr><td>74</td><td>Vinícius E Odette Lara</td><td>Artist</td></tr>",
                            "<tr><td>75</td><td>Vinicius, Toquinho &amp; Quarteto Em Cy</td><td>Artist</td></tr>",
                            "<tr><td>76</td><td>Creedence Clearwater Revival</td><td>Artist</td></tr>",
                            "<tr><td>77</td><td>Cássia Eller</td><td>Artist</td></tr>",
                            "<tr><td>78</td><td>Def Leppard</td><td>Artist</td></tr>",
                            "<tr><td>79</td><td>Dennis Chambers</td><td>Artist</td></tr>",
                            "<tr><td>80</td><td>Djavan</td><td>Artist</td></tr>",
                            "<tr><td>81</td><td>Eric Clapton</td><td>Artist</td></tr>",
                            "<tr><td>82</td><td>Faith No More</td><td>Artist</td></tr>",
                            "<tr><td>83</td><td>Falamansa</td><td>Artist</td></tr>",
                            "<tr><td>84</td><td>Foo Fighters</td><td>Artist</td></tr>",
                            "<tr><td>85</td><td>Frank Sinatra</td><td>Artist</td></tr>",
                            "<tr><td>86</td><td>Funk Como Le Gusta</td><td>Artist</td></tr>",
                            "<tr><td>87</td><td>Godsmack</td><td>Artist</td></tr>",
                            "<tr><td>88</td><td>Guns N' Roses</td><td>Artist</td></tr>",
                            "<tr><td>89</td><td>Incognito</td><td>Artist</td></tr>",
                            "<tr><td>90</td><td>Iron Maiden</td><td>Artist</td></tr>",
                            "<tr><td>91</td><td>James Brown</td><td>Artist</td></tr>",
                            "<tr><td>92</td><td>Jamiroquai</td><td>Artist</td></tr>",
                            "<tr><td>93</td><td>JET</td><td>Artist</td></tr>",
                            "<tr><td>94</td><td>Jimi Hendrix</td><td>Artist</td></tr>",
                            "<tr><td>95</td><td>Joe Satriani</td><td>Artist</td></tr>",
                            "<tr><td>96</td><td>Jota Quest</td><td>Artist</td></tr>",
                            "<tr><td>97</td><td>João Suplicy</td><td>Artist</td></tr>",
                            "<tr><td>98</td><td>Judas Priest</td><td>Artist</td></tr>",
                            "<tr><td>99</td><td>Legião Urbana</td><td>Artist</td></tr>",
                            "<tr><td>100</td><td>Lenny Kravitz</td><td>Artist</td></tr>",
                            "<tr><td>101</td><td>Lulu Santos</td><td>Artist</td></tr>",
                            "<tr><td>102</td><td>Marillion</td><td>Artist</td></tr>",
                            "<tr><td>103</td><td>Marisa Monte</td><td>Artist</td></tr>",
                            "<tr><td>104</td><td>Marvin Gaye</td><td>Artist</td></tr>",
                            "<tr><td>105</td><td>Men At Work</td><td>Artist</td></tr>",
                            "<tr><td>106</td><td>Motörhead</td><td>Artist</td></tr>",
                            "<tr><td>107</td><td>Motörhead &amp; Girlschool</td><td>Artist</td></tr>",
                            "<tr><td>108</td><td>Mônica Marianno</td><td>Artist</td></tr>",
                            "<tr><td>109</td><td>Mötley Crüe</td><td>Artist</td></tr>",
                            "<tr><td>110</td><td>Nirvana</td><td>Artist</td></tr>",
                            "<tr><td>111</td><td>O Terço</td><td>Artist</td></tr>",
                            "<tr><td>112</td><td>Olodum</td><td>Artist</td></tr>",
                            "<tr><td>113</td><td>Os Paralamas Do Sucesso</td><td>Artist</td></tr>",
                            "<tr><td>114</td><td>Ozzy Osbourne</td><td>Artist</td></tr>",
                            "<tr><td>115</td><td>Page &amp; Plant</td><td>Artist</td></tr>",
                            "<tr><td>116</td><td>Passengers</td><td>Artist</td></tr>",
                            "<tr><td>117</td><td>Paul D'Ianno</td><td>Artist</td></tr>",
                            "<tr><td>118</td><td>Pearl Jam</td><td>Artist</td></tr>",
                            "<tr><td>119</td><td>Peter Tosh</td><td>Artist</td></tr>",
                            "<tr><td>120</td><td>Pink Floyd</td><td>Artist</td></tr>",
                            "<tr><td>121</td><td>Planet Hemp</td><td>Artist</td></tr>",
                            "<tr><td>122</td><td>R.E.M. Feat. Kate Pearson</td><td>Artist</td></tr>",
                            "<tr><td>123</td><td>R.E.M. Feat. KRS-One</td><td>Artist</td></tr>",
                            "<tr><td>124</td><td>R.E.M.</td><td>Artist</td></tr>",
                            "<tr><td>125</td><td>Raimundos</td><td>Artist</td></tr>",
                            "<tr><td>126</td><td>Raul Seixas</td><td>Artist</td></tr>",
                            "<tr><td>127</td><td>Red Hot Chili Peppers</td><td>Artist</td></tr>",
                            "<tr><td>128</td><td>Rush</td><td>Artist</td></tr>",
                            "<tr><td>129</td><td>Simply Red</td><td>Artist</td></tr>",
                            "<tr><td>130</td><td>Skank</td><td>Artist</td></tr>",
                            "<tr><td>131</td><td>Smashing Pumpkins</td><td>Artist</td></tr>",
                            "<tr><td>132</td><td>Soundgarden</td><td>Artist</td></tr>",
                            "<tr><td>133</td><td>Stevie Ray Vaughan &amp; Double Trouble</td><td>Artist</td></tr>",
                            "<tr><td>134</td><td>Stone Temple Pilots</td><td>Artist</td></tr>",
                            "<tr><td>135</td><td>System Of A Down</td><td>Artist</td></tr>",
                            "<tr><td>136</td><td>Terry Bozzio, Tony Levin &amp; Steve Stevens</td><td>Artist</td></tr>",
                            "<tr><td>137</td><td>The Black Crowes</td><td>Artist</td></tr>",
                            "<tr><td>138</td><td>The Clash</td><td>Artist</td></tr>",
                            "<tr><td>139</td><td>The Cult</td><td>Artist</td></tr>",
                            "<tr><td>140</td><td>The Doors</td><td>Artist</td></tr>",
                            "<tr><td>141</td><td>The Police</td><td>Artist</td></tr>",
                            "<tr><td>142</td><td>The Rolling Stones</td><td>Artist</td></tr>",
                            "<tr><td>143</td><td>The Tea Party</td><td>Artist</td></tr>",
                            "<tr><td>144</td><td>The Who</td><td>Artist</td></tr>",
                            "<tr><td>145</td><td>Tim Maia</td><td>Artist</td></tr>",
                            "<tr><td>146</td><td>Titãs</td><td>Artist</td></tr>",
                            "<tr><td>147</td><td>Battlestar Galactica</td><td>Artist</td></tr>",
                            "<tr><td>148</td><td>Heroes</td><td>Artist</td></tr>",
                            "<tr><td>149</td><td>Lost</td><td>Artist</td></tr>",
                            "<tr><td>150</td><td>U2</td><td>Artist</td></tr>",
                            "<tr><td>151</td><td>UB40</td><td>Artist</td></tr>",
                            "<tr><td>152</td><td>Van Halen</td><td>Artist</td></tr>",
                            "<tr><td>153</td><td>Velvet Revolver</td><td>Artist</td></tr>",
                            "<tr><td>154</td><td>Whitesnake</td><td>Artist</td></tr>",
                            "<tr><td>155</td><td>Zeca Pagodinho</td><td>Artist</td></tr>",
                            "<tr><td>156</td><td>The Office</td><td>Artist</td></tr>",
                            "<tr><td>157</td><td>Dread Zeppelin</td><td>Artist</td></tr>",
                            "<tr><td>158</td><td>Battlestar Galactica (Classic)</td><td>Artist</td></tr>",
                            "<tr><td>159</td><td>Aquaman</td><td>Artist</td></tr>",
                            "<tr><td>160</td><td>Christina Aguilera featuring BigElf</td><td>Artist</td></tr>",
                            "<tr><td>161</td><td>Aerosmith &amp; Sierra Leone's Refugee Allstars</td><td>Artist</td></tr>",
                            "<tr><td>162</td><td>Los Lonely Boys</td><td>Artist</td></tr>",
                            "<tr><td>163</td><td>Corinne Bailey Rae</td><td>Artist</td></tr>",
                            "<tr><td>164</td><td>Dhani Harrison &amp; Jakob Dylan</td><td>Artist</td></tr>",
                            "<tr><td>165</td><td>Jackson Browne</td><td>Artist</td></tr>",
                            "<tr><td>166</td><td>Avril Lavigne</td><td>Artist</td></tr>",
                            "<tr><td>167</td><td>Big &amp; Rich</td><td>Artist</td></tr>",
                            "<tr><td>168</td><td>Youssou N'Dour</td><td>Artist</td></tr>",
                            "<tr><td>169</td><td>Black Eyed Peas</td><td>Artist</td></tr>",
                            "<tr><td>170</td><td>Jack Johnson</td><td>Artist</td></tr>",
                            "<tr><td>171</td><td>Ben Harper</td><td>Artist</td></tr>",
                            "<tr><td>172</td><td>Snow Patrol</td><td>Artist</td></tr>",
                            "<tr><td>173</td><td>Matisyahu</td><td>Artist</td></tr>",
                            "<tr><td>174</td><td>The Postal Service</td><td>Artist</td></tr>",
                            "<tr><td>175</td><td>Jaguares</td><td>Artist</td></tr>",
                            "<tr><td>176</td><td>The Flaming Lips</td><td>Artist</td></tr>",
                            "<tr><td>177</td><td>Jack's Mannequin &amp; Mick Fleetwood</td><td>Artist</td></tr>",
                            "<tr><td>178</td><td>Regina Spektor</td><td>Artist</td></tr>",
                            "<tr><td>179</td><td>Scorpions</td><td>Artist</td></tr>",
                            "<tr><td>180</td><td>House Of Pain</td><td>Artist</td></tr>",
                            "<tr><td>181</td><td>Xis</td><td>Artist</td></tr>",
                            "<tr><td>182</td><td>Nega Gizza</td><td>Artist</td></tr>",
                            "<tr><td>183</td><td>Gustavo &amp; Andres Veiga &amp; Salazar</td><td>Artist</td></tr>",
                            "<tr><td>184</td><td>Rodox</td><td>Artist</td></tr>",
                            "<tr><td>185</td><td>Charlie Brown Jr.</td><td>Artist</td></tr>",
                            "<tr><td>186</td><td>Pedro Luís E A Parede</td><td>Artist</td></tr>",
                            "<tr><td>187</td><td>Los Hermanos</td><td>Artist</td></tr>",
                            "<tr><td>188</td><td>Mundo Livre S/A</td><td>Artist</td></tr>",
                            "<tr><td>189</td><td>Otto</td><td>Artist</td></tr>",
                            "<tr><td>190</td><td>Instituto</td><td>Artist</td></tr>",
                            "<tr><td>191</td><td>Nação Zumbi</td><td>Artist</td></tr>",
                            "<tr><td>192</td><td>DJ Dolores &amp; Orchestra Santa Massa</td><td>Artist</td></tr>",
                            "<tr><td>193</td><td>Seu Jorge</td><td>Artist</td></tr>",
                            "<tr><td>194</td><td>Sabotage E Instituto</td><td>Artist</td></tr>",
                            "<tr><td>195</td><td>Stereo Maracana</td><td>Artist</td></tr>",
                            "<tr><td>196</td><td>Cake</td><td>Artist</td></tr>",
                            "<tr><td>197</td><td>Aisha Duo</td><td>Artist</td></tr>",
                            "<tr><td>198</td><td>Habib Koité and Bamada</td><td>Artist</td></tr>",
                            "<tr><td>199</td><td>Karsh Kale</td><td>Artist</td></tr>",
                            "<tr><td>200</td><td>The Posies</td><td>Artist</td></tr>",
                            "<tr><td>201</td><td>Luciana Souza/Romero Lubambo</td><td>Artist</td></tr>",
                            "<tr><td>202</td><td>Aaron Goldberg</td><td>Artist</td></tr>",
                            "<tr><td>203</td><td>Nicolaus Esterhazy Sinfonia</td><td>Artist</td></tr>",
                            "<tr><td>204</td><td>Temple of the Dog</td><td>Artist</td></tr>",
                            "<tr><td>205</td><td>Chris Cornell</td><td>Artist</td></tr>",
                            "<tr><td>206</td><td>Alberto Turco &amp; Nova Schola Gregoriana</td><td>Artist</td></tr>",
                            "<tr><td>207</td><td>Richard Marlow &amp; The Choir of Trinity College, Cambridge</td><td>Artist</td></tr>",
                            "<tr><td>208</td><td>English Concert &amp; Trevor Pinnock</td><td>Artist</td></tr>",
                            "<tr><td>209</td><td>Anne-Sophie Mutter, Herbert Von Karajan &amp; Wiener Philharmoniker</td><td>Artist</td></tr>",
                            "<tr><td>210</td><td>Hilary Hahn, Jeffrey Kahane, Los Angeles Chamber Orchestra &amp; Margaret Batjer</td><td>Artist</td></tr>",
                            "<tr><td>211</td><td>Wilhelm Kempff</td><td>Artist</td></tr>",
                            "<tr><td>212</td><td>Yo-Yo Ma</td><td>Artist</td></tr>",
                            "<tr><td>213</td><td>Scholars Baroque Ensemble</td><td>Artist</td></tr>",
                            "<tr><td>214</td><td>Academy of St. Martin in the Fields &amp; Sir Neville Marriner</td><td>Artist</td></tr>",
                            "<tr><td>215</td><td>Academy of St. Martin in the Fields Chamber Ensemble &amp; Sir Neville Marriner</td><td>Artist</td></tr>",
                            "<tr><td>216</td><td>Berliner Philharmoniker, Claudio Abbado &amp; Sabine Meyer</td><td>Artist</td></tr>",
                            "<tr><td>217</td><td>Royal Philharmonic Orchestra &amp; Sir Thomas Beecham</td><td>Artist</td></tr>",
                            "<tr><td>218</td><td>Orchestre Révolutionnaire et Romantique &amp; John Eliot Gardiner</td><td>Artist</td></tr>",
                            "<tr><td>219</td><td>Britten Sinfonia, Ivor Bolton &amp; Lesley Garrett</td><td>Artist</td></tr>",
                            "<tr><td>220</td><td>Chicago Symphony Chorus, Chicago Symphony Orchestra &amp; Sir Georg Solti</td><td>Artist</td></tr>",
                            "<tr><td>221</td><td>Sir Georg Solti &amp; Wiener Philharmoniker</td><td>Artist</td></tr>",
                            "<tr><td>222</td><td>Academy of St. Martin in the Fields, John Birch, Sir Neville Marriner &amp; Sylvia McNair</td><td>Artist</td></tr>",
                            "<tr><td>223</td><td>London Symphony Orchestra &amp; Sir Charles Mackerras</td><td>Artist</td></tr>",
                            "<tr><td>224</td><td>Barry Wordsworth &amp; BBC Concert Orchestra</td><td>Artist</td></tr>",
                            "<tr><td>225</td><td>Herbert Von Karajan, Mirella Freni &amp; Wiener Philharmoniker</td><td>Artist</td></tr>",
                            "<tr><td>226</td><td>Eugene Ormandy</td><td>Artist</td></tr>",
                            "<tr><td>227</td><td>Luciano Pavarotti</td><td>Artist</td></tr>",
                            "<tr><td>228</td><td>Leonard Bernstein &amp; New York Philharmonic</td><td>Artist</td></tr>",
                            "<tr><td>229</td><td>Boston Symphony Orchestra &amp; Seiji Ozawa</td><td>Artist</td></tr>",
                            "<tr><td>230</td><td>Aaron Copland &amp; London Symphony Orchestra</td><td>Artist</td></tr>",
                            "<tr><td>231</td><td>Ton Koopman</td><td>Artist</td></tr>",
                            "<tr><td>232</td><td>Sergei Prokofiev &amp; Yuri Temirkanov</td><td>Artist</td></tr>",
                            "<tr><td>233</td><td>Chicago Symphony Orchestra &amp; Fritz Reiner</td><td>Artist</td></tr>",
                            "<tr><td>234</td><td>Orchestra of The Age of Enlightenment</td><td>Artist</td></tr>",
                            "<tr><td>235</td><td>Emanuel Ax, Eugene Ormandy &amp; Philadelphia Orchestra</td><td>Artist</td></tr>",
                            "<tr><td>236</td><td>James Levine</td><td>Artist</td></tr>",
                            "<tr><td>237</td><td>Berliner Philharmoniker &amp; Hans Rosbaud</td><td>Artist</td></tr>",
                            "<tr><td>238</td><td>Maurizio Pollini</td><td>Artist</td></tr>",
                            "<tr><td>239</td><td>Academy of St. Martin in the Fields, Sir Neville Marriner &amp; William Bennett</td><td>Artist</td></tr>",
                            "<tr><td>240</td><td>Gustav Mahler</td><td>Artist</td></tr>",
                            "<tr><td>241</td><td>Felix Schmidt, London Symphony Orchestra &amp; Rafael Frühbeck de Burgos</td><td>Artist</td></tr>",
                            "<tr><td>242</td><td>Edo de Waart &amp; San Francisco Symphony</td><td>Artist</td></tr>",
                            "<tr><td>243</td><td>Antal Doráti &amp; London Symphony Orchestra</td><td>Artist</td></tr>",
                            "<tr><td>244</td><td>Choir Of Westminster Abbey &amp; Simon Preston</td><td>Artist</td></tr>",
                            "<tr><td>245</td><td>Michael Tilson Thomas &amp; San Francisco Symphony</td><td>Artist</td></tr>",
                            "<tr><td>246</td><td>Chor der Wiener Staatsoper, Herbert Von Karajan &amp; Wiener Philharmoniker</td><td>Artist</td></tr>",
                            "<tr><td>247</td><td>The King's Singers</td><td>Artist</td></tr>",
                            "<tr><td>248</td><td>Berliner Philharmoniker &amp; Herbert Von Karajan</td><td>Artist</td></tr>",
                            "<tr><td>249</td><td>Sir Georg Solti, Sumi Jo &amp; Wiener Philharmoniker</td><td>Artist</td></tr>",
                            "<tr><td>250</td><td>Christopher O'Riley</td><td>Artist</td></tr>",
                            "<tr><td>251</td><td>Fretwork</td><td>Artist</td></tr>",
                            "<tr><td>252</td><td>Amy Winehouse</td><td>Artist</td></tr>",
                            "<tr><td>253</td><td>Calexico</td><td>Artist</td></tr>",
                            "<tr><td>254</td><td>Otto Klemperer &amp; Philharmonia Orchestra</td><td>Artist</td></tr>",
                            "<tr><td>255</td><td>Yehudi Menuhin</td><td>Artist</td></tr>",
                            "<tr><td>256</td><td>Philharmonia Orchestra &amp; Sir Neville Marriner</td><td>Artist</td></tr>",
                            "<tr><td>257</td><td>Academy of St. Martin in the Fields, Sir Neville Marriner &amp; Thurston Dart</td><td>Artist</td></tr>",
                            "<tr><td>258</td><td>Les Arts Florissants &amp; William Christie</td><td>Artist</td></tr>",
                            "<tr><td>259</td><td>The 12 Cellists of The Berlin Philharmonic</td><td>Artist</td></tr>",
                            "<tr><td>260</td><td>Adrian Leaper &amp; Doreen de Feis</td><td>Artist</td></tr>",
                            "<tr><td>261</td><td>Roger Norrington, London Classical Players</td><td>Artist</td></tr>",
                            "<tr><td>262</td><td>Charles Dutoit &amp; L'Orchestre Symphonique de Montréal</td><td>Artist</td></tr>",
                            "<tr><td>263</td><td>Equale Brass Ensemble, John Eliot Gardiner &amp; Munich Monteverdi Orchestra and Choir</td><td>Artist</td></tr>",
                            "<tr><td>264</td><td>Kent Nagano and Orchestre de l'Opéra de Lyon</td><td>Artist</td></tr>",
                            "<tr><td>265</td><td>Julian Bream</td><td>Artist</td></tr>",
                            "<tr><td>266</td><td>Martin Roscoe</td><td>Artist</td></tr>",
                            "<tr><td>267</td><td>Göteborgs Symfoniker &amp; Neeme Järvi</td><td>Artist</td></tr>",
                            "<tr><td>268</td><td>Itzhak Perlman</td><td>Artist</td></tr>",
                            "<tr><td>269</td><td>Michele Campanella</td><td>Artist</td></tr>",
                            "<tr><td>270</td><td>Gerald Moore</td><td>Artist</td></tr>",
                            "<tr><td>271</td><td>Mela Tenenbaum, Pro Musica Prague &amp; Richard Kapp</td><td>Artist</td></tr>",
                            "<tr><td>272</td><td>Emerson String Quartet</td><td>Artist</td></tr>",
                            "<tr><td>273</td><td>C. Monteverdi, Nigel Rogers - Chiaroscuro; London Baroque; London Cornett &amp; Sackbu</td><td>Artist</td></tr>",
                            "<tr><td>274</td><td>Nash Ensemble</td><td>Artist</td></tr>",
                            "<tr><td>275</td><td>Philip Glass Ensemble</td><td>Artist</td></tr>",
                            "</table>"
                        ]
                    }
                }
            ],
            "execution_count": 3
        },
        {
            "cell_type": "code",
            "source": [
                ""
            ],
            "metadata": {
                "azdata_cell_guid": "27e643b7-bdb6-42cb-96fa-29600f83fbc7"
            },
            "outputs": [],
            "execution_count": null
        },
        {
            "cell_type": "code",
            "source": [
                ""
            ],
            "metadata": {
                "azdata_cell_guid": "1438ab5e-9b20-4a2d-9cc0-9a5831216aae"
            },
            "outputs": [],
            "execution_count": null
        }
    ]
}