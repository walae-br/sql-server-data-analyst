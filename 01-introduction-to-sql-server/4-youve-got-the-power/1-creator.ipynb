{
    "metadata": {
        "kernelspec": {
            "name": "SQL",
            "display_name": "SQL",
            "language": "sql"
        },
        "language_info": {
            "name": "sql",
            "version": ""
        }
    },
    "nbformat_minor": 2,
    "nbformat": 4,
    "cells": [
        {
            "cell_type": "code",
            "source": [
                "USE Chinook\n",
                "GO"
            ],
            "metadata": {
                "azdata_cell_guid": "9f3e32f3-a2f9-41b3-b447-007ff086832f"
            },
            "outputs": [
                {
                    "output_type": "display_data",
                    "data": {
                        "text/html": "Commands completed successfully."
                    },
                    "metadata": {}
                },
                {
                    "output_type": "display_data",
                    "data": {
                        "text/html": "Total execution time: 00:00:00.001"
                    },
                    "metadata": {}
                }
            ],
            "execution_count": 3
        },
        {
            "cell_type": "markdown",
            "source": [
                "# CRUD operations\n",
                "\n",
                "When we talk about 'CRUD' operations on the records of a database, what do we mean - what do those letters stand for?\n",
                "\n",
                "  \n",
                "\n",
                "<span class=\"dc-input-radio__text\" style=\"box-sizing: inherit; flex-grow: 1; line-height: 1.5; margin-left: 8px; position: relative; top: -4px; transition: color 0.3s cubic-bezier(0.77, 0, 0.175, 1) 0s;\"><div class=\"\" style=\"box-sizing: inherit;\">Create, Read, Update, Delete.</div></span>"
            ],
            "metadata": {
                "azdata_cell_guid": "d86edab3-9c2e-4f76-9564-7dec831f3907"
            }
        },
        {
            "cell_type": "markdown",
            "source": [
                "# Create tables\n",
                "\n",
                "Say you want to create a table to consolidate some useful track information into one table. This will consist of the track name, the artist, and the album the track came from. You also want to store the track length in a different format to how it is currently stored in the track table. How can you go about doing this? Using `CREATE TABLE`. Recall the example from the video:\n",
                "\n",
                "```\n",
                "CREATE TABLE test_table(\n",
                "  test_date DATE, \n",
                "  test_name VARCHAR(20), \n",
                "  test_int INT\n",
                ")\n",
                "\n",
                "```\n",
                "\n",
                "Let's get started!\n",
                "\n",
                "##### Instructions 1/3\n",
                "\n",
                "<span class=\"css-4zhg5y-baseStyle-strongStyle-baseStyle-Badge\" style=\"box-sizing: inherit; font-weight: 800; -webkit-font-smoothing: antialiased; font-family: Studio-Feixen-Sans, Arial; border-radius: 4px; display: inline-block; text-transform: uppercase; background-color: rgb(252, 206, 13); color: rgb(5, 25, 45); font-size: 14px; line-height: 18px; padding-left: 4px; padding-right: 4px;\">35 XP</span>\n",
                "\n",
                "- Create a table named 'results' with 3 `VARCHAR` columns called `track`, `artist`, and `album`, with lengths `200`, `120`, and `160`, respectively."
            ],
            "metadata": {
                "azdata_cell_guid": "38370353-143b-4c86-a378-4a56f357834c"
            }
        },
        {
            "cell_type": "code",
            "source": [
                "-- Create the table\n",
                "CREATE TABLE results(\n",
                "\t-- Create track column\n",
                "\ttrack VARCHAR(200),\n",
                "    -- Create artist column\n",
                "\tartist VARCHAR(120),\n",
                "    -- Create album column\n",
                "\talbum VARCHAR(160),\n",
                "\t);"
            ],
            "metadata": {
                "azdata_cell_guid": "2e7a88f4-a40b-47f9-abdc-51705bea947c"
            },
            "outputs": [
                {
                    "output_type": "display_data",
                    "data": {
                        "text/html": "Commands completed successfully."
                    },
                    "metadata": {}
                },
                {
                    "output_type": "display_data",
                    "data": {
                        "text/html": "Total execution time: 00:00:00.040"
                    },
                    "metadata": {}
                }
            ],
            "execution_count": 4
        },
        {
            "cell_type": "markdown",
            "source": [
                "##### Instructions 2/3\n",
                "\n",
                "<span class=\"css-4zhg5y-baseStyle-strongStyle-baseStyle-Badge\" style=\"box-sizing: inherit; font-weight: 800; -webkit-font-smoothing: antialiased; border-radius: 4px; display: inline-block; text-transform: uppercase; background-color: rgb(252, 206, 13); font-size: 14px; line-height: 18px; padding-left: 4px; padding-right: 4px;\">35 XP</span>\n",
                "\n",
                "- Create one integer column called `track_length_mins`."
            ],
            "metadata": {
                "azdata_cell_guid": "cd29352c-9713-4694-82b3-9149ba331272"
            }
        },
        {
            "cell_type": "code",
            "source": [
                "-- Create the table\n",
                "CREATE TABLE results (\n",
                "\t-- Create track column\n",
                "\ttrack VARCHAR(200),\n",
                "    -- Create artist column\n",
                "\tartist VARCHAR(120),\n",
                "    -- Create album column\n",
                "\talbum VARCHAR(160),\n",
                "\t-- Create track_length_mins\n",
                "\ttrack_length_mins INT,\n",
                "\t);"
            ],
            "metadata": {
                "azdata_cell_guid": "6ff906f9-a06a-4518-9eeb-0efb2f2e89d8"
            },
            "outputs": [
                {
                    "output_type": "display_data",
                    "data": {
                        "text/html": "Commands completed successfully."
                    },
                    "metadata": {}
                },
                {
                    "output_type": "display_data",
                    "data": {
                        "text/html": "Total execution time: 00:00:00.007"
                    },
                    "metadata": {}
                }
            ],
            "execution_count": 8
        },
        {
            "cell_type": "code",
            "source": [
                "DROP TABLE results\n",
                "GO"
            ],
            "metadata": {
                "azdata_cell_guid": "a9cb611b-b707-4e38-8933-bd137f9165c3"
            },
            "outputs": [
                {
                    "output_type": "display_data",
                    "data": {
                        "text/html": "Commands completed successfully."
                    },
                    "metadata": {}
                },
                {
                    "output_type": "display_data",
                    "data": {
                        "text/html": "Total execution time: 00:00:00.007"
                    },
                    "metadata": {}
                }
            ],
            "execution_count": 10
        },
        {
            "cell_type": "markdown",
            "source": [
                "##### Instructions 3/3\n",
                "\n",
                "<span class=\"css-4zhg5y-baseStyle-strongStyle-baseStyle-Badge\" style=\"box-sizing: inherit; font-weight: 800; -webkit-font-smoothing: antialiased; border-radius: 4px; display: inline-block; text-transform: uppercase; background-color: rgb(252, 206, 13); font-size: 14px; line-height: 18px; padding-left: 4px; padding-right: 4px;\">30 XP</span>\n",
                "\n",
                "- `SELECT` all the columns from your new table. No rows will be returned, but you can confirm that the table has been created."
            ],
            "metadata": {
                "azdata_cell_guid": "2efe6dc5-70bd-4b15-a392-dccef89d5283"
            }
        },
        {
            "cell_type": "code",
            "source": [
                "-- Create the table\n",
                "CREATE TABLE results (\n",
                "\t-- Create track column\n",
                "\ttrack VARCHAR(200),\n",
                "    -- Create artist column\n",
                "\tartist VARCHAR(120),\n",
                "    -- Create album column\n",
                "\talbum VARCHAR(160),\n",
                "\t-- Create track_length_mins\n",
                "\ttrack_length_mins INT,\n",
                "\t);\n",
                "\n",
                "-- Select all columns from the table\n",
                "SELECT \n",
                "  track,\n",
                "  artist, \n",
                "  album, \n",
                "  track_length_mins \n",
                "FROM \n",
                "  results;"
            ],
            "metadata": {
                "azdata_cell_guid": "4d07a99a-aa68-4368-92e7-eb7790d1de99"
            },
            "outputs": [
                {
                    "output_type": "display_data",
                    "data": {
                        "text/html": "(0 rows affected)"
                    },
                    "metadata": {}
                },
                {
                    "output_type": "display_data",
                    "data": {
                        "text/html": "Total execution time: 00:00:00.008"
                    },
                    "metadata": {}
                },
                {
                    "output_type": "execute_result",
                    "metadata": {
                        "resultSet": {
                            "id": 0,
                            "batchId": 0,
                            "rowCount": 0,
                            "complete": false,
                            "columnInfo": [
                                {
                                    "isBytes": false,
                                    "isChars": true,
                                    "isSqlVariant": false,
                                    "isUdt": false,
                                    "isXml": false,
                                    "isJson": false,
                                    "sqlDbType": 22,
                                    "isHierarchyId": false,
                                    "isSqlXmlType": false,
                                    "isUnknownType": false,
                                    "isUpdatable": true,
                                    "allowDBNull": true,
                                    "baseCatalogName": null,
                                    "baseColumnName": null,
                                    "baseSchemaName": null,
                                    "baseServerName": null,
                                    "baseTableName": null,
                                    "columnName": "track",
                                    "columnOrdinal": 0,
                                    "columnSize": 200,
                                    "isAliased": null,
                                    "isAutoIncrement": false,
                                    "isExpression": null,
                                    "isHidden": null,
                                    "isIdentity": false,
                                    "isKey": null,
                                    "isLong": false,
                                    "isReadOnly": false,
                                    "isUnique": false,
                                    "numericPrecision": 255,
                                    "numericScale": 255,
                                    "udtAssemblyQualifiedName": null,
                                    "dataType": "System.String, System.Private.CoreLib, Version=4.0.0.0, Culture=neutral, PublicKeyToken=7cec85d7bea7798e",
                                    "dataTypeName": "varchar"
                                },
                                {
                                    "isBytes": false,
                                    "isChars": true,
                                    "isSqlVariant": false,
                                    "isUdt": false,
                                    "isXml": false,
                                    "isJson": false,
                                    "sqlDbType": 22,
                                    "isHierarchyId": false,
                                    "isSqlXmlType": false,
                                    "isUnknownType": false,
                                    "isUpdatable": true,
                                    "allowDBNull": true,
                                    "baseCatalogName": null,
                                    "baseColumnName": null,
                                    "baseSchemaName": null,
                                    "baseServerName": null,
                                    "baseTableName": null,
                                    "columnName": "artist",
                                    "columnOrdinal": 1,
                                    "columnSize": 120,
                                    "isAliased": null,
                                    "isAutoIncrement": false,
                                    "isExpression": null,
                                    "isHidden": null,
                                    "isIdentity": false,
                                    "isKey": null,
                                    "isLong": false,
                                    "isReadOnly": false,
                                    "isUnique": false,
                                    "numericPrecision": 255,
                                    "numericScale": 255,
                                    "udtAssemblyQualifiedName": null,
                                    "dataType": "System.String, System.Private.CoreLib, Version=4.0.0.0, Culture=neutral, PublicKeyToken=7cec85d7bea7798e",
                                    "dataTypeName": "varchar"
                                },
                                {
                                    "isBytes": false,
                                    "isChars": true,
                                    "isSqlVariant": false,
                                    "isUdt": false,
                                    "isXml": false,
                                    "isJson": false,
                                    "sqlDbType": 22,
                                    "isHierarchyId": false,
                                    "isSqlXmlType": false,
                                    "isUnknownType": false,
                                    "isUpdatable": true,
                                    "allowDBNull": true,
                                    "baseCatalogName": null,
                                    "baseColumnName": null,
                                    "baseSchemaName": null,
                                    "baseServerName": null,
                                    "baseTableName": null,
                                    "columnName": "album",
                                    "columnOrdinal": 2,
                                    "columnSize": 160,
                                    "isAliased": null,
                                    "isAutoIncrement": false,
                                    "isExpression": null,
                                    "isHidden": null,
                                    "isIdentity": false,
                                    "isKey": null,
                                    "isLong": false,
                                    "isReadOnly": false,
                                    "isUnique": false,
                                    "numericPrecision": 255,
                                    "numericScale": 255,
                                    "udtAssemblyQualifiedName": null,
                                    "dataType": "System.String, System.Private.CoreLib, Version=4.0.0.0, Culture=neutral, PublicKeyToken=7cec85d7bea7798e",
                                    "dataTypeName": "varchar"
                                },
                                {
                                    "isBytes": false,
                                    "isChars": false,
                                    "isSqlVariant": false,
                                    "isUdt": false,
                                    "isXml": false,
                                    "isJson": false,
                                    "sqlDbType": 8,
                                    "isHierarchyId": false,
                                    "isSqlXmlType": false,
                                    "isUnknownType": false,
                                    "isUpdatable": true,
                                    "allowDBNull": true,
                                    "baseCatalogName": null,
                                    "baseColumnName": null,
                                    "baseSchemaName": null,
                                    "baseServerName": null,
                                    "baseTableName": null,
                                    "columnName": "track_length_mins",
                                    "columnOrdinal": 3,
                                    "columnSize": 4,
                                    "isAliased": null,
                                    "isAutoIncrement": false,
                                    "isExpression": null,
                                    "isHidden": null,
                                    "isIdentity": false,
                                    "isKey": null,
                                    "isLong": false,
                                    "isReadOnly": false,
                                    "isUnique": false,
                                    "numericPrecision": 10,
                                    "numericScale": 255,
                                    "udtAssemblyQualifiedName": null,
                                    "dataType": "System.Int32, System.Private.CoreLib, Version=4.0.0.0, Culture=neutral, PublicKeyToken=7cec85d7bea7798e",
                                    "dataTypeName": "int"
                                }
                            ],
                            "specialAction": null
                        }
                    },
                    "execution_count": 11,
                    "data": {
                        "application/vnd.dataresource+json": {
                            "schema": {
                                "fields": [
                                    {
                                        "name": "track"
                                    },
                                    {
                                        "name": "artist"
                                    },
                                    {
                                        "name": "album"
                                    },
                                    {
                                        "name": "track_length_mins"
                                    }
                                ]
                            },
                            "data": []
                        },
                        "text/html": [
                            "<table>",
                            "<tr><th>track</th><th>artist</th><th>album</th><th>track_length_mins</th></tr>",
                            "</table>"
                        ]
                    }
                }
            ],
            "execution_count": 11
        }
    ]
}