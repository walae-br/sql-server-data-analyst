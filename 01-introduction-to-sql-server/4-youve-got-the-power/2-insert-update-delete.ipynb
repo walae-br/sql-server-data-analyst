{
    "metadata": {
        "kernelspec": {
            "name": "SQL",
            "display_name": "SQL",
            "language": "sql"
        },
        "language_info": {
            "name": "sql",
            "version": ""
        }
    },
    "nbformat_minor": 2,
    "nbformat": 4,
    "cells": [
        {
            "cell_type": "code",
            "source": [
                "USE DataCamp\n",
                "GO"
            ],
            "metadata": {
                "azdata_cell_guid": "af58d723-213d-4e80-ae2e-6aadc6927232"
            },
            "outputs": [
                {
                    "output_type": "display_data",
                    "data": {
                        "text/html": "Commands completed successfully."
                    },
                    "metadata": {}
                },
                {
                    "output_type": "display_data",
                    "data": {
                        "text/html": "Total execution time: 00:00:00.001"
                    },
                    "metadata": {}
                }
            ],
            "execution_count": 2
        },
        {
            "cell_type": "markdown",
            "source": [
                "# Insert\n",
                "\n",
                "This exercise consists of two parts: In the first, you'll create a new table very similar to the one you created in the previous interactive exercise. After that, you'll insert some data and retrieve it.\n",
                "\n",
                "You'll continue working with the Chinook database here.\n",
                "\n",
                "##### Instructions 1/2\n",
                "\n",
                "<span class=\"css-4zhg5y-baseStyle-strongStyle-baseStyle-Badge\" style=\"box-sizing: inherit; font-weight: 800; -webkit-font-smoothing: antialiased; border-radius: 4px; display: inline-block; text-transform: uppercase; background-color: rgb(252, 206, 13); font-size: 14px; line-height: 18px; padding-left: 4px; padding-right: 4px;\">50 XP</span>\n",
                "\n",
                "- Create a table called `tracks` with 2 `VARCHAR` columns named `track` and `album`, and one integer column named `track_length_mins`. Then, select all columns from the new table using the `*` notation."
            ],
            "metadata": {
                "azdata_cell_guid": "6aa4b51b-f7dc-447f-8ce4-864be9559662"
            }
        },
        {
            "cell_type": "code",
            "source": [
                "-- Create the table\n",
                "CREATE TABLE tracks(\n",
                "\t-- Create track column\n",
                "\ttrack VARCHAR(200),\n",
                "    -- Create album column\n",
                "  \talbum VARCHAR(160),\n",
                "\t-- Create track_length_mins column\n",
                "\ttrack_length_mins INT\n",
                ");\n",
                "-- Select all columns from the new table\n",
                "SELECT \n",
                "  * \n",
                "FROM \n",
                "  tracks;"
            ],
            "metadata": {
                "azdata_cell_guid": "f1029cf5-8dfc-450c-baf0-46404a2bd111"
            },
            "outputs": [
                {
                    "output_type": "display_data",
                    "data": {
                        "text/html": "(0 rows affected)"
                    },
                    "metadata": {}
                },
                {
                    "output_type": "display_data",
                    "data": {
                        "text/html": "Total execution time: 00:00:00.014"
                    },
                    "metadata": {}
                },
                {
                    "output_type": "execute_result",
                    "metadata": {
                        "resultSet": {
                            "id": 0,
                            "batchId": 0,
                            "rowCount": 0,
                            "complete": false,
                            "columnInfo": [
                                {
                                    "isBytes": false,
                                    "isChars": true,
                                    "isSqlVariant": false,
                                    "isUdt": false,
                                    "isXml": false,
                                    "isJson": false,
                                    "sqlDbType": 22,
                                    "isHierarchyId": false,
                                    "isSqlXmlType": false,
                                    "isUnknownType": false,
                                    "isUpdatable": true,
                                    "allowDBNull": true,
                                    "baseCatalogName": null,
                                    "baseColumnName": null,
                                    "baseSchemaName": null,
                                    "baseServerName": null,
                                    "baseTableName": null,
                                    "columnName": "track",
                                    "columnOrdinal": 0,
                                    "columnSize": 200,
                                    "isAliased": null,
                                    "isAutoIncrement": false,
                                    "isExpression": null,
                                    "isHidden": null,
                                    "isIdentity": false,
                                    "isKey": null,
                                    "isLong": false,
                                    "isReadOnly": false,
                                    "isUnique": false,
                                    "numericPrecision": 255,
                                    "numericScale": 255,
                                    "udtAssemblyQualifiedName": null,
                                    "dataType": "System.String, System.Private.CoreLib, Version=4.0.0.0, Culture=neutral, PublicKeyToken=7cec85d7bea7798e",
                                    "dataTypeName": "varchar"
                                },
                                {
                                    "isBytes": false,
                                    "isChars": true,
                                    "isSqlVariant": false,
                                    "isUdt": false,
                                    "isXml": false,
                                    "isJson": false,
                                    "sqlDbType": 22,
                                    "isHierarchyId": false,
                                    "isSqlXmlType": false,
                                    "isUnknownType": false,
                                    "isUpdatable": true,
                                    "allowDBNull": true,
                                    "baseCatalogName": null,
                                    "baseColumnName": null,
                                    "baseSchemaName": null,
                                    "baseServerName": null,
                                    "baseTableName": null,
                                    "columnName": "album",
                                    "columnOrdinal": 1,
                                    "columnSize": 160,
                                    "isAliased": null,
                                    "isAutoIncrement": false,
                                    "isExpression": null,
                                    "isHidden": null,
                                    "isIdentity": false,
                                    "isKey": null,
                                    "isLong": false,
                                    "isReadOnly": false,
                                    "isUnique": false,
                                    "numericPrecision": 255,
                                    "numericScale": 255,
                                    "udtAssemblyQualifiedName": null,
                                    "dataType": "System.String, System.Private.CoreLib, Version=4.0.0.0, Culture=neutral, PublicKeyToken=7cec85d7bea7798e",
                                    "dataTypeName": "varchar"
                                },
                                {
                                    "isBytes": false,
                                    "isChars": false,
                                    "isSqlVariant": false,
                                    "isUdt": false,
                                    "isXml": false,
                                    "isJson": false,
                                    "sqlDbType": 8,
                                    "isHierarchyId": false,
                                    "isSqlXmlType": false,
                                    "isUnknownType": false,
                                    "isUpdatable": true,
                                    "allowDBNull": true,
                                    "baseCatalogName": null,
                                    "baseColumnName": null,
                                    "baseSchemaName": null,
                                    "baseServerName": null,
                                    "baseTableName": null,
                                    "columnName": "track_length_mins",
                                    "columnOrdinal": 2,
                                    "columnSize": 4,
                                    "isAliased": null,
                                    "isAutoIncrement": false,
                                    "isExpression": null,
                                    "isHidden": null,
                                    "isIdentity": false,
                                    "isKey": null,
                                    "isLong": false,
                                    "isReadOnly": false,
                                    "isUnique": false,
                                    "numericPrecision": 10,
                                    "numericScale": 255,
                                    "udtAssemblyQualifiedName": null,
                                    "dataType": "System.Int32, System.Private.CoreLib, Version=4.0.0.0, Culture=neutral, PublicKeyToken=7cec85d7bea7798e",
                                    "dataTypeName": "int"
                                }
                            ],
                            "specialAction": null
                        }
                    },
                    "execution_count": 3,
                    "data": {
                        "application/vnd.dataresource+json": {
                            "schema": {
                                "fields": [
                                    {
                                        "name": "track"
                                    },
                                    {
                                        "name": "album"
                                    },
                                    {
                                        "name": "track_length_mins"
                                    }
                                ]
                            },
                            "data": []
                        },
                        "text/html": [
                            "<table>",
                            "<tr><th>track</th><th>album</th><th>track_length_mins</th></tr>",
                            "</table>"
                        ]
                    }
                }
            ],
            "execution_count": 3
        },
        {
            "cell_type": "markdown",
            "source": [
                "- Insert the track `'Basket Case'`, from the album `'Dookie'`, with a track length of `3`, into the appropriate columns."
            ],
            "metadata": {
                "azdata_cell_guid": "4884255d-1c52-4aff-91e5-70d833a1d3c5"
            }
        },
        {
            "cell_type": "code",
            "source": [
                "DROP TABLE tracks\n",
                "GO\n",
                "\n",
                "-- Create the table\n",
                "CREATE TABLE tracks(\n",
                "  -- Create track column\n",
                "  track VARCHAR(200), \n",
                "  -- Create album column\n",
                "  album VARCHAR(160), \n",
                "  -- Create track_length_mins column\n",
                "  track_length_mins INT\n",
                ");\n",
                "-- Complete the statement to enter the data to the table         \n",
                "INSERT INTO tracks\n",
                "-- Specify the destination columns\n",
                "(track, album, track_length_mins)\n",
                "-- Insert the appropriate values for track, album and track length\n",
                "VALUES\n",
                "  ('Basket Case', 'Dookie', 3);\n",
                "-- Select all columns from the new table\n",
                "SELECT \n",
                "  *\n",
                "FROM \n",
                "  tracks;"
            ],
            "metadata": {
                "azdata_cell_guid": "05603642-41f1-41e5-a747-a90d7ed315cb"
            },
            "outputs": [
                {
                    "output_type": "display_data",
                    "data": {
                        "text/html": "Commands completed successfully."
                    },
                    "metadata": {}
                },
                {
                    "output_type": "display_data",
                    "data": {
                        "text/html": "(1 row affected)"
                    },
                    "metadata": {}
                },
                {
                    "output_type": "display_data",
                    "data": {
                        "text/html": "(1 row affected)"
                    },
                    "metadata": {}
                },
                {
                    "output_type": "display_data",
                    "data": {
                        "text/html": "Total execution time: 00:00:00.025"
                    },
                    "metadata": {}
                },
                {
                    "output_type": "execute_result",
                    "metadata": {
                        "resultSet": {
                            "id": 0,
                            "batchId": 1,
                            "rowCount": 1,
                            "complete": true,
                            "columnInfo": [
                                {
                                    "isBytes": false,
                                    "isChars": true,
                                    "isSqlVariant": false,
                                    "isUdt": false,
                                    "isXml": false,
                                    "isJson": false,
                                    "sqlDbType": 22,
                                    "isHierarchyId": false,
                                    "isSqlXmlType": false,
                                    "isUnknownType": false,
                                    "isUpdatable": true,
                                    "allowDBNull": true,
                                    "baseCatalogName": null,
                                    "baseColumnName": null,
                                    "baseSchemaName": null,
                                    "baseServerName": null,
                                    "baseTableName": null,
                                    "columnName": "track",
                                    "columnOrdinal": 0,
                                    "columnSize": 200,
                                    "isAliased": null,
                                    "isAutoIncrement": false,
                                    "isExpression": null,
                                    "isHidden": null,
                                    "isIdentity": false,
                                    "isKey": null,
                                    "isLong": false,
                                    "isReadOnly": false,
                                    "isUnique": false,
                                    "numericPrecision": 255,
                                    "numericScale": 255,
                                    "udtAssemblyQualifiedName": null,
                                    "dataType": "System.String, System.Private.CoreLib, Version=4.0.0.0, Culture=neutral, PublicKeyToken=7cec85d7bea7798e",
                                    "dataTypeName": "varchar"
                                },
                                {
                                    "isBytes": false,
                                    "isChars": true,
                                    "isSqlVariant": false,
                                    "isUdt": false,
                                    "isXml": false,
                                    "isJson": false,
                                    "sqlDbType": 22,
                                    "isHierarchyId": false,
                                    "isSqlXmlType": false,
                                    "isUnknownType": false,
                                    "isUpdatable": true,
                                    "allowDBNull": true,
                                    "baseCatalogName": null,
                                    "baseColumnName": null,
                                    "baseSchemaName": null,
                                    "baseServerName": null,
                                    "baseTableName": null,
                                    "columnName": "album",
                                    "columnOrdinal": 1,
                                    "columnSize": 160,
                                    "isAliased": null,
                                    "isAutoIncrement": false,
                                    "isExpression": null,
                                    "isHidden": null,
                                    "isIdentity": false,
                                    "isKey": null,
                                    "isLong": false,
                                    "isReadOnly": false,
                                    "isUnique": false,
                                    "numericPrecision": 255,
                                    "numericScale": 255,
                                    "udtAssemblyQualifiedName": null,
                                    "dataType": "System.String, System.Private.CoreLib, Version=4.0.0.0, Culture=neutral, PublicKeyToken=7cec85d7bea7798e",
                                    "dataTypeName": "varchar"
                                },
                                {
                                    "isBytes": false,
                                    "isChars": false,
                                    "isSqlVariant": false,
                                    "isUdt": false,
                                    "isXml": false,
                                    "isJson": false,
                                    "sqlDbType": 8,
                                    "isHierarchyId": false,
                                    "isSqlXmlType": false,
                                    "isUnknownType": false,
                                    "isUpdatable": true,
                                    "allowDBNull": true,
                                    "baseCatalogName": null,
                                    "baseColumnName": null,
                                    "baseSchemaName": null,
                                    "baseServerName": null,
                                    "baseTableName": null,
                                    "columnName": "track_length_mins",
                                    "columnOrdinal": 2,
                                    "columnSize": 4,
                                    "isAliased": null,
                                    "isAutoIncrement": false,
                                    "isExpression": null,
                                    "isHidden": null,
                                    "isIdentity": false,
                                    "isKey": null,
                                    "isLong": false,
                                    "isReadOnly": false,
                                    "isUnique": false,
                                    "numericPrecision": 10,
                                    "numericScale": 255,
                                    "udtAssemblyQualifiedName": null,
                                    "dataType": "System.Int32, System.Private.CoreLib, Version=4.0.0.0, Culture=neutral, PublicKeyToken=7cec85d7bea7798e",
                                    "dataTypeName": "int"
                                }
                            ],
                            "specialAction": {
                                "none": true,
                                "expectYukonXMLShowPlan": false
                            }
                        }
                    },
                    "execution_count": 5,
                    "data": {
                        "application/vnd.dataresource+json": {
                            "schema": {
                                "fields": [
                                    {
                                        "name": "track"
                                    },
                                    {
                                        "name": "album"
                                    },
                                    {
                                        "name": "track_length_mins"
                                    }
                                ]
                            },
                            "data": [
                                {
                                    "0": "Basket Case",
                                    "1": "Dookie",
                                    "2": "3"
                                }
                            ]
                        },
                        "text/html": [
                            "<table>",
                            "<tr><th>track</th><th>album</th><th>track_length_mins</th></tr>",
                            "<tr><td>Basket Case</td><td>Dookie</td><td>3</td></tr>",
                            "</table>"
                        ]
                    }
                }
            ],
            "execution_count": 5
        },
        {
            "cell_type": "code",
            "source": [
                "USE Chinook\n",
                "GO"
            ],
            "metadata": {
                "azdata_cell_guid": "b4141d9c-4b12-4c95-aa9d-9ded2e0849dc"
            },
            "outputs": [
                {
                    "output_type": "display_data",
                    "data": {
                        "text/html": "Commands completed successfully."
                    },
                    "metadata": {}
                },
                {
                    "output_type": "display_data",
                    "data": {
                        "text/html": "Total execution time: 00:00:00"
                    },
                    "metadata": {}
                }
            ],
            "execution_count": 8
        },
        {
            "cell_type": "markdown",
            "source": [
                "# Update\n",
                "\n",
                "You may sometimes have to update the rows in a table. For example, in the `album` table, there is a row with a very long album title, and you may want to shorten it.\n",
                "\n",
                "You don't want to delete the record - you just want to update it in place. To do this, you need to specify the `album_id` to ensure that only the desired row is updated and all others are not modified.\n",
                "\n",
                "##### Instructions 1/3\n",
                "\n",
                "<span class=\"css-4zhg5y-baseStyle-strongStyle-baseStyle-Badge\" style=\"box-sizing: inherit; font-weight: 800; -webkit-font-smoothing: antialiased; border-radius: 4px; display: inline-block; text-transform: uppercase; background-color: rgb(252, 206, 13); font-size: 14px; line-height: 18px; padding-left: 4px; padding-right: 4px;\">35 XP</span>\n",
                "\n",
                "- Select the `title` column from the `album` table where the `album_id` is `213`."
            ],
            "metadata": {
                "azdata_cell_guid": "9d5ac4de-0584-4e5f-bfe3-a8cd1dbe85c5"
            }
        },
        {
            "cell_type": "code",
            "source": [
                "-- Select the album\n",
                "SELECT \n",
                "  title \n",
                "FROM \n",
                "  album \n",
                "WHERE \n",
                "  album_id = 213;"
            ],
            "metadata": {
                "azdata_cell_guid": "cc5bfcb3-bd4a-408a-bd49-a388aa2e3ecd"
            },
            "outputs": [
                {
                    "output_type": "display_data",
                    "data": {
                        "text/html": "(1 row affected)"
                    },
                    "metadata": {}
                },
                {
                    "output_type": "display_data",
                    "data": {
                        "text/html": "Total execution time: 00:00:00.003"
                    },
                    "metadata": {}
                },
                {
                    "output_type": "execute_result",
                    "metadata": {
                        "resultSet": {
                            "id": 0,
                            "batchId": 0,
                            "rowCount": 1,
                            "complete": true,
                            "columnInfo": [
                                {
                                    "isBytes": false,
                                    "isChars": true,
                                    "isSqlVariant": false,
                                    "isUdt": false,
                                    "isXml": false,
                                    "isJson": false,
                                    "sqlDbType": 12,
                                    "isHierarchyId": false,
                                    "isSqlXmlType": false,
                                    "isUnknownType": false,
                                    "isUpdatable": true,
                                    "allowDBNull": false,
                                    "baseCatalogName": null,
                                    "baseColumnName": null,
                                    "baseSchemaName": null,
                                    "baseServerName": null,
                                    "baseTableName": null,
                                    "columnName": "title",
                                    "columnOrdinal": 0,
                                    "columnSize": 160,
                                    "isAliased": null,
                                    "isAutoIncrement": false,
                                    "isExpression": null,
                                    "isHidden": null,
                                    "isIdentity": false,
                                    "isKey": null,
                                    "isLong": false,
                                    "isReadOnly": false,
                                    "isUnique": false,
                                    "numericPrecision": 255,
                                    "numericScale": 255,
                                    "udtAssemblyQualifiedName": null,
                                    "dataType": "System.String, System.Private.CoreLib, Version=4.0.0.0, Culture=neutral, PublicKeyToken=7cec85d7bea7798e",
                                    "dataTypeName": "nvarchar"
                                }
                            ],
                            "specialAction": {
                                "none": true,
                                "expectYukonXMLShowPlan": false
                            }
                        }
                    },
                    "execution_count": 9,
                    "data": {
                        "application/vnd.dataresource+json": {
                            "schema": {
                                "fields": [
                                    {
                                        "name": "title"
                                    }
                                ]
                            },
                            "data": [
                                {
                                    "0": "Pure Cult: The Best Of The Cult (For Rockers, Ravers, Lovers & Sinners) [UK]"
                                }
                            ]
                        },
                        "text/html": [
                            "<table>",
                            "<tr><th>title</th></tr>",
                            "<tr><td>Pure Cult: The Best Of The Cult (For Rockers, Ravers, Lovers &amp; Sinners) [UK]</td></tr>",
                            "</table>"
                        ]
                    }
                }
            ],
            "execution_count": 9
        },
        {
            "cell_type": "markdown",
            "source": [
                "- That's a very long album title, isn't it? Use an `UPDATE` statement to modify the `title` to `'Pure Cult: The Best Of The Cult'`."
            ],
            "metadata": {
                "azdata_cell_guid": "0af3d893-c92c-4e6a-a70e-b9bd0fac2066"
            }
        },
        {
            "cell_type": "code",
            "source": [
                "-- Run the query\n",
                "SELECT \n",
                "  title \n",
                "FROM \n",
                "  album \n",
                "WHERE \n",
                "  album_id = 213;\n",
                "-- UPDATE the album table\n",
                "UPDATE \n",
                "  album\n",
                "-- SET the new title    \n",
                "SET \n",
                "  title = 'Pure Cult: The Best Of The Cult'\n",
                "WHERE album_id = 213;"
            ],
            "metadata": {
                "azdata_cell_guid": "9e26d673-d323-4848-9bc4-198b75343b37"
            },
            "outputs": [
                {
                    "output_type": "display_data",
                    "data": {
                        "text/html": "(1 row affected)"
                    },
                    "metadata": {}
                },
                {
                    "output_type": "display_data",
                    "data": {
                        "text/html": "(1 row affected)"
                    },
                    "metadata": {}
                },
                {
                    "output_type": "display_data",
                    "data": {
                        "text/html": "Total execution time: 00:00:00.007"
                    },
                    "metadata": {}
                },
                {
                    "output_type": "execute_result",
                    "metadata": {
                        "resultSet": {
                            "id": 0,
                            "batchId": 0,
                            "rowCount": 1,
                            "complete": true,
                            "columnInfo": [
                                {
                                    "isBytes": false,
                                    "isChars": true,
                                    "isSqlVariant": false,
                                    "isUdt": false,
                                    "isXml": false,
                                    "isJson": false,
                                    "sqlDbType": 12,
                                    "isHierarchyId": false,
                                    "isSqlXmlType": false,
                                    "isUnknownType": false,
                                    "isUpdatable": true,
                                    "allowDBNull": false,
                                    "baseCatalogName": null,
                                    "baseColumnName": null,
                                    "baseSchemaName": null,
                                    "baseServerName": null,
                                    "baseTableName": null,
                                    "columnName": "title",
                                    "columnOrdinal": 0,
                                    "columnSize": 160,
                                    "isAliased": null,
                                    "isAutoIncrement": false,
                                    "isExpression": null,
                                    "isHidden": null,
                                    "isIdentity": false,
                                    "isKey": null,
                                    "isLong": false,
                                    "isReadOnly": false,
                                    "isUnique": false,
                                    "numericPrecision": 255,
                                    "numericScale": 255,
                                    "udtAssemblyQualifiedName": null,
                                    "dataType": "System.String, System.Private.CoreLib, Version=4.0.0.0, Culture=neutral, PublicKeyToken=7cec85d7bea7798e",
                                    "dataTypeName": "nvarchar"
                                }
                            ],
                            "specialAction": {
                                "none": true,
                                "expectYukonXMLShowPlan": false
                            }
                        }
                    },
                    "execution_count": 10,
                    "data": {
                        "application/vnd.dataresource+json": {
                            "schema": {
                                "fields": [
                                    {
                                        "name": "title"
                                    }
                                ]
                            },
                            "data": [
                                {
                                    "0": "Pure Cult: The Best Of The Cult (For Rockers, Ravers, Lovers & Sinners) [UK]"
                                }
                            ]
                        },
                        "text/html": [
                            "<table>",
                            "<tr><th>title</th></tr>",
                            "<tr><td>Pure Cult: The Best Of The Cult (For Rockers, Ravers, Lovers &amp; Sinners) [UK]</td></tr>",
                            "</table>"
                        ]
                    }
                }
            ],
            "execution_count": 10
        },
        {
            "cell_type": "markdown",
            "source": [
                "- Hit 'Submit Answer' to see whether or not the album title was shortened!"
            ],
            "metadata": {
                "azdata_cell_guid": "7e090be3-0984-4aa2-a9f2-d328d195f54a"
            }
        },
        {
            "cell_type": "code",
            "source": [
                "-- Select the album\n",
                "SELECT \n",
                "  title \n",
                "FROM \n",
                "  album \n",
                "WHERE \n",
                "  album_id = 213;\n",
                "-- UPDATE the title of the album\n",
                "UPDATE \n",
                "  album \n",
                "SET \n",
                "  title = 'Pure Cult: The Best Of The Cult' \n",
                "WHERE \n",
                "  album_id = 213;\n",
                "-- Run the query again\n",
                "SELECT \n",
                "  title \n",
                "FROM \n",
                "  album ;"
            ],
            "metadata": {
                "azdata_cell_guid": "89e3a128-6862-4de3-87d4-24cb5b00fb16"
            },
            "outputs": [
                {
                    "output_type": "display_data",
                    "data": {
                        "text/html": "(1 row affected)"
                    },
                    "metadata": {}
                },
                {
                    "output_type": "display_data",
                    "data": {
                        "text/html": "(1 row affected)"
                    },
                    "metadata": {}
                },
                {
                    "output_type": "display_data",
                    "data": {
                        "text/html": "(347 rows affected)"
                    },
                    "metadata": {}
                },
                {
                    "output_type": "display_data",
                    "data": {
                        "text/html": "Total execution time: 00:00:00.008"
                    },
                    "metadata": {}
                },
                {
                    "output_type": "execute_result",
                    "metadata": {
                        "resultSet": {
                            "id": 0,
                            "batchId": 0,
                            "rowCount": 1,
                            "complete": true,
                            "columnInfo": [
                                {
                                    "isBytes": false,
                                    "isChars": true,
                                    "isSqlVariant": false,
                                    "isUdt": false,
                                    "isXml": false,
                                    "isJson": false,
                                    "sqlDbType": 12,
                                    "isHierarchyId": false,
                                    "isSqlXmlType": false,
                                    "isUnknownType": false,
                                    "isUpdatable": true,
                                    "allowDBNull": false,
                                    "baseCatalogName": null,
                                    "baseColumnName": null,
                                    "baseSchemaName": null,
                                    "baseServerName": null,
                                    "baseTableName": null,
                                    "columnName": "title",
                                    "columnOrdinal": 0,
                                    "columnSize": 160,
                                    "isAliased": null,
                                    "isAutoIncrement": false,
                                    "isExpression": null,
                                    "isHidden": null,
                                    "isIdentity": false,
                                    "isKey": null,
                                    "isLong": false,
                                    "isReadOnly": false,
                                    "isUnique": false,
                                    "numericPrecision": 255,
                                    "numericScale": 255,
                                    "udtAssemblyQualifiedName": null,
                                    "dataType": "System.String, System.Private.CoreLib, Version=4.0.0.0, Culture=neutral, PublicKeyToken=7cec85d7bea7798e",
                                    "dataTypeName": "nvarchar"
                                }
                            ],
                            "specialAction": {
                                "none": true,
                                "expectYukonXMLShowPlan": false
                            }
                        }
                    },
                    "execution_count": 11,
                    "data": {
                        "application/vnd.dataresource+json": {
                            "schema": {
                                "fields": [
                                    {
                                        "name": "title"
                                    }
                                ]
                            },
                            "data": [
                                {
                                    "0": "Pure Cult: The Best Of The Cult"
                                }
                            ]
                        },
                        "text/html": [
                            "<table>",
                            "<tr><th>title</th></tr>",
                            "<tr><td>Pure Cult: The Best Of The Cult</td></tr>",
                            "</table>"
                        ]
                    }
                },
                {
                    "output_type": "execute_result",
                    "metadata": {
                        "resultSet": {
                            "id": 1,
                            "batchId": 0,
                            "rowCount": 347,
                            "complete": true,
                            "columnInfo": [
                                {
                                    "isBytes": false,
                                    "isChars": true,
                                    "isSqlVariant": false,
                                    "isUdt": false,
                                    "isXml": false,
                                    "isJson": false,
                                    "sqlDbType": 12,
                                    "isHierarchyId": false,
                                    "isSqlXmlType": false,
                                    "isUnknownType": false,
                                    "isUpdatable": true,
                                    "allowDBNull": false,
                                    "baseCatalogName": null,
                                    "baseColumnName": null,
                                    "baseSchemaName": null,
                                    "baseServerName": null,
                                    "baseTableName": null,
                                    "columnName": "title",
                                    "columnOrdinal": 0,
                                    "columnSize": 160,
                                    "isAliased": null,
                                    "isAutoIncrement": false,
                                    "isExpression": null,
                                    "isHidden": null,
                                    "isIdentity": false,
                                    "isKey": null,
                                    "isLong": false,
                                    "isReadOnly": false,
                                    "isUnique": false,
                                    "numericPrecision": 255,
                                    "numericScale": 255,
                                    "udtAssemblyQualifiedName": null,
                                    "dataType": "System.String, System.Private.CoreLib, Version=4.0.0.0, Culture=neutral, PublicKeyToken=7cec85d7bea7798e",
                                    "dataTypeName": "nvarchar"
                                }
                            ],
                            "specialAction": {
                                "none": true,
                                "expectYukonXMLShowPlan": false
                            }
                        }
                    },
                    "execution_count": 11,
                    "data": {
                        "application/vnd.dataresource+json": {
                            "schema": {
                                "fields": [
                                    {
                                        "name": "title"
                                    }
                                ]
                            },
                            "data": [
                                {
                                    "0": "For Those About To Rock We Salute You"
                                },
                                {
                                    "0": "Balls to the Wall"
                                },
                                {
                                    "0": "Restless and Wild"
                                },
                                {
                                    "0": "Let There Be Rock"
                                },
                                {
                                    "0": "Big Ones"
                                },
                                {
                                    "0": "Jagged Little Pill"
                                },
                                {
                                    "0": "Facelift"
                                },
                                {
                                    "0": "Warner 25 Anos"
                                },
                                {
                                    "0": "Plays Metallica By Four Cellos"
                                },
                                {
                                    "0": "Audioslave"
                                },
                                {
                                    "0": "Out Of Exile"
                                },
                                {
                                    "0": "BackBeat Soundtrack"
                                },
                                {
                                    "0": "The Best Of Billy Cobham"
                                },
                                {
                                    "0": "Alcohol Fueled Brewtality Live! [Disc 1]"
                                },
                                {
                                    "0": "Alcohol Fueled Brewtality Live! [Disc 2]"
                                },
                                {
                                    "0": "Black Sabbath"
                                },
                                {
                                    "0": "Black Sabbath Vol. 4 (Remaster)"
                                },
                                {
                                    "0": "Body Count"
                                },
                                {
                                    "0": "Chemical Wedding"
                                },
                                {
                                    "0": "The Best Of Buddy Guy - The Millenium Collection"
                                },
                                {
                                    "0": "Prenda Minha"
                                },
                                {
                                    "0": "Sozinho Remix Ao Vivo"
                                },
                                {
                                    "0": "Minha Historia"
                                },
                                {
                                    "0": "Afrociberdelia"
                                },
                                {
                                    "0": "Da Lama Ao Caos"
                                },
                                {
                                    "0": "Acústico MTV [Live]"
                                },
                                {
                                    "0": "Cidade Negra - Hits"
                                },
                                {
                                    "0": "Na Pista"
                                },
                                {
                                    "0": "Axé Bahia 2001"
                                },
                                {
                                    "0": "BBC Sessions [Disc 1] [Live]"
                                },
                                {
                                    "0": "Bongo Fury"
                                },
                                {
                                    "0": "Carnaval 2001"
                                },
                                {
                                    "0": "Chill: Brazil (Disc 1)"
                                },
                                {
                                    "0": "Chill: Brazil (Disc 2)"
                                },
                                {
                                    "0": "Garage Inc. (Disc 1)"
                                },
                                {
                                    "0": "Greatest Hits II"
                                },
                                {
                                    "0": "Greatest Kiss"
                                },
                                {
                                    "0": "Heart of the Night"
                                },
                                {
                                    "0": "International Superhits"
                                },
                                {
                                    "0": "Into The Light"
                                },
                                {
                                    "0": "Meus Momentos"
                                },
                                {
                                    "0": "Minha História"
                                },
                                {
                                    "0": "MK III The Final Concerts [Disc 1]"
                                },
                                {
                                    "0": "Physical Graffiti [Disc 1]"
                                },
                                {
                                    "0": "Sambas De Enredo 2001"
                                },
                                {
                                    "0": "Supernatural"
                                },
                                {
                                    "0": "The Best of Ed Motta"
                                },
                                {
                                    "0": "The Essential Miles Davis [Disc 1]"
                                },
                                {
                                    "0": "The Essential Miles Davis [Disc 2]"
                                },
                                {
                                    "0": "The Final Concerts (Disc 2)"
                                },
                                {
                                    "0": "Up An' Atom"
                                },
                                {
                                    "0": "Vinícius De Moraes - Sem Limite"
                                },
                                {
                                    "0": "Vozes do MPB"
                                },
                                {
                                    "0": "Chronicle, Vol. 1"
                                },
                                {
                                    "0": "Chronicle, Vol. 2"
                                },
                                {
                                    "0": "Cássia Eller - Coleção Sem Limite [Disc 2]"
                                },
                                {
                                    "0": "Cássia Eller - Sem Limite [Disc 1]"
                                },
                                {
                                    "0": "Come Taste The Band"
                                },
                                {
                                    "0": "Deep Purple In Rock"
                                },
                                {
                                    "0": "Fireball"
                                },
                                {
                                    "0": "Knocking at Your Back Door: The Best Of Deep Purple in the 80's"
                                },
                                {
                                    "0": "Machine Head"
                                },
                                {
                                    "0": "Purpendicular"
                                },
                                {
                                    "0": "Slaves And Masters"
                                },
                                {
                                    "0": "Stormbringer"
                                },
                                {
                                    "0": "The Battle Rages On"
                                },
                                {
                                    "0": "Vault: Def Leppard's Greatest Hits"
                                },
                                {
                                    "0": "Outbreak"
                                },
                                {
                                    "0": "Djavan Ao Vivo - Vol. 02"
                                },
                                {
                                    "0": "Djavan Ao Vivo - Vol. 1"
                                },
                                {
                                    "0": "Elis Regina-Minha História"
                                },
                                {
                                    "0": "The Cream Of Clapton"
                                },
                                {
                                    "0": "Unplugged"
                                },
                                {
                                    "0": "Album Of The Year"
                                },
                                {
                                    "0": "Angel Dust"
                                },
                                {
                                    "0": "King For A Day Fool For A Lifetime"
                                },
                                {
                                    "0": "The Real Thing"
                                },
                                {
                                    "0": "Deixa Entrar"
                                },
                                {
                                    "0": "In Your Honor [Disc 1]"
                                },
                                {
                                    "0": "In Your Honor [Disc 2]"
                                },
                                {
                                    "0": "One By One"
                                },
                                {
                                    "0": "The Colour And The Shape"
                                },
                                {
                                    "0": "My Way: The Best Of Frank Sinatra [Disc 1]"
                                },
                                {
                                    "0": "Roda De Funk"
                                },
                                {
                                    "0": "As Canções de Eu Tu Eles"
                                },
                                {
                                    "0": "Quanta Gente Veio Ver (Live)"
                                },
                                {
                                    "0": "Quanta Gente Veio ver--Bônus De Carnaval"
                                },
                                {
                                    "0": "Faceless"
                                },
                                {
                                    "0": "American Idiot"
                                },
                                {
                                    "0": "Appetite for Destruction"
                                },
                                {
                                    "0": "Use Your Illusion I"
                                },
                                {
                                    "0": "Use Your Illusion II"
                                },
                                {
                                    "0": "Blue Moods"
                                },
                                {
                                    "0": "A Matter of Life and Death"
                                },
                                {
                                    "0": "A Real Dead One"
                                },
                                {
                                    "0": "A Real Live One"
                                },
                                {
                                    "0": "Brave New World"
                                },
                                {
                                    "0": "Dance Of Death"
                                },
                                {
                                    "0": "Fear Of The Dark"
                                },
                                {
                                    "0": "Iron Maiden"
                                },
                                {
                                    "0": "Killers"
                                },
                                {
                                    "0": "Live After Death"
                                },
                                {
                                    "0": "Live At Donington 1992 (Disc 1)"
                                },
                                {
                                    "0": "Live At Donington 1992 (Disc 2)"
                                },
                                {
                                    "0": "No Prayer For The Dying"
                                },
                                {
                                    "0": "Piece Of Mind"
                                },
                                {
                                    "0": "Powerslave"
                                },
                                {
                                    "0": "Rock In Rio [CD1]"
                                },
                                {
                                    "0": "Rock In Rio [CD2]"
                                },
                                {
                                    "0": "Seventh Son of a Seventh Son"
                                },
                                {
                                    "0": "Somewhere in Time"
                                },
                                {
                                    "0": "The Number of The Beast"
                                },
                                {
                                    "0": "The X Factor"
                                },
                                {
                                    "0": "Virtual XI"
                                },
                                {
                                    "0": "Sex Machine"
                                },
                                {
                                    "0": "Emergency On Planet Earth"
                                },
                                {
                                    "0": "Synkronized"
                                },
                                {
                                    "0": "The Return Of The Space Cowboy"
                                },
                                {
                                    "0": "Get Born"
                                },
                                {
                                    "0": "Are You Experienced?"
                                },
                                {
                                    "0": "Surfing with the Alien (Remastered)"
                                },
                                {
                                    "0": "Jorge Ben Jor 25 Anos"
                                },
                                {
                                    "0": "Jota Quest-1995"
                                },
                                {
                                    "0": "Cafezinho"
                                },
                                {
                                    "0": "Living After Midnight"
                                },
                                {
                                    "0": "Unplugged [Live]"
                                },
                                {
                                    "0": "BBC Sessions [Disc 2] [Live]"
                                },
                                {
                                    "0": "Coda"
                                },
                                {
                                    "0": "Houses Of The Holy"
                                },
                                {
                                    "0": "In Through The Out Door"
                                },
                                {
                                    "0": "IV"
                                },
                                {
                                    "0": "Led Zeppelin I"
                                },
                                {
                                    "0": "Led Zeppelin II"
                                },
                                {
                                    "0": "Led Zeppelin III"
                                },
                                {
                                    "0": "Physical Graffiti [Disc 2]"
                                },
                                {
                                    "0": "Presence"
                                },
                                {
                                    "0": "The Song Remains The Same (Disc 1)"
                                },
                                {
                                    "0": "The Song Remains The Same (Disc 2)"
                                },
                                {
                                    "0": "A TempestadeTempestade Ou O Livro Dos Dias"
                                },
                                {
                                    "0": "Mais Do Mesmo"
                                },
                                {
                                    "0": "Greatest Hits"
                                },
                                {
                                    "0": "Lulu Santos - RCA 100 Anos De Música - Álbum 01"
                                },
                                {
                                    "0": "Lulu Santos - RCA 100 Anos De Música - Álbum 02"
                                },
                                {
                                    "0": "Misplaced Childhood"
                                },
                                {
                                    "0": "Barulhinho Bom"
                                },
                                {
                                    "0": "Seek And Shall Find: More Of The Best (1963-1981)"
                                },
                                {
                                    "0": "The Best Of Men At Work"
                                },
                                {
                                    "0": "Black Album"
                                },
                                {
                                    "0": "Garage Inc. (Disc 2)"
                                },
                                {
                                    "0": "Kill 'Em All"
                                },
                                {
                                    "0": "Load"
                                },
                                {
                                    "0": "Master Of Puppets"
                                },
                                {
                                    "0": "ReLoad"
                                },
                                {
                                    "0": "Ride The Lightning"
                                },
                                {
                                    "0": "St. Anger"
                                },
                                {
                                    "0": "...And Justice For All"
                                },
                                {
                                    "0": "Miles Ahead"
                                },
                                {
                                    "0": "Milton Nascimento Ao Vivo"
                                },
                                {
                                    "0": "Minas"
                                },
                                {
                                    "0": "Ace Of Spades"
                                },
                                {
                                    "0": "Demorou..."
                                },
                                {
                                    "0": "Motley Crue Greatest Hits"
                                },
                                {
                                    "0": "From The Muddy Banks Of The Wishkah [Live]"
                                },
                                {
                                    "0": "Nevermind"
                                },
                                {
                                    "0": "Compositores"
                                },
                                {
                                    "0": "Olodum"
                                },
                                {
                                    "0": "Acústico MTV"
                                },
                                {
                                    "0": "Arquivo II"
                                },
                                {
                                    "0": "Arquivo Os Paralamas Do Sucesso"
                                },
                                {
                                    "0": "Bark at the Moon (Remastered)"
                                },
                                {
                                    "0": "Blizzard of Ozz"
                                },
                                {
                                    "0": "Diary of a Madman (Remastered)"
                                },
                                {
                                    "0": "No More Tears (Remastered)"
                                },
                                {
                                    "0": "Tribute"
                                },
                                {
                                    "0": "Walking Into Clarksdale"
                                },
                                {
                                    "0": "Original Soundtracks 1"
                                },
                                {
                                    "0": "The Beast Live"
                                },
                                {
                                    "0": "Live On Two Legs [Live]"
                                },
                                {
                                    "0": "Pearl Jam"
                                },
                                {
                                    "0": "Riot Act"
                                },
                                {
                                    "0": "Ten"
                                },
                                {
                                    "0": "Vs."
                                },
                                {
                                    "0": "Dark Side Of The Moon"
                                },
                                {
                                    "0": "Os Cães Ladram Mas A Caravana Não Pára"
                                },
                                {
                                    "0": "Greatest Hits I"
                                },
                                {
                                    "0": "News Of The World"
                                },
                                {
                                    "0": "Out Of Time"
                                },
                                {
                                    "0": "Green"
                                },
                                {
                                    "0": "New Adventures In Hi-Fi"
                                },
                                {
                                    "0": "The Best Of R.E.M.: The IRS Years"
                                },
                                {
                                    "0": "Cesta Básica"
                                },
                                {
                                    "0": "Raul Seixas"
                                },
                                {
                                    "0": "Blood Sugar Sex Magik"
                                },
                                {
                                    "0": "By The Way"
                                },
                                {
                                    "0": "Californication"
                                },
                                {
                                    "0": "Retrospective I (1974-1980)"
                                },
                                {
                                    "0": "Santana - As Years Go By"
                                },
                                {
                                    "0": "Santana Live"
                                },
                                {
                                    "0": "Maquinarama"
                                },
                                {
                                    "0": "O Samba Poconé"
                                },
                                {
                                    "0": "Judas 0: B-Sides and Rarities"
                                },
                                {
                                    "0": "Rotten Apples: Greatest Hits"
                                },
                                {
                                    "0": "A-Sides"
                                },
                                {
                                    "0": "Morning Dance"
                                },
                                {
                                    "0": "In Step"
                                },
                                {
                                    "0": "Core"
                                },
                                {
                                    "0": "Mezmerize"
                                },
                                {
                                    "0": "[1997] Black Light Syndrome"
                                },
                                {
                                    "0": "Live [Disc 1]"
                                },
                                {
                                    "0": "Live [Disc 2]"
                                },
                                {
                                    "0": "The Singles"
                                },
                                {
                                    "0": "Beyond Good And Evil"
                                },
                                {
                                    "0": "Pure Cult: The Best Of The Cult"
                                },
                                {
                                    "0": "The Doors"
                                },
                                {
                                    "0": "The Police Greatest Hits"
                                },
                                {
                                    "0": "Hot Rocks, 1964-1971 (Disc 1)"
                                },
                                {
                                    "0": "No Security"
                                },
                                {
                                    "0": "Voodoo Lounge"
                                },
                                {
                                    "0": "Tangents"
                                },
                                {
                                    "0": "Transmission"
                                },
                                {
                                    "0": "My Generation - The Very Best Of The Who"
                                },
                                {
                                    "0": "Serie Sem Limite (Disc 1)"
                                },
                                {
                                    "0": "Serie Sem Limite (Disc 2)"
                                },
                                {
                                    "0": "Acústico"
                                },
                                {
                                    "0": "Volume Dois"
                                },
                                {
                                    "0": "Battlestar Galactica: The Story So Far"
                                },
                                {
                                    "0": "Battlestar Galactica, Season 3"
                                },
                                {
                                    "0": "Heroes, Season 1"
                                },
                                {
                                    "0": "Lost, Season 3"
                                },
                                {
                                    "0": "Lost, Season 1"
                                },
                                {
                                    "0": "Lost, Season 2"
                                },
                                {
                                    "0": "Achtung Baby"
                                },
                                {
                                    "0": "All That You Can't Leave Behind"
                                },
                                {
                                    "0": "B-Sides 1980-1990"
                                },
                                {
                                    "0": "How To Dismantle An Atomic Bomb"
                                },
                                {
                                    "0": "Pop"
                                },
                                {
                                    "0": "Rattle And Hum"
                                },
                                {
                                    "0": "The Best Of 1980-1990"
                                },
                                {
                                    "0": "War"
                                },
                                {
                                    "0": "Zooropa"
                                },
                                {
                                    "0": "UB40 The Best Of - Volume Two [UK]"
                                },
                                {
                                    "0": "Diver Down"
                                },
                                {
                                    "0": "The Best Of Van Halen, Vol. I"
                                },
                                {
                                    "0": "Van Halen"
                                },
                                {
                                    "0": "Van Halen III"
                                },
                                {
                                    "0": "Contraband"
                                },
                                {
                                    "0": "Vinicius De Moraes"
                                },
                                {
                                    "0": "Ao Vivo [IMPORT]"
                                },
                                {
                                    "0": "The Office, Season 1"
                                },
                                {
                                    "0": "The Office, Season 2"
                                },
                                {
                                    "0": "The Office, Season 3"
                                },
                                {
                                    "0": "Un-Led-Ed"
                                },
                                {
                                    "0": "Battlestar Galactica (Classic), Season 1"
                                },
                                {
                                    "0": "Aquaman"
                                },
                                {
                                    "0": "Instant Karma: The Amnesty International Campaign to Save Darfur"
                                },
                                {
                                    "0": "Speak of the Devil"
                                },
                                {
                                    "0": "20th Century Masters - The Millennium Collection: The Best of Scorpions"
                                },
                                {
                                    "0": "House of Pain"
                                },
                                {
                                    "0": "Radio Brasil (O Som da Jovem Vanguarda) - Seleccao de Henrique Amaro"
                                },
                                {
                                    "0": "Cake: B-Sides and Rarities"
                                },
                                {
                                    "0": "LOST, Season 4"
                                },
                                {
                                    "0": "Quiet Songs"
                                },
                                {
                                    "0": "Muso Ko"
                                },
                                {
                                    "0": "Realize"
                                },
                                {
                                    "0": "Every Kind of Light"
                                },
                                {
                                    "0": "Duos II"
                                },
                                {
                                    "0": "Worlds"
                                },
                                {
                                    "0": "The Best of Beethoven"
                                },
                                {
                                    "0": "Temple of the Dog"
                                },
                                {
                                    "0": "Carry On"
                                },
                                {
                                    "0": "Revelations"
                                },
                                {
                                    "0": "Adorate Deum: Gregorian Chant from the Proper of the Mass"
                                },
                                {
                                    "0": "Allegri: Miserere"
                                },
                                {
                                    "0": "Pachelbel: Canon & Gigue"
                                },
                                {
                                    "0": "Vivaldi: The Four Seasons"
                                },
                                {
                                    "0": "Bach: Violin Concertos"
                                },
                                {
                                    "0": "Bach: Goldberg Variations"
                                },
                                {
                                    "0": "Bach: The Cello Suites"
                                },
                                {
                                    "0": "Handel: The Messiah (Highlights)"
                                },
                                {
                                    "0": "The World of Classical Favourites"
                                },
                                {
                                    "0": "Sir Neville Marriner: A Celebration"
                                },
                                {
                                    "0": "Mozart: Wind Concertos"
                                },
                                {
                                    "0": "Haydn: Symphonies 99 - 104"
                                },
                                {
                                    "0": "Beethoven: Symhonies Nos. 5 & 6"
                                },
                                {
                                    "0": "A Soprano Inspired"
                                },
                                {
                                    "0": "Great Opera Choruses"
                                },
                                {
                                    "0": "Wagner: Favourite Overtures"
                                },
                                {
                                    "0": "Fauré: Requiem, Ravel: Pavane & Others"
                                },
                                {
                                    "0": "Tchaikovsky: The Nutcracker"
                                },
                                {
                                    "0": "The Last Night of the Proms"
                                },
                                {
                                    "0": "Puccini: Madama Butterfly - Highlights"
                                },
                                {
                                    "0": "Holst: The Planets, Op. 32 & Vaughan Williams: Fantasies"
                                },
                                {
                                    "0": "Pavarotti's Opera Made Easy"
                                },
                                {
                                    "0": "Great Performances - Barber's Adagio and Other Romantic Favorites for Strings"
                                },
                                {
                                    "0": "Carmina Burana"
                                },
                                {
                                    "0": "A Copland Celebration, Vol. I"
                                },
                                {
                                    "0": "Bach: Toccata & Fugue in D Minor"
                                },
                                {
                                    "0": "Prokofiev: Symphony No.1"
                                },
                                {
                                    "0": "Scheherazade"
                                },
                                {
                                    "0": "Bach: The Brandenburg Concertos"
                                },
                                {
                                    "0": "Chopin: Piano Concertos Nos. 1 & 2"
                                },
                                {
                                    "0": "Mascagni: Cavalleria Rusticana"
                                },
                                {
                                    "0": "Sibelius: Finlandia"
                                },
                                {
                                    "0": "Beethoven Piano Sonatas: Moonlight & Pastorale"
                                },
                                {
                                    "0": "Great Recordings of the Century - Mahler: Das Lied von der Erde"
                                },
                                {
                                    "0": "Elgar: Cello Concerto & Vaughan Williams: Fantasias"
                                },
                                {
                                    "0": "Adams, John: The Chairman Dances"
                                },
                                {
                                    "0": "Tchaikovsky: 1812 Festival Overture, Op.49, Capriccio Italien & Beethoven: Wellington's Victory"
                                },
                                {
                                    "0": "Palestrina: Missa Papae Marcelli & Allegri: Miserere"
                                },
                                {
                                    "0": "Prokofiev: Romeo & Juliet"
                                },
                                {
                                    "0": "Strauss: Waltzes"
                                },
                                {
                                    "0": "Berlioz: Symphonie Fantastique"
                                },
                                {
                                    "0": "Bizet: Carmen Highlights"
                                },
                                {
                                    "0": "English Renaissance"
                                },
                                {
                                    "0": "Handel: Music for the Royal Fireworks (Original Version 1749)"
                                },
                                {
                                    "0": "Grieg: Peer Gynt Suites & Sibelius: Pelléas et Mélisande"
                                },
                                {
                                    "0": "Mozart Gala: Famous Arias"
                                },
                                {
                                    "0": "SCRIABIN: Vers la flamme"
                                },
                                {
                                    "0": "Armada: Music from the Courts of England and Spain"
                                },
                                {
                                    "0": "Mozart: Symphonies Nos. 40 & 41"
                                },
                                {
                                    "0": "Back to Black"
                                },
                                {
                                    "0": "Frank"
                                },
                                {
                                    "0": "Carried to Dust (Bonus Track Version)"
                                },
                                {
                                    "0": "Beethoven: Symphony No. 6 'Pastoral' Etc."
                                },
                                {
                                    "0": "Bartok: Violin & Viola Concertos"
                                },
                                {
                                    "0": "Mendelssohn: A Midsummer Night's Dream"
                                },
                                {
                                    "0": "Bach: Orchestral Suites Nos. 1 - 4"
                                },
                                {
                                    "0": "Charpentier: Divertissements, Airs & Concerts"
                                },
                                {
                                    "0": "South American Getaway"
                                },
                                {
                                    "0": "Górecki: Symphony No. 3"
                                },
                                {
                                    "0": "Purcell: The Fairy Queen"
                                },
                                {
                                    "0": "The Ultimate Relexation Album"
                                },
                                {
                                    "0": "Purcell: Music for the Queen Mary"
                                },
                                {
                                    "0": "Weill: The Seven Deadly Sins"
                                },
                                {
                                    "0": "J.S. Bach: Chaconne, Suite in E Minor, Partita in E Major & Prelude, Fugue and Allegro"
                                },
                                {
                                    "0": "Prokofiev: Symphony No.5 & Stravinksy: Le Sacre Du Printemps"
                                },
                                {
                                    "0": "Szymanowski: Piano Works, Vol. 1"
                                },
                                {
                                    "0": "Nielsen: The Six Symphonies"
                                },
                                {
                                    "0": "Great Recordings of the Century: Paganini's 24 Caprices"
                                },
                                {
                                    "0": "Liszt - 12 Études D'Execution Transcendante"
                                },
                                {
                                    "0": "Great Recordings of the Century - Shubert: Schwanengesang, 4 Lieder"
                                },
                                {
                                    "0": "Locatelli: Concertos for Violin, Strings and Continuo, Vol. 3"
                                },
                                {
                                    "0": "Respighi:Pines of Rome"
                                },
                                {
                                    "0": "Schubert: The Late String Quartets & String Quintet (3 CD's)"
                                },
                                {
                                    "0": "Monteverdi: L'Orfeo"
                                },
                                {
                                    "0": "Mozart: Chamber Music"
                                },
                                {
                                    "0": "Koyaanisqatsi (Soundtrack from the Motion Picture)"
                                }
                            ]
                        },
                        "text/html": [
                            "<table>",
                            "<tr><th>title</th></tr>",
                            "<tr><td>For Those About To Rock We Salute You</td></tr>",
                            "<tr><td>Balls to the Wall</td></tr>",
                            "<tr><td>Restless and Wild</td></tr>",
                            "<tr><td>Let There Be Rock</td></tr>",
                            "<tr><td>Big Ones</td></tr>",
                            "<tr><td>Jagged Little Pill</td></tr>",
                            "<tr><td>Facelift</td></tr>",
                            "<tr><td>Warner 25 Anos</td></tr>",
                            "<tr><td>Plays Metallica By Four Cellos</td></tr>",
                            "<tr><td>Audioslave</td></tr>",
                            "<tr><td>Out Of Exile</td></tr>",
                            "<tr><td>BackBeat Soundtrack</td></tr>",
                            "<tr><td>The Best Of Billy Cobham</td></tr>",
                            "<tr><td>Alcohol Fueled Brewtality Live! [Disc 1]</td></tr>",
                            "<tr><td>Alcohol Fueled Brewtality Live! [Disc 2]</td></tr>",
                            "<tr><td>Black Sabbath</td></tr>",
                            "<tr><td>Black Sabbath Vol. 4 (Remaster)</td></tr>",
                            "<tr><td>Body Count</td></tr>",
                            "<tr><td>Chemical Wedding</td></tr>",
                            "<tr><td>The Best Of Buddy Guy - The Millenium Collection</td></tr>",
                            "<tr><td>Prenda Minha</td></tr>",
                            "<tr><td>Sozinho Remix Ao Vivo</td></tr>",
                            "<tr><td>Minha Historia</td></tr>",
                            "<tr><td>Afrociberdelia</td></tr>",
                            "<tr><td>Da Lama Ao Caos</td></tr>",
                            "<tr><td>Acústico MTV [Live]</td></tr>",
                            "<tr><td>Cidade Negra - Hits</td></tr>",
                            "<tr><td>Na Pista</td></tr>",
                            "<tr><td>Axé Bahia 2001</td></tr>",
                            "<tr><td>BBC Sessions [Disc 1] [Live]</td></tr>",
                            "<tr><td>Bongo Fury</td></tr>",
                            "<tr><td>Carnaval 2001</td></tr>",
                            "<tr><td>Chill: Brazil (Disc 1)</td></tr>",
                            "<tr><td>Chill: Brazil (Disc 2)</td></tr>",
                            "<tr><td>Garage Inc. (Disc 1)</td></tr>",
                            "<tr><td>Greatest Hits II</td></tr>",
                            "<tr><td>Greatest Kiss</td></tr>",
                            "<tr><td>Heart of the Night</td></tr>",
                            "<tr><td>International Superhits</td></tr>",
                            "<tr><td>Into The Light</td></tr>",
                            "<tr><td>Meus Momentos</td></tr>",
                            "<tr><td>Minha História</td></tr>",
                            "<tr><td>MK III The Final Concerts [Disc 1]</td></tr>",
                            "<tr><td>Physical Graffiti [Disc 1]</td></tr>",
                            "<tr><td>Sambas De Enredo 2001</td></tr>",
                            "<tr><td>Supernatural</td></tr>",
                            "<tr><td>The Best of Ed Motta</td></tr>",
                            "<tr><td>The Essential Miles Davis [Disc 1]</td></tr>",
                            "<tr><td>The Essential Miles Davis [Disc 2]</td></tr>",
                            "<tr><td>The Final Concerts (Disc 2)</td></tr>",
                            "<tr><td>Up An' Atom</td></tr>",
                            "<tr><td>Vinícius De Moraes - Sem Limite</td></tr>",
                            "<tr><td>Vozes do MPB</td></tr>",
                            "<tr><td>Chronicle, Vol. 1</td></tr>",
                            "<tr><td>Chronicle, Vol. 2</td></tr>",
                            "<tr><td>Cássia Eller - Coleção Sem Limite [Disc 2]</td></tr>",
                            "<tr><td>Cássia Eller - Sem Limite [Disc 1]</td></tr>",
                            "<tr><td>Come Taste The Band</td></tr>",
                            "<tr><td>Deep Purple In Rock</td></tr>",
                            "<tr><td>Fireball</td></tr>",
                            "<tr><td>Knocking at Your Back Door: The Best Of Deep Purple in the 80's</td></tr>",
                            "<tr><td>Machine Head</td></tr>",
                            "<tr><td>Purpendicular</td></tr>",
                            "<tr><td>Slaves And Masters</td></tr>",
                            "<tr><td>Stormbringer</td></tr>",
                            "<tr><td>The Battle Rages On</td></tr>",
                            "<tr><td>Vault: Def Leppard's Greatest Hits</td></tr>",
                            "<tr><td>Outbreak</td></tr>",
                            "<tr><td>Djavan Ao Vivo - Vol. 02</td></tr>",
                            "<tr><td>Djavan Ao Vivo - Vol. 1</td></tr>",
                            "<tr><td>Elis Regina-Minha História</td></tr>",
                            "<tr><td>The Cream Of Clapton</td></tr>",
                            "<tr><td>Unplugged</td></tr>",
                            "<tr><td>Album Of The Year</td></tr>",
                            "<tr><td>Angel Dust</td></tr>",
                            "<tr><td>King For A Day Fool For A Lifetime</td></tr>",
                            "<tr><td>The Real Thing</td></tr>",
                            "<tr><td>Deixa Entrar</td></tr>",
                            "<tr><td>In Your Honor [Disc 1]</td></tr>",
                            "<tr><td>In Your Honor [Disc 2]</td></tr>",
                            "<tr><td>One By One</td></tr>",
                            "<tr><td>The Colour And The Shape</td></tr>",
                            "<tr><td>My Way: The Best Of Frank Sinatra [Disc 1]</td></tr>",
                            "<tr><td>Roda De Funk</td></tr>",
                            "<tr><td>As Canções de Eu Tu Eles</td></tr>",
                            "<tr><td>Quanta Gente Veio Ver (Live)</td></tr>",
                            "<tr><td>Quanta Gente Veio ver--Bônus De Carnaval</td></tr>",
                            "<tr><td>Faceless</td></tr>",
                            "<tr><td>American Idiot</td></tr>",
                            "<tr><td>Appetite for Destruction</td></tr>",
                            "<tr><td>Use Your Illusion I</td></tr>",
                            "<tr><td>Use Your Illusion II</td></tr>",
                            "<tr><td>Blue Moods</td></tr>",
                            "<tr><td>A Matter of Life and Death</td></tr>",
                            "<tr><td>A Real Dead One</td></tr>",
                            "<tr><td>A Real Live One</td></tr>",
                            "<tr><td>Brave New World</td></tr>",
                            "<tr><td>Dance Of Death</td></tr>",
                            "<tr><td>Fear Of The Dark</td></tr>",
                            "<tr><td>Iron Maiden</td></tr>",
                            "<tr><td>Killers</td></tr>",
                            "<tr><td>Live After Death</td></tr>",
                            "<tr><td>Live At Donington 1992 (Disc 1)</td></tr>",
                            "<tr><td>Live At Donington 1992 (Disc 2)</td></tr>",
                            "<tr><td>No Prayer For The Dying</td></tr>",
                            "<tr><td>Piece Of Mind</td></tr>",
                            "<tr><td>Powerslave</td></tr>",
                            "<tr><td>Rock In Rio [CD1]</td></tr>",
                            "<tr><td>Rock In Rio [CD2]</td></tr>",
                            "<tr><td>Seventh Son of a Seventh Son</td></tr>",
                            "<tr><td>Somewhere in Time</td></tr>",
                            "<tr><td>The Number of The Beast</td></tr>",
                            "<tr><td>The X Factor</td></tr>",
                            "<tr><td>Virtual XI</td></tr>",
                            "<tr><td>Sex Machine</td></tr>",
                            "<tr><td>Emergency On Planet Earth</td></tr>",
                            "<tr><td>Synkronized</td></tr>",
                            "<tr><td>The Return Of The Space Cowboy</td></tr>",
                            "<tr><td>Get Born</td></tr>",
                            "<tr><td>Are You Experienced?</td></tr>",
                            "<tr><td>Surfing with the Alien (Remastered)</td></tr>",
                            "<tr><td>Jorge Ben Jor 25 Anos</td></tr>",
                            "<tr><td>Jota Quest-1995</td></tr>",
                            "<tr><td>Cafezinho</td></tr>",
                            "<tr><td>Living After Midnight</td></tr>",
                            "<tr><td>Unplugged [Live]</td></tr>",
                            "<tr><td>BBC Sessions [Disc 2] [Live]</td></tr>",
                            "<tr><td>Coda</td></tr>",
                            "<tr><td>Houses Of The Holy</td></tr>",
                            "<tr><td>In Through The Out Door</td></tr>",
                            "<tr><td>IV</td></tr>",
                            "<tr><td>Led Zeppelin I</td></tr>",
                            "<tr><td>Led Zeppelin II</td></tr>",
                            "<tr><td>Led Zeppelin III</td></tr>",
                            "<tr><td>Physical Graffiti [Disc 2]</td></tr>",
                            "<tr><td>Presence</td></tr>",
                            "<tr><td>The Song Remains The Same (Disc 1)</td></tr>",
                            "<tr><td>The Song Remains The Same (Disc 2)</td></tr>",
                            "<tr><td>A TempestadeTempestade Ou O Livro Dos Dias</td></tr>",
                            "<tr><td>Mais Do Mesmo</td></tr>",
                            "<tr><td>Greatest Hits</td></tr>",
                            "<tr><td>Lulu Santos - RCA 100 Anos De Música - Álbum 01</td></tr>",
                            "<tr><td>Lulu Santos - RCA 100 Anos De Música - Álbum 02</td></tr>",
                            "<tr><td>Misplaced Childhood</td></tr>",
                            "<tr><td>Barulhinho Bom</td></tr>",
                            "<tr><td>Seek And Shall Find: More Of The Best (1963-1981)</td></tr>",
                            "<tr><td>The Best Of Men At Work</td></tr>",
                            "<tr><td>Black Album</td></tr>",
                            "<tr><td>Garage Inc. (Disc 2)</td></tr>",
                            "<tr><td>Kill 'Em All</td></tr>",
                            "<tr><td>Load</td></tr>",
                            "<tr><td>Master Of Puppets</td></tr>",
                            "<tr><td>ReLoad</td></tr>",
                            "<tr><td>Ride The Lightning</td></tr>",
                            "<tr><td>St. Anger</td></tr>",
                            "<tr><td>...And Justice For All</td></tr>",
                            "<tr><td>Miles Ahead</td></tr>",
                            "<tr><td>Milton Nascimento Ao Vivo</td></tr>",
                            "<tr><td>Minas</td></tr>",
                            "<tr><td>Ace Of Spades</td></tr>",
                            "<tr><td>Demorou...</td></tr>",
                            "<tr><td>Motley Crue Greatest Hits</td></tr>",
                            "<tr><td>From The Muddy Banks Of The Wishkah [Live]</td></tr>",
                            "<tr><td>Nevermind</td></tr>",
                            "<tr><td>Compositores</td></tr>",
                            "<tr><td>Olodum</td></tr>",
                            "<tr><td>Acústico MTV</td></tr>",
                            "<tr><td>Arquivo II</td></tr>",
                            "<tr><td>Arquivo Os Paralamas Do Sucesso</td></tr>",
                            "<tr><td>Bark at the Moon (Remastered)</td></tr>",
                            "<tr><td>Blizzard of Ozz</td></tr>",
                            "<tr><td>Diary of a Madman (Remastered)</td></tr>",
                            "<tr><td>No More Tears (Remastered)</td></tr>",
                            "<tr><td>Tribute</td></tr>",
                            "<tr><td>Walking Into Clarksdale</td></tr>",
                            "<tr><td>Original Soundtracks 1</td></tr>",
                            "<tr><td>The Beast Live</td></tr>",
                            "<tr><td>Live On Two Legs [Live]</td></tr>",
                            "<tr><td>Pearl Jam</td></tr>",
                            "<tr><td>Riot Act</td></tr>",
                            "<tr><td>Ten</td></tr>",
                            "<tr><td>Vs.</td></tr>",
                            "<tr><td>Dark Side Of The Moon</td></tr>",
                            "<tr><td>Os Cães Ladram Mas A Caravana Não Pára</td></tr>",
                            "<tr><td>Greatest Hits I</td></tr>",
                            "<tr><td>News Of The World</td></tr>",
                            "<tr><td>Out Of Time</td></tr>",
                            "<tr><td>Green</td></tr>",
                            "<tr><td>New Adventures In Hi-Fi</td></tr>",
                            "<tr><td>The Best Of R.E.M.: The IRS Years</td></tr>",
                            "<tr><td>Cesta Básica</td></tr>",
                            "<tr><td>Raul Seixas</td></tr>",
                            "<tr><td>Blood Sugar Sex Magik</td></tr>",
                            "<tr><td>By The Way</td></tr>",
                            "<tr><td>Californication</td></tr>",
                            "<tr><td>Retrospective I (1974-1980)</td></tr>",
                            "<tr><td>Santana - As Years Go By</td></tr>",
                            "<tr><td>Santana Live</td></tr>",
                            "<tr><td>Maquinarama</td></tr>",
                            "<tr><td>O Samba Poconé</td></tr>",
                            "<tr><td>Judas 0: B-Sides and Rarities</td></tr>",
                            "<tr><td>Rotten Apples: Greatest Hits</td></tr>",
                            "<tr><td>A-Sides</td></tr>",
                            "<tr><td>Morning Dance</td></tr>",
                            "<tr><td>In Step</td></tr>",
                            "<tr><td>Core</td></tr>",
                            "<tr><td>Mezmerize</td></tr>",
                            "<tr><td>[1997] Black Light Syndrome</td></tr>",
                            "<tr><td>Live [Disc 1]</td></tr>",
                            "<tr><td>Live [Disc 2]</td></tr>",
                            "<tr><td>The Singles</td></tr>",
                            "<tr><td>Beyond Good And Evil</td></tr>",
                            "<tr><td>Pure Cult: The Best Of The Cult</td></tr>",
                            "<tr><td>The Doors</td></tr>",
                            "<tr><td>The Police Greatest Hits</td></tr>",
                            "<tr><td>Hot Rocks, 1964-1971 (Disc 1)</td></tr>",
                            "<tr><td>No Security</td></tr>",
                            "<tr><td>Voodoo Lounge</td></tr>",
                            "<tr><td>Tangents</td></tr>",
                            "<tr><td>Transmission</td></tr>",
                            "<tr><td>My Generation - The Very Best Of The Who</td></tr>",
                            "<tr><td>Serie Sem Limite (Disc 1)</td></tr>",
                            "<tr><td>Serie Sem Limite (Disc 2)</td></tr>",
                            "<tr><td>Acústico</td></tr>",
                            "<tr><td>Volume Dois</td></tr>",
                            "<tr><td>Battlestar Galactica: The Story So Far</td></tr>",
                            "<tr><td>Battlestar Galactica, Season 3</td></tr>",
                            "<tr><td>Heroes, Season 1</td></tr>",
                            "<tr><td>Lost, Season 3</td></tr>",
                            "<tr><td>Lost, Season 1</td></tr>",
                            "<tr><td>Lost, Season 2</td></tr>",
                            "<tr><td>Achtung Baby</td></tr>",
                            "<tr><td>All That You Can't Leave Behind</td></tr>",
                            "<tr><td>B-Sides 1980-1990</td></tr>",
                            "<tr><td>How To Dismantle An Atomic Bomb</td></tr>",
                            "<tr><td>Pop</td></tr>",
                            "<tr><td>Rattle And Hum</td></tr>",
                            "<tr><td>The Best Of 1980-1990</td></tr>",
                            "<tr><td>War</td></tr>",
                            "<tr><td>Zooropa</td></tr>",
                            "<tr><td>UB40 The Best Of - Volume Two [UK]</td></tr>",
                            "<tr><td>Diver Down</td></tr>",
                            "<tr><td>The Best Of Van Halen, Vol. I</td></tr>",
                            "<tr><td>Van Halen</td></tr>",
                            "<tr><td>Van Halen III</td></tr>",
                            "<tr><td>Contraband</td></tr>",
                            "<tr><td>Vinicius De Moraes</td></tr>",
                            "<tr><td>Ao Vivo [IMPORT]</td></tr>",
                            "<tr><td>The Office, Season 1</td></tr>",
                            "<tr><td>The Office, Season 2</td></tr>",
                            "<tr><td>The Office, Season 3</td></tr>",
                            "<tr><td>Un-Led-Ed</td></tr>",
                            "<tr><td>Battlestar Galactica (Classic), Season 1</td></tr>",
                            "<tr><td>Aquaman</td></tr>",
                            "<tr><td>Instant Karma: The Amnesty International Campaign to Save Darfur</td></tr>",
                            "<tr><td>Speak of the Devil</td></tr>",
                            "<tr><td>20th Century Masters - The Millennium Collection: The Best of Scorpions</td></tr>",
                            "<tr><td>House of Pain</td></tr>",
                            "<tr><td>Radio Brasil (O Som da Jovem Vanguarda) - Seleccao de Henrique Amaro</td></tr>",
                            "<tr><td>Cake: B-Sides and Rarities</td></tr>",
                            "<tr><td>LOST, Season 4</td></tr>",
                            "<tr><td>Quiet Songs</td></tr>",
                            "<tr><td>Muso Ko</td></tr>",
                            "<tr><td>Realize</td></tr>",
                            "<tr><td>Every Kind of Light</td></tr>",
                            "<tr><td>Duos II</td></tr>",
                            "<tr><td>Worlds</td></tr>",
                            "<tr><td>The Best of Beethoven</td></tr>",
                            "<tr><td>Temple of the Dog</td></tr>",
                            "<tr><td>Carry On</td></tr>",
                            "<tr><td>Revelations</td></tr>",
                            "<tr><td>Adorate Deum: Gregorian Chant from the Proper of the Mass</td></tr>",
                            "<tr><td>Allegri: Miserere</td></tr>",
                            "<tr><td>Pachelbel: Canon &amp; Gigue</td></tr>",
                            "<tr><td>Vivaldi: The Four Seasons</td></tr>",
                            "<tr><td>Bach: Violin Concertos</td></tr>",
                            "<tr><td>Bach: Goldberg Variations</td></tr>",
                            "<tr><td>Bach: The Cello Suites</td></tr>",
                            "<tr><td>Handel: The Messiah (Highlights)</td></tr>",
                            "<tr><td>The World of Classical Favourites</td></tr>",
                            "<tr><td>Sir Neville Marriner: A Celebration</td></tr>",
                            "<tr><td>Mozart: Wind Concertos</td></tr>",
                            "<tr><td>Haydn: Symphonies 99 - 104</td></tr>",
                            "<tr><td>Beethoven: Symhonies Nos. 5 &amp; 6</td></tr>",
                            "<tr><td>A Soprano Inspired</td></tr>",
                            "<tr><td>Great Opera Choruses</td></tr>",
                            "<tr><td>Wagner: Favourite Overtures</td></tr>",
                            "<tr><td>Fauré: Requiem, Ravel: Pavane &amp; Others</td></tr>",
                            "<tr><td>Tchaikovsky: The Nutcracker</td></tr>",
                            "<tr><td>The Last Night of the Proms</td></tr>",
                            "<tr><td>Puccini: Madama Butterfly - Highlights</td></tr>",
                            "<tr><td>Holst: The Planets, Op. 32 &amp; Vaughan Williams: Fantasies</td></tr>",
                            "<tr><td>Pavarotti's Opera Made Easy</td></tr>",
                            "<tr><td>Great Performances - Barber's Adagio and Other Romantic Favorites for Strings</td></tr>",
                            "<tr><td>Carmina Burana</td></tr>",
                            "<tr><td>A Copland Celebration, Vol. I</td></tr>",
                            "<tr><td>Bach: Toccata &amp; Fugue in D Minor</td></tr>",
                            "<tr><td>Prokofiev: Symphony No.1</td></tr>",
                            "<tr><td>Scheherazade</td></tr>",
                            "<tr><td>Bach: The Brandenburg Concertos</td></tr>",
                            "<tr><td>Chopin: Piano Concertos Nos. 1 &amp; 2</td></tr>",
                            "<tr><td>Mascagni: Cavalleria Rusticana</td></tr>",
                            "<tr><td>Sibelius: Finlandia</td></tr>",
                            "<tr><td>Beethoven Piano Sonatas: Moonlight &amp; Pastorale</td></tr>",
                            "<tr><td>Great Recordings of the Century - Mahler: Das Lied von der Erde</td></tr>",
                            "<tr><td>Elgar: Cello Concerto &amp; Vaughan Williams: Fantasias</td></tr>",
                            "<tr><td>Adams, John: The Chairman Dances</td></tr>",
                            "<tr><td>Tchaikovsky: 1812 Festival Overture, Op.49, Capriccio Italien &amp; Beethoven: Wellington's Victory</td></tr>",
                            "<tr><td>Palestrina: Missa Papae Marcelli &amp; Allegri: Miserere</td></tr>",
                            "<tr><td>Prokofiev: Romeo &amp; Juliet</td></tr>",
                            "<tr><td>Strauss: Waltzes</td></tr>",
                            "<tr><td>Berlioz: Symphonie Fantastique</td></tr>",
                            "<tr><td>Bizet: Carmen Highlights</td></tr>",
                            "<tr><td>English Renaissance</td></tr>",
                            "<tr><td>Handel: Music for the Royal Fireworks (Original Version 1749)</td></tr>",
                            "<tr><td>Grieg: Peer Gynt Suites &amp; Sibelius: Pelléas et Mélisande</td></tr>",
                            "<tr><td>Mozart Gala: Famous Arias</td></tr>",
                            "<tr><td>SCRIABIN: Vers la flamme</td></tr>",
                            "<tr><td>Armada: Music from the Courts of England and Spain</td></tr>",
                            "<tr><td>Mozart: Symphonies Nos. 40 &amp; 41</td></tr>",
                            "<tr><td>Back to Black</td></tr>",
                            "<tr><td>Frank</td></tr>",
                            "<tr><td>Carried to Dust (Bonus Track Version)</td></tr>",
                            "<tr><td>Beethoven: Symphony No. 6 'Pastoral' Etc.</td></tr>",
                            "<tr><td>Bartok: Violin &amp; Viola Concertos</td></tr>",
                            "<tr><td>Mendelssohn: A Midsummer Night's Dream</td></tr>",
                            "<tr><td>Bach: Orchestral Suites Nos. 1 - 4</td></tr>",
                            "<tr><td>Charpentier: Divertissements, Airs &amp; Concerts</td></tr>",
                            "<tr><td>South American Getaway</td></tr>",
                            "<tr><td>Górecki: Symphony No. 3</td></tr>",
                            "<tr><td>Purcell: The Fairy Queen</td></tr>",
                            "<tr><td>The Ultimate Relexation Album</td></tr>",
                            "<tr><td>Purcell: Music for the Queen Mary</td></tr>",
                            "<tr><td>Weill: The Seven Deadly Sins</td></tr>",
                            "<tr><td>J.S. Bach: Chaconne, Suite in E Minor, Partita in E Major &amp; Prelude, Fugue and Allegro</td></tr>",
                            "<tr><td>Prokofiev: Symphony No.5 &amp; Stravinksy: Le Sacre Du Printemps</td></tr>",
                            "<tr><td>Szymanowski: Piano Works, Vol. 1</td></tr>",
                            "<tr><td>Nielsen: The Six Symphonies</td></tr>",
                            "<tr><td>Great Recordings of the Century: Paganini's 24 Caprices</td></tr>",
                            "<tr><td>Liszt - 12 Études D'Execution Transcendante</td></tr>",
                            "<tr><td>Great Recordings of the Century - Shubert: Schwanengesang, 4 Lieder</td></tr>",
                            "<tr><td>Locatelli: Concertos for Violin, Strings and Continuo, Vol. 3</td></tr>",
                            "<tr><td>Respighi:Pines of Rome</td></tr>",
                            "<tr><td>Schubert: The Late String Quartets &amp; String Quintet (3 CD's)</td></tr>",
                            "<tr><td>Monteverdi: L'Orfeo</td></tr>",
                            "<tr><td>Mozart: Chamber Music</td></tr>",
                            "<tr><td>Koyaanisqatsi (Soundtrack from the Motion Picture)</td></tr>",
                            "</table>"
                        ]
                    }
                }
            ],
            "execution_count": 11
        },
        {
            "cell_type": "markdown",
            "source": [
                "# Delete\n",
                "\n",
                "You may not have permissions to delete from your database, but it is safe to practice it here in this course!\n",
                "\n",
                "Remember - there is no confirmation before deleting. When you execute the statement, the record(s) are deleted immediately. Always ensure you test with a `SELECT` and `WHERE` in a separate query to ensure you are selecting and deleting the correct records. If you forget so specify a `WHERE` condition, you will delete ALL rows from the table.\n",
                "\n",
                "##### Instructions 1/2\n",
                "\n",
                "<span class=\"css-4zhg5y-baseStyle-strongStyle-baseStyle-Badge\" style=\"box-sizing: inherit; font-weight: 800; -webkit-font-smoothing: antialiased; border-radius: 4px; display: inline-block; text-transform: uppercase; background-color: rgb(252, 206, 13); font-size: 14px; line-height: 18px; padding-left: 4px; padding-right: 4px;\">50 XP</span>\n",
                "\n",
                "- Hit 'Submit Answer' to run the query and view the existing data."
            ],
            "metadata": {
                "azdata_cell_guid": "6dc643cf-8ab0-4cda-9d8a-320cbcfb713c"
            }
        },
        {
            "cell_type": "code",
            "source": [
                "-- Run the query\n",
                "SELECT * \n",
                "FROM album"
            ],
            "metadata": {
                "azdata_cell_guid": "d68318b5-bba4-4de8-ae32-4595c807a421"
            },
            "outputs": [
                {
                    "output_type": "display_data",
                    "data": {
                        "text/html": "(347 rows affected)"
                    },
                    "metadata": {}
                },
                {
                    "output_type": "display_data",
                    "data": {
                        "text/html": "Total execution time: 00:00:00.003"
                    },
                    "metadata": {}
                },
                {
                    "output_type": "execute_result",
                    "metadata": {
                        "resultSet": {
                            "id": 0,
                            "batchId": 0,
                            "rowCount": 347,
                            "complete": true,
                            "columnInfo": [
                                {
                                    "isBytes": false,
                                    "isChars": false,
                                    "isSqlVariant": false,
                                    "isUdt": false,
                                    "isXml": false,
                                    "isJson": false,
                                    "sqlDbType": 8,
                                    "isHierarchyId": false,
                                    "isSqlXmlType": false,
                                    "isUnknownType": false,
                                    "isUpdatable": false,
                                    "allowDBNull": false,
                                    "baseCatalogName": null,
                                    "baseColumnName": null,
                                    "baseSchemaName": null,
                                    "baseServerName": null,
                                    "baseTableName": null,
                                    "columnName": "album_id",
                                    "columnOrdinal": 0,
                                    "columnSize": 4,
                                    "isAliased": null,
                                    "isAutoIncrement": true,
                                    "isExpression": null,
                                    "isHidden": null,
                                    "isIdentity": true,
                                    "isKey": null,
                                    "isLong": false,
                                    "isReadOnly": true,
                                    "isUnique": false,
                                    "numericPrecision": 10,
                                    "numericScale": 255,
                                    "udtAssemblyQualifiedName": null,
                                    "dataType": "System.Int32, System.Private.CoreLib, Version=4.0.0.0, Culture=neutral, PublicKeyToken=7cec85d7bea7798e",
                                    "dataTypeName": "int"
                                },
                                {
                                    "isBytes": false,
                                    "isChars": true,
                                    "isSqlVariant": false,
                                    "isUdt": false,
                                    "isXml": false,
                                    "isJson": false,
                                    "sqlDbType": 12,
                                    "isHierarchyId": false,
                                    "isSqlXmlType": false,
                                    "isUnknownType": false,
                                    "isUpdatable": true,
                                    "allowDBNull": false,
                                    "baseCatalogName": null,
                                    "baseColumnName": null,
                                    "baseSchemaName": null,
                                    "baseServerName": null,
                                    "baseTableName": null,
                                    "columnName": "title",
                                    "columnOrdinal": 1,
                                    "columnSize": 160,
                                    "isAliased": null,
                                    "isAutoIncrement": false,
                                    "isExpression": null,
                                    "isHidden": null,
                                    "isIdentity": false,
                                    "isKey": null,
                                    "isLong": false,
                                    "isReadOnly": false,
                                    "isUnique": false,
                                    "numericPrecision": 255,
                                    "numericScale": 255,
                                    "udtAssemblyQualifiedName": null,
                                    "dataType": "System.String, System.Private.CoreLib, Version=4.0.0.0, Culture=neutral, PublicKeyToken=7cec85d7bea7798e",
                                    "dataTypeName": "nvarchar"
                                },
                                {
                                    "isBytes": false,
                                    "isChars": false,
                                    "isSqlVariant": false,
                                    "isUdt": false,
                                    "isXml": false,
                                    "isJson": false,
                                    "sqlDbType": 8,
                                    "isHierarchyId": false,
                                    "isSqlXmlType": false,
                                    "isUnknownType": false,
                                    "isUpdatable": true,
                                    "allowDBNull": false,
                                    "baseCatalogName": null,
                                    "baseColumnName": null,
                                    "baseSchemaName": null,
                                    "baseServerName": null,
                                    "baseTableName": null,
                                    "columnName": "artist_id",
                                    "columnOrdinal": 2,
                                    "columnSize": 4,
                                    "isAliased": null,
                                    "isAutoIncrement": false,
                                    "isExpression": null,
                                    "isHidden": null,
                                    "isIdentity": false,
                                    "isKey": null,
                                    "isLong": false,
                                    "isReadOnly": false,
                                    "isUnique": false,
                                    "numericPrecision": 10,
                                    "numericScale": 255,
                                    "udtAssemblyQualifiedName": null,
                                    "dataType": "System.Int32, System.Private.CoreLib, Version=4.0.0.0, Culture=neutral, PublicKeyToken=7cec85d7bea7798e",
                                    "dataTypeName": "int"
                                }
                            ],
                            "specialAction": {
                                "none": true,
                                "expectYukonXMLShowPlan": false
                            }
                        }
                    },
                    "execution_count": 14,
                    "data": {
                        "application/vnd.dataresource+json": {
                            "schema": {
                                "fields": [
                                    {
                                        "name": "album_id"
                                    },
                                    {
                                        "name": "title"
                                    },
                                    {
                                        "name": "artist_id"
                                    }
                                ]
                            },
                            "data": [
                                {
                                    "0": "1",
                                    "1": "For Those About To Rock We Salute You",
                                    "2": "1"
                                },
                                {
                                    "0": "2",
                                    "1": "Balls to the Wall",
                                    "2": "2"
                                },
                                {
                                    "0": "3",
                                    "1": "Restless and Wild",
                                    "2": "2"
                                },
                                {
                                    "0": "4",
                                    "1": "Let There Be Rock",
                                    "2": "1"
                                },
                                {
                                    "0": "5",
                                    "1": "Big Ones",
                                    "2": "3"
                                },
                                {
                                    "0": "6",
                                    "1": "Jagged Little Pill",
                                    "2": "4"
                                },
                                {
                                    "0": "7",
                                    "1": "Facelift",
                                    "2": "5"
                                },
                                {
                                    "0": "8",
                                    "1": "Warner 25 Anos",
                                    "2": "6"
                                },
                                {
                                    "0": "9",
                                    "1": "Plays Metallica By Four Cellos",
                                    "2": "7"
                                },
                                {
                                    "0": "10",
                                    "1": "Audioslave",
                                    "2": "8"
                                },
                                {
                                    "0": "11",
                                    "1": "Out Of Exile",
                                    "2": "8"
                                },
                                {
                                    "0": "12",
                                    "1": "BackBeat Soundtrack",
                                    "2": "9"
                                },
                                {
                                    "0": "13",
                                    "1": "The Best Of Billy Cobham",
                                    "2": "10"
                                },
                                {
                                    "0": "14",
                                    "1": "Alcohol Fueled Brewtality Live! [Disc 1]",
                                    "2": "11"
                                },
                                {
                                    "0": "15",
                                    "1": "Alcohol Fueled Brewtality Live! [Disc 2]",
                                    "2": "11"
                                },
                                {
                                    "0": "16",
                                    "1": "Black Sabbath",
                                    "2": "12"
                                },
                                {
                                    "0": "17",
                                    "1": "Black Sabbath Vol. 4 (Remaster)",
                                    "2": "12"
                                },
                                {
                                    "0": "18",
                                    "1": "Body Count",
                                    "2": "13"
                                },
                                {
                                    "0": "19",
                                    "1": "Chemical Wedding",
                                    "2": "14"
                                },
                                {
                                    "0": "20",
                                    "1": "The Best Of Buddy Guy - The Millenium Collection",
                                    "2": "15"
                                },
                                {
                                    "0": "21",
                                    "1": "Prenda Minha",
                                    "2": "16"
                                },
                                {
                                    "0": "22",
                                    "1": "Sozinho Remix Ao Vivo",
                                    "2": "16"
                                },
                                {
                                    "0": "23",
                                    "1": "Minha Historia",
                                    "2": "17"
                                },
                                {
                                    "0": "24",
                                    "1": "Afrociberdelia",
                                    "2": "18"
                                },
                                {
                                    "0": "25",
                                    "1": "Da Lama Ao Caos",
                                    "2": "18"
                                },
                                {
                                    "0": "26",
                                    "1": "Acústico MTV [Live]",
                                    "2": "19"
                                },
                                {
                                    "0": "27",
                                    "1": "Cidade Negra - Hits",
                                    "2": "19"
                                },
                                {
                                    "0": "28",
                                    "1": "Na Pista",
                                    "2": "20"
                                },
                                {
                                    "0": "29",
                                    "1": "Axé Bahia 2001",
                                    "2": "21"
                                },
                                {
                                    "0": "30",
                                    "1": "BBC Sessions [Disc 1] [Live]",
                                    "2": "22"
                                },
                                {
                                    "0": "31",
                                    "1": "Bongo Fury",
                                    "2": "23"
                                },
                                {
                                    "0": "32",
                                    "1": "Carnaval 2001",
                                    "2": "21"
                                },
                                {
                                    "0": "33",
                                    "1": "Chill: Brazil (Disc 1)",
                                    "2": "24"
                                },
                                {
                                    "0": "34",
                                    "1": "Chill: Brazil (Disc 2)",
                                    "2": "6"
                                },
                                {
                                    "0": "35",
                                    "1": "Garage Inc. (Disc 1)",
                                    "2": "50"
                                },
                                {
                                    "0": "36",
                                    "1": "Greatest Hits II",
                                    "2": "51"
                                },
                                {
                                    "0": "37",
                                    "1": "Greatest Kiss",
                                    "2": "52"
                                },
                                {
                                    "0": "38",
                                    "1": "Heart of the Night",
                                    "2": "53"
                                },
                                {
                                    "0": "39",
                                    "1": "International Superhits",
                                    "2": "54"
                                },
                                {
                                    "0": "40",
                                    "1": "Into The Light",
                                    "2": "55"
                                },
                                {
                                    "0": "41",
                                    "1": "Meus Momentos",
                                    "2": "56"
                                },
                                {
                                    "0": "42",
                                    "1": "Minha História",
                                    "2": "57"
                                },
                                {
                                    "0": "43",
                                    "1": "MK III The Final Concerts [Disc 1]",
                                    "2": "58"
                                },
                                {
                                    "0": "44",
                                    "1": "Physical Graffiti [Disc 1]",
                                    "2": "22"
                                },
                                {
                                    "0": "45",
                                    "1": "Sambas De Enredo 2001",
                                    "2": "21"
                                },
                                {
                                    "0": "46",
                                    "1": "Supernatural",
                                    "2": "59"
                                },
                                {
                                    "0": "47",
                                    "1": "The Best of Ed Motta",
                                    "2": "37"
                                },
                                {
                                    "0": "48",
                                    "1": "The Essential Miles Davis [Disc 1]",
                                    "2": "68"
                                },
                                {
                                    "0": "49",
                                    "1": "The Essential Miles Davis [Disc 2]",
                                    "2": "68"
                                },
                                {
                                    "0": "50",
                                    "1": "The Final Concerts (Disc 2)",
                                    "2": "58"
                                },
                                {
                                    "0": "51",
                                    "1": "Up An' Atom",
                                    "2": "69"
                                },
                                {
                                    "0": "52",
                                    "1": "Vinícius De Moraes - Sem Limite",
                                    "2": "70"
                                },
                                {
                                    "0": "53",
                                    "1": "Vozes do MPB",
                                    "2": "21"
                                },
                                {
                                    "0": "54",
                                    "1": "Chronicle, Vol. 1",
                                    "2": "76"
                                },
                                {
                                    "0": "55",
                                    "1": "Chronicle, Vol. 2",
                                    "2": "76"
                                },
                                {
                                    "0": "56",
                                    "1": "Cássia Eller - Coleção Sem Limite [Disc 2]",
                                    "2": "77"
                                },
                                {
                                    "0": "57",
                                    "1": "Cássia Eller - Sem Limite [Disc 1]",
                                    "2": "77"
                                },
                                {
                                    "0": "58",
                                    "1": "Come Taste The Band",
                                    "2": "58"
                                },
                                {
                                    "0": "59",
                                    "1": "Deep Purple In Rock",
                                    "2": "58"
                                },
                                {
                                    "0": "60",
                                    "1": "Fireball",
                                    "2": "58"
                                },
                                {
                                    "0": "61",
                                    "1": "Knocking at Your Back Door: The Best Of Deep Purple in the 80's",
                                    "2": "58"
                                },
                                {
                                    "0": "62",
                                    "1": "Machine Head",
                                    "2": "58"
                                },
                                {
                                    "0": "63",
                                    "1": "Purpendicular",
                                    "2": "58"
                                },
                                {
                                    "0": "64",
                                    "1": "Slaves And Masters",
                                    "2": "58"
                                },
                                {
                                    "0": "65",
                                    "1": "Stormbringer",
                                    "2": "58"
                                },
                                {
                                    "0": "66",
                                    "1": "The Battle Rages On",
                                    "2": "58"
                                },
                                {
                                    "0": "67",
                                    "1": "Vault: Def Leppard's Greatest Hits",
                                    "2": "78"
                                },
                                {
                                    "0": "68",
                                    "1": "Outbreak",
                                    "2": "79"
                                },
                                {
                                    "0": "69",
                                    "1": "Djavan Ao Vivo - Vol. 02",
                                    "2": "80"
                                },
                                {
                                    "0": "70",
                                    "1": "Djavan Ao Vivo - Vol. 1",
                                    "2": "80"
                                },
                                {
                                    "0": "71",
                                    "1": "Elis Regina-Minha História",
                                    "2": "41"
                                },
                                {
                                    "0": "72",
                                    "1": "The Cream Of Clapton",
                                    "2": "81"
                                },
                                {
                                    "0": "73",
                                    "1": "Unplugged",
                                    "2": "81"
                                },
                                {
                                    "0": "74",
                                    "1": "Album Of The Year",
                                    "2": "82"
                                },
                                {
                                    "0": "75",
                                    "1": "Angel Dust",
                                    "2": "82"
                                },
                                {
                                    "0": "76",
                                    "1": "King For A Day Fool For A Lifetime",
                                    "2": "82"
                                },
                                {
                                    "0": "77",
                                    "1": "The Real Thing",
                                    "2": "82"
                                },
                                {
                                    "0": "78",
                                    "1": "Deixa Entrar",
                                    "2": "83"
                                },
                                {
                                    "0": "79",
                                    "1": "In Your Honor [Disc 1]",
                                    "2": "84"
                                },
                                {
                                    "0": "80",
                                    "1": "In Your Honor [Disc 2]",
                                    "2": "84"
                                },
                                {
                                    "0": "81",
                                    "1": "One By One",
                                    "2": "84"
                                },
                                {
                                    "0": "82",
                                    "1": "The Colour And The Shape",
                                    "2": "84"
                                },
                                {
                                    "0": "83",
                                    "1": "My Way: The Best Of Frank Sinatra [Disc 1]",
                                    "2": "85"
                                },
                                {
                                    "0": "84",
                                    "1": "Roda De Funk",
                                    "2": "86"
                                },
                                {
                                    "0": "85",
                                    "1": "As Canções de Eu Tu Eles",
                                    "2": "27"
                                },
                                {
                                    "0": "86",
                                    "1": "Quanta Gente Veio Ver (Live)",
                                    "2": "27"
                                },
                                {
                                    "0": "87",
                                    "1": "Quanta Gente Veio ver--Bônus De Carnaval",
                                    "2": "27"
                                },
                                {
                                    "0": "88",
                                    "1": "Faceless",
                                    "2": "87"
                                },
                                {
                                    "0": "89",
                                    "1": "American Idiot",
                                    "2": "54"
                                },
                                {
                                    "0": "90",
                                    "1": "Appetite for Destruction",
                                    "2": "88"
                                },
                                {
                                    "0": "91",
                                    "1": "Use Your Illusion I",
                                    "2": "88"
                                },
                                {
                                    "0": "92",
                                    "1": "Use Your Illusion II",
                                    "2": "88"
                                },
                                {
                                    "0": "93",
                                    "1": "Blue Moods",
                                    "2": "89"
                                },
                                {
                                    "0": "94",
                                    "1": "A Matter of Life and Death",
                                    "2": "90"
                                },
                                {
                                    "0": "95",
                                    "1": "A Real Dead One",
                                    "2": "90"
                                },
                                {
                                    "0": "96",
                                    "1": "A Real Live One",
                                    "2": "90"
                                },
                                {
                                    "0": "97",
                                    "1": "Brave New World",
                                    "2": "90"
                                },
                                {
                                    "0": "98",
                                    "1": "Dance Of Death",
                                    "2": "90"
                                },
                                {
                                    "0": "99",
                                    "1": "Fear Of The Dark",
                                    "2": "90"
                                },
                                {
                                    "0": "100",
                                    "1": "Iron Maiden",
                                    "2": "90"
                                },
                                {
                                    "0": "101",
                                    "1": "Killers",
                                    "2": "90"
                                },
                                {
                                    "0": "102",
                                    "1": "Live After Death",
                                    "2": "90"
                                },
                                {
                                    "0": "103",
                                    "1": "Live At Donington 1992 (Disc 1)",
                                    "2": "90"
                                },
                                {
                                    "0": "104",
                                    "1": "Live At Donington 1992 (Disc 2)",
                                    "2": "90"
                                },
                                {
                                    "0": "105",
                                    "1": "No Prayer For The Dying",
                                    "2": "90"
                                },
                                {
                                    "0": "106",
                                    "1": "Piece Of Mind",
                                    "2": "90"
                                },
                                {
                                    "0": "107",
                                    "1": "Powerslave",
                                    "2": "90"
                                },
                                {
                                    "0": "108",
                                    "1": "Rock In Rio [CD1]",
                                    "2": "90"
                                },
                                {
                                    "0": "109",
                                    "1": "Rock In Rio [CD2]",
                                    "2": "90"
                                },
                                {
                                    "0": "110",
                                    "1": "Seventh Son of a Seventh Son",
                                    "2": "90"
                                },
                                {
                                    "0": "111",
                                    "1": "Somewhere in Time",
                                    "2": "90"
                                },
                                {
                                    "0": "112",
                                    "1": "The Number of The Beast",
                                    "2": "90"
                                },
                                {
                                    "0": "113",
                                    "1": "The X Factor",
                                    "2": "90"
                                },
                                {
                                    "0": "114",
                                    "1": "Virtual XI",
                                    "2": "90"
                                },
                                {
                                    "0": "115",
                                    "1": "Sex Machine",
                                    "2": "91"
                                },
                                {
                                    "0": "116",
                                    "1": "Emergency On Planet Earth",
                                    "2": "92"
                                },
                                {
                                    "0": "117",
                                    "1": "Synkronized",
                                    "2": "92"
                                },
                                {
                                    "0": "118",
                                    "1": "The Return Of The Space Cowboy",
                                    "2": "92"
                                },
                                {
                                    "0": "119",
                                    "1": "Get Born",
                                    "2": "93"
                                },
                                {
                                    "0": "120",
                                    "1": "Are You Experienced?",
                                    "2": "94"
                                },
                                {
                                    "0": "121",
                                    "1": "Surfing with the Alien (Remastered)",
                                    "2": "95"
                                },
                                {
                                    "0": "122",
                                    "1": "Jorge Ben Jor 25 Anos",
                                    "2": "46"
                                },
                                {
                                    "0": "123",
                                    "1": "Jota Quest-1995",
                                    "2": "96"
                                },
                                {
                                    "0": "124",
                                    "1": "Cafezinho",
                                    "2": "97"
                                },
                                {
                                    "0": "125",
                                    "1": "Living After Midnight",
                                    "2": "98"
                                },
                                {
                                    "0": "126",
                                    "1": "Unplugged [Live]",
                                    "2": "52"
                                },
                                {
                                    "0": "127",
                                    "1": "BBC Sessions [Disc 2] [Live]",
                                    "2": "22"
                                },
                                {
                                    "0": "128",
                                    "1": "Coda",
                                    "2": "22"
                                },
                                {
                                    "0": "129",
                                    "1": "Houses Of The Holy",
                                    "2": "22"
                                },
                                {
                                    "0": "130",
                                    "1": "In Through The Out Door",
                                    "2": "22"
                                },
                                {
                                    "0": "131",
                                    "1": "IV",
                                    "2": "22"
                                },
                                {
                                    "0": "132",
                                    "1": "Led Zeppelin I",
                                    "2": "22"
                                },
                                {
                                    "0": "133",
                                    "1": "Led Zeppelin II",
                                    "2": "22"
                                },
                                {
                                    "0": "134",
                                    "1": "Led Zeppelin III",
                                    "2": "22"
                                },
                                {
                                    "0": "135",
                                    "1": "Physical Graffiti [Disc 2]",
                                    "2": "22"
                                },
                                {
                                    "0": "136",
                                    "1": "Presence",
                                    "2": "22"
                                },
                                {
                                    "0": "137",
                                    "1": "The Song Remains The Same (Disc 1)",
                                    "2": "22"
                                },
                                {
                                    "0": "138",
                                    "1": "The Song Remains The Same (Disc 2)",
                                    "2": "22"
                                },
                                {
                                    "0": "139",
                                    "1": "A TempestadeTempestade Ou O Livro Dos Dias",
                                    "2": "99"
                                },
                                {
                                    "0": "140",
                                    "1": "Mais Do Mesmo",
                                    "2": "99"
                                },
                                {
                                    "0": "141",
                                    "1": "Greatest Hits",
                                    "2": "100"
                                },
                                {
                                    "0": "142",
                                    "1": "Lulu Santos - RCA 100 Anos De Música - Álbum 01",
                                    "2": "101"
                                },
                                {
                                    "0": "143",
                                    "1": "Lulu Santos - RCA 100 Anos De Música - Álbum 02",
                                    "2": "101"
                                },
                                {
                                    "0": "144",
                                    "1": "Misplaced Childhood",
                                    "2": "102"
                                },
                                {
                                    "0": "145",
                                    "1": "Barulhinho Bom",
                                    "2": "103"
                                },
                                {
                                    "0": "146",
                                    "1": "Seek And Shall Find: More Of The Best (1963-1981)",
                                    "2": "104"
                                },
                                {
                                    "0": "147",
                                    "1": "The Best Of Men At Work",
                                    "2": "105"
                                },
                                {
                                    "0": "148",
                                    "1": "Black Album",
                                    "2": "50"
                                },
                                {
                                    "0": "149",
                                    "1": "Garage Inc. (Disc 2)",
                                    "2": "50"
                                },
                                {
                                    "0": "150",
                                    "1": "Kill 'Em All",
                                    "2": "50"
                                },
                                {
                                    "0": "151",
                                    "1": "Load",
                                    "2": "50"
                                },
                                {
                                    "0": "152",
                                    "1": "Master Of Puppets",
                                    "2": "50"
                                },
                                {
                                    "0": "153",
                                    "1": "ReLoad",
                                    "2": "50"
                                },
                                {
                                    "0": "154",
                                    "1": "Ride The Lightning",
                                    "2": "50"
                                },
                                {
                                    "0": "155",
                                    "1": "St. Anger",
                                    "2": "50"
                                },
                                {
                                    "0": "156",
                                    "1": "...And Justice For All",
                                    "2": "50"
                                },
                                {
                                    "0": "157",
                                    "1": "Miles Ahead",
                                    "2": "68"
                                },
                                {
                                    "0": "158",
                                    "1": "Milton Nascimento Ao Vivo",
                                    "2": "42"
                                },
                                {
                                    "0": "159",
                                    "1": "Minas",
                                    "2": "42"
                                },
                                {
                                    "0": "160",
                                    "1": "Ace Of Spades",
                                    "2": "106"
                                },
                                {
                                    "0": "161",
                                    "1": "Demorou...",
                                    "2": "108"
                                },
                                {
                                    "0": "162",
                                    "1": "Motley Crue Greatest Hits",
                                    "2": "109"
                                },
                                {
                                    "0": "163",
                                    "1": "From The Muddy Banks Of The Wishkah [Live]",
                                    "2": "110"
                                },
                                {
                                    "0": "164",
                                    "1": "Nevermind",
                                    "2": "110"
                                },
                                {
                                    "0": "165",
                                    "1": "Compositores",
                                    "2": "111"
                                },
                                {
                                    "0": "166",
                                    "1": "Olodum",
                                    "2": "112"
                                },
                                {
                                    "0": "167",
                                    "1": "Acústico MTV",
                                    "2": "113"
                                },
                                {
                                    "0": "168",
                                    "1": "Arquivo II",
                                    "2": "113"
                                },
                                {
                                    "0": "169",
                                    "1": "Arquivo Os Paralamas Do Sucesso",
                                    "2": "113"
                                },
                                {
                                    "0": "170",
                                    "1": "Bark at the Moon (Remastered)",
                                    "2": "114"
                                },
                                {
                                    "0": "171",
                                    "1": "Blizzard of Ozz",
                                    "2": "114"
                                },
                                {
                                    "0": "172",
                                    "1": "Diary of a Madman (Remastered)",
                                    "2": "114"
                                },
                                {
                                    "0": "173",
                                    "1": "No More Tears (Remastered)",
                                    "2": "114"
                                },
                                {
                                    "0": "174",
                                    "1": "Tribute",
                                    "2": "114"
                                },
                                {
                                    "0": "175",
                                    "1": "Walking Into Clarksdale",
                                    "2": "115"
                                },
                                {
                                    "0": "176",
                                    "1": "Original Soundtracks 1",
                                    "2": "116"
                                },
                                {
                                    "0": "177",
                                    "1": "The Beast Live",
                                    "2": "117"
                                },
                                {
                                    "0": "178",
                                    "1": "Live On Two Legs [Live]",
                                    "2": "118"
                                },
                                {
                                    "0": "179",
                                    "1": "Pearl Jam",
                                    "2": "118"
                                },
                                {
                                    "0": "180",
                                    "1": "Riot Act",
                                    "2": "118"
                                },
                                {
                                    "0": "181",
                                    "1": "Ten",
                                    "2": "118"
                                },
                                {
                                    "0": "182",
                                    "1": "Vs.",
                                    "2": "118"
                                },
                                {
                                    "0": "183",
                                    "1": "Dark Side Of The Moon",
                                    "2": "120"
                                },
                                {
                                    "0": "184",
                                    "1": "Os Cães Ladram Mas A Caravana Não Pára",
                                    "2": "121"
                                },
                                {
                                    "0": "185",
                                    "1": "Greatest Hits I",
                                    "2": "51"
                                },
                                {
                                    "0": "186",
                                    "1": "News Of The World",
                                    "2": "51"
                                },
                                {
                                    "0": "187",
                                    "1": "Out Of Time",
                                    "2": "122"
                                },
                                {
                                    "0": "188",
                                    "1": "Green",
                                    "2": "124"
                                },
                                {
                                    "0": "189",
                                    "1": "New Adventures In Hi-Fi",
                                    "2": "124"
                                },
                                {
                                    "0": "190",
                                    "1": "The Best Of R.E.M.: The IRS Years",
                                    "2": "124"
                                },
                                {
                                    "0": "191",
                                    "1": "Cesta Básica",
                                    "2": "125"
                                },
                                {
                                    "0": "192",
                                    "1": "Raul Seixas",
                                    "2": "126"
                                },
                                {
                                    "0": "193",
                                    "1": "Blood Sugar Sex Magik",
                                    "2": "127"
                                },
                                {
                                    "0": "194",
                                    "1": "By The Way",
                                    "2": "127"
                                },
                                {
                                    "0": "195",
                                    "1": "Californication",
                                    "2": "127"
                                },
                                {
                                    "0": "196",
                                    "1": "Retrospective I (1974-1980)",
                                    "2": "128"
                                },
                                {
                                    "0": "197",
                                    "1": "Santana - As Years Go By",
                                    "2": "59"
                                },
                                {
                                    "0": "198",
                                    "1": "Santana Live",
                                    "2": "59"
                                },
                                {
                                    "0": "199",
                                    "1": "Maquinarama",
                                    "2": "130"
                                },
                                {
                                    "0": "200",
                                    "1": "O Samba Poconé",
                                    "2": "130"
                                },
                                {
                                    "0": "201",
                                    "1": "Judas 0: B-Sides and Rarities",
                                    "2": "131"
                                },
                                {
                                    "0": "202",
                                    "1": "Rotten Apples: Greatest Hits",
                                    "2": "131"
                                },
                                {
                                    "0": "203",
                                    "1": "A-Sides",
                                    "2": "132"
                                },
                                {
                                    "0": "204",
                                    "1": "Morning Dance",
                                    "2": "53"
                                },
                                {
                                    "0": "205",
                                    "1": "In Step",
                                    "2": "133"
                                },
                                {
                                    "0": "206",
                                    "1": "Core",
                                    "2": "134"
                                },
                                {
                                    "0": "207",
                                    "1": "Mezmerize",
                                    "2": "135"
                                },
                                {
                                    "0": "208",
                                    "1": "[1997] Black Light Syndrome",
                                    "2": "136"
                                },
                                {
                                    "0": "209",
                                    "1": "Live [Disc 1]",
                                    "2": "137"
                                },
                                {
                                    "0": "210",
                                    "1": "Live [Disc 2]",
                                    "2": "137"
                                },
                                {
                                    "0": "211",
                                    "1": "The Singles",
                                    "2": "138"
                                },
                                {
                                    "0": "212",
                                    "1": "Beyond Good And Evil",
                                    "2": "139"
                                },
                                {
                                    "0": "213",
                                    "1": "Pure Cult: The Best Of The Cult",
                                    "2": "139"
                                },
                                {
                                    "0": "214",
                                    "1": "The Doors",
                                    "2": "140"
                                },
                                {
                                    "0": "215",
                                    "1": "The Police Greatest Hits",
                                    "2": "141"
                                },
                                {
                                    "0": "216",
                                    "1": "Hot Rocks, 1964-1971 (Disc 1)",
                                    "2": "142"
                                },
                                {
                                    "0": "217",
                                    "1": "No Security",
                                    "2": "142"
                                },
                                {
                                    "0": "218",
                                    "1": "Voodoo Lounge",
                                    "2": "142"
                                },
                                {
                                    "0": "219",
                                    "1": "Tangents",
                                    "2": "143"
                                },
                                {
                                    "0": "220",
                                    "1": "Transmission",
                                    "2": "143"
                                },
                                {
                                    "0": "221",
                                    "1": "My Generation - The Very Best Of The Who",
                                    "2": "144"
                                },
                                {
                                    "0": "222",
                                    "1": "Serie Sem Limite (Disc 1)",
                                    "2": "145"
                                },
                                {
                                    "0": "223",
                                    "1": "Serie Sem Limite (Disc 2)",
                                    "2": "145"
                                },
                                {
                                    "0": "224",
                                    "1": "Acústico",
                                    "2": "146"
                                },
                                {
                                    "0": "225",
                                    "1": "Volume Dois",
                                    "2": "146"
                                },
                                {
                                    "0": "226",
                                    "1": "Battlestar Galactica: The Story So Far",
                                    "2": "147"
                                },
                                {
                                    "0": "227",
                                    "1": "Battlestar Galactica, Season 3",
                                    "2": "147"
                                },
                                {
                                    "0": "228",
                                    "1": "Heroes, Season 1",
                                    "2": "148"
                                },
                                {
                                    "0": "229",
                                    "1": "Lost, Season 3",
                                    "2": "149"
                                },
                                {
                                    "0": "230",
                                    "1": "Lost, Season 1",
                                    "2": "149"
                                },
                                {
                                    "0": "231",
                                    "1": "Lost, Season 2",
                                    "2": "149"
                                },
                                {
                                    "0": "232",
                                    "1": "Achtung Baby",
                                    "2": "150"
                                },
                                {
                                    "0": "233",
                                    "1": "All That You Can't Leave Behind",
                                    "2": "150"
                                },
                                {
                                    "0": "234",
                                    "1": "B-Sides 1980-1990",
                                    "2": "150"
                                },
                                {
                                    "0": "235",
                                    "1": "How To Dismantle An Atomic Bomb",
                                    "2": "150"
                                },
                                {
                                    "0": "236",
                                    "1": "Pop",
                                    "2": "150"
                                },
                                {
                                    "0": "237",
                                    "1": "Rattle And Hum",
                                    "2": "150"
                                },
                                {
                                    "0": "238",
                                    "1": "The Best Of 1980-1990",
                                    "2": "150"
                                },
                                {
                                    "0": "239",
                                    "1": "War",
                                    "2": "150"
                                },
                                {
                                    "0": "240",
                                    "1": "Zooropa",
                                    "2": "150"
                                },
                                {
                                    "0": "241",
                                    "1": "UB40 The Best Of - Volume Two [UK]",
                                    "2": "151"
                                },
                                {
                                    "0": "242",
                                    "1": "Diver Down",
                                    "2": "152"
                                },
                                {
                                    "0": "243",
                                    "1": "The Best Of Van Halen, Vol. I",
                                    "2": "152"
                                },
                                {
                                    "0": "244",
                                    "1": "Van Halen",
                                    "2": "152"
                                },
                                {
                                    "0": "245",
                                    "1": "Van Halen III",
                                    "2": "152"
                                },
                                {
                                    "0": "246",
                                    "1": "Contraband",
                                    "2": "153"
                                },
                                {
                                    "0": "247",
                                    "1": "Vinicius De Moraes",
                                    "2": "72"
                                },
                                {
                                    "0": "248",
                                    "1": "Ao Vivo [IMPORT]",
                                    "2": "155"
                                },
                                {
                                    "0": "249",
                                    "1": "The Office, Season 1",
                                    "2": "156"
                                },
                                {
                                    "0": "250",
                                    "1": "The Office, Season 2",
                                    "2": "156"
                                },
                                {
                                    "0": "251",
                                    "1": "The Office, Season 3",
                                    "2": "156"
                                },
                                {
                                    "0": "252",
                                    "1": "Un-Led-Ed",
                                    "2": "157"
                                },
                                {
                                    "0": "253",
                                    "1": "Battlestar Galactica (Classic), Season 1",
                                    "2": "158"
                                },
                                {
                                    "0": "254",
                                    "1": "Aquaman",
                                    "2": "159"
                                },
                                {
                                    "0": "255",
                                    "1": "Instant Karma: The Amnesty International Campaign to Save Darfur",
                                    "2": "150"
                                },
                                {
                                    "0": "256",
                                    "1": "Speak of the Devil",
                                    "2": "114"
                                },
                                {
                                    "0": "257",
                                    "1": "20th Century Masters - The Millennium Collection: The Best of Scorpions",
                                    "2": "179"
                                },
                                {
                                    "0": "258",
                                    "1": "House of Pain",
                                    "2": "180"
                                },
                                {
                                    "0": "259",
                                    "1": "Radio Brasil (O Som da Jovem Vanguarda) - Seleccao de Henrique Amaro",
                                    "2": "36"
                                },
                                {
                                    "0": "260",
                                    "1": "Cake: B-Sides and Rarities",
                                    "2": "196"
                                },
                                {
                                    "0": "261",
                                    "1": "LOST, Season 4",
                                    "2": "149"
                                },
                                {
                                    "0": "262",
                                    "1": "Quiet Songs",
                                    "2": "197"
                                },
                                {
                                    "0": "263",
                                    "1": "Muso Ko",
                                    "2": "198"
                                },
                                {
                                    "0": "264",
                                    "1": "Realize",
                                    "2": "199"
                                },
                                {
                                    "0": "265",
                                    "1": "Every Kind of Light",
                                    "2": "200"
                                },
                                {
                                    "0": "266",
                                    "1": "Duos II",
                                    "2": "201"
                                },
                                {
                                    "0": "267",
                                    "1": "Worlds",
                                    "2": "202"
                                },
                                {
                                    "0": "268",
                                    "1": "The Best of Beethoven",
                                    "2": "203"
                                },
                                {
                                    "0": "269",
                                    "1": "Temple of the Dog",
                                    "2": "204"
                                },
                                {
                                    "0": "270",
                                    "1": "Carry On",
                                    "2": "205"
                                },
                                {
                                    "0": "271",
                                    "1": "Revelations",
                                    "2": "8"
                                },
                                {
                                    "0": "272",
                                    "1": "Adorate Deum: Gregorian Chant from the Proper of the Mass",
                                    "2": "206"
                                },
                                {
                                    "0": "273",
                                    "1": "Allegri: Miserere",
                                    "2": "207"
                                },
                                {
                                    "0": "274",
                                    "1": "Pachelbel: Canon & Gigue",
                                    "2": "208"
                                },
                                {
                                    "0": "275",
                                    "1": "Vivaldi: The Four Seasons",
                                    "2": "209"
                                },
                                {
                                    "0": "276",
                                    "1": "Bach: Violin Concertos",
                                    "2": "210"
                                },
                                {
                                    "0": "277",
                                    "1": "Bach: Goldberg Variations",
                                    "2": "211"
                                },
                                {
                                    "0": "278",
                                    "1": "Bach: The Cello Suites",
                                    "2": "212"
                                },
                                {
                                    "0": "279",
                                    "1": "Handel: The Messiah (Highlights)",
                                    "2": "213"
                                },
                                {
                                    "0": "280",
                                    "1": "The World of Classical Favourites",
                                    "2": "214"
                                },
                                {
                                    "0": "281",
                                    "1": "Sir Neville Marriner: A Celebration",
                                    "2": "215"
                                },
                                {
                                    "0": "282",
                                    "1": "Mozart: Wind Concertos",
                                    "2": "216"
                                },
                                {
                                    "0": "283",
                                    "1": "Haydn: Symphonies 99 - 104",
                                    "2": "217"
                                },
                                {
                                    "0": "284",
                                    "1": "Beethoven: Symhonies Nos. 5 & 6",
                                    "2": "218"
                                },
                                {
                                    "0": "285",
                                    "1": "A Soprano Inspired",
                                    "2": "219"
                                },
                                {
                                    "0": "286",
                                    "1": "Great Opera Choruses",
                                    "2": "220"
                                },
                                {
                                    "0": "287",
                                    "1": "Wagner: Favourite Overtures",
                                    "2": "221"
                                },
                                {
                                    "0": "288",
                                    "1": "Fauré: Requiem, Ravel: Pavane & Others",
                                    "2": "222"
                                },
                                {
                                    "0": "289",
                                    "1": "Tchaikovsky: The Nutcracker",
                                    "2": "223"
                                },
                                {
                                    "0": "290",
                                    "1": "The Last Night of the Proms",
                                    "2": "224"
                                },
                                {
                                    "0": "291",
                                    "1": "Puccini: Madama Butterfly - Highlights",
                                    "2": "225"
                                },
                                {
                                    "0": "292",
                                    "1": "Holst: The Planets, Op. 32 & Vaughan Williams: Fantasies",
                                    "2": "226"
                                },
                                {
                                    "0": "293",
                                    "1": "Pavarotti's Opera Made Easy",
                                    "2": "227"
                                },
                                {
                                    "0": "294",
                                    "1": "Great Performances - Barber's Adagio and Other Romantic Favorites for Strings",
                                    "2": "228"
                                },
                                {
                                    "0": "295",
                                    "1": "Carmina Burana",
                                    "2": "229"
                                },
                                {
                                    "0": "296",
                                    "1": "A Copland Celebration, Vol. I",
                                    "2": "230"
                                },
                                {
                                    "0": "297",
                                    "1": "Bach: Toccata & Fugue in D Minor",
                                    "2": "231"
                                },
                                {
                                    "0": "298",
                                    "1": "Prokofiev: Symphony No.1",
                                    "2": "232"
                                },
                                {
                                    "0": "299",
                                    "1": "Scheherazade",
                                    "2": "233"
                                },
                                {
                                    "0": "300",
                                    "1": "Bach: The Brandenburg Concertos",
                                    "2": "234"
                                },
                                {
                                    "0": "301",
                                    "1": "Chopin: Piano Concertos Nos. 1 & 2",
                                    "2": "235"
                                },
                                {
                                    "0": "302",
                                    "1": "Mascagni: Cavalleria Rusticana",
                                    "2": "236"
                                },
                                {
                                    "0": "303",
                                    "1": "Sibelius: Finlandia",
                                    "2": "237"
                                },
                                {
                                    "0": "304",
                                    "1": "Beethoven Piano Sonatas: Moonlight & Pastorale",
                                    "2": "238"
                                },
                                {
                                    "0": "305",
                                    "1": "Great Recordings of the Century - Mahler: Das Lied von der Erde",
                                    "2": "240"
                                },
                                {
                                    "0": "306",
                                    "1": "Elgar: Cello Concerto & Vaughan Williams: Fantasias",
                                    "2": "241"
                                },
                                {
                                    "0": "307",
                                    "1": "Adams, John: The Chairman Dances",
                                    "2": "242"
                                },
                                {
                                    "0": "308",
                                    "1": "Tchaikovsky: 1812 Festival Overture, Op.49, Capriccio Italien & Beethoven: Wellington's Victory",
                                    "2": "243"
                                },
                                {
                                    "0": "309",
                                    "1": "Palestrina: Missa Papae Marcelli & Allegri: Miserere",
                                    "2": "244"
                                },
                                {
                                    "0": "310",
                                    "1": "Prokofiev: Romeo & Juliet",
                                    "2": "245"
                                },
                                {
                                    "0": "311",
                                    "1": "Strauss: Waltzes",
                                    "2": "226"
                                },
                                {
                                    "0": "312",
                                    "1": "Berlioz: Symphonie Fantastique",
                                    "2": "245"
                                },
                                {
                                    "0": "313",
                                    "1": "Bizet: Carmen Highlights",
                                    "2": "246"
                                },
                                {
                                    "0": "314",
                                    "1": "English Renaissance",
                                    "2": "247"
                                },
                                {
                                    "0": "315",
                                    "1": "Handel: Music for the Royal Fireworks (Original Version 1749)",
                                    "2": "208"
                                },
                                {
                                    "0": "316",
                                    "1": "Grieg: Peer Gynt Suites & Sibelius: Pelléas et Mélisande",
                                    "2": "248"
                                },
                                {
                                    "0": "317",
                                    "1": "Mozart Gala: Famous Arias",
                                    "2": "249"
                                },
                                {
                                    "0": "318",
                                    "1": "SCRIABIN: Vers la flamme",
                                    "2": "250"
                                },
                                {
                                    "0": "319",
                                    "1": "Armada: Music from the Courts of England and Spain",
                                    "2": "251"
                                },
                                {
                                    "0": "320",
                                    "1": "Mozart: Symphonies Nos. 40 & 41",
                                    "2": "248"
                                },
                                {
                                    "0": "321",
                                    "1": "Back to Black",
                                    "2": "252"
                                },
                                {
                                    "0": "322",
                                    "1": "Frank",
                                    "2": "252"
                                },
                                {
                                    "0": "323",
                                    "1": "Carried to Dust (Bonus Track Version)",
                                    "2": "253"
                                },
                                {
                                    "0": "324",
                                    "1": "Beethoven: Symphony No. 6 'Pastoral' Etc.",
                                    "2": "254"
                                },
                                {
                                    "0": "325",
                                    "1": "Bartok: Violin & Viola Concertos",
                                    "2": "255"
                                },
                                {
                                    "0": "326",
                                    "1": "Mendelssohn: A Midsummer Night's Dream",
                                    "2": "256"
                                },
                                {
                                    "0": "327",
                                    "1": "Bach: Orchestral Suites Nos. 1 - 4",
                                    "2": "257"
                                },
                                {
                                    "0": "328",
                                    "1": "Charpentier: Divertissements, Airs & Concerts",
                                    "2": "258"
                                },
                                {
                                    "0": "329",
                                    "1": "South American Getaway",
                                    "2": "259"
                                },
                                {
                                    "0": "330",
                                    "1": "Górecki: Symphony No. 3",
                                    "2": "260"
                                },
                                {
                                    "0": "331",
                                    "1": "Purcell: The Fairy Queen",
                                    "2": "261"
                                },
                                {
                                    "0": "332",
                                    "1": "The Ultimate Relexation Album",
                                    "2": "262"
                                },
                                {
                                    "0": "333",
                                    "1": "Purcell: Music for the Queen Mary",
                                    "2": "263"
                                },
                                {
                                    "0": "334",
                                    "1": "Weill: The Seven Deadly Sins",
                                    "2": "264"
                                },
                                {
                                    "0": "335",
                                    "1": "J.S. Bach: Chaconne, Suite in E Minor, Partita in E Major & Prelude, Fugue and Allegro",
                                    "2": "265"
                                },
                                {
                                    "0": "336",
                                    "1": "Prokofiev: Symphony No.5 & Stravinksy: Le Sacre Du Printemps",
                                    "2": "248"
                                },
                                {
                                    "0": "337",
                                    "1": "Szymanowski: Piano Works, Vol. 1",
                                    "2": "266"
                                },
                                {
                                    "0": "338",
                                    "1": "Nielsen: The Six Symphonies",
                                    "2": "267"
                                },
                                {
                                    "0": "339",
                                    "1": "Great Recordings of the Century: Paganini's 24 Caprices",
                                    "2": "268"
                                },
                                {
                                    "0": "340",
                                    "1": "Liszt - 12 Études D'Execution Transcendante",
                                    "2": "269"
                                },
                                {
                                    "0": "341",
                                    "1": "Great Recordings of the Century - Shubert: Schwanengesang, 4 Lieder",
                                    "2": "270"
                                },
                                {
                                    "0": "342",
                                    "1": "Locatelli: Concertos for Violin, Strings and Continuo, Vol. 3",
                                    "2": "271"
                                },
                                {
                                    "0": "343",
                                    "1": "Respighi:Pines of Rome",
                                    "2": "226"
                                },
                                {
                                    "0": "344",
                                    "1": "Schubert: The Late String Quartets & String Quintet (3 CD's)",
                                    "2": "272"
                                },
                                {
                                    "0": "345",
                                    "1": "Monteverdi: L'Orfeo",
                                    "2": "273"
                                },
                                {
                                    "0": "346",
                                    "1": "Mozart: Chamber Music",
                                    "2": "274"
                                },
                                {
                                    "0": "347",
                                    "1": "Koyaanisqatsi (Soundtrack from the Motion Picture)",
                                    "2": "275"
                                }
                            ]
                        },
                        "text/html": [
                            "<table>",
                            "<tr><th>album_id</th><th>title</th><th>artist_id</th></tr>",
                            "<tr><td>1</td><td>For Those About To Rock We Salute You</td><td>1</td></tr>",
                            "<tr><td>2</td><td>Balls to the Wall</td><td>2</td></tr>",
                            "<tr><td>3</td><td>Restless and Wild</td><td>2</td></tr>",
                            "<tr><td>4</td><td>Let There Be Rock</td><td>1</td></tr>",
                            "<tr><td>5</td><td>Big Ones</td><td>3</td></tr>",
                            "<tr><td>6</td><td>Jagged Little Pill</td><td>4</td></tr>",
                            "<tr><td>7</td><td>Facelift</td><td>5</td></tr>",
                            "<tr><td>8</td><td>Warner 25 Anos</td><td>6</td></tr>",
                            "<tr><td>9</td><td>Plays Metallica By Four Cellos</td><td>7</td></tr>",
                            "<tr><td>10</td><td>Audioslave</td><td>8</td></tr>",
                            "<tr><td>11</td><td>Out Of Exile</td><td>8</td></tr>",
                            "<tr><td>12</td><td>BackBeat Soundtrack</td><td>9</td></tr>",
                            "<tr><td>13</td><td>The Best Of Billy Cobham</td><td>10</td></tr>",
                            "<tr><td>14</td><td>Alcohol Fueled Brewtality Live! [Disc 1]</td><td>11</td></tr>",
                            "<tr><td>15</td><td>Alcohol Fueled Brewtality Live! [Disc 2]</td><td>11</td></tr>",
                            "<tr><td>16</td><td>Black Sabbath</td><td>12</td></tr>",
                            "<tr><td>17</td><td>Black Sabbath Vol. 4 (Remaster)</td><td>12</td></tr>",
                            "<tr><td>18</td><td>Body Count</td><td>13</td></tr>",
                            "<tr><td>19</td><td>Chemical Wedding</td><td>14</td></tr>",
                            "<tr><td>20</td><td>The Best Of Buddy Guy - The Millenium Collection</td><td>15</td></tr>",
                            "<tr><td>21</td><td>Prenda Minha</td><td>16</td></tr>",
                            "<tr><td>22</td><td>Sozinho Remix Ao Vivo</td><td>16</td></tr>",
                            "<tr><td>23</td><td>Minha Historia</td><td>17</td></tr>",
                            "<tr><td>24</td><td>Afrociberdelia</td><td>18</td></tr>",
                            "<tr><td>25</td><td>Da Lama Ao Caos</td><td>18</td></tr>",
                            "<tr><td>26</td><td>Acústico MTV [Live]</td><td>19</td></tr>",
                            "<tr><td>27</td><td>Cidade Negra - Hits</td><td>19</td></tr>",
                            "<tr><td>28</td><td>Na Pista</td><td>20</td></tr>",
                            "<tr><td>29</td><td>Axé Bahia 2001</td><td>21</td></tr>",
                            "<tr><td>30</td><td>BBC Sessions [Disc 1] [Live]</td><td>22</td></tr>",
                            "<tr><td>31</td><td>Bongo Fury</td><td>23</td></tr>",
                            "<tr><td>32</td><td>Carnaval 2001</td><td>21</td></tr>",
                            "<tr><td>33</td><td>Chill: Brazil (Disc 1)</td><td>24</td></tr>",
                            "<tr><td>34</td><td>Chill: Brazil (Disc 2)</td><td>6</td></tr>",
                            "<tr><td>35</td><td>Garage Inc. (Disc 1)</td><td>50</td></tr>",
                            "<tr><td>36</td><td>Greatest Hits II</td><td>51</td></tr>",
                            "<tr><td>37</td><td>Greatest Kiss</td><td>52</td></tr>",
                            "<tr><td>38</td><td>Heart of the Night</td><td>53</td></tr>",
                            "<tr><td>39</td><td>International Superhits</td><td>54</td></tr>",
                            "<tr><td>40</td><td>Into The Light</td><td>55</td></tr>",
                            "<tr><td>41</td><td>Meus Momentos</td><td>56</td></tr>",
                            "<tr><td>42</td><td>Minha História</td><td>57</td></tr>",
                            "<tr><td>43</td><td>MK III The Final Concerts [Disc 1]</td><td>58</td></tr>",
                            "<tr><td>44</td><td>Physical Graffiti [Disc 1]</td><td>22</td></tr>",
                            "<tr><td>45</td><td>Sambas De Enredo 2001</td><td>21</td></tr>",
                            "<tr><td>46</td><td>Supernatural</td><td>59</td></tr>",
                            "<tr><td>47</td><td>The Best of Ed Motta</td><td>37</td></tr>",
                            "<tr><td>48</td><td>The Essential Miles Davis [Disc 1]</td><td>68</td></tr>",
                            "<tr><td>49</td><td>The Essential Miles Davis [Disc 2]</td><td>68</td></tr>",
                            "<tr><td>50</td><td>The Final Concerts (Disc 2)</td><td>58</td></tr>",
                            "<tr><td>51</td><td>Up An' Atom</td><td>69</td></tr>",
                            "<tr><td>52</td><td>Vinícius De Moraes - Sem Limite</td><td>70</td></tr>",
                            "<tr><td>53</td><td>Vozes do MPB</td><td>21</td></tr>",
                            "<tr><td>54</td><td>Chronicle, Vol. 1</td><td>76</td></tr>",
                            "<tr><td>55</td><td>Chronicle, Vol. 2</td><td>76</td></tr>",
                            "<tr><td>56</td><td>Cássia Eller - Coleção Sem Limite [Disc 2]</td><td>77</td></tr>",
                            "<tr><td>57</td><td>Cássia Eller - Sem Limite [Disc 1]</td><td>77</td></tr>",
                            "<tr><td>58</td><td>Come Taste The Band</td><td>58</td></tr>",
                            "<tr><td>59</td><td>Deep Purple In Rock</td><td>58</td></tr>",
                            "<tr><td>60</td><td>Fireball</td><td>58</td></tr>",
                            "<tr><td>61</td><td>Knocking at Your Back Door: The Best Of Deep Purple in the 80's</td><td>58</td></tr>",
                            "<tr><td>62</td><td>Machine Head</td><td>58</td></tr>",
                            "<tr><td>63</td><td>Purpendicular</td><td>58</td></tr>",
                            "<tr><td>64</td><td>Slaves And Masters</td><td>58</td></tr>",
                            "<tr><td>65</td><td>Stormbringer</td><td>58</td></tr>",
                            "<tr><td>66</td><td>The Battle Rages On</td><td>58</td></tr>",
                            "<tr><td>67</td><td>Vault: Def Leppard's Greatest Hits</td><td>78</td></tr>",
                            "<tr><td>68</td><td>Outbreak</td><td>79</td></tr>",
                            "<tr><td>69</td><td>Djavan Ao Vivo - Vol. 02</td><td>80</td></tr>",
                            "<tr><td>70</td><td>Djavan Ao Vivo - Vol. 1</td><td>80</td></tr>",
                            "<tr><td>71</td><td>Elis Regina-Minha História</td><td>41</td></tr>",
                            "<tr><td>72</td><td>The Cream Of Clapton</td><td>81</td></tr>",
                            "<tr><td>73</td><td>Unplugged</td><td>81</td></tr>",
                            "<tr><td>74</td><td>Album Of The Year</td><td>82</td></tr>",
                            "<tr><td>75</td><td>Angel Dust</td><td>82</td></tr>",
                            "<tr><td>76</td><td>King For A Day Fool For A Lifetime</td><td>82</td></tr>",
                            "<tr><td>77</td><td>The Real Thing</td><td>82</td></tr>",
                            "<tr><td>78</td><td>Deixa Entrar</td><td>83</td></tr>",
                            "<tr><td>79</td><td>In Your Honor [Disc 1]</td><td>84</td></tr>",
                            "<tr><td>80</td><td>In Your Honor [Disc 2]</td><td>84</td></tr>",
                            "<tr><td>81</td><td>One By One</td><td>84</td></tr>",
                            "<tr><td>82</td><td>The Colour And The Shape</td><td>84</td></tr>",
                            "<tr><td>83</td><td>My Way: The Best Of Frank Sinatra [Disc 1]</td><td>85</td></tr>",
                            "<tr><td>84</td><td>Roda De Funk</td><td>86</td></tr>",
                            "<tr><td>85</td><td>As Canções de Eu Tu Eles</td><td>27</td></tr>",
                            "<tr><td>86</td><td>Quanta Gente Veio Ver (Live)</td><td>27</td></tr>",
                            "<tr><td>87</td><td>Quanta Gente Veio ver--Bônus De Carnaval</td><td>27</td></tr>",
                            "<tr><td>88</td><td>Faceless</td><td>87</td></tr>",
                            "<tr><td>89</td><td>American Idiot</td><td>54</td></tr>",
                            "<tr><td>90</td><td>Appetite for Destruction</td><td>88</td></tr>",
                            "<tr><td>91</td><td>Use Your Illusion I</td><td>88</td></tr>",
                            "<tr><td>92</td><td>Use Your Illusion II</td><td>88</td></tr>",
                            "<tr><td>93</td><td>Blue Moods</td><td>89</td></tr>",
                            "<tr><td>94</td><td>A Matter of Life and Death</td><td>90</td></tr>",
                            "<tr><td>95</td><td>A Real Dead One</td><td>90</td></tr>",
                            "<tr><td>96</td><td>A Real Live One</td><td>90</td></tr>",
                            "<tr><td>97</td><td>Brave New World</td><td>90</td></tr>",
                            "<tr><td>98</td><td>Dance Of Death</td><td>90</td></tr>",
                            "<tr><td>99</td><td>Fear Of The Dark</td><td>90</td></tr>",
                            "<tr><td>100</td><td>Iron Maiden</td><td>90</td></tr>",
                            "<tr><td>101</td><td>Killers</td><td>90</td></tr>",
                            "<tr><td>102</td><td>Live After Death</td><td>90</td></tr>",
                            "<tr><td>103</td><td>Live At Donington 1992 (Disc 1)</td><td>90</td></tr>",
                            "<tr><td>104</td><td>Live At Donington 1992 (Disc 2)</td><td>90</td></tr>",
                            "<tr><td>105</td><td>No Prayer For The Dying</td><td>90</td></tr>",
                            "<tr><td>106</td><td>Piece Of Mind</td><td>90</td></tr>",
                            "<tr><td>107</td><td>Powerslave</td><td>90</td></tr>",
                            "<tr><td>108</td><td>Rock In Rio [CD1]</td><td>90</td></tr>",
                            "<tr><td>109</td><td>Rock In Rio [CD2]</td><td>90</td></tr>",
                            "<tr><td>110</td><td>Seventh Son of a Seventh Son</td><td>90</td></tr>",
                            "<tr><td>111</td><td>Somewhere in Time</td><td>90</td></tr>",
                            "<tr><td>112</td><td>The Number of The Beast</td><td>90</td></tr>",
                            "<tr><td>113</td><td>The X Factor</td><td>90</td></tr>",
                            "<tr><td>114</td><td>Virtual XI</td><td>90</td></tr>",
                            "<tr><td>115</td><td>Sex Machine</td><td>91</td></tr>",
                            "<tr><td>116</td><td>Emergency On Planet Earth</td><td>92</td></tr>",
                            "<tr><td>117</td><td>Synkronized</td><td>92</td></tr>",
                            "<tr><td>118</td><td>The Return Of The Space Cowboy</td><td>92</td></tr>",
                            "<tr><td>119</td><td>Get Born</td><td>93</td></tr>",
                            "<tr><td>120</td><td>Are You Experienced?</td><td>94</td></tr>",
                            "<tr><td>121</td><td>Surfing with the Alien (Remastered)</td><td>95</td></tr>",
                            "<tr><td>122</td><td>Jorge Ben Jor 25 Anos</td><td>46</td></tr>",
                            "<tr><td>123</td><td>Jota Quest-1995</td><td>96</td></tr>",
                            "<tr><td>124</td><td>Cafezinho</td><td>97</td></tr>",
                            "<tr><td>125</td><td>Living After Midnight</td><td>98</td></tr>",
                            "<tr><td>126</td><td>Unplugged [Live]</td><td>52</td></tr>",
                            "<tr><td>127</td><td>BBC Sessions [Disc 2] [Live]</td><td>22</td></tr>",
                            "<tr><td>128</td><td>Coda</td><td>22</td></tr>",
                            "<tr><td>129</td><td>Houses Of The Holy</td><td>22</td></tr>",
                            "<tr><td>130</td><td>In Through The Out Door</td><td>22</td></tr>",
                            "<tr><td>131</td><td>IV</td><td>22</td></tr>",
                            "<tr><td>132</td><td>Led Zeppelin I</td><td>22</td></tr>",
                            "<tr><td>133</td><td>Led Zeppelin II</td><td>22</td></tr>",
                            "<tr><td>134</td><td>Led Zeppelin III</td><td>22</td></tr>",
                            "<tr><td>135</td><td>Physical Graffiti [Disc 2]</td><td>22</td></tr>",
                            "<tr><td>136</td><td>Presence</td><td>22</td></tr>",
                            "<tr><td>137</td><td>The Song Remains The Same (Disc 1)</td><td>22</td></tr>",
                            "<tr><td>138</td><td>The Song Remains The Same (Disc 2)</td><td>22</td></tr>",
                            "<tr><td>139</td><td>A TempestadeTempestade Ou O Livro Dos Dias</td><td>99</td></tr>",
                            "<tr><td>140</td><td>Mais Do Mesmo</td><td>99</td></tr>",
                            "<tr><td>141</td><td>Greatest Hits</td><td>100</td></tr>",
                            "<tr><td>142</td><td>Lulu Santos - RCA 100 Anos De Música - Álbum 01</td><td>101</td></tr>",
                            "<tr><td>143</td><td>Lulu Santos - RCA 100 Anos De Música - Álbum 02</td><td>101</td></tr>",
                            "<tr><td>144</td><td>Misplaced Childhood</td><td>102</td></tr>",
                            "<tr><td>145</td><td>Barulhinho Bom</td><td>103</td></tr>",
                            "<tr><td>146</td><td>Seek And Shall Find: More Of The Best (1963-1981)</td><td>104</td></tr>",
                            "<tr><td>147</td><td>The Best Of Men At Work</td><td>105</td></tr>",
                            "<tr><td>148</td><td>Black Album</td><td>50</td></tr>",
                            "<tr><td>149</td><td>Garage Inc. (Disc 2)</td><td>50</td></tr>",
                            "<tr><td>150</td><td>Kill 'Em All</td><td>50</td></tr>",
                            "<tr><td>151</td><td>Load</td><td>50</td></tr>",
                            "<tr><td>152</td><td>Master Of Puppets</td><td>50</td></tr>",
                            "<tr><td>153</td><td>ReLoad</td><td>50</td></tr>",
                            "<tr><td>154</td><td>Ride The Lightning</td><td>50</td></tr>",
                            "<tr><td>155</td><td>St. Anger</td><td>50</td></tr>",
                            "<tr><td>156</td><td>...And Justice For All</td><td>50</td></tr>",
                            "<tr><td>157</td><td>Miles Ahead</td><td>68</td></tr>",
                            "<tr><td>158</td><td>Milton Nascimento Ao Vivo</td><td>42</td></tr>",
                            "<tr><td>159</td><td>Minas</td><td>42</td></tr>",
                            "<tr><td>160</td><td>Ace Of Spades</td><td>106</td></tr>",
                            "<tr><td>161</td><td>Demorou...</td><td>108</td></tr>",
                            "<tr><td>162</td><td>Motley Crue Greatest Hits</td><td>109</td></tr>",
                            "<tr><td>163</td><td>From The Muddy Banks Of The Wishkah [Live]</td><td>110</td></tr>",
                            "<tr><td>164</td><td>Nevermind</td><td>110</td></tr>",
                            "<tr><td>165</td><td>Compositores</td><td>111</td></tr>",
                            "<tr><td>166</td><td>Olodum</td><td>112</td></tr>",
                            "<tr><td>167</td><td>Acústico MTV</td><td>113</td></tr>",
                            "<tr><td>168</td><td>Arquivo II</td><td>113</td></tr>",
                            "<tr><td>169</td><td>Arquivo Os Paralamas Do Sucesso</td><td>113</td></tr>",
                            "<tr><td>170</td><td>Bark at the Moon (Remastered)</td><td>114</td></tr>",
                            "<tr><td>171</td><td>Blizzard of Ozz</td><td>114</td></tr>",
                            "<tr><td>172</td><td>Diary of a Madman (Remastered)</td><td>114</td></tr>",
                            "<tr><td>173</td><td>No More Tears (Remastered)</td><td>114</td></tr>",
                            "<tr><td>174</td><td>Tribute</td><td>114</td></tr>",
                            "<tr><td>175</td><td>Walking Into Clarksdale</td><td>115</td></tr>",
                            "<tr><td>176</td><td>Original Soundtracks 1</td><td>116</td></tr>",
                            "<tr><td>177</td><td>The Beast Live</td><td>117</td></tr>",
                            "<tr><td>178</td><td>Live On Two Legs [Live]</td><td>118</td></tr>",
                            "<tr><td>179</td><td>Pearl Jam</td><td>118</td></tr>",
                            "<tr><td>180</td><td>Riot Act</td><td>118</td></tr>",
                            "<tr><td>181</td><td>Ten</td><td>118</td></tr>",
                            "<tr><td>182</td><td>Vs.</td><td>118</td></tr>",
                            "<tr><td>183</td><td>Dark Side Of The Moon</td><td>120</td></tr>",
                            "<tr><td>184</td><td>Os Cães Ladram Mas A Caravana Não Pára</td><td>121</td></tr>",
                            "<tr><td>185</td><td>Greatest Hits I</td><td>51</td></tr>",
                            "<tr><td>186</td><td>News Of The World</td><td>51</td></tr>",
                            "<tr><td>187</td><td>Out Of Time</td><td>122</td></tr>",
                            "<tr><td>188</td><td>Green</td><td>124</td></tr>",
                            "<tr><td>189</td><td>New Adventures In Hi-Fi</td><td>124</td></tr>",
                            "<tr><td>190</td><td>The Best Of R.E.M.: The IRS Years</td><td>124</td></tr>",
                            "<tr><td>191</td><td>Cesta Básica</td><td>125</td></tr>",
                            "<tr><td>192</td><td>Raul Seixas</td><td>126</td></tr>",
                            "<tr><td>193</td><td>Blood Sugar Sex Magik</td><td>127</td></tr>",
                            "<tr><td>194</td><td>By The Way</td><td>127</td></tr>",
                            "<tr><td>195</td><td>Californication</td><td>127</td></tr>",
                            "<tr><td>196</td><td>Retrospective I (1974-1980)</td><td>128</td></tr>",
                            "<tr><td>197</td><td>Santana - As Years Go By</td><td>59</td></tr>",
                            "<tr><td>198</td><td>Santana Live</td><td>59</td></tr>",
                            "<tr><td>199</td><td>Maquinarama</td><td>130</td></tr>",
                            "<tr><td>200</td><td>O Samba Poconé</td><td>130</td></tr>",
                            "<tr><td>201</td><td>Judas 0: B-Sides and Rarities</td><td>131</td></tr>",
                            "<tr><td>202</td><td>Rotten Apples: Greatest Hits</td><td>131</td></tr>",
                            "<tr><td>203</td><td>A-Sides</td><td>132</td></tr>",
                            "<tr><td>204</td><td>Morning Dance</td><td>53</td></tr>",
                            "<tr><td>205</td><td>In Step</td><td>133</td></tr>",
                            "<tr><td>206</td><td>Core</td><td>134</td></tr>",
                            "<tr><td>207</td><td>Mezmerize</td><td>135</td></tr>",
                            "<tr><td>208</td><td>[1997] Black Light Syndrome</td><td>136</td></tr>",
                            "<tr><td>209</td><td>Live [Disc 1]</td><td>137</td></tr>",
                            "<tr><td>210</td><td>Live [Disc 2]</td><td>137</td></tr>",
                            "<tr><td>211</td><td>The Singles</td><td>138</td></tr>",
                            "<tr><td>212</td><td>Beyond Good And Evil</td><td>139</td></tr>",
                            "<tr><td>213</td><td>Pure Cult: The Best Of The Cult</td><td>139</td></tr>",
                            "<tr><td>214</td><td>The Doors</td><td>140</td></tr>",
                            "<tr><td>215</td><td>The Police Greatest Hits</td><td>141</td></tr>",
                            "<tr><td>216</td><td>Hot Rocks, 1964-1971 (Disc 1)</td><td>142</td></tr>",
                            "<tr><td>217</td><td>No Security</td><td>142</td></tr>",
                            "<tr><td>218</td><td>Voodoo Lounge</td><td>142</td></tr>",
                            "<tr><td>219</td><td>Tangents</td><td>143</td></tr>",
                            "<tr><td>220</td><td>Transmission</td><td>143</td></tr>",
                            "<tr><td>221</td><td>My Generation - The Very Best Of The Who</td><td>144</td></tr>",
                            "<tr><td>222</td><td>Serie Sem Limite (Disc 1)</td><td>145</td></tr>",
                            "<tr><td>223</td><td>Serie Sem Limite (Disc 2)</td><td>145</td></tr>",
                            "<tr><td>224</td><td>Acústico</td><td>146</td></tr>",
                            "<tr><td>225</td><td>Volume Dois</td><td>146</td></tr>",
                            "<tr><td>226</td><td>Battlestar Galactica: The Story So Far</td><td>147</td></tr>",
                            "<tr><td>227</td><td>Battlestar Galactica, Season 3</td><td>147</td></tr>",
                            "<tr><td>228</td><td>Heroes, Season 1</td><td>148</td></tr>",
                            "<tr><td>229</td><td>Lost, Season 3</td><td>149</td></tr>",
                            "<tr><td>230</td><td>Lost, Season 1</td><td>149</td></tr>",
                            "<tr><td>231</td><td>Lost, Season 2</td><td>149</td></tr>",
                            "<tr><td>232</td><td>Achtung Baby</td><td>150</td></tr>",
                            "<tr><td>233</td><td>All That You Can't Leave Behind</td><td>150</td></tr>",
                            "<tr><td>234</td><td>B-Sides 1980-1990</td><td>150</td></tr>",
                            "<tr><td>235</td><td>How To Dismantle An Atomic Bomb</td><td>150</td></tr>",
                            "<tr><td>236</td><td>Pop</td><td>150</td></tr>",
                            "<tr><td>237</td><td>Rattle And Hum</td><td>150</td></tr>",
                            "<tr><td>238</td><td>The Best Of 1980-1990</td><td>150</td></tr>",
                            "<tr><td>239</td><td>War</td><td>150</td></tr>",
                            "<tr><td>240</td><td>Zooropa</td><td>150</td></tr>",
                            "<tr><td>241</td><td>UB40 The Best Of - Volume Two [UK]</td><td>151</td></tr>",
                            "<tr><td>242</td><td>Diver Down</td><td>152</td></tr>",
                            "<tr><td>243</td><td>The Best Of Van Halen, Vol. I</td><td>152</td></tr>",
                            "<tr><td>244</td><td>Van Halen</td><td>152</td></tr>",
                            "<tr><td>245</td><td>Van Halen III</td><td>152</td></tr>",
                            "<tr><td>246</td><td>Contraband</td><td>153</td></tr>",
                            "<tr><td>247</td><td>Vinicius De Moraes</td><td>72</td></tr>",
                            "<tr><td>248</td><td>Ao Vivo [IMPORT]</td><td>155</td></tr>",
                            "<tr><td>249</td><td>The Office, Season 1</td><td>156</td></tr>",
                            "<tr><td>250</td><td>The Office, Season 2</td><td>156</td></tr>",
                            "<tr><td>251</td><td>The Office, Season 3</td><td>156</td></tr>",
                            "<tr><td>252</td><td>Un-Led-Ed</td><td>157</td></tr>",
                            "<tr><td>253</td><td>Battlestar Galactica (Classic), Season 1</td><td>158</td></tr>",
                            "<tr><td>254</td><td>Aquaman</td><td>159</td></tr>",
                            "<tr><td>255</td><td>Instant Karma: The Amnesty International Campaign to Save Darfur</td><td>150</td></tr>",
                            "<tr><td>256</td><td>Speak of the Devil</td><td>114</td></tr>",
                            "<tr><td>257</td><td>20th Century Masters - The Millennium Collection: The Best of Scorpions</td><td>179</td></tr>",
                            "<tr><td>258</td><td>House of Pain</td><td>180</td></tr>",
                            "<tr><td>259</td><td>Radio Brasil (O Som da Jovem Vanguarda) - Seleccao de Henrique Amaro</td><td>36</td></tr>",
                            "<tr><td>260</td><td>Cake: B-Sides and Rarities</td><td>196</td></tr>",
                            "<tr><td>261</td><td>LOST, Season 4</td><td>149</td></tr>",
                            "<tr><td>262</td><td>Quiet Songs</td><td>197</td></tr>",
                            "<tr><td>263</td><td>Muso Ko</td><td>198</td></tr>",
                            "<tr><td>264</td><td>Realize</td><td>199</td></tr>",
                            "<tr><td>265</td><td>Every Kind of Light</td><td>200</td></tr>",
                            "<tr><td>266</td><td>Duos II</td><td>201</td></tr>",
                            "<tr><td>267</td><td>Worlds</td><td>202</td></tr>",
                            "<tr><td>268</td><td>The Best of Beethoven</td><td>203</td></tr>",
                            "<tr><td>269</td><td>Temple of the Dog</td><td>204</td></tr>",
                            "<tr><td>270</td><td>Carry On</td><td>205</td></tr>",
                            "<tr><td>271</td><td>Revelations</td><td>8</td></tr>",
                            "<tr><td>272</td><td>Adorate Deum: Gregorian Chant from the Proper of the Mass</td><td>206</td></tr>",
                            "<tr><td>273</td><td>Allegri: Miserere</td><td>207</td></tr>",
                            "<tr><td>274</td><td>Pachelbel: Canon &amp; Gigue</td><td>208</td></tr>",
                            "<tr><td>275</td><td>Vivaldi: The Four Seasons</td><td>209</td></tr>",
                            "<tr><td>276</td><td>Bach: Violin Concertos</td><td>210</td></tr>",
                            "<tr><td>277</td><td>Bach: Goldberg Variations</td><td>211</td></tr>",
                            "<tr><td>278</td><td>Bach: The Cello Suites</td><td>212</td></tr>",
                            "<tr><td>279</td><td>Handel: The Messiah (Highlights)</td><td>213</td></tr>",
                            "<tr><td>280</td><td>The World of Classical Favourites</td><td>214</td></tr>",
                            "<tr><td>281</td><td>Sir Neville Marriner: A Celebration</td><td>215</td></tr>",
                            "<tr><td>282</td><td>Mozart: Wind Concertos</td><td>216</td></tr>",
                            "<tr><td>283</td><td>Haydn: Symphonies 99 - 104</td><td>217</td></tr>",
                            "<tr><td>284</td><td>Beethoven: Symhonies Nos. 5 &amp; 6</td><td>218</td></tr>",
                            "<tr><td>285</td><td>A Soprano Inspired</td><td>219</td></tr>",
                            "<tr><td>286</td><td>Great Opera Choruses</td><td>220</td></tr>",
                            "<tr><td>287</td><td>Wagner: Favourite Overtures</td><td>221</td></tr>",
                            "<tr><td>288</td><td>Fauré: Requiem, Ravel: Pavane &amp; Others</td><td>222</td></tr>",
                            "<tr><td>289</td><td>Tchaikovsky: The Nutcracker</td><td>223</td></tr>",
                            "<tr><td>290</td><td>The Last Night of the Proms</td><td>224</td></tr>",
                            "<tr><td>291</td><td>Puccini: Madama Butterfly - Highlights</td><td>225</td></tr>",
                            "<tr><td>292</td><td>Holst: The Planets, Op. 32 &amp; Vaughan Williams: Fantasies</td><td>226</td></tr>",
                            "<tr><td>293</td><td>Pavarotti's Opera Made Easy</td><td>227</td></tr>",
                            "<tr><td>294</td><td>Great Performances - Barber's Adagio and Other Romantic Favorites for Strings</td><td>228</td></tr>",
                            "<tr><td>295</td><td>Carmina Burana</td><td>229</td></tr>",
                            "<tr><td>296</td><td>A Copland Celebration, Vol. I</td><td>230</td></tr>",
                            "<tr><td>297</td><td>Bach: Toccata &amp; Fugue in D Minor</td><td>231</td></tr>",
                            "<tr><td>298</td><td>Prokofiev: Symphony No.1</td><td>232</td></tr>",
                            "<tr><td>299</td><td>Scheherazade</td><td>233</td></tr>",
                            "<tr><td>300</td><td>Bach: The Brandenburg Concertos</td><td>234</td></tr>",
                            "<tr><td>301</td><td>Chopin: Piano Concertos Nos. 1 &amp; 2</td><td>235</td></tr>",
                            "<tr><td>302</td><td>Mascagni: Cavalleria Rusticana</td><td>236</td></tr>",
                            "<tr><td>303</td><td>Sibelius: Finlandia</td><td>237</td></tr>",
                            "<tr><td>304</td><td>Beethoven Piano Sonatas: Moonlight &amp; Pastorale</td><td>238</td></tr>",
                            "<tr><td>305</td><td>Great Recordings of the Century - Mahler: Das Lied von der Erde</td><td>240</td></tr>",
                            "<tr><td>306</td><td>Elgar: Cello Concerto &amp; Vaughan Williams: Fantasias</td><td>241</td></tr>",
                            "<tr><td>307</td><td>Adams, John: The Chairman Dances</td><td>242</td></tr>",
                            "<tr><td>308</td><td>Tchaikovsky: 1812 Festival Overture, Op.49, Capriccio Italien &amp; Beethoven: Wellington's Victory</td><td>243</td></tr>",
                            "<tr><td>309</td><td>Palestrina: Missa Papae Marcelli &amp; Allegri: Miserere</td><td>244</td></tr>",
                            "<tr><td>310</td><td>Prokofiev: Romeo &amp; Juliet</td><td>245</td></tr>",
                            "<tr><td>311</td><td>Strauss: Waltzes</td><td>226</td></tr>",
                            "<tr><td>312</td><td>Berlioz: Symphonie Fantastique</td><td>245</td></tr>",
                            "<tr><td>313</td><td>Bizet: Carmen Highlights</td><td>246</td></tr>",
                            "<tr><td>314</td><td>English Renaissance</td><td>247</td></tr>",
                            "<tr><td>315</td><td>Handel: Music for the Royal Fireworks (Original Version 1749)</td><td>208</td></tr>",
                            "<tr><td>316</td><td>Grieg: Peer Gynt Suites &amp; Sibelius: Pelléas et Mélisande</td><td>248</td></tr>",
                            "<tr><td>317</td><td>Mozart Gala: Famous Arias</td><td>249</td></tr>",
                            "<tr><td>318</td><td>SCRIABIN: Vers la flamme</td><td>250</td></tr>",
                            "<tr><td>319</td><td>Armada: Music from the Courts of England and Spain</td><td>251</td></tr>",
                            "<tr><td>320</td><td>Mozart: Symphonies Nos. 40 &amp; 41</td><td>248</td></tr>",
                            "<tr><td>321</td><td>Back to Black</td><td>252</td></tr>",
                            "<tr><td>322</td><td>Frank</td><td>252</td></tr>",
                            "<tr><td>323</td><td>Carried to Dust (Bonus Track Version)</td><td>253</td></tr>",
                            "<tr><td>324</td><td>Beethoven: Symphony No. 6 'Pastoral' Etc.</td><td>254</td></tr>",
                            "<tr><td>325</td><td>Bartok: Violin &amp; Viola Concertos</td><td>255</td></tr>",
                            "<tr><td>326</td><td>Mendelssohn: A Midsummer Night's Dream</td><td>256</td></tr>",
                            "<tr><td>327</td><td>Bach: Orchestral Suites Nos. 1 - 4</td><td>257</td></tr>",
                            "<tr><td>328</td><td>Charpentier: Divertissements, Airs &amp; Concerts</td><td>258</td></tr>",
                            "<tr><td>329</td><td>South American Getaway</td><td>259</td></tr>",
                            "<tr><td>330</td><td>Górecki: Symphony No. 3</td><td>260</td></tr>",
                            "<tr><td>331</td><td>Purcell: The Fairy Queen</td><td>261</td></tr>",
                            "<tr><td>332</td><td>The Ultimate Relexation Album</td><td>262</td></tr>",
                            "<tr><td>333</td><td>Purcell: Music for the Queen Mary</td><td>263</td></tr>",
                            "<tr><td>334</td><td>Weill: The Seven Deadly Sins</td><td>264</td></tr>",
                            "<tr><td>335</td><td>J.S. Bach: Chaconne, Suite in E Minor, Partita in E Major &amp; Prelude, Fugue and Allegro</td><td>265</td></tr>",
                            "<tr><td>336</td><td>Prokofiev: Symphony No.5 &amp; Stravinksy: Le Sacre Du Printemps</td><td>248</td></tr>",
                            "<tr><td>337</td><td>Szymanowski: Piano Works, Vol. 1</td><td>266</td></tr>",
                            "<tr><td>338</td><td>Nielsen: The Six Symphonies</td><td>267</td></tr>",
                            "<tr><td>339</td><td>Great Recordings of the Century: Paganini's 24 Caprices</td><td>268</td></tr>",
                            "<tr><td>340</td><td>Liszt - 12 Études D'Execution Transcendante</td><td>269</td></tr>",
                            "<tr><td>341</td><td>Great Recordings of the Century - Shubert: Schwanengesang, 4 Lieder</td><td>270</td></tr>",
                            "<tr><td>342</td><td>Locatelli: Concertos for Violin, Strings and Continuo, Vol. 3</td><td>271</td></tr>",
                            "<tr><td>343</td><td>Respighi:Pines of Rome</td><td>226</td></tr>",
                            "<tr><td>344</td><td>Schubert: The Late String Quartets &amp; String Quintet (3 CD's)</td><td>272</td></tr>",
                            "<tr><td>345</td><td>Monteverdi: L'Orfeo</td><td>273</td></tr>",
                            "<tr><td>346</td><td>Mozart: Chamber Music</td><td>274</td></tr>",
                            "<tr><td>347</td><td>Koyaanisqatsi (Soundtrack from the Motion Picture)</td><td>275</td></tr>",
                            "</table>"
                        ]
                    }
                }
            ],
            "execution_count": 14
        },
        {
            "cell_type": "code",
            "source": [
                "-- DELETE the record from album where album_id is 1 and then hit 'Submit Answer'.\n",
                "-- Run the query\n",
                "SELECT * \n",
                "FROM  album \n",
                "  -- DELETE the record\n",
                "DELETE FROM album \n",
                "WHERE album_id = 1 \n",
                "-- Run the query again\n",
                "SELECT * \n",
                "FROM album;"
            ],
            "metadata": {
                "azdata_cell_guid": "2fba770d-6243-4d84-847f-d1495edb34dd"
            },
            "outputs": [
                {
                    "output_type": "display_data",
                    "data": {
                        "text/html": "(347 rows affected)"
                    },
                    "metadata": {}
                },
                {
                    "output_type": "display_data",
                    "data": {
                        "text/html": "The statement has been terminated."
                    },
                    "metadata": {}
                },
                {
                    "output_type": "display_data",
                    "data": {
                        "text/html": "(347 rows affected)"
                    },
                    "metadata": {}
                },
                {
                    "output_type": "display_data",
                    "data": {
                        "text/html": "Total execution time: 00:00:00.009"
                    },
                    "metadata": {}
                },
                {
                    "output_type": "execute_result",
                    "metadata": {
                        "resultSet": {
                            "id": 0,
                            "batchId": 0,
                            "rowCount": 347,
                            "complete": true,
                            "columnInfo": [
                                {
                                    "isBytes": false,
                                    "isChars": false,
                                    "isSqlVariant": false,
                                    "isUdt": false,
                                    "isXml": false,
                                    "isJson": false,
                                    "sqlDbType": 8,
                                    "isHierarchyId": false,
                                    "isSqlXmlType": false,
                                    "isUnknownType": false,
                                    "isUpdatable": false,
                                    "allowDBNull": false,
                                    "baseCatalogName": null,
                                    "baseColumnName": null,
                                    "baseSchemaName": null,
                                    "baseServerName": null,
                                    "baseTableName": null,
                                    "columnName": "album_id",
                                    "columnOrdinal": 0,
                                    "columnSize": 4,
                                    "isAliased": null,
                                    "isAutoIncrement": true,
                                    "isExpression": null,
                                    "isHidden": null,
                                    "isIdentity": true,
                                    "isKey": null,
                                    "isLong": false,
                                    "isReadOnly": true,
                                    "isUnique": false,
                                    "numericPrecision": 10,
                                    "numericScale": 255,
                                    "udtAssemblyQualifiedName": null,
                                    "dataType": "System.Int32, System.Private.CoreLib, Version=4.0.0.0, Culture=neutral, PublicKeyToken=7cec85d7bea7798e",
                                    "dataTypeName": "int"
                                },
                                {
                                    "isBytes": false,
                                    "isChars": true,
                                    "isSqlVariant": false,
                                    "isUdt": false,
                                    "isXml": false,
                                    "isJson": false,
                                    "sqlDbType": 12,
                                    "isHierarchyId": false,
                                    "isSqlXmlType": false,
                                    "isUnknownType": false,
                                    "isUpdatable": true,
                                    "allowDBNull": false,
                                    "baseCatalogName": null,
                                    "baseColumnName": null,
                                    "baseSchemaName": null,
                                    "baseServerName": null,
                                    "baseTableName": null,
                                    "columnName": "title",
                                    "columnOrdinal": 1,
                                    "columnSize": 160,
                                    "isAliased": null,
                                    "isAutoIncrement": false,
                                    "isExpression": null,
                                    "isHidden": null,
                                    "isIdentity": false,
                                    "isKey": null,
                                    "isLong": false,
                                    "isReadOnly": false,
                                    "isUnique": false,
                                    "numericPrecision": 255,
                                    "numericScale": 255,
                                    "udtAssemblyQualifiedName": null,
                                    "dataType": "System.String, System.Private.CoreLib, Version=4.0.0.0, Culture=neutral, PublicKeyToken=7cec85d7bea7798e",
                                    "dataTypeName": "nvarchar"
                                },
                                {
                                    "isBytes": false,
                                    "isChars": false,
                                    "isSqlVariant": false,
                                    "isUdt": false,
                                    "isXml": false,
                                    "isJson": false,
                                    "sqlDbType": 8,
                                    "isHierarchyId": false,
                                    "isSqlXmlType": false,
                                    "isUnknownType": false,
                                    "isUpdatable": true,
                                    "allowDBNull": false,
                                    "baseCatalogName": null,
                                    "baseColumnName": null,
                                    "baseSchemaName": null,
                                    "baseServerName": null,
                                    "baseTableName": null,
                                    "columnName": "artist_id",
                                    "columnOrdinal": 2,
                                    "columnSize": 4,
                                    "isAliased": null,
                                    "isAutoIncrement": false,
                                    "isExpression": null,
                                    "isHidden": null,
                                    "isIdentity": false,
                                    "isKey": null,
                                    "isLong": false,
                                    "isReadOnly": false,
                                    "isUnique": false,
                                    "numericPrecision": 10,
                                    "numericScale": 255,
                                    "udtAssemblyQualifiedName": null,
                                    "dataType": "System.Int32, System.Private.CoreLib, Version=4.0.0.0, Culture=neutral, PublicKeyToken=7cec85d7bea7798e",
                                    "dataTypeName": "int"
                                }
                            ],
                            "specialAction": {
                                "none": true,
                                "expectYukonXMLShowPlan": false
                            }
                        }
                    },
                    "execution_count": 15,
                    "data": {
                        "application/vnd.dataresource+json": {
                            "schema": {
                                "fields": [
                                    {
                                        "name": "album_id"
                                    },
                                    {
                                        "name": "title"
                                    },
                                    {
                                        "name": "artist_id"
                                    }
                                ]
                            },
                            "data": [
                                {
                                    "0": "1",
                                    "1": "For Those About To Rock We Salute You",
                                    "2": "1"
                                },
                                {
                                    "0": "2",
                                    "1": "Balls to the Wall",
                                    "2": "2"
                                },
                                {
                                    "0": "3",
                                    "1": "Restless and Wild",
                                    "2": "2"
                                },
                                {
                                    "0": "4",
                                    "1": "Let There Be Rock",
                                    "2": "1"
                                },
                                {
                                    "0": "5",
                                    "1": "Big Ones",
                                    "2": "3"
                                },
                                {
                                    "0": "6",
                                    "1": "Jagged Little Pill",
                                    "2": "4"
                                },
                                {
                                    "0": "7",
                                    "1": "Facelift",
                                    "2": "5"
                                },
                                {
                                    "0": "8",
                                    "1": "Warner 25 Anos",
                                    "2": "6"
                                },
                                {
                                    "0": "9",
                                    "1": "Plays Metallica By Four Cellos",
                                    "2": "7"
                                },
                                {
                                    "0": "10",
                                    "1": "Audioslave",
                                    "2": "8"
                                },
                                {
                                    "0": "11",
                                    "1": "Out Of Exile",
                                    "2": "8"
                                },
                                {
                                    "0": "12",
                                    "1": "BackBeat Soundtrack",
                                    "2": "9"
                                },
                                {
                                    "0": "13",
                                    "1": "The Best Of Billy Cobham",
                                    "2": "10"
                                },
                                {
                                    "0": "14",
                                    "1": "Alcohol Fueled Brewtality Live! [Disc 1]",
                                    "2": "11"
                                },
                                {
                                    "0": "15",
                                    "1": "Alcohol Fueled Brewtality Live! [Disc 2]",
                                    "2": "11"
                                },
                                {
                                    "0": "16",
                                    "1": "Black Sabbath",
                                    "2": "12"
                                },
                                {
                                    "0": "17",
                                    "1": "Black Sabbath Vol. 4 (Remaster)",
                                    "2": "12"
                                },
                                {
                                    "0": "18",
                                    "1": "Body Count",
                                    "2": "13"
                                },
                                {
                                    "0": "19",
                                    "1": "Chemical Wedding",
                                    "2": "14"
                                },
                                {
                                    "0": "20",
                                    "1": "The Best Of Buddy Guy - The Millenium Collection",
                                    "2": "15"
                                },
                                {
                                    "0": "21",
                                    "1": "Prenda Minha",
                                    "2": "16"
                                },
                                {
                                    "0": "22",
                                    "1": "Sozinho Remix Ao Vivo",
                                    "2": "16"
                                },
                                {
                                    "0": "23",
                                    "1": "Minha Historia",
                                    "2": "17"
                                },
                                {
                                    "0": "24",
                                    "1": "Afrociberdelia",
                                    "2": "18"
                                },
                                {
                                    "0": "25",
                                    "1": "Da Lama Ao Caos",
                                    "2": "18"
                                },
                                {
                                    "0": "26",
                                    "1": "Acústico MTV [Live]",
                                    "2": "19"
                                },
                                {
                                    "0": "27",
                                    "1": "Cidade Negra - Hits",
                                    "2": "19"
                                },
                                {
                                    "0": "28",
                                    "1": "Na Pista",
                                    "2": "20"
                                },
                                {
                                    "0": "29",
                                    "1": "Axé Bahia 2001",
                                    "2": "21"
                                },
                                {
                                    "0": "30",
                                    "1": "BBC Sessions [Disc 1] [Live]",
                                    "2": "22"
                                },
                                {
                                    "0": "31",
                                    "1": "Bongo Fury",
                                    "2": "23"
                                },
                                {
                                    "0": "32",
                                    "1": "Carnaval 2001",
                                    "2": "21"
                                },
                                {
                                    "0": "33",
                                    "1": "Chill: Brazil (Disc 1)",
                                    "2": "24"
                                },
                                {
                                    "0": "34",
                                    "1": "Chill: Brazil (Disc 2)",
                                    "2": "6"
                                },
                                {
                                    "0": "35",
                                    "1": "Garage Inc. (Disc 1)",
                                    "2": "50"
                                },
                                {
                                    "0": "36",
                                    "1": "Greatest Hits II",
                                    "2": "51"
                                },
                                {
                                    "0": "37",
                                    "1": "Greatest Kiss",
                                    "2": "52"
                                },
                                {
                                    "0": "38",
                                    "1": "Heart of the Night",
                                    "2": "53"
                                },
                                {
                                    "0": "39",
                                    "1": "International Superhits",
                                    "2": "54"
                                },
                                {
                                    "0": "40",
                                    "1": "Into The Light",
                                    "2": "55"
                                },
                                {
                                    "0": "41",
                                    "1": "Meus Momentos",
                                    "2": "56"
                                },
                                {
                                    "0": "42",
                                    "1": "Minha História",
                                    "2": "57"
                                },
                                {
                                    "0": "43",
                                    "1": "MK III The Final Concerts [Disc 1]",
                                    "2": "58"
                                },
                                {
                                    "0": "44",
                                    "1": "Physical Graffiti [Disc 1]",
                                    "2": "22"
                                },
                                {
                                    "0": "45",
                                    "1": "Sambas De Enredo 2001",
                                    "2": "21"
                                },
                                {
                                    "0": "46",
                                    "1": "Supernatural",
                                    "2": "59"
                                },
                                {
                                    "0": "47",
                                    "1": "The Best of Ed Motta",
                                    "2": "37"
                                },
                                {
                                    "0": "48",
                                    "1": "The Essential Miles Davis [Disc 1]",
                                    "2": "68"
                                },
                                {
                                    "0": "49",
                                    "1": "The Essential Miles Davis [Disc 2]",
                                    "2": "68"
                                },
                                {
                                    "0": "50",
                                    "1": "The Final Concerts (Disc 2)",
                                    "2": "58"
                                },
                                {
                                    "0": "51",
                                    "1": "Up An' Atom",
                                    "2": "69"
                                },
                                {
                                    "0": "52",
                                    "1": "Vinícius De Moraes - Sem Limite",
                                    "2": "70"
                                },
                                {
                                    "0": "53",
                                    "1": "Vozes do MPB",
                                    "2": "21"
                                },
                                {
                                    "0": "54",
                                    "1": "Chronicle, Vol. 1",
                                    "2": "76"
                                },
                                {
                                    "0": "55",
                                    "1": "Chronicle, Vol. 2",
                                    "2": "76"
                                },
                                {
                                    "0": "56",
                                    "1": "Cássia Eller - Coleção Sem Limite [Disc 2]",
                                    "2": "77"
                                },
                                {
                                    "0": "57",
                                    "1": "Cássia Eller - Sem Limite [Disc 1]",
                                    "2": "77"
                                },
                                {
                                    "0": "58",
                                    "1": "Come Taste The Band",
                                    "2": "58"
                                },
                                {
                                    "0": "59",
                                    "1": "Deep Purple In Rock",
                                    "2": "58"
                                },
                                {
                                    "0": "60",
                                    "1": "Fireball",
                                    "2": "58"
                                },
                                {
                                    "0": "61",
                                    "1": "Knocking at Your Back Door: The Best Of Deep Purple in the 80's",
                                    "2": "58"
                                },
                                {
                                    "0": "62",
                                    "1": "Machine Head",
                                    "2": "58"
                                },
                                {
                                    "0": "63",
                                    "1": "Purpendicular",
                                    "2": "58"
                                },
                                {
                                    "0": "64",
                                    "1": "Slaves And Masters",
                                    "2": "58"
                                },
                                {
                                    "0": "65",
                                    "1": "Stormbringer",
                                    "2": "58"
                                },
                                {
                                    "0": "66",
                                    "1": "The Battle Rages On",
                                    "2": "58"
                                },
                                {
                                    "0": "67",
                                    "1": "Vault: Def Leppard's Greatest Hits",
                                    "2": "78"
                                },
                                {
                                    "0": "68",
                                    "1": "Outbreak",
                                    "2": "79"
                                },
                                {
                                    "0": "69",
                                    "1": "Djavan Ao Vivo - Vol. 02",
                                    "2": "80"
                                },
                                {
                                    "0": "70",
                                    "1": "Djavan Ao Vivo - Vol. 1",
                                    "2": "80"
                                },
                                {
                                    "0": "71",
                                    "1": "Elis Regina-Minha História",
                                    "2": "41"
                                },
                                {
                                    "0": "72",
                                    "1": "The Cream Of Clapton",
                                    "2": "81"
                                },
                                {
                                    "0": "73",
                                    "1": "Unplugged",
                                    "2": "81"
                                },
                                {
                                    "0": "74",
                                    "1": "Album Of The Year",
                                    "2": "82"
                                },
                                {
                                    "0": "75",
                                    "1": "Angel Dust",
                                    "2": "82"
                                },
                                {
                                    "0": "76",
                                    "1": "King For A Day Fool For A Lifetime",
                                    "2": "82"
                                },
                                {
                                    "0": "77",
                                    "1": "The Real Thing",
                                    "2": "82"
                                },
                                {
                                    "0": "78",
                                    "1": "Deixa Entrar",
                                    "2": "83"
                                },
                                {
                                    "0": "79",
                                    "1": "In Your Honor [Disc 1]",
                                    "2": "84"
                                },
                                {
                                    "0": "80",
                                    "1": "In Your Honor [Disc 2]",
                                    "2": "84"
                                },
                                {
                                    "0": "81",
                                    "1": "One By One",
                                    "2": "84"
                                },
                                {
                                    "0": "82",
                                    "1": "The Colour And The Shape",
                                    "2": "84"
                                },
                                {
                                    "0": "83",
                                    "1": "My Way: The Best Of Frank Sinatra [Disc 1]",
                                    "2": "85"
                                },
                                {
                                    "0": "84",
                                    "1": "Roda De Funk",
                                    "2": "86"
                                },
                                {
                                    "0": "85",
                                    "1": "As Canções de Eu Tu Eles",
                                    "2": "27"
                                },
                                {
                                    "0": "86",
                                    "1": "Quanta Gente Veio Ver (Live)",
                                    "2": "27"
                                },
                                {
                                    "0": "87",
                                    "1": "Quanta Gente Veio ver--Bônus De Carnaval",
                                    "2": "27"
                                },
                                {
                                    "0": "88",
                                    "1": "Faceless",
                                    "2": "87"
                                },
                                {
                                    "0": "89",
                                    "1": "American Idiot",
                                    "2": "54"
                                },
                                {
                                    "0": "90",
                                    "1": "Appetite for Destruction",
                                    "2": "88"
                                },
                                {
                                    "0": "91",
                                    "1": "Use Your Illusion I",
                                    "2": "88"
                                },
                                {
                                    "0": "92",
                                    "1": "Use Your Illusion II",
                                    "2": "88"
                                },
                                {
                                    "0": "93",
                                    "1": "Blue Moods",
                                    "2": "89"
                                },
                                {
                                    "0": "94",
                                    "1": "A Matter of Life and Death",
                                    "2": "90"
                                },
                                {
                                    "0": "95",
                                    "1": "A Real Dead One",
                                    "2": "90"
                                },
                                {
                                    "0": "96",
                                    "1": "A Real Live One",
                                    "2": "90"
                                },
                                {
                                    "0": "97",
                                    "1": "Brave New World",
                                    "2": "90"
                                },
                                {
                                    "0": "98",
                                    "1": "Dance Of Death",
                                    "2": "90"
                                },
                                {
                                    "0": "99",
                                    "1": "Fear Of The Dark",
                                    "2": "90"
                                },
                                {
                                    "0": "100",
                                    "1": "Iron Maiden",
                                    "2": "90"
                                },
                                {
                                    "0": "101",
                                    "1": "Killers",
                                    "2": "90"
                                },
                                {
                                    "0": "102",
                                    "1": "Live After Death",
                                    "2": "90"
                                },
                                {
                                    "0": "103",
                                    "1": "Live At Donington 1992 (Disc 1)",
                                    "2": "90"
                                },
                                {
                                    "0": "104",
                                    "1": "Live At Donington 1992 (Disc 2)",
                                    "2": "90"
                                },
                                {
                                    "0": "105",
                                    "1": "No Prayer For The Dying",
                                    "2": "90"
                                },
                                {
                                    "0": "106",
                                    "1": "Piece Of Mind",
                                    "2": "90"
                                },
                                {
                                    "0": "107",
                                    "1": "Powerslave",
                                    "2": "90"
                                },
                                {
                                    "0": "108",
                                    "1": "Rock In Rio [CD1]",
                                    "2": "90"
                                },
                                {
                                    "0": "109",
                                    "1": "Rock In Rio [CD2]",
                                    "2": "90"
                                },
                                {
                                    "0": "110",
                                    "1": "Seventh Son of a Seventh Son",
                                    "2": "90"
                                },
                                {
                                    "0": "111",
                                    "1": "Somewhere in Time",
                                    "2": "90"
                                },
                                {
                                    "0": "112",
                                    "1": "The Number of The Beast",
                                    "2": "90"
                                },
                                {
                                    "0": "113",
                                    "1": "The X Factor",
                                    "2": "90"
                                },
                                {
                                    "0": "114",
                                    "1": "Virtual XI",
                                    "2": "90"
                                },
                                {
                                    "0": "115",
                                    "1": "Sex Machine",
                                    "2": "91"
                                },
                                {
                                    "0": "116",
                                    "1": "Emergency On Planet Earth",
                                    "2": "92"
                                },
                                {
                                    "0": "117",
                                    "1": "Synkronized",
                                    "2": "92"
                                },
                                {
                                    "0": "118",
                                    "1": "The Return Of The Space Cowboy",
                                    "2": "92"
                                },
                                {
                                    "0": "119",
                                    "1": "Get Born",
                                    "2": "93"
                                },
                                {
                                    "0": "120",
                                    "1": "Are You Experienced?",
                                    "2": "94"
                                },
                                {
                                    "0": "121",
                                    "1": "Surfing with the Alien (Remastered)",
                                    "2": "95"
                                },
                                {
                                    "0": "122",
                                    "1": "Jorge Ben Jor 25 Anos",
                                    "2": "46"
                                },
                                {
                                    "0": "123",
                                    "1": "Jota Quest-1995",
                                    "2": "96"
                                },
                                {
                                    "0": "124",
                                    "1": "Cafezinho",
                                    "2": "97"
                                },
                                {
                                    "0": "125",
                                    "1": "Living After Midnight",
                                    "2": "98"
                                },
                                {
                                    "0": "126",
                                    "1": "Unplugged [Live]",
                                    "2": "52"
                                },
                                {
                                    "0": "127",
                                    "1": "BBC Sessions [Disc 2] [Live]",
                                    "2": "22"
                                },
                                {
                                    "0": "128",
                                    "1": "Coda",
                                    "2": "22"
                                },
                                {
                                    "0": "129",
                                    "1": "Houses Of The Holy",
                                    "2": "22"
                                },
                                {
                                    "0": "130",
                                    "1": "In Through The Out Door",
                                    "2": "22"
                                },
                                {
                                    "0": "131",
                                    "1": "IV",
                                    "2": "22"
                                },
                                {
                                    "0": "132",
                                    "1": "Led Zeppelin I",
                                    "2": "22"
                                },
                                {
                                    "0": "133",
                                    "1": "Led Zeppelin II",
                                    "2": "22"
                                },
                                {
                                    "0": "134",
                                    "1": "Led Zeppelin III",
                                    "2": "22"
                                },
                                {
                                    "0": "135",
                                    "1": "Physical Graffiti [Disc 2]",
                                    "2": "22"
                                },
                                {
                                    "0": "136",
                                    "1": "Presence",
                                    "2": "22"
                                },
                                {
                                    "0": "137",
                                    "1": "The Song Remains The Same (Disc 1)",
                                    "2": "22"
                                },
                                {
                                    "0": "138",
                                    "1": "The Song Remains The Same (Disc 2)",
                                    "2": "22"
                                },
                                {
                                    "0": "139",
                                    "1": "A TempestadeTempestade Ou O Livro Dos Dias",
                                    "2": "99"
                                },
                                {
                                    "0": "140",
                                    "1": "Mais Do Mesmo",
                                    "2": "99"
                                },
                                {
                                    "0": "141",
                                    "1": "Greatest Hits",
                                    "2": "100"
                                },
                                {
                                    "0": "142",
                                    "1": "Lulu Santos - RCA 100 Anos De Música - Álbum 01",
                                    "2": "101"
                                },
                                {
                                    "0": "143",
                                    "1": "Lulu Santos - RCA 100 Anos De Música - Álbum 02",
                                    "2": "101"
                                },
                                {
                                    "0": "144",
                                    "1": "Misplaced Childhood",
                                    "2": "102"
                                },
                                {
                                    "0": "145",
                                    "1": "Barulhinho Bom",
                                    "2": "103"
                                },
                                {
                                    "0": "146",
                                    "1": "Seek And Shall Find: More Of The Best (1963-1981)",
                                    "2": "104"
                                },
                                {
                                    "0": "147",
                                    "1": "The Best Of Men At Work",
                                    "2": "105"
                                },
                                {
                                    "0": "148",
                                    "1": "Black Album",
                                    "2": "50"
                                },
                                {
                                    "0": "149",
                                    "1": "Garage Inc. (Disc 2)",
                                    "2": "50"
                                },
                                {
                                    "0": "150",
                                    "1": "Kill 'Em All",
                                    "2": "50"
                                },
                                {
                                    "0": "151",
                                    "1": "Load",
                                    "2": "50"
                                },
                                {
                                    "0": "152",
                                    "1": "Master Of Puppets",
                                    "2": "50"
                                },
                                {
                                    "0": "153",
                                    "1": "ReLoad",
                                    "2": "50"
                                },
                                {
                                    "0": "154",
                                    "1": "Ride The Lightning",
                                    "2": "50"
                                },
                                {
                                    "0": "155",
                                    "1": "St. Anger",
                                    "2": "50"
                                },
                                {
                                    "0": "156",
                                    "1": "...And Justice For All",
                                    "2": "50"
                                },
                                {
                                    "0": "157",
                                    "1": "Miles Ahead",
                                    "2": "68"
                                },
                                {
                                    "0": "158",
                                    "1": "Milton Nascimento Ao Vivo",
                                    "2": "42"
                                },
                                {
                                    "0": "159",
                                    "1": "Minas",
                                    "2": "42"
                                },
                                {
                                    "0": "160",
                                    "1": "Ace Of Spades",
                                    "2": "106"
                                },
                                {
                                    "0": "161",
                                    "1": "Demorou...",
                                    "2": "108"
                                },
                                {
                                    "0": "162",
                                    "1": "Motley Crue Greatest Hits",
                                    "2": "109"
                                },
                                {
                                    "0": "163",
                                    "1": "From The Muddy Banks Of The Wishkah [Live]",
                                    "2": "110"
                                },
                                {
                                    "0": "164",
                                    "1": "Nevermind",
                                    "2": "110"
                                },
                                {
                                    "0": "165",
                                    "1": "Compositores",
                                    "2": "111"
                                },
                                {
                                    "0": "166",
                                    "1": "Olodum",
                                    "2": "112"
                                },
                                {
                                    "0": "167",
                                    "1": "Acústico MTV",
                                    "2": "113"
                                },
                                {
                                    "0": "168",
                                    "1": "Arquivo II",
                                    "2": "113"
                                },
                                {
                                    "0": "169",
                                    "1": "Arquivo Os Paralamas Do Sucesso",
                                    "2": "113"
                                },
                                {
                                    "0": "170",
                                    "1": "Bark at the Moon (Remastered)",
                                    "2": "114"
                                },
                                {
                                    "0": "171",
                                    "1": "Blizzard of Ozz",
                                    "2": "114"
                                },
                                {
                                    "0": "172",
                                    "1": "Diary of a Madman (Remastered)",
                                    "2": "114"
                                },
                                {
                                    "0": "173",
                                    "1": "No More Tears (Remastered)",
                                    "2": "114"
                                },
                                {
                                    "0": "174",
                                    "1": "Tribute",
                                    "2": "114"
                                },
                                {
                                    "0": "175",
                                    "1": "Walking Into Clarksdale",
                                    "2": "115"
                                },
                                {
                                    "0": "176",
                                    "1": "Original Soundtracks 1",
                                    "2": "116"
                                },
                                {
                                    "0": "177",
                                    "1": "The Beast Live",
                                    "2": "117"
                                },
                                {
                                    "0": "178",
                                    "1": "Live On Two Legs [Live]",
                                    "2": "118"
                                },
                                {
                                    "0": "179",
                                    "1": "Pearl Jam",
                                    "2": "118"
                                },
                                {
                                    "0": "180",
                                    "1": "Riot Act",
                                    "2": "118"
                                },
                                {
                                    "0": "181",
                                    "1": "Ten",
                                    "2": "118"
                                },
                                {
                                    "0": "182",
                                    "1": "Vs.",
                                    "2": "118"
                                },
                                {
                                    "0": "183",
                                    "1": "Dark Side Of The Moon",
                                    "2": "120"
                                },
                                {
                                    "0": "184",
                                    "1": "Os Cães Ladram Mas A Caravana Não Pára",
                                    "2": "121"
                                },
                                {
                                    "0": "185",
                                    "1": "Greatest Hits I",
                                    "2": "51"
                                },
                                {
                                    "0": "186",
                                    "1": "News Of The World",
                                    "2": "51"
                                },
                                {
                                    "0": "187",
                                    "1": "Out Of Time",
                                    "2": "122"
                                },
                                {
                                    "0": "188",
                                    "1": "Green",
                                    "2": "124"
                                },
                                {
                                    "0": "189",
                                    "1": "New Adventures In Hi-Fi",
                                    "2": "124"
                                },
                                {
                                    "0": "190",
                                    "1": "The Best Of R.E.M.: The IRS Years",
                                    "2": "124"
                                },
                                {
                                    "0": "191",
                                    "1": "Cesta Básica",
                                    "2": "125"
                                },
                                {
                                    "0": "192",
                                    "1": "Raul Seixas",
                                    "2": "126"
                                },
                                {
                                    "0": "193",
                                    "1": "Blood Sugar Sex Magik",
                                    "2": "127"
                                },
                                {
                                    "0": "194",
                                    "1": "By The Way",
                                    "2": "127"
                                },
                                {
                                    "0": "195",
                                    "1": "Californication",
                                    "2": "127"
                                },
                                {
                                    "0": "196",
                                    "1": "Retrospective I (1974-1980)",
                                    "2": "128"
                                },
                                {
                                    "0": "197",
                                    "1": "Santana - As Years Go By",
                                    "2": "59"
                                },
                                {
                                    "0": "198",
                                    "1": "Santana Live",
                                    "2": "59"
                                },
                                {
                                    "0": "199",
                                    "1": "Maquinarama",
                                    "2": "130"
                                },
                                {
                                    "0": "200",
                                    "1": "O Samba Poconé",
                                    "2": "130"
                                },
                                {
                                    "0": "201",
                                    "1": "Judas 0: B-Sides and Rarities",
                                    "2": "131"
                                },
                                {
                                    "0": "202",
                                    "1": "Rotten Apples: Greatest Hits",
                                    "2": "131"
                                },
                                {
                                    "0": "203",
                                    "1": "A-Sides",
                                    "2": "132"
                                },
                                {
                                    "0": "204",
                                    "1": "Morning Dance",
                                    "2": "53"
                                },
                                {
                                    "0": "205",
                                    "1": "In Step",
                                    "2": "133"
                                },
                                {
                                    "0": "206",
                                    "1": "Core",
                                    "2": "134"
                                },
                                {
                                    "0": "207",
                                    "1": "Mezmerize",
                                    "2": "135"
                                },
                                {
                                    "0": "208",
                                    "1": "[1997] Black Light Syndrome",
                                    "2": "136"
                                },
                                {
                                    "0": "209",
                                    "1": "Live [Disc 1]",
                                    "2": "137"
                                },
                                {
                                    "0": "210",
                                    "1": "Live [Disc 2]",
                                    "2": "137"
                                },
                                {
                                    "0": "211",
                                    "1": "The Singles",
                                    "2": "138"
                                },
                                {
                                    "0": "212",
                                    "1": "Beyond Good And Evil",
                                    "2": "139"
                                },
                                {
                                    "0": "213",
                                    "1": "Pure Cult: The Best Of The Cult",
                                    "2": "139"
                                },
                                {
                                    "0": "214",
                                    "1": "The Doors",
                                    "2": "140"
                                },
                                {
                                    "0": "215",
                                    "1": "The Police Greatest Hits",
                                    "2": "141"
                                },
                                {
                                    "0": "216",
                                    "1": "Hot Rocks, 1964-1971 (Disc 1)",
                                    "2": "142"
                                },
                                {
                                    "0": "217",
                                    "1": "No Security",
                                    "2": "142"
                                },
                                {
                                    "0": "218",
                                    "1": "Voodoo Lounge",
                                    "2": "142"
                                },
                                {
                                    "0": "219",
                                    "1": "Tangents",
                                    "2": "143"
                                },
                                {
                                    "0": "220",
                                    "1": "Transmission",
                                    "2": "143"
                                },
                                {
                                    "0": "221",
                                    "1": "My Generation - The Very Best Of The Who",
                                    "2": "144"
                                },
                                {
                                    "0": "222",
                                    "1": "Serie Sem Limite (Disc 1)",
                                    "2": "145"
                                },
                                {
                                    "0": "223",
                                    "1": "Serie Sem Limite (Disc 2)",
                                    "2": "145"
                                },
                                {
                                    "0": "224",
                                    "1": "Acústico",
                                    "2": "146"
                                },
                                {
                                    "0": "225",
                                    "1": "Volume Dois",
                                    "2": "146"
                                },
                                {
                                    "0": "226",
                                    "1": "Battlestar Galactica: The Story So Far",
                                    "2": "147"
                                },
                                {
                                    "0": "227",
                                    "1": "Battlestar Galactica, Season 3",
                                    "2": "147"
                                },
                                {
                                    "0": "228",
                                    "1": "Heroes, Season 1",
                                    "2": "148"
                                },
                                {
                                    "0": "229",
                                    "1": "Lost, Season 3",
                                    "2": "149"
                                },
                                {
                                    "0": "230",
                                    "1": "Lost, Season 1",
                                    "2": "149"
                                },
                                {
                                    "0": "231",
                                    "1": "Lost, Season 2",
                                    "2": "149"
                                },
                                {
                                    "0": "232",
                                    "1": "Achtung Baby",
                                    "2": "150"
                                },
                                {
                                    "0": "233",
                                    "1": "All That You Can't Leave Behind",
                                    "2": "150"
                                },
                                {
                                    "0": "234",
                                    "1": "B-Sides 1980-1990",
                                    "2": "150"
                                },
                                {
                                    "0": "235",
                                    "1": "How To Dismantle An Atomic Bomb",
                                    "2": "150"
                                },
                                {
                                    "0": "236",
                                    "1": "Pop",
                                    "2": "150"
                                },
                                {
                                    "0": "237",
                                    "1": "Rattle And Hum",
                                    "2": "150"
                                },
                                {
                                    "0": "238",
                                    "1": "The Best Of 1980-1990",
                                    "2": "150"
                                },
                                {
                                    "0": "239",
                                    "1": "War",
                                    "2": "150"
                                },
                                {
                                    "0": "240",
                                    "1": "Zooropa",
                                    "2": "150"
                                },
                                {
                                    "0": "241",
                                    "1": "UB40 The Best Of - Volume Two [UK]",
                                    "2": "151"
                                },
                                {
                                    "0": "242",
                                    "1": "Diver Down",
                                    "2": "152"
                                },
                                {
                                    "0": "243",
                                    "1": "The Best Of Van Halen, Vol. I",
                                    "2": "152"
                                },
                                {
                                    "0": "244",
                                    "1": "Van Halen",
                                    "2": "152"
                                },
                                {
                                    "0": "245",
                                    "1": "Van Halen III",
                                    "2": "152"
                                },
                                {
                                    "0": "246",
                                    "1": "Contraband",
                                    "2": "153"
                                },
                                {
                                    "0": "247",
                                    "1": "Vinicius De Moraes",
                                    "2": "72"
                                },
                                {
                                    "0": "248",
                                    "1": "Ao Vivo [IMPORT]",
                                    "2": "155"
                                },
                                {
                                    "0": "249",
                                    "1": "The Office, Season 1",
                                    "2": "156"
                                },
                                {
                                    "0": "250",
                                    "1": "The Office, Season 2",
                                    "2": "156"
                                },
                                {
                                    "0": "251",
                                    "1": "The Office, Season 3",
                                    "2": "156"
                                },
                                {
                                    "0": "252",
                                    "1": "Un-Led-Ed",
                                    "2": "157"
                                },
                                {
                                    "0": "253",
                                    "1": "Battlestar Galactica (Classic), Season 1",
                                    "2": "158"
                                },
                                {
                                    "0": "254",
                                    "1": "Aquaman",
                                    "2": "159"
                                },
                                {
                                    "0": "255",
                                    "1": "Instant Karma: The Amnesty International Campaign to Save Darfur",
                                    "2": "150"
                                },
                                {
                                    "0": "256",
                                    "1": "Speak of the Devil",
                                    "2": "114"
                                },
                                {
                                    "0": "257",
                                    "1": "20th Century Masters - The Millennium Collection: The Best of Scorpions",
                                    "2": "179"
                                },
                                {
                                    "0": "258",
                                    "1": "House of Pain",
                                    "2": "180"
                                },
                                {
                                    "0": "259",
                                    "1": "Radio Brasil (O Som da Jovem Vanguarda) - Seleccao de Henrique Amaro",
                                    "2": "36"
                                },
                                {
                                    "0": "260",
                                    "1": "Cake: B-Sides and Rarities",
                                    "2": "196"
                                },
                                {
                                    "0": "261",
                                    "1": "LOST, Season 4",
                                    "2": "149"
                                },
                                {
                                    "0": "262",
                                    "1": "Quiet Songs",
                                    "2": "197"
                                },
                                {
                                    "0": "263",
                                    "1": "Muso Ko",
                                    "2": "198"
                                },
                                {
                                    "0": "264",
                                    "1": "Realize",
                                    "2": "199"
                                },
                                {
                                    "0": "265",
                                    "1": "Every Kind of Light",
                                    "2": "200"
                                },
                                {
                                    "0": "266",
                                    "1": "Duos II",
                                    "2": "201"
                                },
                                {
                                    "0": "267",
                                    "1": "Worlds",
                                    "2": "202"
                                },
                                {
                                    "0": "268",
                                    "1": "The Best of Beethoven",
                                    "2": "203"
                                },
                                {
                                    "0": "269",
                                    "1": "Temple of the Dog",
                                    "2": "204"
                                },
                                {
                                    "0": "270",
                                    "1": "Carry On",
                                    "2": "205"
                                },
                                {
                                    "0": "271",
                                    "1": "Revelations",
                                    "2": "8"
                                },
                                {
                                    "0": "272",
                                    "1": "Adorate Deum: Gregorian Chant from the Proper of the Mass",
                                    "2": "206"
                                },
                                {
                                    "0": "273",
                                    "1": "Allegri: Miserere",
                                    "2": "207"
                                },
                                {
                                    "0": "274",
                                    "1": "Pachelbel: Canon & Gigue",
                                    "2": "208"
                                },
                                {
                                    "0": "275",
                                    "1": "Vivaldi: The Four Seasons",
                                    "2": "209"
                                },
                                {
                                    "0": "276",
                                    "1": "Bach: Violin Concertos",
                                    "2": "210"
                                },
                                {
                                    "0": "277",
                                    "1": "Bach: Goldberg Variations",
                                    "2": "211"
                                },
                                {
                                    "0": "278",
                                    "1": "Bach: The Cello Suites",
                                    "2": "212"
                                },
                                {
                                    "0": "279",
                                    "1": "Handel: The Messiah (Highlights)",
                                    "2": "213"
                                },
                                {
                                    "0": "280",
                                    "1": "The World of Classical Favourites",
                                    "2": "214"
                                },
                                {
                                    "0": "281",
                                    "1": "Sir Neville Marriner: A Celebration",
                                    "2": "215"
                                },
                                {
                                    "0": "282",
                                    "1": "Mozart: Wind Concertos",
                                    "2": "216"
                                },
                                {
                                    "0": "283",
                                    "1": "Haydn: Symphonies 99 - 104",
                                    "2": "217"
                                },
                                {
                                    "0": "284",
                                    "1": "Beethoven: Symhonies Nos. 5 & 6",
                                    "2": "218"
                                },
                                {
                                    "0": "285",
                                    "1": "A Soprano Inspired",
                                    "2": "219"
                                },
                                {
                                    "0": "286",
                                    "1": "Great Opera Choruses",
                                    "2": "220"
                                },
                                {
                                    "0": "287",
                                    "1": "Wagner: Favourite Overtures",
                                    "2": "221"
                                },
                                {
                                    "0": "288",
                                    "1": "Fauré: Requiem, Ravel: Pavane & Others",
                                    "2": "222"
                                },
                                {
                                    "0": "289",
                                    "1": "Tchaikovsky: The Nutcracker",
                                    "2": "223"
                                },
                                {
                                    "0": "290",
                                    "1": "The Last Night of the Proms",
                                    "2": "224"
                                },
                                {
                                    "0": "291",
                                    "1": "Puccini: Madama Butterfly - Highlights",
                                    "2": "225"
                                },
                                {
                                    "0": "292",
                                    "1": "Holst: The Planets, Op. 32 & Vaughan Williams: Fantasies",
                                    "2": "226"
                                },
                                {
                                    "0": "293",
                                    "1": "Pavarotti's Opera Made Easy",
                                    "2": "227"
                                },
                                {
                                    "0": "294",
                                    "1": "Great Performances - Barber's Adagio and Other Romantic Favorites for Strings",
                                    "2": "228"
                                },
                                {
                                    "0": "295",
                                    "1": "Carmina Burana",
                                    "2": "229"
                                },
                                {
                                    "0": "296",
                                    "1": "A Copland Celebration, Vol. I",
                                    "2": "230"
                                },
                                {
                                    "0": "297",
                                    "1": "Bach: Toccata & Fugue in D Minor",
                                    "2": "231"
                                },
                                {
                                    "0": "298",
                                    "1": "Prokofiev: Symphony No.1",
                                    "2": "232"
                                },
                                {
                                    "0": "299",
                                    "1": "Scheherazade",
                                    "2": "233"
                                },
                                {
                                    "0": "300",
                                    "1": "Bach: The Brandenburg Concertos",
                                    "2": "234"
                                },
                                {
                                    "0": "301",
                                    "1": "Chopin: Piano Concertos Nos. 1 & 2",
                                    "2": "235"
                                },
                                {
                                    "0": "302",
                                    "1": "Mascagni: Cavalleria Rusticana",
                                    "2": "236"
                                },
                                {
                                    "0": "303",
                                    "1": "Sibelius: Finlandia",
                                    "2": "237"
                                },
                                {
                                    "0": "304",
                                    "1": "Beethoven Piano Sonatas: Moonlight & Pastorale",
                                    "2": "238"
                                },
                                {
                                    "0": "305",
                                    "1": "Great Recordings of the Century - Mahler: Das Lied von der Erde",
                                    "2": "240"
                                },
                                {
                                    "0": "306",
                                    "1": "Elgar: Cello Concerto & Vaughan Williams: Fantasias",
                                    "2": "241"
                                },
                                {
                                    "0": "307",
                                    "1": "Adams, John: The Chairman Dances",
                                    "2": "242"
                                },
                                {
                                    "0": "308",
                                    "1": "Tchaikovsky: 1812 Festival Overture, Op.49, Capriccio Italien & Beethoven: Wellington's Victory",
                                    "2": "243"
                                },
                                {
                                    "0": "309",
                                    "1": "Palestrina: Missa Papae Marcelli & Allegri: Miserere",
                                    "2": "244"
                                },
                                {
                                    "0": "310",
                                    "1": "Prokofiev: Romeo & Juliet",
                                    "2": "245"
                                },
                                {
                                    "0": "311",
                                    "1": "Strauss: Waltzes",
                                    "2": "226"
                                },
                                {
                                    "0": "312",
                                    "1": "Berlioz: Symphonie Fantastique",
                                    "2": "245"
                                },
                                {
                                    "0": "313",
                                    "1": "Bizet: Carmen Highlights",
                                    "2": "246"
                                },
                                {
                                    "0": "314",
                                    "1": "English Renaissance",
                                    "2": "247"
                                },
                                {
                                    "0": "315",
                                    "1": "Handel: Music for the Royal Fireworks (Original Version 1749)",
                                    "2": "208"
                                },
                                {
                                    "0": "316",
                                    "1": "Grieg: Peer Gynt Suites & Sibelius: Pelléas et Mélisande",
                                    "2": "248"
                                },
                                {
                                    "0": "317",
                                    "1": "Mozart Gala: Famous Arias",
                                    "2": "249"
                                },
                                {
                                    "0": "318",
                                    "1": "SCRIABIN: Vers la flamme",
                                    "2": "250"
                                },
                                {
                                    "0": "319",
                                    "1": "Armada: Music from the Courts of England and Spain",
                                    "2": "251"
                                },
                                {
                                    "0": "320",
                                    "1": "Mozart: Symphonies Nos. 40 & 41",
                                    "2": "248"
                                },
                                {
                                    "0": "321",
                                    "1": "Back to Black",
                                    "2": "252"
                                },
                                {
                                    "0": "322",
                                    "1": "Frank",
                                    "2": "252"
                                },
                                {
                                    "0": "323",
                                    "1": "Carried to Dust (Bonus Track Version)",
                                    "2": "253"
                                },
                                {
                                    "0": "324",
                                    "1": "Beethoven: Symphony No. 6 'Pastoral' Etc.",
                                    "2": "254"
                                },
                                {
                                    "0": "325",
                                    "1": "Bartok: Violin & Viola Concertos",
                                    "2": "255"
                                },
                                {
                                    "0": "326",
                                    "1": "Mendelssohn: A Midsummer Night's Dream",
                                    "2": "256"
                                },
                                {
                                    "0": "327",
                                    "1": "Bach: Orchestral Suites Nos. 1 - 4",
                                    "2": "257"
                                },
                                {
                                    "0": "328",
                                    "1": "Charpentier: Divertissements, Airs & Concerts",
                                    "2": "258"
                                },
                                {
                                    "0": "329",
                                    "1": "South American Getaway",
                                    "2": "259"
                                },
                                {
                                    "0": "330",
                                    "1": "Górecki: Symphony No. 3",
                                    "2": "260"
                                },
                                {
                                    "0": "331",
                                    "1": "Purcell: The Fairy Queen",
                                    "2": "261"
                                },
                                {
                                    "0": "332",
                                    "1": "The Ultimate Relexation Album",
                                    "2": "262"
                                },
                                {
                                    "0": "333",
                                    "1": "Purcell: Music for the Queen Mary",
                                    "2": "263"
                                },
                                {
                                    "0": "334",
                                    "1": "Weill: The Seven Deadly Sins",
                                    "2": "264"
                                },
                                {
                                    "0": "335",
                                    "1": "J.S. Bach: Chaconne, Suite in E Minor, Partita in E Major & Prelude, Fugue and Allegro",
                                    "2": "265"
                                },
                                {
                                    "0": "336",
                                    "1": "Prokofiev: Symphony No.5 & Stravinksy: Le Sacre Du Printemps",
                                    "2": "248"
                                },
                                {
                                    "0": "337",
                                    "1": "Szymanowski: Piano Works, Vol. 1",
                                    "2": "266"
                                },
                                {
                                    "0": "338",
                                    "1": "Nielsen: The Six Symphonies",
                                    "2": "267"
                                },
                                {
                                    "0": "339",
                                    "1": "Great Recordings of the Century: Paganini's 24 Caprices",
                                    "2": "268"
                                },
                                {
                                    "0": "340",
                                    "1": "Liszt - 12 Études D'Execution Transcendante",
                                    "2": "269"
                                },
                                {
                                    "0": "341",
                                    "1": "Great Recordings of the Century - Shubert: Schwanengesang, 4 Lieder",
                                    "2": "270"
                                },
                                {
                                    "0": "342",
                                    "1": "Locatelli: Concertos for Violin, Strings and Continuo, Vol. 3",
                                    "2": "271"
                                },
                                {
                                    "0": "343",
                                    "1": "Respighi:Pines of Rome",
                                    "2": "226"
                                },
                                {
                                    "0": "344",
                                    "1": "Schubert: The Late String Quartets & String Quintet (3 CD's)",
                                    "2": "272"
                                },
                                {
                                    "0": "345",
                                    "1": "Monteverdi: L'Orfeo",
                                    "2": "273"
                                },
                                {
                                    "0": "346",
                                    "1": "Mozart: Chamber Music",
                                    "2": "274"
                                },
                                {
                                    "0": "347",
                                    "1": "Koyaanisqatsi (Soundtrack from the Motion Picture)",
                                    "2": "275"
                                }
                            ]
                        },
                        "text/html": [
                            "<table>",
                            "<tr><th>album_id</th><th>title</th><th>artist_id</th></tr>",
                            "<tr><td>1</td><td>For Those About To Rock We Salute You</td><td>1</td></tr>",
                            "<tr><td>2</td><td>Balls to the Wall</td><td>2</td></tr>",
                            "<tr><td>3</td><td>Restless and Wild</td><td>2</td></tr>",
                            "<tr><td>4</td><td>Let There Be Rock</td><td>1</td></tr>",
                            "<tr><td>5</td><td>Big Ones</td><td>3</td></tr>",
                            "<tr><td>6</td><td>Jagged Little Pill</td><td>4</td></tr>",
                            "<tr><td>7</td><td>Facelift</td><td>5</td></tr>",
                            "<tr><td>8</td><td>Warner 25 Anos</td><td>6</td></tr>",
                            "<tr><td>9</td><td>Plays Metallica By Four Cellos</td><td>7</td></tr>",
                            "<tr><td>10</td><td>Audioslave</td><td>8</td></tr>",
                            "<tr><td>11</td><td>Out Of Exile</td><td>8</td></tr>",
                            "<tr><td>12</td><td>BackBeat Soundtrack</td><td>9</td></tr>",
                            "<tr><td>13</td><td>The Best Of Billy Cobham</td><td>10</td></tr>",
                            "<tr><td>14</td><td>Alcohol Fueled Brewtality Live! [Disc 1]</td><td>11</td></tr>",
                            "<tr><td>15</td><td>Alcohol Fueled Brewtality Live! [Disc 2]</td><td>11</td></tr>",
                            "<tr><td>16</td><td>Black Sabbath</td><td>12</td></tr>",
                            "<tr><td>17</td><td>Black Sabbath Vol. 4 (Remaster)</td><td>12</td></tr>",
                            "<tr><td>18</td><td>Body Count</td><td>13</td></tr>",
                            "<tr><td>19</td><td>Chemical Wedding</td><td>14</td></tr>",
                            "<tr><td>20</td><td>The Best Of Buddy Guy - The Millenium Collection</td><td>15</td></tr>",
                            "<tr><td>21</td><td>Prenda Minha</td><td>16</td></tr>",
                            "<tr><td>22</td><td>Sozinho Remix Ao Vivo</td><td>16</td></tr>",
                            "<tr><td>23</td><td>Minha Historia</td><td>17</td></tr>",
                            "<tr><td>24</td><td>Afrociberdelia</td><td>18</td></tr>",
                            "<tr><td>25</td><td>Da Lama Ao Caos</td><td>18</td></tr>",
                            "<tr><td>26</td><td>Acústico MTV [Live]</td><td>19</td></tr>",
                            "<tr><td>27</td><td>Cidade Negra - Hits</td><td>19</td></tr>",
                            "<tr><td>28</td><td>Na Pista</td><td>20</td></tr>",
                            "<tr><td>29</td><td>Axé Bahia 2001</td><td>21</td></tr>",
                            "<tr><td>30</td><td>BBC Sessions [Disc 1] [Live]</td><td>22</td></tr>",
                            "<tr><td>31</td><td>Bongo Fury</td><td>23</td></tr>",
                            "<tr><td>32</td><td>Carnaval 2001</td><td>21</td></tr>",
                            "<tr><td>33</td><td>Chill: Brazil (Disc 1)</td><td>24</td></tr>",
                            "<tr><td>34</td><td>Chill: Brazil (Disc 2)</td><td>6</td></tr>",
                            "<tr><td>35</td><td>Garage Inc. (Disc 1)</td><td>50</td></tr>",
                            "<tr><td>36</td><td>Greatest Hits II</td><td>51</td></tr>",
                            "<tr><td>37</td><td>Greatest Kiss</td><td>52</td></tr>",
                            "<tr><td>38</td><td>Heart of the Night</td><td>53</td></tr>",
                            "<tr><td>39</td><td>International Superhits</td><td>54</td></tr>",
                            "<tr><td>40</td><td>Into The Light</td><td>55</td></tr>",
                            "<tr><td>41</td><td>Meus Momentos</td><td>56</td></tr>",
                            "<tr><td>42</td><td>Minha História</td><td>57</td></tr>",
                            "<tr><td>43</td><td>MK III The Final Concerts [Disc 1]</td><td>58</td></tr>",
                            "<tr><td>44</td><td>Physical Graffiti [Disc 1]</td><td>22</td></tr>",
                            "<tr><td>45</td><td>Sambas De Enredo 2001</td><td>21</td></tr>",
                            "<tr><td>46</td><td>Supernatural</td><td>59</td></tr>",
                            "<tr><td>47</td><td>The Best of Ed Motta</td><td>37</td></tr>",
                            "<tr><td>48</td><td>The Essential Miles Davis [Disc 1]</td><td>68</td></tr>",
                            "<tr><td>49</td><td>The Essential Miles Davis [Disc 2]</td><td>68</td></tr>",
                            "<tr><td>50</td><td>The Final Concerts (Disc 2)</td><td>58</td></tr>",
                            "<tr><td>51</td><td>Up An' Atom</td><td>69</td></tr>",
                            "<tr><td>52</td><td>Vinícius De Moraes - Sem Limite</td><td>70</td></tr>",
                            "<tr><td>53</td><td>Vozes do MPB</td><td>21</td></tr>",
                            "<tr><td>54</td><td>Chronicle, Vol. 1</td><td>76</td></tr>",
                            "<tr><td>55</td><td>Chronicle, Vol. 2</td><td>76</td></tr>",
                            "<tr><td>56</td><td>Cássia Eller - Coleção Sem Limite [Disc 2]</td><td>77</td></tr>",
                            "<tr><td>57</td><td>Cássia Eller - Sem Limite [Disc 1]</td><td>77</td></tr>",
                            "<tr><td>58</td><td>Come Taste The Band</td><td>58</td></tr>",
                            "<tr><td>59</td><td>Deep Purple In Rock</td><td>58</td></tr>",
                            "<tr><td>60</td><td>Fireball</td><td>58</td></tr>",
                            "<tr><td>61</td><td>Knocking at Your Back Door: The Best Of Deep Purple in the 80's</td><td>58</td></tr>",
                            "<tr><td>62</td><td>Machine Head</td><td>58</td></tr>",
                            "<tr><td>63</td><td>Purpendicular</td><td>58</td></tr>",
                            "<tr><td>64</td><td>Slaves And Masters</td><td>58</td></tr>",
                            "<tr><td>65</td><td>Stormbringer</td><td>58</td></tr>",
                            "<tr><td>66</td><td>The Battle Rages On</td><td>58</td></tr>",
                            "<tr><td>67</td><td>Vault: Def Leppard's Greatest Hits</td><td>78</td></tr>",
                            "<tr><td>68</td><td>Outbreak</td><td>79</td></tr>",
                            "<tr><td>69</td><td>Djavan Ao Vivo - Vol. 02</td><td>80</td></tr>",
                            "<tr><td>70</td><td>Djavan Ao Vivo - Vol. 1</td><td>80</td></tr>",
                            "<tr><td>71</td><td>Elis Regina-Minha História</td><td>41</td></tr>",
                            "<tr><td>72</td><td>The Cream Of Clapton</td><td>81</td></tr>",
                            "<tr><td>73</td><td>Unplugged</td><td>81</td></tr>",
                            "<tr><td>74</td><td>Album Of The Year</td><td>82</td></tr>",
                            "<tr><td>75</td><td>Angel Dust</td><td>82</td></tr>",
                            "<tr><td>76</td><td>King For A Day Fool For A Lifetime</td><td>82</td></tr>",
                            "<tr><td>77</td><td>The Real Thing</td><td>82</td></tr>",
                            "<tr><td>78</td><td>Deixa Entrar</td><td>83</td></tr>",
                            "<tr><td>79</td><td>In Your Honor [Disc 1]</td><td>84</td></tr>",
                            "<tr><td>80</td><td>In Your Honor [Disc 2]</td><td>84</td></tr>",
                            "<tr><td>81</td><td>One By One</td><td>84</td></tr>",
                            "<tr><td>82</td><td>The Colour And The Shape</td><td>84</td></tr>",
                            "<tr><td>83</td><td>My Way: The Best Of Frank Sinatra [Disc 1]</td><td>85</td></tr>",
                            "<tr><td>84</td><td>Roda De Funk</td><td>86</td></tr>",
                            "<tr><td>85</td><td>As Canções de Eu Tu Eles</td><td>27</td></tr>",
                            "<tr><td>86</td><td>Quanta Gente Veio Ver (Live)</td><td>27</td></tr>",
                            "<tr><td>87</td><td>Quanta Gente Veio ver--Bônus De Carnaval</td><td>27</td></tr>",
                            "<tr><td>88</td><td>Faceless</td><td>87</td></tr>",
                            "<tr><td>89</td><td>American Idiot</td><td>54</td></tr>",
                            "<tr><td>90</td><td>Appetite for Destruction</td><td>88</td></tr>",
                            "<tr><td>91</td><td>Use Your Illusion I</td><td>88</td></tr>",
                            "<tr><td>92</td><td>Use Your Illusion II</td><td>88</td></tr>",
                            "<tr><td>93</td><td>Blue Moods</td><td>89</td></tr>",
                            "<tr><td>94</td><td>A Matter of Life and Death</td><td>90</td></tr>",
                            "<tr><td>95</td><td>A Real Dead One</td><td>90</td></tr>",
                            "<tr><td>96</td><td>A Real Live One</td><td>90</td></tr>",
                            "<tr><td>97</td><td>Brave New World</td><td>90</td></tr>",
                            "<tr><td>98</td><td>Dance Of Death</td><td>90</td></tr>",
                            "<tr><td>99</td><td>Fear Of The Dark</td><td>90</td></tr>",
                            "<tr><td>100</td><td>Iron Maiden</td><td>90</td></tr>",
                            "<tr><td>101</td><td>Killers</td><td>90</td></tr>",
                            "<tr><td>102</td><td>Live After Death</td><td>90</td></tr>",
                            "<tr><td>103</td><td>Live At Donington 1992 (Disc 1)</td><td>90</td></tr>",
                            "<tr><td>104</td><td>Live At Donington 1992 (Disc 2)</td><td>90</td></tr>",
                            "<tr><td>105</td><td>No Prayer For The Dying</td><td>90</td></tr>",
                            "<tr><td>106</td><td>Piece Of Mind</td><td>90</td></tr>",
                            "<tr><td>107</td><td>Powerslave</td><td>90</td></tr>",
                            "<tr><td>108</td><td>Rock In Rio [CD1]</td><td>90</td></tr>",
                            "<tr><td>109</td><td>Rock In Rio [CD2]</td><td>90</td></tr>",
                            "<tr><td>110</td><td>Seventh Son of a Seventh Son</td><td>90</td></tr>",
                            "<tr><td>111</td><td>Somewhere in Time</td><td>90</td></tr>",
                            "<tr><td>112</td><td>The Number of The Beast</td><td>90</td></tr>",
                            "<tr><td>113</td><td>The X Factor</td><td>90</td></tr>",
                            "<tr><td>114</td><td>Virtual XI</td><td>90</td></tr>",
                            "<tr><td>115</td><td>Sex Machine</td><td>91</td></tr>",
                            "<tr><td>116</td><td>Emergency On Planet Earth</td><td>92</td></tr>",
                            "<tr><td>117</td><td>Synkronized</td><td>92</td></tr>",
                            "<tr><td>118</td><td>The Return Of The Space Cowboy</td><td>92</td></tr>",
                            "<tr><td>119</td><td>Get Born</td><td>93</td></tr>",
                            "<tr><td>120</td><td>Are You Experienced?</td><td>94</td></tr>",
                            "<tr><td>121</td><td>Surfing with the Alien (Remastered)</td><td>95</td></tr>",
                            "<tr><td>122</td><td>Jorge Ben Jor 25 Anos</td><td>46</td></tr>",
                            "<tr><td>123</td><td>Jota Quest-1995</td><td>96</td></tr>",
                            "<tr><td>124</td><td>Cafezinho</td><td>97</td></tr>",
                            "<tr><td>125</td><td>Living After Midnight</td><td>98</td></tr>",
                            "<tr><td>126</td><td>Unplugged [Live]</td><td>52</td></tr>",
                            "<tr><td>127</td><td>BBC Sessions [Disc 2] [Live]</td><td>22</td></tr>",
                            "<tr><td>128</td><td>Coda</td><td>22</td></tr>",
                            "<tr><td>129</td><td>Houses Of The Holy</td><td>22</td></tr>",
                            "<tr><td>130</td><td>In Through The Out Door</td><td>22</td></tr>",
                            "<tr><td>131</td><td>IV</td><td>22</td></tr>",
                            "<tr><td>132</td><td>Led Zeppelin I</td><td>22</td></tr>",
                            "<tr><td>133</td><td>Led Zeppelin II</td><td>22</td></tr>",
                            "<tr><td>134</td><td>Led Zeppelin III</td><td>22</td></tr>",
                            "<tr><td>135</td><td>Physical Graffiti [Disc 2]</td><td>22</td></tr>",
                            "<tr><td>136</td><td>Presence</td><td>22</td></tr>",
                            "<tr><td>137</td><td>The Song Remains The Same (Disc 1)</td><td>22</td></tr>",
                            "<tr><td>138</td><td>The Song Remains The Same (Disc 2)</td><td>22</td></tr>",
                            "<tr><td>139</td><td>A TempestadeTempestade Ou O Livro Dos Dias</td><td>99</td></tr>",
                            "<tr><td>140</td><td>Mais Do Mesmo</td><td>99</td></tr>",
                            "<tr><td>141</td><td>Greatest Hits</td><td>100</td></tr>",
                            "<tr><td>142</td><td>Lulu Santos - RCA 100 Anos De Música - Álbum 01</td><td>101</td></tr>",
                            "<tr><td>143</td><td>Lulu Santos - RCA 100 Anos De Música - Álbum 02</td><td>101</td></tr>",
                            "<tr><td>144</td><td>Misplaced Childhood</td><td>102</td></tr>",
                            "<tr><td>145</td><td>Barulhinho Bom</td><td>103</td></tr>",
                            "<tr><td>146</td><td>Seek And Shall Find: More Of The Best (1963-1981)</td><td>104</td></tr>",
                            "<tr><td>147</td><td>The Best Of Men At Work</td><td>105</td></tr>",
                            "<tr><td>148</td><td>Black Album</td><td>50</td></tr>",
                            "<tr><td>149</td><td>Garage Inc. (Disc 2)</td><td>50</td></tr>",
                            "<tr><td>150</td><td>Kill 'Em All</td><td>50</td></tr>",
                            "<tr><td>151</td><td>Load</td><td>50</td></tr>",
                            "<tr><td>152</td><td>Master Of Puppets</td><td>50</td></tr>",
                            "<tr><td>153</td><td>ReLoad</td><td>50</td></tr>",
                            "<tr><td>154</td><td>Ride The Lightning</td><td>50</td></tr>",
                            "<tr><td>155</td><td>St. Anger</td><td>50</td></tr>",
                            "<tr><td>156</td><td>...And Justice For All</td><td>50</td></tr>",
                            "<tr><td>157</td><td>Miles Ahead</td><td>68</td></tr>",
                            "<tr><td>158</td><td>Milton Nascimento Ao Vivo</td><td>42</td></tr>",
                            "<tr><td>159</td><td>Minas</td><td>42</td></tr>",
                            "<tr><td>160</td><td>Ace Of Spades</td><td>106</td></tr>",
                            "<tr><td>161</td><td>Demorou...</td><td>108</td></tr>",
                            "<tr><td>162</td><td>Motley Crue Greatest Hits</td><td>109</td></tr>",
                            "<tr><td>163</td><td>From The Muddy Banks Of The Wishkah [Live]</td><td>110</td></tr>",
                            "<tr><td>164</td><td>Nevermind</td><td>110</td></tr>",
                            "<tr><td>165</td><td>Compositores</td><td>111</td></tr>",
                            "<tr><td>166</td><td>Olodum</td><td>112</td></tr>",
                            "<tr><td>167</td><td>Acústico MTV</td><td>113</td></tr>",
                            "<tr><td>168</td><td>Arquivo II</td><td>113</td></tr>",
                            "<tr><td>169</td><td>Arquivo Os Paralamas Do Sucesso</td><td>113</td></tr>",
                            "<tr><td>170</td><td>Bark at the Moon (Remastered)</td><td>114</td></tr>",
                            "<tr><td>171</td><td>Blizzard of Ozz</td><td>114</td></tr>",
                            "<tr><td>172</td><td>Diary of a Madman (Remastered)</td><td>114</td></tr>",
                            "<tr><td>173</td><td>No More Tears (Remastered)</td><td>114</td></tr>",
                            "<tr><td>174</td><td>Tribute</td><td>114</td></tr>",
                            "<tr><td>175</td><td>Walking Into Clarksdale</td><td>115</td></tr>",
                            "<tr><td>176</td><td>Original Soundtracks 1</td><td>116</td></tr>",
                            "<tr><td>177</td><td>The Beast Live</td><td>117</td></tr>",
                            "<tr><td>178</td><td>Live On Two Legs [Live]</td><td>118</td></tr>",
                            "<tr><td>179</td><td>Pearl Jam</td><td>118</td></tr>",
                            "<tr><td>180</td><td>Riot Act</td><td>118</td></tr>",
                            "<tr><td>181</td><td>Ten</td><td>118</td></tr>",
                            "<tr><td>182</td><td>Vs.</td><td>118</td></tr>",
                            "<tr><td>183</td><td>Dark Side Of The Moon</td><td>120</td></tr>",
                            "<tr><td>184</td><td>Os Cães Ladram Mas A Caravana Não Pára</td><td>121</td></tr>",
                            "<tr><td>185</td><td>Greatest Hits I</td><td>51</td></tr>",
                            "<tr><td>186</td><td>News Of The World</td><td>51</td></tr>",
                            "<tr><td>187</td><td>Out Of Time</td><td>122</td></tr>",
                            "<tr><td>188</td><td>Green</td><td>124</td></tr>",
                            "<tr><td>189</td><td>New Adventures In Hi-Fi</td><td>124</td></tr>",
                            "<tr><td>190</td><td>The Best Of R.E.M.: The IRS Years</td><td>124</td></tr>",
                            "<tr><td>191</td><td>Cesta Básica</td><td>125</td></tr>",
                            "<tr><td>192</td><td>Raul Seixas</td><td>126</td></tr>",
                            "<tr><td>193</td><td>Blood Sugar Sex Magik</td><td>127</td></tr>",
                            "<tr><td>194</td><td>By The Way</td><td>127</td></tr>",
                            "<tr><td>195</td><td>Californication</td><td>127</td></tr>",
                            "<tr><td>196</td><td>Retrospective I (1974-1980)</td><td>128</td></tr>",
                            "<tr><td>197</td><td>Santana - As Years Go By</td><td>59</td></tr>",
                            "<tr><td>198</td><td>Santana Live</td><td>59</td></tr>",
                            "<tr><td>199</td><td>Maquinarama</td><td>130</td></tr>",
                            "<tr><td>200</td><td>O Samba Poconé</td><td>130</td></tr>",
                            "<tr><td>201</td><td>Judas 0: B-Sides and Rarities</td><td>131</td></tr>",
                            "<tr><td>202</td><td>Rotten Apples: Greatest Hits</td><td>131</td></tr>",
                            "<tr><td>203</td><td>A-Sides</td><td>132</td></tr>",
                            "<tr><td>204</td><td>Morning Dance</td><td>53</td></tr>",
                            "<tr><td>205</td><td>In Step</td><td>133</td></tr>",
                            "<tr><td>206</td><td>Core</td><td>134</td></tr>",
                            "<tr><td>207</td><td>Mezmerize</td><td>135</td></tr>",
                            "<tr><td>208</td><td>[1997] Black Light Syndrome</td><td>136</td></tr>",
                            "<tr><td>209</td><td>Live [Disc 1]</td><td>137</td></tr>",
                            "<tr><td>210</td><td>Live [Disc 2]</td><td>137</td></tr>",
                            "<tr><td>211</td><td>The Singles</td><td>138</td></tr>",
                            "<tr><td>212</td><td>Beyond Good And Evil</td><td>139</td></tr>",
                            "<tr><td>213</td><td>Pure Cult: The Best Of The Cult</td><td>139</td></tr>",
                            "<tr><td>214</td><td>The Doors</td><td>140</td></tr>",
                            "<tr><td>215</td><td>The Police Greatest Hits</td><td>141</td></tr>",
                            "<tr><td>216</td><td>Hot Rocks, 1964-1971 (Disc 1)</td><td>142</td></tr>",
                            "<tr><td>217</td><td>No Security</td><td>142</td></tr>",
                            "<tr><td>218</td><td>Voodoo Lounge</td><td>142</td></tr>",
                            "<tr><td>219</td><td>Tangents</td><td>143</td></tr>",
                            "<tr><td>220</td><td>Transmission</td><td>143</td></tr>",
                            "<tr><td>221</td><td>My Generation - The Very Best Of The Who</td><td>144</td></tr>",
                            "<tr><td>222</td><td>Serie Sem Limite (Disc 1)</td><td>145</td></tr>",
                            "<tr><td>223</td><td>Serie Sem Limite (Disc 2)</td><td>145</td></tr>",
                            "<tr><td>224</td><td>Acústico</td><td>146</td></tr>",
                            "<tr><td>225</td><td>Volume Dois</td><td>146</td></tr>",
                            "<tr><td>226</td><td>Battlestar Galactica: The Story So Far</td><td>147</td></tr>",
                            "<tr><td>227</td><td>Battlestar Galactica, Season 3</td><td>147</td></tr>",
                            "<tr><td>228</td><td>Heroes, Season 1</td><td>148</td></tr>",
                            "<tr><td>229</td><td>Lost, Season 3</td><td>149</td></tr>",
                            "<tr><td>230</td><td>Lost, Season 1</td><td>149</td></tr>",
                            "<tr><td>231</td><td>Lost, Season 2</td><td>149</td></tr>",
                            "<tr><td>232</td><td>Achtung Baby</td><td>150</td></tr>",
                            "<tr><td>233</td><td>All That You Can't Leave Behind</td><td>150</td></tr>",
                            "<tr><td>234</td><td>B-Sides 1980-1990</td><td>150</td></tr>",
                            "<tr><td>235</td><td>How To Dismantle An Atomic Bomb</td><td>150</td></tr>",
                            "<tr><td>236</td><td>Pop</td><td>150</td></tr>",
                            "<tr><td>237</td><td>Rattle And Hum</td><td>150</td></tr>",
                            "<tr><td>238</td><td>The Best Of 1980-1990</td><td>150</td></tr>",
                            "<tr><td>239</td><td>War</td><td>150</td></tr>",
                            "<tr><td>240</td><td>Zooropa</td><td>150</td></tr>",
                            "<tr><td>241</td><td>UB40 The Best Of - Volume Two [UK]</td><td>151</td></tr>",
                            "<tr><td>242</td><td>Diver Down</td><td>152</td></tr>",
                            "<tr><td>243</td><td>The Best Of Van Halen, Vol. I</td><td>152</td></tr>",
                            "<tr><td>244</td><td>Van Halen</td><td>152</td></tr>",
                            "<tr><td>245</td><td>Van Halen III</td><td>152</td></tr>",
                            "<tr><td>246</td><td>Contraband</td><td>153</td></tr>",
                            "<tr><td>247</td><td>Vinicius De Moraes</td><td>72</td></tr>",
                            "<tr><td>248</td><td>Ao Vivo [IMPORT]</td><td>155</td></tr>",
                            "<tr><td>249</td><td>The Office, Season 1</td><td>156</td></tr>",
                            "<tr><td>250</td><td>The Office, Season 2</td><td>156</td></tr>",
                            "<tr><td>251</td><td>The Office, Season 3</td><td>156</td></tr>",
                            "<tr><td>252</td><td>Un-Led-Ed</td><td>157</td></tr>",
                            "<tr><td>253</td><td>Battlestar Galactica (Classic), Season 1</td><td>158</td></tr>",
                            "<tr><td>254</td><td>Aquaman</td><td>159</td></tr>",
                            "<tr><td>255</td><td>Instant Karma: The Amnesty International Campaign to Save Darfur</td><td>150</td></tr>",
                            "<tr><td>256</td><td>Speak of the Devil</td><td>114</td></tr>",
                            "<tr><td>257</td><td>20th Century Masters - The Millennium Collection: The Best of Scorpions</td><td>179</td></tr>",
                            "<tr><td>258</td><td>House of Pain</td><td>180</td></tr>",
                            "<tr><td>259</td><td>Radio Brasil (O Som da Jovem Vanguarda) - Seleccao de Henrique Amaro</td><td>36</td></tr>",
                            "<tr><td>260</td><td>Cake: B-Sides and Rarities</td><td>196</td></tr>",
                            "<tr><td>261</td><td>LOST, Season 4</td><td>149</td></tr>",
                            "<tr><td>262</td><td>Quiet Songs</td><td>197</td></tr>",
                            "<tr><td>263</td><td>Muso Ko</td><td>198</td></tr>",
                            "<tr><td>264</td><td>Realize</td><td>199</td></tr>",
                            "<tr><td>265</td><td>Every Kind of Light</td><td>200</td></tr>",
                            "<tr><td>266</td><td>Duos II</td><td>201</td></tr>",
                            "<tr><td>267</td><td>Worlds</td><td>202</td></tr>",
                            "<tr><td>268</td><td>The Best of Beethoven</td><td>203</td></tr>",
                            "<tr><td>269</td><td>Temple of the Dog</td><td>204</td></tr>",
                            "<tr><td>270</td><td>Carry On</td><td>205</td></tr>",
                            "<tr><td>271</td><td>Revelations</td><td>8</td></tr>",
                            "<tr><td>272</td><td>Adorate Deum: Gregorian Chant from the Proper of the Mass</td><td>206</td></tr>",
                            "<tr><td>273</td><td>Allegri: Miserere</td><td>207</td></tr>",
                            "<tr><td>274</td><td>Pachelbel: Canon &amp; Gigue</td><td>208</td></tr>",
                            "<tr><td>275</td><td>Vivaldi: The Four Seasons</td><td>209</td></tr>",
                            "<tr><td>276</td><td>Bach: Violin Concertos</td><td>210</td></tr>",
                            "<tr><td>277</td><td>Bach: Goldberg Variations</td><td>211</td></tr>",
                            "<tr><td>278</td><td>Bach: The Cello Suites</td><td>212</td></tr>",
                            "<tr><td>279</td><td>Handel: The Messiah (Highlights)</td><td>213</td></tr>",
                            "<tr><td>280</td><td>The World of Classical Favourites</td><td>214</td></tr>",
                            "<tr><td>281</td><td>Sir Neville Marriner: A Celebration</td><td>215</td></tr>",
                            "<tr><td>282</td><td>Mozart: Wind Concertos</td><td>216</td></tr>",
                            "<tr><td>283</td><td>Haydn: Symphonies 99 - 104</td><td>217</td></tr>",
                            "<tr><td>284</td><td>Beethoven: Symhonies Nos. 5 &amp; 6</td><td>218</td></tr>",
                            "<tr><td>285</td><td>A Soprano Inspired</td><td>219</td></tr>",
                            "<tr><td>286</td><td>Great Opera Choruses</td><td>220</td></tr>",
                            "<tr><td>287</td><td>Wagner: Favourite Overtures</td><td>221</td></tr>",
                            "<tr><td>288</td><td>Fauré: Requiem, Ravel: Pavane &amp; Others</td><td>222</td></tr>",
                            "<tr><td>289</td><td>Tchaikovsky: The Nutcracker</td><td>223</td></tr>",
                            "<tr><td>290</td><td>The Last Night of the Proms</td><td>224</td></tr>",
                            "<tr><td>291</td><td>Puccini: Madama Butterfly - Highlights</td><td>225</td></tr>",
                            "<tr><td>292</td><td>Holst: The Planets, Op. 32 &amp; Vaughan Williams: Fantasies</td><td>226</td></tr>",
                            "<tr><td>293</td><td>Pavarotti's Opera Made Easy</td><td>227</td></tr>",
                            "<tr><td>294</td><td>Great Performances - Barber's Adagio and Other Romantic Favorites for Strings</td><td>228</td></tr>",
                            "<tr><td>295</td><td>Carmina Burana</td><td>229</td></tr>",
                            "<tr><td>296</td><td>A Copland Celebration, Vol. I</td><td>230</td></tr>",
                            "<tr><td>297</td><td>Bach: Toccata &amp; Fugue in D Minor</td><td>231</td></tr>",
                            "<tr><td>298</td><td>Prokofiev: Symphony No.1</td><td>232</td></tr>",
                            "<tr><td>299</td><td>Scheherazade</td><td>233</td></tr>",
                            "<tr><td>300</td><td>Bach: The Brandenburg Concertos</td><td>234</td></tr>",
                            "<tr><td>301</td><td>Chopin: Piano Concertos Nos. 1 &amp; 2</td><td>235</td></tr>",
                            "<tr><td>302</td><td>Mascagni: Cavalleria Rusticana</td><td>236</td></tr>",
                            "<tr><td>303</td><td>Sibelius: Finlandia</td><td>237</td></tr>",
                            "<tr><td>304</td><td>Beethoven Piano Sonatas: Moonlight &amp; Pastorale</td><td>238</td></tr>",
                            "<tr><td>305</td><td>Great Recordings of the Century - Mahler: Das Lied von der Erde</td><td>240</td></tr>",
                            "<tr><td>306</td><td>Elgar: Cello Concerto &amp; Vaughan Williams: Fantasias</td><td>241</td></tr>",
                            "<tr><td>307</td><td>Adams, John: The Chairman Dances</td><td>242</td></tr>",
                            "<tr><td>308</td><td>Tchaikovsky: 1812 Festival Overture, Op.49, Capriccio Italien &amp; Beethoven: Wellington's Victory</td><td>243</td></tr>",
                            "<tr><td>309</td><td>Palestrina: Missa Papae Marcelli &amp; Allegri: Miserere</td><td>244</td></tr>",
                            "<tr><td>310</td><td>Prokofiev: Romeo &amp; Juliet</td><td>245</td></tr>",
                            "<tr><td>311</td><td>Strauss: Waltzes</td><td>226</td></tr>",
                            "<tr><td>312</td><td>Berlioz: Symphonie Fantastique</td><td>245</td></tr>",
                            "<tr><td>313</td><td>Bizet: Carmen Highlights</td><td>246</td></tr>",
                            "<tr><td>314</td><td>English Renaissance</td><td>247</td></tr>",
                            "<tr><td>315</td><td>Handel: Music for the Royal Fireworks (Original Version 1749)</td><td>208</td></tr>",
                            "<tr><td>316</td><td>Grieg: Peer Gynt Suites &amp; Sibelius: Pelléas et Mélisande</td><td>248</td></tr>",
                            "<tr><td>317</td><td>Mozart Gala: Famous Arias</td><td>249</td></tr>",
                            "<tr><td>318</td><td>SCRIABIN: Vers la flamme</td><td>250</td></tr>",
                            "<tr><td>319</td><td>Armada: Music from the Courts of England and Spain</td><td>251</td></tr>",
                            "<tr><td>320</td><td>Mozart: Symphonies Nos. 40 &amp; 41</td><td>248</td></tr>",
                            "<tr><td>321</td><td>Back to Black</td><td>252</td></tr>",
                            "<tr><td>322</td><td>Frank</td><td>252</td></tr>",
                            "<tr><td>323</td><td>Carried to Dust (Bonus Track Version)</td><td>253</td></tr>",
                            "<tr><td>324</td><td>Beethoven: Symphony No. 6 'Pastoral' Etc.</td><td>254</td></tr>",
                            "<tr><td>325</td><td>Bartok: Violin &amp; Viola Concertos</td><td>255</td></tr>",
                            "<tr><td>326</td><td>Mendelssohn: A Midsummer Night's Dream</td><td>256</td></tr>",
                            "<tr><td>327</td><td>Bach: Orchestral Suites Nos. 1 - 4</td><td>257</td></tr>",
                            "<tr><td>328</td><td>Charpentier: Divertissements, Airs &amp; Concerts</td><td>258</td></tr>",
                            "<tr><td>329</td><td>South American Getaway</td><td>259</td></tr>",
                            "<tr><td>330</td><td>Górecki: Symphony No. 3</td><td>260</td></tr>",
                            "<tr><td>331</td><td>Purcell: The Fairy Queen</td><td>261</td></tr>",
                            "<tr><td>332</td><td>The Ultimate Relexation Album</td><td>262</td></tr>",
                            "<tr><td>333</td><td>Purcell: Music for the Queen Mary</td><td>263</td></tr>",
                            "<tr><td>334</td><td>Weill: The Seven Deadly Sins</td><td>264</td></tr>",
                            "<tr><td>335</td><td>J.S. Bach: Chaconne, Suite in E Minor, Partita in E Major &amp; Prelude, Fugue and Allegro</td><td>265</td></tr>",
                            "<tr><td>336</td><td>Prokofiev: Symphony No.5 &amp; Stravinksy: Le Sacre Du Printemps</td><td>248</td></tr>",
                            "<tr><td>337</td><td>Szymanowski: Piano Works, Vol. 1</td><td>266</td></tr>",
                            "<tr><td>338</td><td>Nielsen: The Six Symphonies</td><td>267</td></tr>",
                            "<tr><td>339</td><td>Great Recordings of the Century: Paganini's 24 Caprices</td><td>268</td></tr>",
                            "<tr><td>340</td><td>Liszt - 12 Études D'Execution Transcendante</td><td>269</td></tr>",
                            "<tr><td>341</td><td>Great Recordings of the Century - Shubert: Schwanengesang, 4 Lieder</td><td>270</td></tr>",
                            "<tr><td>342</td><td>Locatelli: Concertos for Violin, Strings and Continuo, Vol. 3</td><td>271</td></tr>",
                            "<tr><td>343</td><td>Respighi:Pines of Rome</td><td>226</td></tr>",
                            "<tr><td>344</td><td>Schubert: The Late String Quartets &amp; String Quintet (3 CD's)</td><td>272</td></tr>",
                            "<tr><td>345</td><td>Monteverdi: L'Orfeo</td><td>273</td></tr>",
                            "<tr><td>346</td><td>Mozart: Chamber Music</td><td>274</td></tr>",
                            "<tr><td>347</td><td>Koyaanisqatsi (Soundtrack from the Motion Picture)</td><td>275</td></tr>",
                            "</table>"
                        ]
                    }
                },
                {
                    "output_type": "execute_result",
                    "metadata": {
                        "resultSet": {
                            "id": 1,
                            "batchId": 0,
                            "rowCount": 347,
                            "complete": true,
                            "columnInfo": [
                                {
                                    "isBytes": false,
                                    "isChars": false,
                                    "isSqlVariant": false,
                                    "isUdt": false,
                                    "isXml": false,
                                    "isJson": false,
                                    "sqlDbType": 8,
                                    "isHierarchyId": false,
                                    "isSqlXmlType": false,
                                    "isUnknownType": false,
                                    "isUpdatable": false,
                                    "allowDBNull": false,
                                    "baseCatalogName": null,
                                    "baseColumnName": null,
                                    "baseSchemaName": null,
                                    "baseServerName": null,
                                    "baseTableName": null,
                                    "columnName": "album_id",
                                    "columnOrdinal": 0,
                                    "columnSize": 4,
                                    "isAliased": null,
                                    "isAutoIncrement": true,
                                    "isExpression": null,
                                    "isHidden": null,
                                    "isIdentity": true,
                                    "isKey": null,
                                    "isLong": false,
                                    "isReadOnly": true,
                                    "isUnique": false,
                                    "numericPrecision": 10,
                                    "numericScale": 255,
                                    "udtAssemblyQualifiedName": null,
                                    "dataType": "System.Int32, System.Private.CoreLib, Version=4.0.0.0, Culture=neutral, PublicKeyToken=7cec85d7bea7798e",
                                    "dataTypeName": "int"
                                },
                                {
                                    "isBytes": false,
                                    "isChars": true,
                                    "isSqlVariant": false,
                                    "isUdt": false,
                                    "isXml": false,
                                    "isJson": false,
                                    "sqlDbType": 12,
                                    "isHierarchyId": false,
                                    "isSqlXmlType": false,
                                    "isUnknownType": false,
                                    "isUpdatable": true,
                                    "allowDBNull": false,
                                    "baseCatalogName": null,
                                    "baseColumnName": null,
                                    "baseSchemaName": null,
                                    "baseServerName": null,
                                    "baseTableName": null,
                                    "columnName": "title",
                                    "columnOrdinal": 1,
                                    "columnSize": 160,
                                    "isAliased": null,
                                    "isAutoIncrement": false,
                                    "isExpression": null,
                                    "isHidden": null,
                                    "isIdentity": false,
                                    "isKey": null,
                                    "isLong": false,
                                    "isReadOnly": false,
                                    "isUnique": false,
                                    "numericPrecision": 255,
                                    "numericScale": 255,
                                    "udtAssemblyQualifiedName": null,
                                    "dataType": "System.String, System.Private.CoreLib, Version=4.0.0.0, Culture=neutral, PublicKeyToken=7cec85d7bea7798e",
                                    "dataTypeName": "nvarchar"
                                },
                                {
                                    "isBytes": false,
                                    "isChars": false,
                                    "isSqlVariant": false,
                                    "isUdt": false,
                                    "isXml": false,
                                    "isJson": false,
                                    "sqlDbType": 8,
                                    "isHierarchyId": false,
                                    "isSqlXmlType": false,
                                    "isUnknownType": false,
                                    "isUpdatable": true,
                                    "allowDBNull": false,
                                    "baseCatalogName": null,
                                    "baseColumnName": null,
                                    "baseSchemaName": null,
                                    "baseServerName": null,
                                    "baseTableName": null,
                                    "columnName": "artist_id",
                                    "columnOrdinal": 2,
                                    "columnSize": 4,
                                    "isAliased": null,
                                    "isAutoIncrement": false,
                                    "isExpression": null,
                                    "isHidden": null,
                                    "isIdentity": false,
                                    "isKey": null,
                                    "isLong": false,
                                    "isReadOnly": false,
                                    "isUnique": false,
                                    "numericPrecision": 10,
                                    "numericScale": 255,
                                    "udtAssemblyQualifiedName": null,
                                    "dataType": "System.Int32, System.Private.CoreLib, Version=4.0.0.0, Culture=neutral, PublicKeyToken=7cec85d7bea7798e",
                                    "dataTypeName": "int"
                                }
                            ],
                            "specialAction": {
                                "none": true,
                                "expectYukonXMLShowPlan": false
                            }
                        }
                    },
                    "execution_count": 15,
                    "data": {
                        "application/vnd.dataresource+json": {
                            "schema": {
                                "fields": [
                                    {
                                        "name": "album_id"
                                    },
                                    {
                                        "name": "title"
                                    },
                                    {
                                        "name": "artist_id"
                                    }
                                ]
                            },
                            "data": [
                                {
                                    "0": "1",
                                    "1": "For Those About To Rock We Salute You",
                                    "2": "1"
                                },
                                {
                                    "0": "2",
                                    "1": "Balls to the Wall",
                                    "2": "2"
                                },
                                {
                                    "0": "3",
                                    "1": "Restless and Wild",
                                    "2": "2"
                                },
                                {
                                    "0": "4",
                                    "1": "Let There Be Rock",
                                    "2": "1"
                                },
                                {
                                    "0": "5",
                                    "1": "Big Ones",
                                    "2": "3"
                                },
                                {
                                    "0": "6",
                                    "1": "Jagged Little Pill",
                                    "2": "4"
                                },
                                {
                                    "0": "7",
                                    "1": "Facelift",
                                    "2": "5"
                                },
                                {
                                    "0": "8",
                                    "1": "Warner 25 Anos",
                                    "2": "6"
                                },
                                {
                                    "0": "9",
                                    "1": "Plays Metallica By Four Cellos",
                                    "2": "7"
                                },
                                {
                                    "0": "10",
                                    "1": "Audioslave",
                                    "2": "8"
                                },
                                {
                                    "0": "11",
                                    "1": "Out Of Exile",
                                    "2": "8"
                                },
                                {
                                    "0": "12",
                                    "1": "BackBeat Soundtrack",
                                    "2": "9"
                                },
                                {
                                    "0": "13",
                                    "1": "The Best Of Billy Cobham",
                                    "2": "10"
                                },
                                {
                                    "0": "14",
                                    "1": "Alcohol Fueled Brewtality Live! [Disc 1]",
                                    "2": "11"
                                },
                                {
                                    "0": "15",
                                    "1": "Alcohol Fueled Brewtality Live! [Disc 2]",
                                    "2": "11"
                                },
                                {
                                    "0": "16",
                                    "1": "Black Sabbath",
                                    "2": "12"
                                },
                                {
                                    "0": "17",
                                    "1": "Black Sabbath Vol. 4 (Remaster)",
                                    "2": "12"
                                },
                                {
                                    "0": "18",
                                    "1": "Body Count",
                                    "2": "13"
                                },
                                {
                                    "0": "19",
                                    "1": "Chemical Wedding",
                                    "2": "14"
                                },
                                {
                                    "0": "20",
                                    "1": "The Best Of Buddy Guy - The Millenium Collection",
                                    "2": "15"
                                },
                                {
                                    "0": "21",
                                    "1": "Prenda Minha",
                                    "2": "16"
                                },
                                {
                                    "0": "22",
                                    "1": "Sozinho Remix Ao Vivo",
                                    "2": "16"
                                },
                                {
                                    "0": "23",
                                    "1": "Minha Historia",
                                    "2": "17"
                                },
                                {
                                    "0": "24",
                                    "1": "Afrociberdelia",
                                    "2": "18"
                                },
                                {
                                    "0": "25",
                                    "1": "Da Lama Ao Caos",
                                    "2": "18"
                                },
                                {
                                    "0": "26",
                                    "1": "Acústico MTV [Live]",
                                    "2": "19"
                                },
                                {
                                    "0": "27",
                                    "1": "Cidade Negra - Hits",
                                    "2": "19"
                                },
                                {
                                    "0": "28",
                                    "1": "Na Pista",
                                    "2": "20"
                                },
                                {
                                    "0": "29",
                                    "1": "Axé Bahia 2001",
                                    "2": "21"
                                },
                                {
                                    "0": "30",
                                    "1": "BBC Sessions [Disc 1] [Live]",
                                    "2": "22"
                                },
                                {
                                    "0": "31",
                                    "1": "Bongo Fury",
                                    "2": "23"
                                },
                                {
                                    "0": "32",
                                    "1": "Carnaval 2001",
                                    "2": "21"
                                },
                                {
                                    "0": "33",
                                    "1": "Chill: Brazil (Disc 1)",
                                    "2": "24"
                                },
                                {
                                    "0": "34",
                                    "1": "Chill: Brazil (Disc 2)",
                                    "2": "6"
                                },
                                {
                                    "0": "35",
                                    "1": "Garage Inc. (Disc 1)",
                                    "2": "50"
                                },
                                {
                                    "0": "36",
                                    "1": "Greatest Hits II",
                                    "2": "51"
                                },
                                {
                                    "0": "37",
                                    "1": "Greatest Kiss",
                                    "2": "52"
                                },
                                {
                                    "0": "38",
                                    "1": "Heart of the Night",
                                    "2": "53"
                                },
                                {
                                    "0": "39",
                                    "1": "International Superhits",
                                    "2": "54"
                                },
                                {
                                    "0": "40",
                                    "1": "Into The Light",
                                    "2": "55"
                                },
                                {
                                    "0": "41",
                                    "1": "Meus Momentos",
                                    "2": "56"
                                },
                                {
                                    "0": "42",
                                    "1": "Minha História",
                                    "2": "57"
                                },
                                {
                                    "0": "43",
                                    "1": "MK III The Final Concerts [Disc 1]",
                                    "2": "58"
                                },
                                {
                                    "0": "44",
                                    "1": "Physical Graffiti [Disc 1]",
                                    "2": "22"
                                },
                                {
                                    "0": "45",
                                    "1": "Sambas De Enredo 2001",
                                    "2": "21"
                                },
                                {
                                    "0": "46",
                                    "1": "Supernatural",
                                    "2": "59"
                                },
                                {
                                    "0": "47",
                                    "1": "The Best of Ed Motta",
                                    "2": "37"
                                },
                                {
                                    "0": "48",
                                    "1": "The Essential Miles Davis [Disc 1]",
                                    "2": "68"
                                },
                                {
                                    "0": "49",
                                    "1": "The Essential Miles Davis [Disc 2]",
                                    "2": "68"
                                },
                                {
                                    "0": "50",
                                    "1": "The Final Concerts (Disc 2)",
                                    "2": "58"
                                },
                                {
                                    "0": "51",
                                    "1": "Up An' Atom",
                                    "2": "69"
                                },
                                {
                                    "0": "52",
                                    "1": "Vinícius De Moraes - Sem Limite",
                                    "2": "70"
                                },
                                {
                                    "0": "53",
                                    "1": "Vozes do MPB",
                                    "2": "21"
                                },
                                {
                                    "0": "54",
                                    "1": "Chronicle, Vol. 1",
                                    "2": "76"
                                },
                                {
                                    "0": "55",
                                    "1": "Chronicle, Vol. 2",
                                    "2": "76"
                                },
                                {
                                    "0": "56",
                                    "1": "Cássia Eller - Coleção Sem Limite [Disc 2]",
                                    "2": "77"
                                },
                                {
                                    "0": "57",
                                    "1": "Cássia Eller - Sem Limite [Disc 1]",
                                    "2": "77"
                                },
                                {
                                    "0": "58",
                                    "1": "Come Taste The Band",
                                    "2": "58"
                                },
                                {
                                    "0": "59",
                                    "1": "Deep Purple In Rock",
                                    "2": "58"
                                },
                                {
                                    "0": "60",
                                    "1": "Fireball",
                                    "2": "58"
                                },
                                {
                                    "0": "61",
                                    "1": "Knocking at Your Back Door: The Best Of Deep Purple in the 80's",
                                    "2": "58"
                                },
                                {
                                    "0": "62",
                                    "1": "Machine Head",
                                    "2": "58"
                                },
                                {
                                    "0": "63",
                                    "1": "Purpendicular",
                                    "2": "58"
                                },
                                {
                                    "0": "64",
                                    "1": "Slaves And Masters",
                                    "2": "58"
                                },
                                {
                                    "0": "65",
                                    "1": "Stormbringer",
                                    "2": "58"
                                },
                                {
                                    "0": "66",
                                    "1": "The Battle Rages On",
                                    "2": "58"
                                },
                                {
                                    "0": "67",
                                    "1": "Vault: Def Leppard's Greatest Hits",
                                    "2": "78"
                                },
                                {
                                    "0": "68",
                                    "1": "Outbreak",
                                    "2": "79"
                                },
                                {
                                    "0": "69",
                                    "1": "Djavan Ao Vivo - Vol. 02",
                                    "2": "80"
                                },
                                {
                                    "0": "70",
                                    "1": "Djavan Ao Vivo - Vol. 1",
                                    "2": "80"
                                },
                                {
                                    "0": "71",
                                    "1": "Elis Regina-Minha História",
                                    "2": "41"
                                },
                                {
                                    "0": "72",
                                    "1": "The Cream Of Clapton",
                                    "2": "81"
                                },
                                {
                                    "0": "73",
                                    "1": "Unplugged",
                                    "2": "81"
                                },
                                {
                                    "0": "74",
                                    "1": "Album Of The Year",
                                    "2": "82"
                                },
                                {
                                    "0": "75",
                                    "1": "Angel Dust",
                                    "2": "82"
                                },
                                {
                                    "0": "76",
                                    "1": "King For A Day Fool For A Lifetime",
                                    "2": "82"
                                },
                                {
                                    "0": "77",
                                    "1": "The Real Thing",
                                    "2": "82"
                                },
                                {
                                    "0": "78",
                                    "1": "Deixa Entrar",
                                    "2": "83"
                                },
                                {
                                    "0": "79",
                                    "1": "In Your Honor [Disc 1]",
                                    "2": "84"
                                },
                                {
                                    "0": "80",
                                    "1": "In Your Honor [Disc 2]",
                                    "2": "84"
                                },
                                {
                                    "0": "81",
                                    "1": "One By One",
                                    "2": "84"
                                },
                                {
                                    "0": "82",
                                    "1": "The Colour And The Shape",
                                    "2": "84"
                                },
                                {
                                    "0": "83",
                                    "1": "My Way: The Best Of Frank Sinatra [Disc 1]",
                                    "2": "85"
                                },
                                {
                                    "0": "84",
                                    "1": "Roda De Funk",
                                    "2": "86"
                                },
                                {
                                    "0": "85",
                                    "1": "As Canções de Eu Tu Eles",
                                    "2": "27"
                                },
                                {
                                    "0": "86",
                                    "1": "Quanta Gente Veio Ver (Live)",
                                    "2": "27"
                                },
                                {
                                    "0": "87",
                                    "1": "Quanta Gente Veio ver--Bônus De Carnaval",
                                    "2": "27"
                                },
                                {
                                    "0": "88",
                                    "1": "Faceless",
                                    "2": "87"
                                },
                                {
                                    "0": "89",
                                    "1": "American Idiot",
                                    "2": "54"
                                },
                                {
                                    "0": "90",
                                    "1": "Appetite for Destruction",
                                    "2": "88"
                                },
                                {
                                    "0": "91",
                                    "1": "Use Your Illusion I",
                                    "2": "88"
                                },
                                {
                                    "0": "92",
                                    "1": "Use Your Illusion II",
                                    "2": "88"
                                },
                                {
                                    "0": "93",
                                    "1": "Blue Moods",
                                    "2": "89"
                                },
                                {
                                    "0": "94",
                                    "1": "A Matter of Life and Death",
                                    "2": "90"
                                },
                                {
                                    "0": "95",
                                    "1": "A Real Dead One",
                                    "2": "90"
                                },
                                {
                                    "0": "96",
                                    "1": "A Real Live One",
                                    "2": "90"
                                },
                                {
                                    "0": "97",
                                    "1": "Brave New World",
                                    "2": "90"
                                },
                                {
                                    "0": "98",
                                    "1": "Dance Of Death",
                                    "2": "90"
                                },
                                {
                                    "0": "99",
                                    "1": "Fear Of The Dark",
                                    "2": "90"
                                },
                                {
                                    "0": "100",
                                    "1": "Iron Maiden",
                                    "2": "90"
                                },
                                {
                                    "0": "101",
                                    "1": "Killers",
                                    "2": "90"
                                },
                                {
                                    "0": "102",
                                    "1": "Live After Death",
                                    "2": "90"
                                },
                                {
                                    "0": "103",
                                    "1": "Live At Donington 1992 (Disc 1)",
                                    "2": "90"
                                },
                                {
                                    "0": "104",
                                    "1": "Live At Donington 1992 (Disc 2)",
                                    "2": "90"
                                },
                                {
                                    "0": "105",
                                    "1": "No Prayer For The Dying",
                                    "2": "90"
                                },
                                {
                                    "0": "106",
                                    "1": "Piece Of Mind",
                                    "2": "90"
                                },
                                {
                                    "0": "107",
                                    "1": "Powerslave",
                                    "2": "90"
                                },
                                {
                                    "0": "108",
                                    "1": "Rock In Rio [CD1]",
                                    "2": "90"
                                },
                                {
                                    "0": "109",
                                    "1": "Rock In Rio [CD2]",
                                    "2": "90"
                                },
                                {
                                    "0": "110",
                                    "1": "Seventh Son of a Seventh Son",
                                    "2": "90"
                                },
                                {
                                    "0": "111",
                                    "1": "Somewhere in Time",
                                    "2": "90"
                                },
                                {
                                    "0": "112",
                                    "1": "The Number of The Beast",
                                    "2": "90"
                                },
                                {
                                    "0": "113",
                                    "1": "The X Factor",
                                    "2": "90"
                                },
                                {
                                    "0": "114",
                                    "1": "Virtual XI",
                                    "2": "90"
                                },
                                {
                                    "0": "115",
                                    "1": "Sex Machine",
                                    "2": "91"
                                },
                                {
                                    "0": "116",
                                    "1": "Emergency On Planet Earth",
                                    "2": "92"
                                },
                                {
                                    "0": "117",
                                    "1": "Synkronized",
                                    "2": "92"
                                },
                                {
                                    "0": "118",
                                    "1": "The Return Of The Space Cowboy",
                                    "2": "92"
                                },
                                {
                                    "0": "119",
                                    "1": "Get Born",
                                    "2": "93"
                                },
                                {
                                    "0": "120",
                                    "1": "Are You Experienced?",
                                    "2": "94"
                                },
                                {
                                    "0": "121",
                                    "1": "Surfing with the Alien (Remastered)",
                                    "2": "95"
                                },
                                {
                                    "0": "122",
                                    "1": "Jorge Ben Jor 25 Anos",
                                    "2": "46"
                                },
                                {
                                    "0": "123",
                                    "1": "Jota Quest-1995",
                                    "2": "96"
                                },
                                {
                                    "0": "124",
                                    "1": "Cafezinho",
                                    "2": "97"
                                },
                                {
                                    "0": "125",
                                    "1": "Living After Midnight",
                                    "2": "98"
                                },
                                {
                                    "0": "126",
                                    "1": "Unplugged [Live]",
                                    "2": "52"
                                },
                                {
                                    "0": "127",
                                    "1": "BBC Sessions [Disc 2] [Live]",
                                    "2": "22"
                                },
                                {
                                    "0": "128",
                                    "1": "Coda",
                                    "2": "22"
                                },
                                {
                                    "0": "129",
                                    "1": "Houses Of The Holy",
                                    "2": "22"
                                },
                                {
                                    "0": "130",
                                    "1": "In Through The Out Door",
                                    "2": "22"
                                },
                                {
                                    "0": "131",
                                    "1": "IV",
                                    "2": "22"
                                },
                                {
                                    "0": "132",
                                    "1": "Led Zeppelin I",
                                    "2": "22"
                                },
                                {
                                    "0": "133",
                                    "1": "Led Zeppelin II",
                                    "2": "22"
                                },
                                {
                                    "0": "134",
                                    "1": "Led Zeppelin III",
                                    "2": "22"
                                },
                                {
                                    "0": "135",
                                    "1": "Physical Graffiti [Disc 2]",
                                    "2": "22"
                                },
                                {
                                    "0": "136",
                                    "1": "Presence",
                                    "2": "22"
                                },
                                {
                                    "0": "137",
                                    "1": "The Song Remains The Same (Disc 1)",
                                    "2": "22"
                                },
                                {
                                    "0": "138",
                                    "1": "The Song Remains The Same (Disc 2)",
                                    "2": "22"
                                },
                                {
                                    "0": "139",
                                    "1": "A TempestadeTempestade Ou O Livro Dos Dias",
                                    "2": "99"
                                },
                                {
                                    "0": "140",
                                    "1": "Mais Do Mesmo",
                                    "2": "99"
                                },
                                {
                                    "0": "141",
                                    "1": "Greatest Hits",
                                    "2": "100"
                                },
                                {
                                    "0": "142",
                                    "1": "Lulu Santos - RCA 100 Anos De Música - Álbum 01",
                                    "2": "101"
                                },
                                {
                                    "0": "143",
                                    "1": "Lulu Santos - RCA 100 Anos De Música - Álbum 02",
                                    "2": "101"
                                },
                                {
                                    "0": "144",
                                    "1": "Misplaced Childhood",
                                    "2": "102"
                                },
                                {
                                    "0": "145",
                                    "1": "Barulhinho Bom",
                                    "2": "103"
                                },
                                {
                                    "0": "146",
                                    "1": "Seek And Shall Find: More Of The Best (1963-1981)",
                                    "2": "104"
                                },
                                {
                                    "0": "147",
                                    "1": "The Best Of Men At Work",
                                    "2": "105"
                                },
                                {
                                    "0": "148",
                                    "1": "Black Album",
                                    "2": "50"
                                },
                                {
                                    "0": "149",
                                    "1": "Garage Inc. (Disc 2)",
                                    "2": "50"
                                },
                                {
                                    "0": "150",
                                    "1": "Kill 'Em All",
                                    "2": "50"
                                },
                                {
                                    "0": "151",
                                    "1": "Load",
                                    "2": "50"
                                },
                                {
                                    "0": "152",
                                    "1": "Master Of Puppets",
                                    "2": "50"
                                },
                                {
                                    "0": "153",
                                    "1": "ReLoad",
                                    "2": "50"
                                },
                                {
                                    "0": "154",
                                    "1": "Ride The Lightning",
                                    "2": "50"
                                },
                                {
                                    "0": "155",
                                    "1": "St. Anger",
                                    "2": "50"
                                },
                                {
                                    "0": "156",
                                    "1": "...And Justice For All",
                                    "2": "50"
                                },
                                {
                                    "0": "157",
                                    "1": "Miles Ahead",
                                    "2": "68"
                                },
                                {
                                    "0": "158",
                                    "1": "Milton Nascimento Ao Vivo",
                                    "2": "42"
                                },
                                {
                                    "0": "159",
                                    "1": "Minas",
                                    "2": "42"
                                },
                                {
                                    "0": "160",
                                    "1": "Ace Of Spades",
                                    "2": "106"
                                },
                                {
                                    "0": "161",
                                    "1": "Demorou...",
                                    "2": "108"
                                },
                                {
                                    "0": "162",
                                    "1": "Motley Crue Greatest Hits",
                                    "2": "109"
                                },
                                {
                                    "0": "163",
                                    "1": "From The Muddy Banks Of The Wishkah [Live]",
                                    "2": "110"
                                },
                                {
                                    "0": "164",
                                    "1": "Nevermind",
                                    "2": "110"
                                },
                                {
                                    "0": "165",
                                    "1": "Compositores",
                                    "2": "111"
                                },
                                {
                                    "0": "166",
                                    "1": "Olodum",
                                    "2": "112"
                                },
                                {
                                    "0": "167",
                                    "1": "Acústico MTV",
                                    "2": "113"
                                },
                                {
                                    "0": "168",
                                    "1": "Arquivo II",
                                    "2": "113"
                                },
                                {
                                    "0": "169",
                                    "1": "Arquivo Os Paralamas Do Sucesso",
                                    "2": "113"
                                },
                                {
                                    "0": "170",
                                    "1": "Bark at the Moon (Remastered)",
                                    "2": "114"
                                },
                                {
                                    "0": "171",
                                    "1": "Blizzard of Ozz",
                                    "2": "114"
                                },
                                {
                                    "0": "172",
                                    "1": "Diary of a Madman (Remastered)",
                                    "2": "114"
                                },
                                {
                                    "0": "173",
                                    "1": "No More Tears (Remastered)",
                                    "2": "114"
                                },
                                {
                                    "0": "174",
                                    "1": "Tribute",
                                    "2": "114"
                                },
                                {
                                    "0": "175",
                                    "1": "Walking Into Clarksdale",
                                    "2": "115"
                                },
                                {
                                    "0": "176",
                                    "1": "Original Soundtracks 1",
                                    "2": "116"
                                },
                                {
                                    "0": "177",
                                    "1": "The Beast Live",
                                    "2": "117"
                                },
                                {
                                    "0": "178",
                                    "1": "Live On Two Legs [Live]",
                                    "2": "118"
                                },
                                {
                                    "0": "179",
                                    "1": "Pearl Jam",
                                    "2": "118"
                                },
                                {
                                    "0": "180",
                                    "1": "Riot Act",
                                    "2": "118"
                                },
                                {
                                    "0": "181",
                                    "1": "Ten",
                                    "2": "118"
                                },
                                {
                                    "0": "182",
                                    "1": "Vs.",
                                    "2": "118"
                                },
                                {
                                    "0": "183",
                                    "1": "Dark Side Of The Moon",
                                    "2": "120"
                                },
                                {
                                    "0": "184",
                                    "1": "Os Cães Ladram Mas A Caravana Não Pára",
                                    "2": "121"
                                },
                                {
                                    "0": "185",
                                    "1": "Greatest Hits I",
                                    "2": "51"
                                },
                                {
                                    "0": "186",
                                    "1": "News Of The World",
                                    "2": "51"
                                },
                                {
                                    "0": "187",
                                    "1": "Out Of Time",
                                    "2": "122"
                                },
                                {
                                    "0": "188",
                                    "1": "Green",
                                    "2": "124"
                                },
                                {
                                    "0": "189",
                                    "1": "New Adventures In Hi-Fi",
                                    "2": "124"
                                },
                                {
                                    "0": "190",
                                    "1": "The Best Of R.E.M.: The IRS Years",
                                    "2": "124"
                                },
                                {
                                    "0": "191",
                                    "1": "Cesta Básica",
                                    "2": "125"
                                },
                                {
                                    "0": "192",
                                    "1": "Raul Seixas",
                                    "2": "126"
                                },
                                {
                                    "0": "193",
                                    "1": "Blood Sugar Sex Magik",
                                    "2": "127"
                                },
                                {
                                    "0": "194",
                                    "1": "By The Way",
                                    "2": "127"
                                },
                                {
                                    "0": "195",
                                    "1": "Californication",
                                    "2": "127"
                                },
                                {
                                    "0": "196",
                                    "1": "Retrospective I (1974-1980)",
                                    "2": "128"
                                },
                                {
                                    "0": "197",
                                    "1": "Santana - As Years Go By",
                                    "2": "59"
                                },
                                {
                                    "0": "198",
                                    "1": "Santana Live",
                                    "2": "59"
                                },
                                {
                                    "0": "199",
                                    "1": "Maquinarama",
                                    "2": "130"
                                },
                                {
                                    "0": "200",
                                    "1": "O Samba Poconé",
                                    "2": "130"
                                },
                                {
                                    "0": "201",
                                    "1": "Judas 0: B-Sides and Rarities",
                                    "2": "131"
                                },
                                {
                                    "0": "202",
                                    "1": "Rotten Apples: Greatest Hits",
                                    "2": "131"
                                },
                                {
                                    "0": "203",
                                    "1": "A-Sides",
                                    "2": "132"
                                },
                                {
                                    "0": "204",
                                    "1": "Morning Dance",
                                    "2": "53"
                                },
                                {
                                    "0": "205",
                                    "1": "In Step",
                                    "2": "133"
                                },
                                {
                                    "0": "206",
                                    "1": "Core",
                                    "2": "134"
                                },
                                {
                                    "0": "207",
                                    "1": "Mezmerize",
                                    "2": "135"
                                },
                                {
                                    "0": "208",
                                    "1": "[1997] Black Light Syndrome",
                                    "2": "136"
                                },
                                {
                                    "0": "209",
                                    "1": "Live [Disc 1]",
                                    "2": "137"
                                },
                                {
                                    "0": "210",
                                    "1": "Live [Disc 2]",
                                    "2": "137"
                                },
                                {
                                    "0": "211",
                                    "1": "The Singles",
                                    "2": "138"
                                },
                                {
                                    "0": "212",
                                    "1": "Beyond Good And Evil",
                                    "2": "139"
                                },
                                {
                                    "0": "213",
                                    "1": "Pure Cult: The Best Of The Cult",
                                    "2": "139"
                                },
                                {
                                    "0": "214",
                                    "1": "The Doors",
                                    "2": "140"
                                },
                                {
                                    "0": "215",
                                    "1": "The Police Greatest Hits",
                                    "2": "141"
                                },
                                {
                                    "0": "216",
                                    "1": "Hot Rocks, 1964-1971 (Disc 1)",
                                    "2": "142"
                                },
                                {
                                    "0": "217",
                                    "1": "No Security",
                                    "2": "142"
                                },
                                {
                                    "0": "218",
                                    "1": "Voodoo Lounge",
                                    "2": "142"
                                },
                                {
                                    "0": "219",
                                    "1": "Tangents",
                                    "2": "143"
                                },
                                {
                                    "0": "220",
                                    "1": "Transmission",
                                    "2": "143"
                                },
                                {
                                    "0": "221",
                                    "1": "My Generation - The Very Best Of The Who",
                                    "2": "144"
                                },
                                {
                                    "0": "222",
                                    "1": "Serie Sem Limite (Disc 1)",
                                    "2": "145"
                                },
                                {
                                    "0": "223",
                                    "1": "Serie Sem Limite (Disc 2)",
                                    "2": "145"
                                },
                                {
                                    "0": "224",
                                    "1": "Acústico",
                                    "2": "146"
                                },
                                {
                                    "0": "225",
                                    "1": "Volume Dois",
                                    "2": "146"
                                },
                                {
                                    "0": "226",
                                    "1": "Battlestar Galactica: The Story So Far",
                                    "2": "147"
                                },
                                {
                                    "0": "227",
                                    "1": "Battlestar Galactica, Season 3",
                                    "2": "147"
                                },
                                {
                                    "0": "228",
                                    "1": "Heroes, Season 1",
                                    "2": "148"
                                },
                                {
                                    "0": "229",
                                    "1": "Lost, Season 3",
                                    "2": "149"
                                },
                                {
                                    "0": "230",
                                    "1": "Lost, Season 1",
                                    "2": "149"
                                },
                                {
                                    "0": "231",
                                    "1": "Lost, Season 2",
                                    "2": "149"
                                },
                                {
                                    "0": "232",
                                    "1": "Achtung Baby",
                                    "2": "150"
                                },
                                {
                                    "0": "233",
                                    "1": "All That You Can't Leave Behind",
                                    "2": "150"
                                },
                                {
                                    "0": "234",
                                    "1": "B-Sides 1980-1990",
                                    "2": "150"
                                },
                                {
                                    "0": "235",
                                    "1": "How To Dismantle An Atomic Bomb",
                                    "2": "150"
                                },
                                {
                                    "0": "236",
                                    "1": "Pop",
                                    "2": "150"
                                },
                                {
                                    "0": "237",
                                    "1": "Rattle And Hum",
                                    "2": "150"
                                },
                                {
                                    "0": "238",
                                    "1": "The Best Of 1980-1990",
                                    "2": "150"
                                },
                                {
                                    "0": "239",
                                    "1": "War",
                                    "2": "150"
                                },
                                {
                                    "0": "240",
                                    "1": "Zooropa",
                                    "2": "150"
                                },
                                {
                                    "0": "241",
                                    "1": "UB40 The Best Of - Volume Two [UK]",
                                    "2": "151"
                                },
                                {
                                    "0": "242",
                                    "1": "Diver Down",
                                    "2": "152"
                                },
                                {
                                    "0": "243",
                                    "1": "The Best Of Van Halen, Vol. I",
                                    "2": "152"
                                },
                                {
                                    "0": "244",
                                    "1": "Van Halen",
                                    "2": "152"
                                },
                                {
                                    "0": "245",
                                    "1": "Van Halen III",
                                    "2": "152"
                                },
                                {
                                    "0": "246",
                                    "1": "Contraband",
                                    "2": "153"
                                },
                                {
                                    "0": "247",
                                    "1": "Vinicius De Moraes",
                                    "2": "72"
                                },
                                {
                                    "0": "248",
                                    "1": "Ao Vivo [IMPORT]",
                                    "2": "155"
                                },
                                {
                                    "0": "249",
                                    "1": "The Office, Season 1",
                                    "2": "156"
                                },
                                {
                                    "0": "250",
                                    "1": "The Office, Season 2",
                                    "2": "156"
                                },
                                {
                                    "0": "251",
                                    "1": "The Office, Season 3",
                                    "2": "156"
                                },
                                {
                                    "0": "252",
                                    "1": "Un-Led-Ed",
                                    "2": "157"
                                },
                                {
                                    "0": "253",
                                    "1": "Battlestar Galactica (Classic), Season 1",
                                    "2": "158"
                                },
                                {
                                    "0": "254",
                                    "1": "Aquaman",
                                    "2": "159"
                                },
                                {
                                    "0": "255",
                                    "1": "Instant Karma: The Amnesty International Campaign to Save Darfur",
                                    "2": "150"
                                },
                                {
                                    "0": "256",
                                    "1": "Speak of the Devil",
                                    "2": "114"
                                },
                                {
                                    "0": "257",
                                    "1": "20th Century Masters - The Millennium Collection: The Best of Scorpions",
                                    "2": "179"
                                },
                                {
                                    "0": "258",
                                    "1": "House of Pain",
                                    "2": "180"
                                },
                                {
                                    "0": "259",
                                    "1": "Radio Brasil (O Som da Jovem Vanguarda) - Seleccao de Henrique Amaro",
                                    "2": "36"
                                },
                                {
                                    "0": "260",
                                    "1": "Cake: B-Sides and Rarities",
                                    "2": "196"
                                },
                                {
                                    "0": "261",
                                    "1": "LOST, Season 4",
                                    "2": "149"
                                },
                                {
                                    "0": "262",
                                    "1": "Quiet Songs",
                                    "2": "197"
                                },
                                {
                                    "0": "263",
                                    "1": "Muso Ko",
                                    "2": "198"
                                },
                                {
                                    "0": "264",
                                    "1": "Realize",
                                    "2": "199"
                                },
                                {
                                    "0": "265",
                                    "1": "Every Kind of Light",
                                    "2": "200"
                                },
                                {
                                    "0": "266",
                                    "1": "Duos II",
                                    "2": "201"
                                },
                                {
                                    "0": "267",
                                    "1": "Worlds",
                                    "2": "202"
                                },
                                {
                                    "0": "268",
                                    "1": "The Best of Beethoven",
                                    "2": "203"
                                },
                                {
                                    "0": "269",
                                    "1": "Temple of the Dog",
                                    "2": "204"
                                },
                                {
                                    "0": "270",
                                    "1": "Carry On",
                                    "2": "205"
                                },
                                {
                                    "0": "271",
                                    "1": "Revelations",
                                    "2": "8"
                                },
                                {
                                    "0": "272",
                                    "1": "Adorate Deum: Gregorian Chant from the Proper of the Mass",
                                    "2": "206"
                                },
                                {
                                    "0": "273",
                                    "1": "Allegri: Miserere",
                                    "2": "207"
                                },
                                {
                                    "0": "274",
                                    "1": "Pachelbel: Canon & Gigue",
                                    "2": "208"
                                },
                                {
                                    "0": "275",
                                    "1": "Vivaldi: The Four Seasons",
                                    "2": "209"
                                },
                                {
                                    "0": "276",
                                    "1": "Bach: Violin Concertos",
                                    "2": "210"
                                },
                                {
                                    "0": "277",
                                    "1": "Bach: Goldberg Variations",
                                    "2": "211"
                                },
                                {
                                    "0": "278",
                                    "1": "Bach: The Cello Suites",
                                    "2": "212"
                                },
                                {
                                    "0": "279",
                                    "1": "Handel: The Messiah (Highlights)",
                                    "2": "213"
                                },
                                {
                                    "0": "280",
                                    "1": "The World of Classical Favourites",
                                    "2": "214"
                                },
                                {
                                    "0": "281",
                                    "1": "Sir Neville Marriner: A Celebration",
                                    "2": "215"
                                },
                                {
                                    "0": "282",
                                    "1": "Mozart: Wind Concertos",
                                    "2": "216"
                                },
                                {
                                    "0": "283",
                                    "1": "Haydn: Symphonies 99 - 104",
                                    "2": "217"
                                },
                                {
                                    "0": "284",
                                    "1": "Beethoven: Symhonies Nos. 5 & 6",
                                    "2": "218"
                                },
                                {
                                    "0": "285",
                                    "1": "A Soprano Inspired",
                                    "2": "219"
                                },
                                {
                                    "0": "286",
                                    "1": "Great Opera Choruses",
                                    "2": "220"
                                },
                                {
                                    "0": "287",
                                    "1": "Wagner: Favourite Overtures",
                                    "2": "221"
                                },
                                {
                                    "0": "288",
                                    "1": "Fauré: Requiem, Ravel: Pavane & Others",
                                    "2": "222"
                                },
                                {
                                    "0": "289",
                                    "1": "Tchaikovsky: The Nutcracker",
                                    "2": "223"
                                },
                                {
                                    "0": "290",
                                    "1": "The Last Night of the Proms",
                                    "2": "224"
                                },
                                {
                                    "0": "291",
                                    "1": "Puccini: Madama Butterfly - Highlights",
                                    "2": "225"
                                },
                                {
                                    "0": "292",
                                    "1": "Holst: The Planets, Op. 32 & Vaughan Williams: Fantasies",
                                    "2": "226"
                                },
                                {
                                    "0": "293",
                                    "1": "Pavarotti's Opera Made Easy",
                                    "2": "227"
                                },
                                {
                                    "0": "294",
                                    "1": "Great Performances - Barber's Adagio and Other Romantic Favorites for Strings",
                                    "2": "228"
                                },
                                {
                                    "0": "295",
                                    "1": "Carmina Burana",
                                    "2": "229"
                                },
                                {
                                    "0": "296",
                                    "1": "A Copland Celebration, Vol. I",
                                    "2": "230"
                                },
                                {
                                    "0": "297",
                                    "1": "Bach: Toccata & Fugue in D Minor",
                                    "2": "231"
                                },
                                {
                                    "0": "298",
                                    "1": "Prokofiev: Symphony No.1",
                                    "2": "232"
                                },
                                {
                                    "0": "299",
                                    "1": "Scheherazade",
                                    "2": "233"
                                },
                                {
                                    "0": "300",
                                    "1": "Bach: The Brandenburg Concertos",
                                    "2": "234"
                                },
                                {
                                    "0": "301",
                                    "1": "Chopin: Piano Concertos Nos. 1 & 2",
                                    "2": "235"
                                },
                                {
                                    "0": "302",
                                    "1": "Mascagni: Cavalleria Rusticana",
                                    "2": "236"
                                },
                                {
                                    "0": "303",
                                    "1": "Sibelius: Finlandia",
                                    "2": "237"
                                },
                                {
                                    "0": "304",
                                    "1": "Beethoven Piano Sonatas: Moonlight & Pastorale",
                                    "2": "238"
                                },
                                {
                                    "0": "305",
                                    "1": "Great Recordings of the Century - Mahler: Das Lied von der Erde",
                                    "2": "240"
                                },
                                {
                                    "0": "306",
                                    "1": "Elgar: Cello Concerto & Vaughan Williams: Fantasias",
                                    "2": "241"
                                },
                                {
                                    "0": "307",
                                    "1": "Adams, John: The Chairman Dances",
                                    "2": "242"
                                },
                                {
                                    "0": "308",
                                    "1": "Tchaikovsky: 1812 Festival Overture, Op.49, Capriccio Italien & Beethoven: Wellington's Victory",
                                    "2": "243"
                                },
                                {
                                    "0": "309",
                                    "1": "Palestrina: Missa Papae Marcelli & Allegri: Miserere",
                                    "2": "244"
                                },
                                {
                                    "0": "310",
                                    "1": "Prokofiev: Romeo & Juliet",
                                    "2": "245"
                                },
                                {
                                    "0": "311",
                                    "1": "Strauss: Waltzes",
                                    "2": "226"
                                },
                                {
                                    "0": "312",
                                    "1": "Berlioz: Symphonie Fantastique",
                                    "2": "245"
                                },
                                {
                                    "0": "313",
                                    "1": "Bizet: Carmen Highlights",
                                    "2": "246"
                                },
                                {
                                    "0": "314",
                                    "1": "English Renaissance",
                                    "2": "247"
                                },
                                {
                                    "0": "315",
                                    "1": "Handel: Music for the Royal Fireworks (Original Version 1749)",
                                    "2": "208"
                                },
                                {
                                    "0": "316",
                                    "1": "Grieg: Peer Gynt Suites & Sibelius: Pelléas et Mélisande",
                                    "2": "248"
                                },
                                {
                                    "0": "317",
                                    "1": "Mozart Gala: Famous Arias",
                                    "2": "249"
                                },
                                {
                                    "0": "318",
                                    "1": "SCRIABIN: Vers la flamme",
                                    "2": "250"
                                },
                                {
                                    "0": "319",
                                    "1": "Armada: Music from the Courts of England and Spain",
                                    "2": "251"
                                },
                                {
                                    "0": "320",
                                    "1": "Mozart: Symphonies Nos. 40 & 41",
                                    "2": "248"
                                },
                                {
                                    "0": "321",
                                    "1": "Back to Black",
                                    "2": "252"
                                },
                                {
                                    "0": "322",
                                    "1": "Frank",
                                    "2": "252"
                                },
                                {
                                    "0": "323",
                                    "1": "Carried to Dust (Bonus Track Version)",
                                    "2": "253"
                                },
                                {
                                    "0": "324",
                                    "1": "Beethoven: Symphony No. 6 'Pastoral' Etc.",
                                    "2": "254"
                                },
                                {
                                    "0": "325",
                                    "1": "Bartok: Violin & Viola Concertos",
                                    "2": "255"
                                },
                                {
                                    "0": "326",
                                    "1": "Mendelssohn: A Midsummer Night's Dream",
                                    "2": "256"
                                },
                                {
                                    "0": "327",
                                    "1": "Bach: Orchestral Suites Nos. 1 - 4",
                                    "2": "257"
                                },
                                {
                                    "0": "328",
                                    "1": "Charpentier: Divertissements, Airs & Concerts",
                                    "2": "258"
                                },
                                {
                                    "0": "329",
                                    "1": "South American Getaway",
                                    "2": "259"
                                },
                                {
                                    "0": "330",
                                    "1": "Górecki: Symphony No. 3",
                                    "2": "260"
                                },
                                {
                                    "0": "331",
                                    "1": "Purcell: The Fairy Queen",
                                    "2": "261"
                                },
                                {
                                    "0": "332",
                                    "1": "The Ultimate Relexation Album",
                                    "2": "262"
                                },
                                {
                                    "0": "333",
                                    "1": "Purcell: Music for the Queen Mary",
                                    "2": "263"
                                },
                                {
                                    "0": "334",
                                    "1": "Weill: The Seven Deadly Sins",
                                    "2": "264"
                                },
                                {
                                    "0": "335",
                                    "1": "J.S. Bach: Chaconne, Suite in E Minor, Partita in E Major & Prelude, Fugue and Allegro",
                                    "2": "265"
                                },
                                {
                                    "0": "336",
                                    "1": "Prokofiev: Symphony No.5 & Stravinksy: Le Sacre Du Printemps",
                                    "2": "248"
                                },
                                {
                                    "0": "337",
                                    "1": "Szymanowski: Piano Works, Vol. 1",
                                    "2": "266"
                                },
                                {
                                    "0": "338",
                                    "1": "Nielsen: The Six Symphonies",
                                    "2": "267"
                                },
                                {
                                    "0": "339",
                                    "1": "Great Recordings of the Century: Paganini's 24 Caprices",
                                    "2": "268"
                                },
                                {
                                    "0": "340",
                                    "1": "Liszt - 12 Études D'Execution Transcendante",
                                    "2": "269"
                                },
                                {
                                    "0": "341",
                                    "1": "Great Recordings of the Century - Shubert: Schwanengesang, 4 Lieder",
                                    "2": "270"
                                },
                                {
                                    "0": "342",
                                    "1": "Locatelli: Concertos for Violin, Strings and Continuo, Vol. 3",
                                    "2": "271"
                                },
                                {
                                    "0": "343",
                                    "1": "Respighi:Pines of Rome",
                                    "2": "226"
                                },
                                {
                                    "0": "344",
                                    "1": "Schubert: The Late String Quartets & String Quintet (3 CD's)",
                                    "2": "272"
                                },
                                {
                                    "0": "345",
                                    "1": "Monteverdi: L'Orfeo",
                                    "2": "273"
                                },
                                {
                                    "0": "346",
                                    "1": "Mozart: Chamber Music",
                                    "2": "274"
                                },
                                {
                                    "0": "347",
                                    "1": "Koyaanisqatsi (Soundtrack from the Motion Picture)",
                                    "2": "275"
                                }
                            ]
                        },
                        "text/html": [
                            "<table>",
                            "<tr><th>album_id</th><th>title</th><th>artist_id</th></tr>",
                            "<tr><td>1</td><td>For Those About To Rock We Salute You</td><td>1</td></tr>",
                            "<tr><td>2</td><td>Balls to the Wall</td><td>2</td></tr>",
                            "<tr><td>3</td><td>Restless and Wild</td><td>2</td></tr>",
                            "<tr><td>4</td><td>Let There Be Rock</td><td>1</td></tr>",
                            "<tr><td>5</td><td>Big Ones</td><td>3</td></tr>",
                            "<tr><td>6</td><td>Jagged Little Pill</td><td>4</td></tr>",
                            "<tr><td>7</td><td>Facelift</td><td>5</td></tr>",
                            "<tr><td>8</td><td>Warner 25 Anos</td><td>6</td></tr>",
                            "<tr><td>9</td><td>Plays Metallica By Four Cellos</td><td>7</td></tr>",
                            "<tr><td>10</td><td>Audioslave</td><td>8</td></tr>",
                            "<tr><td>11</td><td>Out Of Exile</td><td>8</td></tr>",
                            "<tr><td>12</td><td>BackBeat Soundtrack</td><td>9</td></tr>",
                            "<tr><td>13</td><td>The Best Of Billy Cobham</td><td>10</td></tr>",
                            "<tr><td>14</td><td>Alcohol Fueled Brewtality Live! [Disc 1]</td><td>11</td></tr>",
                            "<tr><td>15</td><td>Alcohol Fueled Brewtality Live! [Disc 2]</td><td>11</td></tr>",
                            "<tr><td>16</td><td>Black Sabbath</td><td>12</td></tr>",
                            "<tr><td>17</td><td>Black Sabbath Vol. 4 (Remaster)</td><td>12</td></tr>",
                            "<tr><td>18</td><td>Body Count</td><td>13</td></tr>",
                            "<tr><td>19</td><td>Chemical Wedding</td><td>14</td></tr>",
                            "<tr><td>20</td><td>The Best Of Buddy Guy - The Millenium Collection</td><td>15</td></tr>",
                            "<tr><td>21</td><td>Prenda Minha</td><td>16</td></tr>",
                            "<tr><td>22</td><td>Sozinho Remix Ao Vivo</td><td>16</td></tr>",
                            "<tr><td>23</td><td>Minha Historia</td><td>17</td></tr>",
                            "<tr><td>24</td><td>Afrociberdelia</td><td>18</td></tr>",
                            "<tr><td>25</td><td>Da Lama Ao Caos</td><td>18</td></tr>",
                            "<tr><td>26</td><td>Acústico MTV [Live]</td><td>19</td></tr>",
                            "<tr><td>27</td><td>Cidade Negra - Hits</td><td>19</td></tr>",
                            "<tr><td>28</td><td>Na Pista</td><td>20</td></tr>",
                            "<tr><td>29</td><td>Axé Bahia 2001</td><td>21</td></tr>",
                            "<tr><td>30</td><td>BBC Sessions [Disc 1] [Live]</td><td>22</td></tr>",
                            "<tr><td>31</td><td>Bongo Fury</td><td>23</td></tr>",
                            "<tr><td>32</td><td>Carnaval 2001</td><td>21</td></tr>",
                            "<tr><td>33</td><td>Chill: Brazil (Disc 1)</td><td>24</td></tr>",
                            "<tr><td>34</td><td>Chill: Brazil (Disc 2)</td><td>6</td></tr>",
                            "<tr><td>35</td><td>Garage Inc. (Disc 1)</td><td>50</td></tr>",
                            "<tr><td>36</td><td>Greatest Hits II</td><td>51</td></tr>",
                            "<tr><td>37</td><td>Greatest Kiss</td><td>52</td></tr>",
                            "<tr><td>38</td><td>Heart of the Night</td><td>53</td></tr>",
                            "<tr><td>39</td><td>International Superhits</td><td>54</td></tr>",
                            "<tr><td>40</td><td>Into The Light</td><td>55</td></tr>",
                            "<tr><td>41</td><td>Meus Momentos</td><td>56</td></tr>",
                            "<tr><td>42</td><td>Minha História</td><td>57</td></tr>",
                            "<tr><td>43</td><td>MK III The Final Concerts [Disc 1]</td><td>58</td></tr>",
                            "<tr><td>44</td><td>Physical Graffiti [Disc 1]</td><td>22</td></tr>",
                            "<tr><td>45</td><td>Sambas De Enredo 2001</td><td>21</td></tr>",
                            "<tr><td>46</td><td>Supernatural</td><td>59</td></tr>",
                            "<tr><td>47</td><td>The Best of Ed Motta</td><td>37</td></tr>",
                            "<tr><td>48</td><td>The Essential Miles Davis [Disc 1]</td><td>68</td></tr>",
                            "<tr><td>49</td><td>The Essential Miles Davis [Disc 2]</td><td>68</td></tr>",
                            "<tr><td>50</td><td>The Final Concerts (Disc 2)</td><td>58</td></tr>",
                            "<tr><td>51</td><td>Up An' Atom</td><td>69</td></tr>",
                            "<tr><td>52</td><td>Vinícius De Moraes - Sem Limite</td><td>70</td></tr>",
                            "<tr><td>53</td><td>Vozes do MPB</td><td>21</td></tr>",
                            "<tr><td>54</td><td>Chronicle, Vol. 1</td><td>76</td></tr>",
                            "<tr><td>55</td><td>Chronicle, Vol. 2</td><td>76</td></tr>",
                            "<tr><td>56</td><td>Cássia Eller - Coleção Sem Limite [Disc 2]</td><td>77</td></tr>",
                            "<tr><td>57</td><td>Cássia Eller - Sem Limite [Disc 1]</td><td>77</td></tr>",
                            "<tr><td>58</td><td>Come Taste The Band</td><td>58</td></tr>",
                            "<tr><td>59</td><td>Deep Purple In Rock</td><td>58</td></tr>",
                            "<tr><td>60</td><td>Fireball</td><td>58</td></tr>",
                            "<tr><td>61</td><td>Knocking at Your Back Door: The Best Of Deep Purple in the 80's</td><td>58</td></tr>",
                            "<tr><td>62</td><td>Machine Head</td><td>58</td></tr>",
                            "<tr><td>63</td><td>Purpendicular</td><td>58</td></tr>",
                            "<tr><td>64</td><td>Slaves And Masters</td><td>58</td></tr>",
                            "<tr><td>65</td><td>Stormbringer</td><td>58</td></tr>",
                            "<tr><td>66</td><td>The Battle Rages On</td><td>58</td></tr>",
                            "<tr><td>67</td><td>Vault: Def Leppard's Greatest Hits</td><td>78</td></tr>",
                            "<tr><td>68</td><td>Outbreak</td><td>79</td></tr>",
                            "<tr><td>69</td><td>Djavan Ao Vivo - Vol. 02</td><td>80</td></tr>",
                            "<tr><td>70</td><td>Djavan Ao Vivo - Vol. 1</td><td>80</td></tr>",
                            "<tr><td>71</td><td>Elis Regina-Minha História</td><td>41</td></tr>",
                            "<tr><td>72</td><td>The Cream Of Clapton</td><td>81</td></tr>",
                            "<tr><td>73</td><td>Unplugged</td><td>81</td></tr>",
                            "<tr><td>74</td><td>Album Of The Year</td><td>82</td></tr>",
                            "<tr><td>75</td><td>Angel Dust</td><td>82</td></tr>",
                            "<tr><td>76</td><td>King For A Day Fool For A Lifetime</td><td>82</td></tr>",
                            "<tr><td>77</td><td>The Real Thing</td><td>82</td></tr>",
                            "<tr><td>78</td><td>Deixa Entrar</td><td>83</td></tr>",
                            "<tr><td>79</td><td>In Your Honor [Disc 1]</td><td>84</td></tr>",
                            "<tr><td>80</td><td>In Your Honor [Disc 2]</td><td>84</td></tr>",
                            "<tr><td>81</td><td>One By One</td><td>84</td></tr>",
                            "<tr><td>82</td><td>The Colour And The Shape</td><td>84</td></tr>",
                            "<tr><td>83</td><td>My Way: The Best Of Frank Sinatra [Disc 1]</td><td>85</td></tr>",
                            "<tr><td>84</td><td>Roda De Funk</td><td>86</td></tr>",
                            "<tr><td>85</td><td>As Canções de Eu Tu Eles</td><td>27</td></tr>",
                            "<tr><td>86</td><td>Quanta Gente Veio Ver (Live)</td><td>27</td></tr>",
                            "<tr><td>87</td><td>Quanta Gente Veio ver--Bônus De Carnaval</td><td>27</td></tr>",
                            "<tr><td>88</td><td>Faceless</td><td>87</td></tr>",
                            "<tr><td>89</td><td>American Idiot</td><td>54</td></tr>",
                            "<tr><td>90</td><td>Appetite for Destruction</td><td>88</td></tr>",
                            "<tr><td>91</td><td>Use Your Illusion I</td><td>88</td></tr>",
                            "<tr><td>92</td><td>Use Your Illusion II</td><td>88</td></tr>",
                            "<tr><td>93</td><td>Blue Moods</td><td>89</td></tr>",
                            "<tr><td>94</td><td>A Matter of Life and Death</td><td>90</td></tr>",
                            "<tr><td>95</td><td>A Real Dead One</td><td>90</td></tr>",
                            "<tr><td>96</td><td>A Real Live One</td><td>90</td></tr>",
                            "<tr><td>97</td><td>Brave New World</td><td>90</td></tr>",
                            "<tr><td>98</td><td>Dance Of Death</td><td>90</td></tr>",
                            "<tr><td>99</td><td>Fear Of The Dark</td><td>90</td></tr>",
                            "<tr><td>100</td><td>Iron Maiden</td><td>90</td></tr>",
                            "<tr><td>101</td><td>Killers</td><td>90</td></tr>",
                            "<tr><td>102</td><td>Live After Death</td><td>90</td></tr>",
                            "<tr><td>103</td><td>Live At Donington 1992 (Disc 1)</td><td>90</td></tr>",
                            "<tr><td>104</td><td>Live At Donington 1992 (Disc 2)</td><td>90</td></tr>",
                            "<tr><td>105</td><td>No Prayer For The Dying</td><td>90</td></tr>",
                            "<tr><td>106</td><td>Piece Of Mind</td><td>90</td></tr>",
                            "<tr><td>107</td><td>Powerslave</td><td>90</td></tr>",
                            "<tr><td>108</td><td>Rock In Rio [CD1]</td><td>90</td></tr>",
                            "<tr><td>109</td><td>Rock In Rio [CD2]</td><td>90</td></tr>",
                            "<tr><td>110</td><td>Seventh Son of a Seventh Son</td><td>90</td></tr>",
                            "<tr><td>111</td><td>Somewhere in Time</td><td>90</td></tr>",
                            "<tr><td>112</td><td>The Number of The Beast</td><td>90</td></tr>",
                            "<tr><td>113</td><td>The X Factor</td><td>90</td></tr>",
                            "<tr><td>114</td><td>Virtual XI</td><td>90</td></tr>",
                            "<tr><td>115</td><td>Sex Machine</td><td>91</td></tr>",
                            "<tr><td>116</td><td>Emergency On Planet Earth</td><td>92</td></tr>",
                            "<tr><td>117</td><td>Synkronized</td><td>92</td></tr>",
                            "<tr><td>118</td><td>The Return Of The Space Cowboy</td><td>92</td></tr>",
                            "<tr><td>119</td><td>Get Born</td><td>93</td></tr>",
                            "<tr><td>120</td><td>Are You Experienced?</td><td>94</td></tr>",
                            "<tr><td>121</td><td>Surfing with the Alien (Remastered)</td><td>95</td></tr>",
                            "<tr><td>122</td><td>Jorge Ben Jor 25 Anos</td><td>46</td></tr>",
                            "<tr><td>123</td><td>Jota Quest-1995</td><td>96</td></tr>",
                            "<tr><td>124</td><td>Cafezinho</td><td>97</td></tr>",
                            "<tr><td>125</td><td>Living After Midnight</td><td>98</td></tr>",
                            "<tr><td>126</td><td>Unplugged [Live]</td><td>52</td></tr>",
                            "<tr><td>127</td><td>BBC Sessions [Disc 2] [Live]</td><td>22</td></tr>",
                            "<tr><td>128</td><td>Coda</td><td>22</td></tr>",
                            "<tr><td>129</td><td>Houses Of The Holy</td><td>22</td></tr>",
                            "<tr><td>130</td><td>In Through The Out Door</td><td>22</td></tr>",
                            "<tr><td>131</td><td>IV</td><td>22</td></tr>",
                            "<tr><td>132</td><td>Led Zeppelin I</td><td>22</td></tr>",
                            "<tr><td>133</td><td>Led Zeppelin II</td><td>22</td></tr>",
                            "<tr><td>134</td><td>Led Zeppelin III</td><td>22</td></tr>",
                            "<tr><td>135</td><td>Physical Graffiti [Disc 2]</td><td>22</td></tr>",
                            "<tr><td>136</td><td>Presence</td><td>22</td></tr>",
                            "<tr><td>137</td><td>The Song Remains The Same (Disc 1)</td><td>22</td></tr>",
                            "<tr><td>138</td><td>The Song Remains The Same (Disc 2)</td><td>22</td></tr>",
                            "<tr><td>139</td><td>A TempestadeTempestade Ou O Livro Dos Dias</td><td>99</td></tr>",
                            "<tr><td>140</td><td>Mais Do Mesmo</td><td>99</td></tr>",
                            "<tr><td>141</td><td>Greatest Hits</td><td>100</td></tr>",
                            "<tr><td>142</td><td>Lulu Santos - RCA 100 Anos De Música - Álbum 01</td><td>101</td></tr>",
                            "<tr><td>143</td><td>Lulu Santos - RCA 100 Anos De Música - Álbum 02</td><td>101</td></tr>",
                            "<tr><td>144</td><td>Misplaced Childhood</td><td>102</td></tr>",
                            "<tr><td>145</td><td>Barulhinho Bom</td><td>103</td></tr>",
                            "<tr><td>146</td><td>Seek And Shall Find: More Of The Best (1963-1981)</td><td>104</td></tr>",
                            "<tr><td>147</td><td>The Best Of Men At Work</td><td>105</td></tr>",
                            "<tr><td>148</td><td>Black Album</td><td>50</td></tr>",
                            "<tr><td>149</td><td>Garage Inc. (Disc 2)</td><td>50</td></tr>",
                            "<tr><td>150</td><td>Kill 'Em All</td><td>50</td></tr>",
                            "<tr><td>151</td><td>Load</td><td>50</td></tr>",
                            "<tr><td>152</td><td>Master Of Puppets</td><td>50</td></tr>",
                            "<tr><td>153</td><td>ReLoad</td><td>50</td></tr>",
                            "<tr><td>154</td><td>Ride The Lightning</td><td>50</td></tr>",
                            "<tr><td>155</td><td>St. Anger</td><td>50</td></tr>",
                            "<tr><td>156</td><td>...And Justice For All</td><td>50</td></tr>",
                            "<tr><td>157</td><td>Miles Ahead</td><td>68</td></tr>",
                            "<tr><td>158</td><td>Milton Nascimento Ao Vivo</td><td>42</td></tr>",
                            "<tr><td>159</td><td>Minas</td><td>42</td></tr>",
                            "<tr><td>160</td><td>Ace Of Spades</td><td>106</td></tr>",
                            "<tr><td>161</td><td>Demorou...</td><td>108</td></tr>",
                            "<tr><td>162</td><td>Motley Crue Greatest Hits</td><td>109</td></tr>",
                            "<tr><td>163</td><td>From The Muddy Banks Of The Wishkah [Live]</td><td>110</td></tr>",
                            "<tr><td>164</td><td>Nevermind</td><td>110</td></tr>",
                            "<tr><td>165</td><td>Compositores</td><td>111</td></tr>",
                            "<tr><td>166</td><td>Olodum</td><td>112</td></tr>",
                            "<tr><td>167</td><td>Acústico MTV</td><td>113</td></tr>",
                            "<tr><td>168</td><td>Arquivo II</td><td>113</td></tr>",
                            "<tr><td>169</td><td>Arquivo Os Paralamas Do Sucesso</td><td>113</td></tr>",
                            "<tr><td>170</td><td>Bark at the Moon (Remastered)</td><td>114</td></tr>",
                            "<tr><td>171</td><td>Blizzard of Ozz</td><td>114</td></tr>",
                            "<tr><td>172</td><td>Diary of a Madman (Remastered)</td><td>114</td></tr>",
                            "<tr><td>173</td><td>No More Tears (Remastered)</td><td>114</td></tr>",
                            "<tr><td>174</td><td>Tribute</td><td>114</td></tr>",
                            "<tr><td>175</td><td>Walking Into Clarksdale</td><td>115</td></tr>",
                            "<tr><td>176</td><td>Original Soundtracks 1</td><td>116</td></tr>",
                            "<tr><td>177</td><td>The Beast Live</td><td>117</td></tr>",
                            "<tr><td>178</td><td>Live On Two Legs [Live]</td><td>118</td></tr>",
                            "<tr><td>179</td><td>Pearl Jam</td><td>118</td></tr>",
                            "<tr><td>180</td><td>Riot Act</td><td>118</td></tr>",
                            "<tr><td>181</td><td>Ten</td><td>118</td></tr>",
                            "<tr><td>182</td><td>Vs.</td><td>118</td></tr>",
                            "<tr><td>183</td><td>Dark Side Of The Moon</td><td>120</td></tr>",
                            "<tr><td>184</td><td>Os Cães Ladram Mas A Caravana Não Pára</td><td>121</td></tr>",
                            "<tr><td>185</td><td>Greatest Hits I</td><td>51</td></tr>",
                            "<tr><td>186</td><td>News Of The World</td><td>51</td></tr>",
                            "<tr><td>187</td><td>Out Of Time</td><td>122</td></tr>",
                            "<tr><td>188</td><td>Green</td><td>124</td></tr>",
                            "<tr><td>189</td><td>New Adventures In Hi-Fi</td><td>124</td></tr>",
                            "<tr><td>190</td><td>The Best Of R.E.M.: The IRS Years</td><td>124</td></tr>",
                            "<tr><td>191</td><td>Cesta Básica</td><td>125</td></tr>",
                            "<tr><td>192</td><td>Raul Seixas</td><td>126</td></tr>",
                            "<tr><td>193</td><td>Blood Sugar Sex Magik</td><td>127</td></tr>",
                            "<tr><td>194</td><td>By The Way</td><td>127</td></tr>",
                            "<tr><td>195</td><td>Californication</td><td>127</td></tr>",
                            "<tr><td>196</td><td>Retrospective I (1974-1980)</td><td>128</td></tr>",
                            "<tr><td>197</td><td>Santana - As Years Go By</td><td>59</td></tr>",
                            "<tr><td>198</td><td>Santana Live</td><td>59</td></tr>",
                            "<tr><td>199</td><td>Maquinarama</td><td>130</td></tr>",
                            "<tr><td>200</td><td>O Samba Poconé</td><td>130</td></tr>",
                            "<tr><td>201</td><td>Judas 0: B-Sides and Rarities</td><td>131</td></tr>",
                            "<tr><td>202</td><td>Rotten Apples: Greatest Hits</td><td>131</td></tr>",
                            "<tr><td>203</td><td>A-Sides</td><td>132</td></tr>",
                            "<tr><td>204</td><td>Morning Dance</td><td>53</td></tr>",
                            "<tr><td>205</td><td>In Step</td><td>133</td></tr>",
                            "<tr><td>206</td><td>Core</td><td>134</td></tr>",
                            "<tr><td>207</td><td>Mezmerize</td><td>135</td></tr>",
                            "<tr><td>208</td><td>[1997] Black Light Syndrome</td><td>136</td></tr>",
                            "<tr><td>209</td><td>Live [Disc 1]</td><td>137</td></tr>",
                            "<tr><td>210</td><td>Live [Disc 2]</td><td>137</td></tr>",
                            "<tr><td>211</td><td>The Singles</td><td>138</td></tr>",
                            "<tr><td>212</td><td>Beyond Good And Evil</td><td>139</td></tr>",
                            "<tr><td>213</td><td>Pure Cult: The Best Of The Cult</td><td>139</td></tr>",
                            "<tr><td>214</td><td>The Doors</td><td>140</td></tr>",
                            "<tr><td>215</td><td>The Police Greatest Hits</td><td>141</td></tr>",
                            "<tr><td>216</td><td>Hot Rocks, 1964-1971 (Disc 1)</td><td>142</td></tr>",
                            "<tr><td>217</td><td>No Security</td><td>142</td></tr>",
                            "<tr><td>218</td><td>Voodoo Lounge</td><td>142</td></tr>",
                            "<tr><td>219</td><td>Tangents</td><td>143</td></tr>",
                            "<tr><td>220</td><td>Transmission</td><td>143</td></tr>",
                            "<tr><td>221</td><td>My Generation - The Very Best Of The Who</td><td>144</td></tr>",
                            "<tr><td>222</td><td>Serie Sem Limite (Disc 1)</td><td>145</td></tr>",
                            "<tr><td>223</td><td>Serie Sem Limite (Disc 2)</td><td>145</td></tr>",
                            "<tr><td>224</td><td>Acústico</td><td>146</td></tr>",
                            "<tr><td>225</td><td>Volume Dois</td><td>146</td></tr>",
                            "<tr><td>226</td><td>Battlestar Galactica: The Story So Far</td><td>147</td></tr>",
                            "<tr><td>227</td><td>Battlestar Galactica, Season 3</td><td>147</td></tr>",
                            "<tr><td>228</td><td>Heroes, Season 1</td><td>148</td></tr>",
                            "<tr><td>229</td><td>Lost, Season 3</td><td>149</td></tr>",
                            "<tr><td>230</td><td>Lost, Season 1</td><td>149</td></tr>",
                            "<tr><td>231</td><td>Lost, Season 2</td><td>149</td></tr>",
                            "<tr><td>232</td><td>Achtung Baby</td><td>150</td></tr>",
                            "<tr><td>233</td><td>All That You Can't Leave Behind</td><td>150</td></tr>",
                            "<tr><td>234</td><td>B-Sides 1980-1990</td><td>150</td></tr>",
                            "<tr><td>235</td><td>How To Dismantle An Atomic Bomb</td><td>150</td></tr>",
                            "<tr><td>236</td><td>Pop</td><td>150</td></tr>",
                            "<tr><td>237</td><td>Rattle And Hum</td><td>150</td></tr>",
                            "<tr><td>238</td><td>The Best Of 1980-1990</td><td>150</td></tr>",
                            "<tr><td>239</td><td>War</td><td>150</td></tr>",
                            "<tr><td>240</td><td>Zooropa</td><td>150</td></tr>",
                            "<tr><td>241</td><td>UB40 The Best Of - Volume Two [UK]</td><td>151</td></tr>",
                            "<tr><td>242</td><td>Diver Down</td><td>152</td></tr>",
                            "<tr><td>243</td><td>The Best Of Van Halen, Vol. I</td><td>152</td></tr>",
                            "<tr><td>244</td><td>Van Halen</td><td>152</td></tr>",
                            "<tr><td>245</td><td>Van Halen III</td><td>152</td></tr>",
                            "<tr><td>246</td><td>Contraband</td><td>153</td></tr>",
                            "<tr><td>247</td><td>Vinicius De Moraes</td><td>72</td></tr>",
                            "<tr><td>248</td><td>Ao Vivo [IMPORT]</td><td>155</td></tr>",
                            "<tr><td>249</td><td>The Office, Season 1</td><td>156</td></tr>",
                            "<tr><td>250</td><td>The Office, Season 2</td><td>156</td></tr>",
                            "<tr><td>251</td><td>The Office, Season 3</td><td>156</td></tr>",
                            "<tr><td>252</td><td>Un-Led-Ed</td><td>157</td></tr>",
                            "<tr><td>253</td><td>Battlestar Galactica (Classic), Season 1</td><td>158</td></tr>",
                            "<tr><td>254</td><td>Aquaman</td><td>159</td></tr>",
                            "<tr><td>255</td><td>Instant Karma: The Amnesty International Campaign to Save Darfur</td><td>150</td></tr>",
                            "<tr><td>256</td><td>Speak of the Devil</td><td>114</td></tr>",
                            "<tr><td>257</td><td>20th Century Masters - The Millennium Collection: The Best of Scorpions</td><td>179</td></tr>",
                            "<tr><td>258</td><td>House of Pain</td><td>180</td></tr>",
                            "<tr><td>259</td><td>Radio Brasil (O Som da Jovem Vanguarda) - Seleccao de Henrique Amaro</td><td>36</td></tr>",
                            "<tr><td>260</td><td>Cake: B-Sides and Rarities</td><td>196</td></tr>",
                            "<tr><td>261</td><td>LOST, Season 4</td><td>149</td></tr>",
                            "<tr><td>262</td><td>Quiet Songs</td><td>197</td></tr>",
                            "<tr><td>263</td><td>Muso Ko</td><td>198</td></tr>",
                            "<tr><td>264</td><td>Realize</td><td>199</td></tr>",
                            "<tr><td>265</td><td>Every Kind of Light</td><td>200</td></tr>",
                            "<tr><td>266</td><td>Duos II</td><td>201</td></tr>",
                            "<tr><td>267</td><td>Worlds</td><td>202</td></tr>",
                            "<tr><td>268</td><td>The Best of Beethoven</td><td>203</td></tr>",
                            "<tr><td>269</td><td>Temple of the Dog</td><td>204</td></tr>",
                            "<tr><td>270</td><td>Carry On</td><td>205</td></tr>",
                            "<tr><td>271</td><td>Revelations</td><td>8</td></tr>",
                            "<tr><td>272</td><td>Adorate Deum: Gregorian Chant from the Proper of the Mass</td><td>206</td></tr>",
                            "<tr><td>273</td><td>Allegri: Miserere</td><td>207</td></tr>",
                            "<tr><td>274</td><td>Pachelbel: Canon &amp; Gigue</td><td>208</td></tr>",
                            "<tr><td>275</td><td>Vivaldi: The Four Seasons</td><td>209</td></tr>",
                            "<tr><td>276</td><td>Bach: Violin Concertos</td><td>210</td></tr>",
                            "<tr><td>277</td><td>Bach: Goldberg Variations</td><td>211</td></tr>",
                            "<tr><td>278</td><td>Bach: The Cello Suites</td><td>212</td></tr>",
                            "<tr><td>279</td><td>Handel: The Messiah (Highlights)</td><td>213</td></tr>",
                            "<tr><td>280</td><td>The World of Classical Favourites</td><td>214</td></tr>",
                            "<tr><td>281</td><td>Sir Neville Marriner: A Celebration</td><td>215</td></tr>",
                            "<tr><td>282</td><td>Mozart: Wind Concertos</td><td>216</td></tr>",
                            "<tr><td>283</td><td>Haydn: Symphonies 99 - 104</td><td>217</td></tr>",
                            "<tr><td>284</td><td>Beethoven: Symhonies Nos. 5 &amp; 6</td><td>218</td></tr>",
                            "<tr><td>285</td><td>A Soprano Inspired</td><td>219</td></tr>",
                            "<tr><td>286</td><td>Great Opera Choruses</td><td>220</td></tr>",
                            "<tr><td>287</td><td>Wagner: Favourite Overtures</td><td>221</td></tr>",
                            "<tr><td>288</td><td>Fauré: Requiem, Ravel: Pavane &amp; Others</td><td>222</td></tr>",
                            "<tr><td>289</td><td>Tchaikovsky: The Nutcracker</td><td>223</td></tr>",
                            "<tr><td>290</td><td>The Last Night of the Proms</td><td>224</td></tr>",
                            "<tr><td>291</td><td>Puccini: Madama Butterfly - Highlights</td><td>225</td></tr>",
                            "<tr><td>292</td><td>Holst: The Planets, Op. 32 &amp; Vaughan Williams: Fantasies</td><td>226</td></tr>",
                            "<tr><td>293</td><td>Pavarotti's Opera Made Easy</td><td>227</td></tr>",
                            "<tr><td>294</td><td>Great Performances - Barber's Adagio and Other Romantic Favorites for Strings</td><td>228</td></tr>",
                            "<tr><td>295</td><td>Carmina Burana</td><td>229</td></tr>",
                            "<tr><td>296</td><td>A Copland Celebration, Vol. I</td><td>230</td></tr>",
                            "<tr><td>297</td><td>Bach: Toccata &amp; Fugue in D Minor</td><td>231</td></tr>",
                            "<tr><td>298</td><td>Prokofiev: Symphony No.1</td><td>232</td></tr>",
                            "<tr><td>299</td><td>Scheherazade</td><td>233</td></tr>",
                            "<tr><td>300</td><td>Bach: The Brandenburg Concertos</td><td>234</td></tr>",
                            "<tr><td>301</td><td>Chopin: Piano Concertos Nos. 1 &amp; 2</td><td>235</td></tr>",
                            "<tr><td>302</td><td>Mascagni: Cavalleria Rusticana</td><td>236</td></tr>",
                            "<tr><td>303</td><td>Sibelius: Finlandia</td><td>237</td></tr>",
                            "<tr><td>304</td><td>Beethoven Piano Sonatas: Moonlight &amp; Pastorale</td><td>238</td></tr>",
                            "<tr><td>305</td><td>Great Recordings of the Century - Mahler: Das Lied von der Erde</td><td>240</td></tr>",
                            "<tr><td>306</td><td>Elgar: Cello Concerto &amp; Vaughan Williams: Fantasias</td><td>241</td></tr>",
                            "<tr><td>307</td><td>Adams, John: The Chairman Dances</td><td>242</td></tr>",
                            "<tr><td>308</td><td>Tchaikovsky: 1812 Festival Overture, Op.49, Capriccio Italien &amp; Beethoven: Wellington's Victory</td><td>243</td></tr>",
                            "<tr><td>309</td><td>Palestrina: Missa Papae Marcelli &amp; Allegri: Miserere</td><td>244</td></tr>",
                            "<tr><td>310</td><td>Prokofiev: Romeo &amp; Juliet</td><td>245</td></tr>",
                            "<tr><td>311</td><td>Strauss: Waltzes</td><td>226</td></tr>",
                            "<tr><td>312</td><td>Berlioz: Symphonie Fantastique</td><td>245</td></tr>",
                            "<tr><td>313</td><td>Bizet: Carmen Highlights</td><td>246</td></tr>",
                            "<tr><td>314</td><td>English Renaissance</td><td>247</td></tr>",
                            "<tr><td>315</td><td>Handel: Music for the Royal Fireworks (Original Version 1749)</td><td>208</td></tr>",
                            "<tr><td>316</td><td>Grieg: Peer Gynt Suites &amp; Sibelius: Pelléas et Mélisande</td><td>248</td></tr>",
                            "<tr><td>317</td><td>Mozart Gala: Famous Arias</td><td>249</td></tr>",
                            "<tr><td>318</td><td>SCRIABIN: Vers la flamme</td><td>250</td></tr>",
                            "<tr><td>319</td><td>Armada: Music from the Courts of England and Spain</td><td>251</td></tr>",
                            "<tr><td>320</td><td>Mozart: Symphonies Nos. 40 &amp; 41</td><td>248</td></tr>",
                            "<tr><td>321</td><td>Back to Black</td><td>252</td></tr>",
                            "<tr><td>322</td><td>Frank</td><td>252</td></tr>",
                            "<tr><td>323</td><td>Carried to Dust (Bonus Track Version)</td><td>253</td></tr>",
                            "<tr><td>324</td><td>Beethoven: Symphony No. 6 'Pastoral' Etc.</td><td>254</td></tr>",
                            "<tr><td>325</td><td>Bartok: Violin &amp; Viola Concertos</td><td>255</td></tr>",
                            "<tr><td>326</td><td>Mendelssohn: A Midsummer Night's Dream</td><td>256</td></tr>",
                            "<tr><td>327</td><td>Bach: Orchestral Suites Nos. 1 - 4</td><td>257</td></tr>",
                            "<tr><td>328</td><td>Charpentier: Divertissements, Airs &amp; Concerts</td><td>258</td></tr>",
                            "<tr><td>329</td><td>South American Getaway</td><td>259</td></tr>",
                            "<tr><td>330</td><td>Górecki: Symphony No. 3</td><td>260</td></tr>",
                            "<tr><td>331</td><td>Purcell: The Fairy Queen</td><td>261</td></tr>",
                            "<tr><td>332</td><td>The Ultimate Relexation Album</td><td>262</td></tr>",
                            "<tr><td>333</td><td>Purcell: Music for the Queen Mary</td><td>263</td></tr>",
                            "<tr><td>334</td><td>Weill: The Seven Deadly Sins</td><td>264</td></tr>",
                            "<tr><td>335</td><td>J.S. Bach: Chaconne, Suite in E Minor, Partita in E Major &amp; Prelude, Fugue and Allegro</td><td>265</td></tr>",
                            "<tr><td>336</td><td>Prokofiev: Symphony No.5 &amp; Stravinksy: Le Sacre Du Printemps</td><td>248</td></tr>",
                            "<tr><td>337</td><td>Szymanowski: Piano Works, Vol. 1</td><td>266</td></tr>",
                            "<tr><td>338</td><td>Nielsen: The Six Symphonies</td><td>267</td></tr>",
                            "<tr><td>339</td><td>Great Recordings of the Century: Paganini's 24 Caprices</td><td>268</td></tr>",
                            "<tr><td>340</td><td>Liszt - 12 Études D'Execution Transcendante</td><td>269</td></tr>",
                            "<tr><td>341</td><td>Great Recordings of the Century - Shubert: Schwanengesang, 4 Lieder</td><td>270</td></tr>",
                            "<tr><td>342</td><td>Locatelli: Concertos for Violin, Strings and Continuo, Vol. 3</td><td>271</td></tr>",
                            "<tr><td>343</td><td>Respighi:Pines of Rome</td><td>226</td></tr>",
                            "<tr><td>344</td><td>Schubert: The Late String Quartets &amp; String Quintet (3 CD's)</td><td>272</td></tr>",
                            "<tr><td>345</td><td>Monteverdi: L'Orfeo</td><td>273</td></tr>",
                            "<tr><td>346</td><td>Mozart: Chamber Music</td><td>274</td></tr>",
                            "<tr><td>347</td><td>Koyaanisqatsi (Soundtrack from the Motion Picture)</td><td>275</td></tr>",
                            "</table>"
                        ]
                    }
                },
                {
                    "output_type": "error",
                    "evalue": "Msg 547, Level 16, State 0, Line 6\nThe DELETE statement conflicted with the REFERENCE constraint \"FK_TrackAlbumId\". The conflict occurred in database \"Chinook\", table \"dbo.track\", column 'album_id'.",
                    "ename": "",
                    "traceback": []
                }
            ],
            "execution_count": 15
        }
    ]
}